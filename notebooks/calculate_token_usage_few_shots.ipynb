{
 "cells": [
  {
   "cell_type": "markdown",
   "id": "5bfbe08e",
   "metadata": {},
   "source": [
    "# Calculate token usage of few shot examples vs instructions\n",
    "\n",
    "This notebook aims to calculate the fraction of the length of the instructions and few-shot examples in the total token usage of a prompt."
   ]
  },
  {
   "cell_type": "code",
   "execution_count": 1,
   "id": "79b58f58",
   "metadata": {},
   "outputs": [
    {
     "name": "stderr",
     "output_type": "stream",
     "text": [
      "Could not import torch or transformers in local_llm.py: No module named 'torch'\n",
      "Could not import vllm, torch or transformers in vllm.py: No module named 'torch'\n"
     ]
    }
   ],
   "source": [
    "import pandas as pd\n",
    "from glob import glob\n",
    "\n",
    "from capo.analysis.utils import get_results, generate_comparison_table\n",
    "import os\n",
    "\n",
    "os.chdir(\"../\")"
   ]
  },
  {
   "cell_type": "code",
   "execution_count": 7,
   "id": "4213afba",
   "metadata": {},
   "outputs": [],
   "source": [
    "MODELS = [\"llama\", \"qwen\", \"mistral\"]"
   ]
  },
  {
   "cell_type": "code",
   "execution_count": 11,
   "id": "f2d9f9fa",
   "metadata": {},
   "outputs": [
    {
     "name": "stdout",
     "output_type": "stream",
     "text": [
      "llama\n"
     ]
    },
    {
     "data": {
      "text/html": [
       "<style type=\"text/css\">\n",
       "#T_f287b_row0_col0, #T_f287b_row0_col1, #T_f287b_row0_col2, #T_f287b_row0_col3, #T_f287b_row0_col4, #T_f287b_row0_col5 {\n",
       "  font-weight: bold;\n",
       "}\n",
       "</style>\n",
       "<table id=\"T_f287b\">\n",
       "  <thead>\n",
       "    <tr>\n",
       "      <th class=\"blank level0\" >&nbsp;</th>\n",
       "      <th id=\"T_f287b_level0_col0\" class=\"col_heading level0 col0\" >sst-5</th>\n",
       "      <th id=\"T_f287b_level0_col1\" class=\"col_heading level0 col1\" >agnews</th>\n",
       "      <th id=\"T_f287b_level0_col2\" class=\"col_heading level0 col2\" >subj</th>\n",
       "      <th id=\"T_f287b_level0_col3\" class=\"col_heading level0 col3\" >gsm8k</th>\n",
       "      <th id=\"T_f287b_level0_col4\" class=\"col_heading level0 col4\" >copa</th>\n",
       "      <th id=\"T_f287b_level0_col5\" class=\"col_heading level0 col5\" >avg</th>\n",
       "    </tr>\n",
       "  </thead>\n",
       "  <tbody>\n",
       "    <tr>\n",
       "      <th id=\"T_f287b_level0_row0\" class=\"row_heading level0 row0\" >CAPO</th>\n",
       "      <td id=\"T_f287b_row0_col0\" class=\"data row0 col0\" >52.33±23.98</td>\n",
       "      <td id=\"T_f287b_row0_col1\" class=\"data row0 col1\" >76.00±41.16</td>\n",
       "      <td id=\"T_f287b_row0_col2\" class=\"data row0 col2\" >55.67±26.71</td>\n",
       "      <td id=\"T_f287b_row0_col3\" class=\"data row0 col3\" >36.67±14.01</td>\n",
       "      <td id=\"T_f287b_row0_col4\" class=\"data row0 col4\" >40.33±20.85</td>\n",
       "      <td id=\"T_f287b_row0_col5\" class=\"data row0 col5\" >52.20</td>\n",
       "    </tr>\n",
       "  </tbody>\n",
       "</table>\n"
      ],
      "text/plain": [
       "<pandas.io.formats.style.Styler at 0x19abc566ba0>"
      ]
     },
     "metadata": {},
     "output_type": "display_data"
    },
    {
     "data": {
      "text/html": [
       "<style type=\"text/css\">\n",
       "#T_73f62_row0_col0, #T_73f62_row0_col1, #T_73f62_row0_col2, #T_73f62_row0_col3, #T_73f62_row0_col4, #T_73f62_row0_col5 {\n",
       "  font-weight: bold;\n",
       "}\n",
       "</style>\n",
       "<table id=\"T_73f62\">\n",
       "  <thead>\n",
       "    <tr>\n",
       "      <th class=\"blank level0\" >&nbsp;</th>\n",
       "      <th id=\"T_73f62_level0_col0\" class=\"col_heading level0 col0\" >sst-5</th>\n",
       "      <th id=\"T_73f62_level0_col1\" class=\"col_heading level0 col1\" >agnews</th>\n",
       "      <th id=\"T_73f62_level0_col2\" class=\"col_heading level0 col2\" >subj</th>\n",
       "      <th id=\"T_73f62_level0_col3\" class=\"col_heading level0 col3\" >gsm8k</th>\n",
       "      <th id=\"T_73f62_level0_col4\" class=\"col_heading level0 col4\" >copa</th>\n",
       "      <th id=\"T_73f62_level0_col5\" class=\"col_heading level0 col5\" >avg</th>\n",
       "    </tr>\n",
       "  </thead>\n",
       "  <tbody>\n",
       "    <tr>\n",
       "      <th id=\"T_73f62_level0_row0\" class=\"row_heading level0 row0\" >CAPO</th>\n",
       "      <td id=\"T_73f62_row0_col0\" class=\"data row0 col0\" >161.00±84.50</td>\n",
       "      <td id=\"T_73f62_row0_col1\" class=\"data row0 col1\" >110.33±45.57</td>\n",
       "      <td id=\"T_73f62_row0_col2\" class=\"data row0 col2\" >157.67±12.26</td>\n",
       "      <td id=\"T_73f62_row0_col3\" class=\"data row0 col3\" >480.67±112.90</td>\n",
       "      <td id=\"T_73f62_row0_col4\" class=\"data row0 col4\" >83.00±21.60</td>\n",
       "      <td id=\"T_73f62_row0_col5\" class=\"data row0 col5\" >198.53</td>\n",
       "    </tr>\n",
       "  </tbody>\n",
       "</table>\n"
      ],
      "text/plain": [
       "<pandas.io.formats.style.Styler at 0x19abd4d5d90>"
      ]
     },
     "metadata": {},
     "output_type": "display_data"
    },
    {
     "name": "stdout",
     "output_type": "stream",
     "text": [
      "\n",
      "qwen\n"
     ]
    },
    {
     "data": {
      "text/html": [
       "<style type=\"text/css\">\n",
       "#T_d2ce5_row0_col0, #T_d2ce5_row0_col1, #T_d2ce5_row0_col2, #T_d2ce5_row0_col3, #T_d2ce5_row0_col4, #T_d2ce5_row0_col5 {\n",
       "  font-weight: bold;\n",
       "}\n",
       "</style>\n",
       "<table id=\"T_d2ce5\">\n",
       "  <thead>\n",
       "    <tr>\n",
       "      <th class=\"blank level0\" >&nbsp;</th>\n",
       "      <th id=\"T_d2ce5_level0_col0\" class=\"col_heading level0 col0\" >sst-5</th>\n",
       "      <th id=\"T_d2ce5_level0_col1\" class=\"col_heading level0 col1\" >agnews</th>\n",
       "      <th id=\"T_d2ce5_level0_col2\" class=\"col_heading level0 col2\" >subj</th>\n",
       "      <th id=\"T_d2ce5_level0_col3\" class=\"col_heading level0 col3\" >gsm8k</th>\n",
       "      <th id=\"T_d2ce5_level0_col4\" class=\"col_heading level0 col4\" >copa</th>\n",
       "      <th id=\"T_d2ce5_level0_col5\" class=\"col_heading level0 col5\" >avg</th>\n",
       "    </tr>\n",
       "  </thead>\n",
       "  <tbody>\n",
       "    <tr>\n",
       "      <th id=\"T_d2ce5_level0_row0\" class=\"row_heading level0 row0\" >CAPO</th>\n",
       "      <td id=\"T_d2ce5_row0_col0\" class=\"data row0 col0\" >73.67±7.36</td>\n",
       "      <td id=\"T_d2ce5_row0_col1\" class=\"data row0 col1\" >63.00±30.34</td>\n",
       "      <td id=\"T_d2ce5_row0_col2\" class=\"data row0 col2\" >85.67±14.20</td>\n",
       "      <td id=\"T_d2ce5_row0_col3\" class=\"data row0 col3\" >40.00±8.04</td>\n",
       "      <td id=\"T_d2ce5_row0_col4\" class=\"data row0 col4\" >96.67±46.71</td>\n",
       "      <td id=\"T_d2ce5_row0_col5\" class=\"data row0 col5\" >71.80</td>\n",
       "    </tr>\n",
       "  </tbody>\n",
       "</table>\n"
      ],
      "text/plain": [
       "<pandas.io.formats.style.Styler at 0x19abd60ffe0>"
      ]
     },
     "metadata": {},
     "output_type": "display_data"
    },
    {
     "data": {
      "text/html": [
       "<style type=\"text/css\">\n",
       "#T_87722_row0_col0, #T_87722_row0_col1, #T_87722_row0_col2, #T_87722_row0_col3, #T_87722_row0_col4, #T_87722_row0_col5 {\n",
       "  font-weight: bold;\n",
       "}\n",
       "</style>\n",
       "<table id=\"T_87722\">\n",
       "  <thead>\n",
       "    <tr>\n",
       "      <th class=\"blank level0\" >&nbsp;</th>\n",
       "      <th id=\"T_87722_level0_col0\" class=\"col_heading level0 col0\" >sst-5</th>\n",
       "      <th id=\"T_87722_level0_col1\" class=\"col_heading level0 col1\" >agnews</th>\n",
       "      <th id=\"T_87722_level0_col2\" class=\"col_heading level0 col2\" >subj</th>\n",
       "      <th id=\"T_87722_level0_col3\" class=\"col_heading level0 col3\" >gsm8k</th>\n",
       "      <th id=\"T_87722_level0_col4\" class=\"col_heading level0 col4\" >copa</th>\n",
       "      <th id=\"T_87722_level0_col5\" class=\"col_heading level0 col5\" >avg</th>\n",
       "    </tr>\n",
       "  </thead>\n",
       "  <tbody>\n",
       "    <tr>\n",
       "      <th id=\"T_87722_level0_row0\" class=\"row_heading level0 row0\" >CAPO</th>\n",
       "      <td id=\"T_87722_row0_col0\" class=\"data row0 col0\" >187.33±27.79</td>\n",
       "      <td id=\"T_87722_row0_col1\" class=\"data row0 col1\" >116.00±56.17</td>\n",
       "      <td id=\"T_87722_row0_col2\" class=\"data row0 col2\" >158.00±13.49</td>\n",
       "      <td id=\"T_87722_row0_col3\" class=\"data row0 col3\" >229.67±89.13</td>\n",
       "      <td id=\"T_87722_row0_col4\" class=\"data row0 col4\" >104.67±49.24</td>\n",
       "      <td id=\"T_87722_row0_col5\" class=\"data row0 col5\" >159.13</td>\n",
       "    </tr>\n",
       "  </tbody>\n",
       "</table>\n"
      ],
      "text/plain": [
       "<pandas.io.formats.style.Styler at 0x19abd60ffe0>"
      ]
     },
     "metadata": {},
     "output_type": "display_data"
    },
    {
     "name": "stdout",
     "output_type": "stream",
     "text": [
      "\n",
      "mistral\n"
     ]
    },
    {
     "data": {
      "text/html": [
       "<style type=\"text/css\">\n",
       "#T_dccee_row0_col0, #T_dccee_row0_col1, #T_dccee_row0_col2, #T_dccee_row0_col3, #T_dccee_row0_col4, #T_dccee_row0_col5 {\n",
       "  font-weight: bold;\n",
       "}\n",
       "</style>\n",
       "<table id=\"T_dccee\">\n",
       "  <thead>\n",
       "    <tr>\n",
       "      <th class=\"blank level0\" >&nbsp;</th>\n",
       "      <th id=\"T_dccee_level0_col0\" class=\"col_heading level0 col0\" >sst-5</th>\n",
       "      <th id=\"T_dccee_level0_col1\" class=\"col_heading level0 col1\" >agnews</th>\n",
       "      <th id=\"T_dccee_level0_col2\" class=\"col_heading level0 col2\" >subj</th>\n",
       "      <th id=\"T_dccee_level0_col3\" class=\"col_heading level0 col3\" >gsm8k</th>\n",
       "      <th id=\"T_dccee_level0_col4\" class=\"col_heading level0 col4\" >copa</th>\n",
       "      <th id=\"T_dccee_level0_col5\" class=\"col_heading level0 col5\" >avg</th>\n",
       "    </tr>\n",
       "  </thead>\n",
       "  <tbody>\n",
       "    <tr>\n",
       "      <th id=\"T_dccee_level0_row0\" class=\"row_heading level0 row0\" >CAPO</th>\n",
       "      <td id=\"T_dccee_row0_col0\" class=\"data row0 col0\" >55.67±1.25</td>\n",
       "      <td id=\"T_dccee_row0_col1\" class=\"data row0 col1\" >55.67±19.36</td>\n",
       "      <td id=\"T_dccee_row0_col2\" class=\"data row0 col2\" >35.33±8.18</td>\n",
       "      <td id=\"T_dccee_row0_col3\" class=\"data row0 col3\" >38.33±8.96</td>\n",
       "      <td id=\"T_dccee_row0_col4\" class=\"data row0 col4\" >58.67±3.09</td>\n",
       "      <td id=\"T_dccee_row0_col5\" class=\"data row0 col5\" >48.73</td>\n",
       "    </tr>\n",
       "  </tbody>\n",
       "</table>\n"
      ],
      "text/plain": [
       "<pandas.io.formats.style.Styler at 0x19abb305fd0>"
      ]
     },
     "metadata": {},
     "output_type": "display_data"
    },
    {
     "data": {
      "text/html": [
       "<style type=\"text/css\">\n",
       "#T_c1007_row0_col0, #T_c1007_row0_col1, #T_c1007_row0_col2, #T_c1007_row0_col3, #T_c1007_row0_col4, #T_c1007_row0_col5 {\n",
       "  font-weight: bold;\n",
       "}\n",
       "</style>\n",
       "<table id=\"T_c1007\">\n",
       "  <thead>\n",
       "    <tr>\n",
       "      <th class=\"blank level0\" >&nbsp;</th>\n",
       "      <th id=\"T_c1007_level0_col0\" class=\"col_heading level0 col0\" >sst-5</th>\n",
       "      <th id=\"T_c1007_level0_col1\" class=\"col_heading level0 col1\" >agnews</th>\n",
       "      <th id=\"T_c1007_level0_col2\" class=\"col_heading level0 col2\" >subj</th>\n",
       "      <th id=\"T_c1007_level0_col3\" class=\"col_heading level0 col3\" >gsm8k</th>\n",
       "      <th id=\"T_c1007_level0_col4\" class=\"col_heading level0 col4\" >copa</th>\n",
       "      <th id=\"T_c1007_level0_col5\" class=\"col_heading level0 col5\" >avg</th>\n",
       "    </tr>\n",
       "  </thead>\n",
       "  <tbody>\n",
       "    <tr>\n",
       "      <th id=\"T_c1007_level0_row0\" class=\"row_heading level0 row0\" >CAPO</th>\n",
       "      <td id=\"T_c1007_row0_col0\" class=\"data row0 col0\" >142.00±20.46</td>\n",
       "      <td id=\"T_c1007_row0_col1\" class=\"data row0 col1\" >153.33±77.60</td>\n",
       "      <td id=\"T_c1007_row0_col2\" class=\"data row0 col2\" >138.33±38.87</td>\n",
       "      <td id=\"T_c1007_row0_col3\" class=\"data row0 col3\" >285.67±23.70</td>\n",
       "      <td id=\"T_c1007_row0_col4\" class=\"data row0 col4\" >76.33±26.64</td>\n",
       "      <td id=\"T_c1007_row0_col5\" class=\"data row0 col5\" >159.13</td>\n",
       "    </tr>\n",
       "  </tbody>\n",
       "</table>\n"
      ],
      "text/plain": [
       "<pandas.io.formats.style.Styler at 0x19a9c1f15e0>"
      ]
     },
     "metadata": {},
     "output_type": "display_data"
    },
    {
     "name": "stdout",
     "output_type": "stream",
     "text": [
      "\n"
     ]
    }
   ],
   "source": [
    "for model in MODELS:\n",
    "    print(model)\n",
    "    display(generate_comparison_table(optims=[\"CAPO\"], score_col=\"instr_len\", model=model))\n",
    "    display(generate_comparison_table(optims=[\"CAPO\"], score_col=\"prompt_len\", model=model))\n",
    "    print()"
   ]
  }
 ],
 "metadata": {
  "kernelspec": {
   "display_name": ".venv",
   "language": "python",
   "name": "python3"
  },
  "language_info": {
   "codemirror_mode": {
    "name": "ipython",
    "version": 3
   },
   "file_extension": ".py",
   "mimetype": "text/x-python",
   "name": "python",
   "nbconvert_exporter": "python",
   "pygments_lexer": "ipython3",
   "version": "3.12.5"
  }
 },
 "nbformat": 4,
 "nbformat_minor": 5
}
