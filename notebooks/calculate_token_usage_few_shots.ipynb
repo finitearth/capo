{
 "cells": [
  {
   "cell_type": "markdown",
   "id": "5bfbe08e",
   "metadata": {},
   "source": [
    "# Calculate token usage of few shot examples vs instructions\n",
    "\n",
    "This notebook aims to calculate the fraction of the length of the instructions and few-shot examples in the total token usage of a prompt, in order to identify the main driver of cost."
   ]
  },
  {
   "cell_type": "code",
   "execution_count": null,
   "id": "79b58f58",
   "metadata": {},
   "outputs": [
    {
     "name": "stderr",
     "output_type": "stream",
     "text": [
      "Could not import torch or transformers in local_llm.py: No module named 'torch'\n",
      "Could not import vllm, torch or transformers in vllm.py: No module named 'torch'\n"
     ]
    }
   ],
   "source": [
    "from capo.analysis.utils import generate_comparison_table\n",
    "import os\n",
    "\n",
    "os.chdir(\"../\")"
   ]
  },
  {
   "cell_type": "code",
   "execution_count": 2,
   "id": "4213afba",
   "metadata": {},
   "outputs": [],
   "source": [
    "MODELS = [\"llama\", \"qwen\", \"mistral\"]"
   ]
  },
  {
   "cell_type": "code",
   "execution_count": null,
   "id": "f2d9f9fa",
   "metadata": {},
   "outputs": [
    {
     "name": "stdout",
     "output_type": "stream",
     "text": [
      "llama\n"
     ]
    },
    {
     "data": {
      "text/html": [
       "<style type=\"text/css\">\n",
       "#T_1c13a_row0_col0, #T_1c13a_row0_col1, #T_1c13a_row0_col2, #T_1c13a_row0_col3, #T_1c13a_row0_col4, #T_1c13a_row0_col5 {\n",
       "  font-weight: bold;\n",
       "}\n",
       "</style>\n",
       "<table id=\"T_1c13a\">\n",
       "  <thead>\n",
       "    <tr>\n",
       "      <th class=\"blank level0\" >&nbsp;</th>\n",
       "      <th id=\"T_1c13a_level0_col0\" class=\"col_heading level0 col0\" >sst-5</th>\n",
       "      <th id=\"T_1c13a_level0_col1\" class=\"col_heading level0 col1\" >agnews</th>\n",
       "      <th id=\"T_1c13a_level0_col2\" class=\"col_heading level0 col2\" >subj</th>\n",
       "      <th id=\"T_1c13a_level0_col3\" class=\"col_heading level0 col3\" >gsm8k</th>\n",
       "      <th id=\"T_1c13a_level0_col4\" class=\"col_heading level0 col4\" >copa</th>\n",
       "      <th id=\"T_1c13a_level0_col5\" class=\"col_heading level0 col5\" >avg</th>\n",
       "    </tr>\n",
       "  </thead>\n",
       "  <tbody>\n",
       "    <tr>\n",
       "      <th id=\"T_1c13a_level0_row0\" class=\"row_heading level0 row0\" >CAPO</th>\n",
       "      <td id=\"T_1c13a_row0_col0\" class=\"data row0 col0\" >52.33±23.98</td>\n",
       "      <td id=\"T_1c13a_row0_col1\" class=\"data row0 col1\" >76.00±41.16</td>\n",
       "      <td id=\"T_1c13a_row0_col2\" class=\"data row0 col2\" >55.67±26.71</td>\n",
       "      <td id=\"T_1c13a_row0_col3\" class=\"data row0 col3\" >36.67±14.01</td>\n",
       "      <td id=\"T_1c13a_row0_col4\" class=\"data row0 col4\" >40.33±20.85</td>\n",
       "      <td id=\"T_1c13a_row0_col5\" class=\"data row0 col5\" >52.20</td>\n",
       "    </tr>\n",
       "  </tbody>\n",
       "</table>\n"
      ],
      "text/plain": [
       "<pandas.io.formats.style.Styler at 0x1b893345ee0>"
      ]
     },
     "metadata": {},
     "output_type": "display_data"
    },
    {
     "data": {
      "text/html": [
       "<style type=\"text/css\">\n",
       "#T_7434e_row0_col0, #T_7434e_row0_col1, #T_7434e_row0_col2, #T_7434e_row0_col3, #T_7434e_row0_col4, #T_7434e_row0_col5 {\n",
       "  font-weight: bold;\n",
       "}\n",
       "</style>\n",
       "<table id=\"T_7434e\">\n",
       "  <thead>\n",
       "    <tr>\n",
       "      <th class=\"blank level0\" >&nbsp;</th>\n",
       "      <th id=\"T_7434e_level0_col0\" class=\"col_heading level0 col0\" >sst-5</th>\n",
       "      <th id=\"T_7434e_level0_col1\" class=\"col_heading level0 col1\" >agnews</th>\n",
       "      <th id=\"T_7434e_level0_col2\" class=\"col_heading level0 col2\" >subj</th>\n",
       "      <th id=\"T_7434e_level0_col3\" class=\"col_heading level0 col3\" >gsm8k</th>\n",
       "      <th id=\"T_7434e_level0_col4\" class=\"col_heading level0 col4\" >copa</th>\n",
       "      <th id=\"T_7434e_level0_col5\" class=\"col_heading level0 col5\" >avg</th>\n",
       "    </tr>\n",
       "  </thead>\n",
       "  <tbody>\n",
       "    <tr>\n",
       "      <th id=\"T_7434e_level0_row0\" class=\"row_heading level0 row0\" >CAPO</th>\n",
       "      <td id=\"T_7434e_row0_col0\" class=\"data row0 col0\" >108.67±60.54</td>\n",
       "      <td id=\"T_7434e_row0_col1\" class=\"data row0 col1\" >34.33±24.69</td>\n",
       "      <td id=\"T_7434e_row0_col2\" class=\"data row0 col2\" >102.00±22.23</td>\n",
       "      <td id=\"T_7434e_row0_col3\" class=\"data row0 col3\" >444.00±125.96</td>\n",
       "      <td id=\"T_7434e_row0_col4\" class=\"data row0 col4\" >42.67±28.55</td>\n",
       "      <td id=\"T_7434e_row0_col5\" class=\"data row0 col5\" >146.33</td>\n",
       "    </tr>\n",
       "  </tbody>\n",
       "</table>\n"
      ],
      "text/plain": [
       "<pandas.io.formats.style.Styler at 0x1b8b45a22a0>"
      ]
     },
     "metadata": {},
     "output_type": "display_data"
    },
    {
     "data": {
      "text/html": [
       "<style type=\"text/css\">\n",
       "#T_b0f78_row0_col0, #T_b0f78_row0_col1, #T_b0f78_row0_col2, #T_b0f78_row0_col3, #T_b0f78_row0_col4, #T_b0f78_row0_col5 {\n",
       "  font-weight: bold;\n",
       "}\n",
       "</style>\n",
       "<table id=\"T_b0f78\">\n",
       "  <thead>\n",
       "    <tr>\n",
       "      <th class=\"blank level0\" >&nbsp;</th>\n",
       "      <th id=\"T_b0f78_level0_col0\" class=\"col_heading level0 col0\" >sst-5</th>\n",
       "      <th id=\"T_b0f78_level0_col1\" class=\"col_heading level0 col1\" >agnews</th>\n",
       "      <th id=\"T_b0f78_level0_col2\" class=\"col_heading level0 col2\" >subj</th>\n",
       "      <th id=\"T_b0f78_level0_col3\" class=\"col_heading level0 col3\" >gsm8k</th>\n",
       "      <th id=\"T_b0f78_level0_col4\" class=\"col_heading level0 col4\" >copa</th>\n",
       "      <th id=\"T_b0f78_level0_col5\" class=\"col_heading level0 col5\" >avg</th>\n",
       "    </tr>\n",
       "  </thead>\n",
       "  <tbody>\n",
       "    <tr>\n",
       "      <th id=\"T_b0f78_level0_row0\" class=\"row_heading level0 row0\" >CAPO</th>\n",
       "      <td id=\"T_b0f78_row0_col0\" class=\"data row0 col0\" >0.66±0.02</td>\n",
       "      <td id=\"T_b0f78_row0_col1\" class=\"data row0 col1\" >0.30±0.26</td>\n",
       "      <td id=\"T_b0f78_row0_col2\" class=\"data row0 col2\" >0.65±0.16</td>\n",
       "      <td id=\"T_b0f78_row0_col3\" class=\"data row0 col3\" >0.91±0.06</td>\n",
       "      <td id=\"T_b0f78_row0_col4\" class=\"data row0 col4\" >0.49±0.23</td>\n",
       "      <td id=\"T_b0f78_row0_col5\" class=\"data row0 col5\" >0.60</td>\n",
       "    </tr>\n",
       "  </tbody>\n",
       "</table>\n"
      ],
      "text/plain": [
       "<pandas.io.formats.style.Styler at 0x1b8b5e3f020>"
      ]
     },
     "metadata": {},
     "output_type": "display_data"
    },
    {
     "name": "stdout",
     "output_type": "stream",
     "text": [
      "\n",
      "qwen\n"
     ]
    },
    {
     "data": {
      "text/html": [
       "<style type=\"text/css\">\n",
       "#T_77f99_row0_col0, #T_77f99_row0_col1, #T_77f99_row0_col2, #T_77f99_row0_col3, #T_77f99_row0_col4, #T_77f99_row0_col5 {\n",
       "  font-weight: bold;\n",
       "}\n",
       "</style>\n",
       "<table id=\"T_77f99\">\n",
       "  <thead>\n",
       "    <tr>\n",
       "      <th class=\"blank level0\" >&nbsp;</th>\n",
       "      <th id=\"T_77f99_level0_col0\" class=\"col_heading level0 col0\" >sst-5</th>\n",
       "      <th id=\"T_77f99_level0_col1\" class=\"col_heading level0 col1\" >agnews</th>\n",
       "      <th id=\"T_77f99_level0_col2\" class=\"col_heading level0 col2\" >subj</th>\n",
       "      <th id=\"T_77f99_level0_col3\" class=\"col_heading level0 col3\" >gsm8k</th>\n",
       "      <th id=\"T_77f99_level0_col4\" class=\"col_heading level0 col4\" >copa</th>\n",
       "      <th id=\"T_77f99_level0_col5\" class=\"col_heading level0 col5\" >avg</th>\n",
       "    </tr>\n",
       "  </thead>\n",
       "  <tbody>\n",
       "    <tr>\n",
       "      <th id=\"T_77f99_level0_row0\" class=\"row_heading level0 row0\" >CAPO</th>\n",
       "      <td id=\"T_77f99_row0_col0\" class=\"data row0 col0\" >73.67±7.36</td>\n",
       "      <td id=\"T_77f99_row0_col1\" class=\"data row0 col1\" >63.00±30.34</td>\n",
       "      <td id=\"T_77f99_row0_col2\" class=\"data row0 col2\" >85.67±14.20</td>\n",
       "      <td id=\"T_77f99_row0_col3\" class=\"data row0 col3\" >40.00±8.04</td>\n",
       "      <td id=\"T_77f99_row0_col4\" class=\"data row0 col4\" >96.67±46.71</td>\n",
       "      <td id=\"T_77f99_row0_col5\" class=\"data row0 col5\" >71.80</td>\n",
       "    </tr>\n",
       "  </tbody>\n",
       "</table>\n"
      ],
      "text/plain": [
       "<pandas.io.formats.style.Styler at 0x1b8b46337d0>"
      ]
     },
     "metadata": {},
     "output_type": "display_data"
    },
    {
     "data": {
      "text/html": [
       "<style type=\"text/css\">\n",
       "#T_0cda0_row0_col0, #T_0cda0_row0_col1, #T_0cda0_row0_col2, #T_0cda0_row0_col3, #T_0cda0_row0_col4, #T_0cda0_row0_col5 {\n",
       "  font-weight: bold;\n",
       "}\n",
       "</style>\n",
       "<table id=\"T_0cda0\">\n",
       "  <thead>\n",
       "    <tr>\n",
       "      <th class=\"blank level0\" >&nbsp;</th>\n",
       "      <th id=\"T_0cda0_level0_col0\" class=\"col_heading level0 col0\" >sst-5</th>\n",
       "      <th id=\"T_0cda0_level0_col1\" class=\"col_heading level0 col1\" >agnews</th>\n",
       "      <th id=\"T_0cda0_level0_col2\" class=\"col_heading level0 col2\" >subj</th>\n",
       "      <th id=\"T_0cda0_level0_col3\" class=\"col_heading level0 col3\" >gsm8k</th>\n",
       "      <th id=\"T_0cda0_level0_col4\" class=\"col_heading level0 col4\" >copa</th>\n",
       "      <th id=\"T_0cda0_level0_col5\" class=\"col_heading level0 col5\" >avg</th>\n",
       "    </tr>\n",
       "  </thead>\n",
       "  <tbody>\n",
       "    <tr>\n",
       "      <th id=\"T_0cda0_level0_row0\" class=\"row_heading level0 row0\" >CAPO</th>\n",
       "      <td id=\"T_0cda0_row0_col0\" class=\"data row0 col0\" >113.67±21.08</td>\n",
       "      <td id=\"T_0cda0_row0_col1\" class=\"data row0 col1\" >53.00±27.65</td>\n",
       "      <td id=\"T_0cda0_row0_col2\" class=\"data row0 col2\" >72.33±12.50</td>\n",
       "      <td id=\"T_0cda0_row0_col3\" class=\"data row0 col3\" >189.67±97.05</td>\n",
       "      <td id=\"T_0cda0_row0_col4\" class=\"data row0 col4\" >8.00±9.90</td>\n",
       "      <td id=\"T_0cda0_row0_col5\" class=\"data row0 col5\" >87.33</td>\n",
       "    </tr>\n",
       "  </tbody>\n",
       "</table>\n"
      ],
      "text/plain": [
       "<pandas.io.formats.style.Styler at 0x1b8b5f79e20>"
      ]
     },
     "metadata": {},
     "output_type": "display_data"
    },
    {
     "data": {
      "text/html": [
       "<style type=\"text/css\">\n",
       "#T_77042_row0_col0, #T_77042_row0_col1, #T_77042_row0_col2, #T_77042_row0_col3, #T_77042_row0_col4, #T_77042_row0_col5 {\n",
       "  font-weight: bold;\n",
       "}\n",
       "</style>\n",
       "<table id=\"T_77042\">\n",
       "  <thead>\n",
       "    <tr>\n",
       "      <th class=\"blank level0\" >&nbsp;</th>\n",
       "      <th id=\"T_77042_level0_col0\" class=\"col_heading level0 col0\" >sst-5</th>\n",
       "      <th id=\"T_77042_level0_col1\" class=\"col_heading level0 col1\" >agnews</th>\n",
       "      <th id=\"T_77042_level0_col2\" class=\"col_heading level0 col2\" >subj</th>\n",
       "      <th id=\"T_77042_level0_col3\" class=\"col_heading level0 col3\" >gsm8k</th>\n",
       "      <th id=\"T_77042_level0_col4\" class=\"col_heading level0 col4\" >copa</th>\n",
       "      <th id=\"T_77042_level0_col5\" class=\"col_heading level0 col5\" >avg</th>\n",
       "    </tr>\n",
       "  </thead>\n",
       "  <tbody>\n",
       "    <tr>\n",
       "      <th id=\"T_77042_level0_row0\" class=\"row_heading level0 row0\" >CAPO</th>\n",
       "      <td id=\"T_77042_row0_col0\" class=\"data row0 col0\" >0.60±0.03</td>\n",
       "      <td id=\"T_77042_row0_col1\" class=\"data row0 col1\" >0.46±0.09</td>\n",
       "      <td id=\"T_77042_row0_col2\" class=\"data row0 col2\" >0.46±0.08</td>\n",
       "      <td id=\"T_77042_row0_col3\" class=\"data row0 col3\" >0.76±0.18</td>\n",
       "      <td id=\"T_77042_row0_col4\" class=\"data row0 col4\" >0.07±0.07</td>\n",
       "      <td id=\"T_77042_row0_col5\" class=\"data row0 col5\" >0.47</td>\n",
       "    </tr>\n",
       "  </tbody>\n",
       "</table>\n"
      ],
      "text/plain": [
       "<pandas.io.formats.style.Styler at 0x1b8b5f79e20>"
      ]
     },
     "metadata": {},
     "output_type": "display_data"
    },
    {
     "name": "stdout",
     "output_type": "stream",
     "text": [
      "\n",
      "mistral\n"
     ]
    },
    {
     "data": {
      "text/html": [
       "<style type=\"text/css\">\n",
       "#T_e70cb_row0_col0, #T_e70cb_row0_col1, #T_e70cb_row0_col2, #T_e70cb_row0_col3, #T_e70cb_row0_col4, #T_e70cb_row0_col5 {\n",
       "  font-weight: bold;\n",
       "}\n",
       "</style>\n",
       "<table id=\"T_e70cb\">\n",
       "  <thead>\n",
       "    <tr>\n",
       "      <th class=\"blank level0\" >&nbsp;</th>\n",
       "      <th id=\"T_e70cb_level0_col0\" class=\"col_heading level0 col0\" >sst-5</th>\n",
       "      <th id=\"T_e70cb_level0_col1\" class=\"col_heading level0 col1\" >agnews</th>\n",
       "      <th id=\"T_e70cb_level0_col2\" class=\"col_heading level0 col2\" >subj</th>\n",
       "      <th id=\"T_e70cb_level0_col3\" class=\"col_heading level0 col3\" >gsm8k</th>\n",
       "      <th id=\"T_e70cb_level0_col4\" class=\"col_heading level0 col4\" >copa</th>\n",
       "      <th id=\"T_e70cb_level0_col5\" class=\"col_heading level0 col5\" >avg</th>\n",
       "    </tr>\n",
       "  </thead>\n",
       "  <tbody>\n",
       "    <tr>\n",
       "      <th id=\"T_e70cb_level0_row0\" class=\"row_heading level0 row0\" >CAPO</th>\n",
       "      <td id=\"T_e70cb_row0_col0\" class=\"data row0 col0\" >55.67±1.25</td>\n",
       "      <td id=\"T_e70cb_row0_col1\" class=\"data row0 col1\" >55.67±19.36</td>\n",
       "      <td id=\"T_e70cb_row0_col2\" class=\"data row0 col2\" >35.33±8.18</td>\n",
       "      <td id=\"T_e70cb_row0_col3\" class=\"data row0 col3\" >38.33±8.96</td>\n",
       "      <td id=\"T_e70cb_row0_col4\" class=\"data row0 col4\" >58.67±3.09</td>\n",
       "      <td id=\"T_e70cb_row0_col5\" class=\"data row0 col5\" >48.73</td>\n",
       "    </tr>\n",
       "  </tbody>\n",
       "</table>\n"
      ],
      "text/plain": [
       "<pandas.io.formats.style.Styler at 0x1b8b46337d0>"
      ]
     },
     "metadata": {},
     "output_type": "display_data"
    },
    {
     "data": {
      "text/html": [
       "<style type=\"text/css\">\n",
       "#T_f7ec5_row0_col0, #T_f7ec5_row0_col1, #T_f7ec5_row0_col2, #T_f7ec5_row0_col3, #T_f7ec5_row0_col4, #T_f7ec5_row0_col5 {\n",
       "  font-weight: bold;\n",
       "}\n",
       "</style>\n",
       "<table id=\"T_f7ec5\">\n",
       "  <thead>\n",
       "    <tr>\n",
       "      <th class=\"blank level0\" >&nbsp;</th>\n",
       "      <th id=\"T_f7ec5_level0_col0\" class=\"col_heading level0 col0\" >sst-5</th>\n",
       "      <th id=\"T_f7ec5_level0_col1\" class=\"col_heading level0 col1\" >agnews</th>\n",
       "      <th id=\"T_f7ec5_level0_col2\" class=\"col_heading level0 col2\" >subj</th>\n",
       "      <th id=\"T_f7ec5_level0_col3\" class=\"col_heading level0 col3\" >gsm8k</th>\n",
       "      <th id=\"T_f7ec5_level0_col4\" class=\"col_heading level0 col4\" >copa</th>\n",
       "      <th id=\"T_f7ec5_level0_col5\" class=\"col_heading level0 col5\" >avg</th>\n",
       "    </tr>\n",
       "  </thead>\n",
       "  <tbody>\n",
       "    <tr>\n",
       "      <th id=\"T_f7ec5_level0_row0\" class=\"row_heading level0 row0\" >CAPO</th>\n",
       "      <td id=\"T_f7ec5_row0_col0\" class=\"data row0 col0\" >86.33±19.26</td>\n",
       "      <td id=\"T_f7ec5_row0_col1\" class=\"data row0 col1\" >97.67±68.75</td>\n",
       "      <td id=\"T_f7ec5_row0_col2\" class=\"data row0 col2\" >103.00±34.55</td>\n",
       "      <td id=\"T_f7ec5_row0_col3\" class=\"data row0 col3\" >247.33±17.91</td>\n",
       "      <td id=\"T_f7ec5_row0_col4\" class=\"data row0 col4\" >17.67±23.57</td>\n",
       "      <td id=\"T_f7ec5_row0_col5\" class=\"data row0 col5\" >110.40</td>\n",
       "    </tr>\n",
       "  </tbody>\n",
       "</table>\n"
      ],
      "text/plain": [
       "<pandas.io.formats.style.Styler at 0x1b8b5bc4860>"
      ]
     },
     "metadata": {},
     "output_type": "display_data"
    },
    {
     "data": {
      "text/html": [
       "<style type=\"text/css\">\n",
       "#T_a34ab_row0_col0, #T_a34ab_row0_col1, #T_a34ab_row0_col2, #T_a34ab_row0_col3, #T_a34ab_row0_col4, #T_a34ab_row0_col5 {\n",
       "  font-weight: bold;\n",
       "}\n",
       "</style>\n",
       "<table id=\"T_a34ab\">\n",
       "  <thead>\n",
       "    <tr>\n",
       "      <th class=\"blank level0\" >&nbsp;</th>\n",
       "      <th id=\"T_a34ab_level0_col0\" class=\"col_heading level0 col0\" >sst-5</th>\n",
       "      <th id=\"T_a34ab_level0_col1\" class=\"col_heading level0 col1\" >agnews</th>\n",
       "      <th id=\"T_a34ab_level0_col2\" class=\"col_heading level0 col2\" >subj</th>\n",
       "      <th id=\"T_a34ab_level0_col3\" class=\"col_heading level0 col3\" >gsm8k</th>\n",
       "      <th id=\"T_a34ab_level0_col4\" class=\"col_heading level0 col4\" >copa</th>\n",
       "      <th id=\"T_a34ab_level0_col5\" class=\"col_heading level0 col5\" >avg</th>\n",
       "    </tr>\n",
       "  </thead>\n",
       "  <tbody>\n",
       "    <tr>\n",
       "      <th id=\"T_a34ab_level0_row0\" class=\"row_heading level0 row0\" >CAPO</th>\n",
       "      <td id=\"T_a34ab_row0_col0\" class=\"data row0 col0\" >0.60±0.05</td>\n",
       "      <td id=\"T_a34ab_row0_col1\" class=\"data row0 col1\" >0.49±0.34</td>\n",
       "      <td id=\"T_a34ab_row0_col2\" class=\"data row0 col2\" >0.74±0.05</td>\n",
       "      <td id=\"T_a34ab_row0_col3\" class=\"data row0 col3\" >0.87±0.02</td>\n",
       "      <td id=\"T_a34ab_row0_col4\" class=\"data row0 col4\" >0.16±0.20</td>\n",
       "      <td id=\"T_a34ab_row0_col5\" class=\"data row0 col5\" >0.57</td>\n",
       "    </tr>\n",
       "  </tbody>\n",
       "</table>\n"
      ],
      "text/plain": [
       "<pandas.io.formats.style.Styler at 0x1b8b470d340>"
      ]
     },
     "metadata": {},
     "output_type": "display_data"
    },
    {
     "name": "stdout",
     "output_type": "stream",
     "text": [
      "\n"
     ]
    }
   ],
   "source": [
    "for model in MODELS:\n",
    "    print(model)\n",
    "    display(generate_comparison_table(optims=[\"CAPO\"], score_col=\"instr_len\", model=model))\n",
    "    display(generate_comparison_table(optims=[\"CAPO\"], score_col=\"fs_len\", model=model))\n",
    "    display(generate_comparison_table(optims=[\"CAPO\"], score_col=\"frac_fs\", model=model))\n",
    "    print()"
   ]
  }
 ],
 "metadata": {
  "kernelspec": {
   "display_name": ".venv",
   "language": "python",
   "name": "python3"
  },
  "language_info": {
   "codemirror_mode": {
    "name": "ipython",
    "version": 3
   },
   "file_extension": ".py",
   "mimetype": "text/x-python",
   "name": "python",
   "nbconvert_exporter": "python",
   "pygments_lexer": "ipython3",
   "version": "3.12.5"
  }
 },
 "nbformat": 4,
 "nbformat_minor": 5
}
