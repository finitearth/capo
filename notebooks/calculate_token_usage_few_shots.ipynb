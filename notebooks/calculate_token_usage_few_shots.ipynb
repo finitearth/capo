{
 "cells": [
  {
   "cell_type": "code",
   "execution_count": 75,
   "id": "79b58f58",
   "metadata": {},
   "outputs": [],
   "source": [
    "import pandas as pd\n",
    "from glob import glob"
   ]
  },
  {
   "cell_type": "code",
   "execution_count": 76,
   "id": "a3957179",
   "metadata": {},
   "outputs": [],
   "source": [
    "datasets = [\"agnews\", \"sst-5\", \"gsm8k\", \"copa\", \"subj\"]\n",
    "models = [\"llama\", \"qwen\", \"mistral\"]\n",
    "seeds = [42, 43, 44]\n",
    "dfs = []\n",
    "for dataset in datasets:\n",
    "    for model in models:\n",
    "        for seed in seeds:\n",
    "            path = glob(\n",
    "                f\"../results/main_results/{dataset}/{model}/CAPO/seed{seed}/*/*/step_results_eval.csv\"\n",
    "            )[0]\n",
    "            df = pd.read_csv(path)\n",
    "            dfs.append(\n",
    "                df.assign(\n",
    "                    dataset=dataset,\n",
    "                    model=model,\n",
    "                    seed=seed,\n",
    "                )\n",
    "            )\n",
    "\n",
    "df = pd.concat(dfs, ignore_index=True)"
   ]
  },
  {
   "cell_type": "code",
   "execution_count": 79,
   "id": "3daccf82",
   "metadata": {},
   "outputs": [],
   "source": [
    "df[\"len_instr\"] = df[\"prompt\"].str.split(\"Input:\").str[0].apply(lambda x: len(x.split()))\n",
    "df[\"len_few_shot\"] = df[\"prompt\"].str.split(\"Input:\").str[1].apply(lambda x: len(x.split()))\n",
    "\n",
    "df[\"frac_fs\"] = df[\"len_few_shot\"] / (df[\"len_instr\"] + df[\"len_few_shot\"])"
   ]
  },
  {
   "cell_type": "code",
   "execution_count": 80,
   "id": "8b095ee3",
   "metadata": {},
   "outputs": [],
   "source": [
    "df = df.sort_values(\"score\", ascending=False)\n",
    "df = df.groupby([\"dataset\", \"model\", \"seed\"]).last()\n",
    "df = df.groupby([\"dataset\", \"model\"]).mean(numeric_only=True)"
   ]
  },
  {
   "cell_type": "code",
   "execution_count": 82,
   "id": "f8adefde",
   "metadata": {},
   "outputs": [
    {
     "data": {
      "text/html": [
       "<div>\n",
       "<style scoped>\n",
       "    .dataframe tbody tr th:only-of-type {\n",
       "        vertical-align: middle;\n",
       "    }\n",
       "\n",
       "    .dataframe tbody tr th {\n",
       "        vertical-align: top;\n",
       "    }\n",
       "\n",
       "    .dataframe thead th {\n",
       "        text-align: right;\n",
       "    }\n",
       "</style>\n",
       "<table border=\"1\" class=\"dataframe\">\n",
       "  <thead>\n",
       "    <tr style=\"text-align: right;\">\n",
       "      <th></th>\n",
       "      <th></th>\n",
       "      <th>len_instr</th>\n",
       "      <th>len_few_shot</th>\n",
       "      <th>frac_fs</th>\n",
       "    </tr>\n",
       "    <tr>\n",
       "      <th>dataset</th>\n",
       "      <th>model</th>\n",
       "      <th></th>\n",
       "      <th></th>\n",
       "      <th></th>\n",
       "    </tr>\n",
       "  </thead>\n",
       "  <tbody>\n",
       "    <tr>\n",
       "      <th rowspan=\"3\" valign=\"top\">agnews</th>\n",
       "      <th>llama</th>\n",
       "      <td>42.333333</td>\n",
       "      <td>19.666667</td>\n",
       "      <td>0.298037</td>\n",
       "    </tr>\n",
       "    <tr>\n",
       "      <th>mistral</th>\n",
       "      <td>28.000000</td>\n",
       "      <td>42.333333</td>\n",
       "      <td>0.595182</td>\n",
       "    </tr>\n",
       "    <tr>\n",
       "      <th>qwen</th>\n",
       "      <td>31.666667</td>\n",
       "      <td>31.333333</td>\n",
       "      <td>0.387821</td>\n",
       "    </tr>\n",
       "    <tr>\n",
       "      <th rowspan=\"3\" valign=\"top\">copa</th>\n",
       "      <th>llama</th>\n",
       "      <td>33.666667</td>\n",
       "      <td>17.000000</td>\n",
       "      <td>0.277500</td>\n",
       "    </tr>\n",
       "    <tr>\n",
       "      <th>mistral</th>\n",
       "      <td>27.666667</td>\n",
       "      <td>15.333333</td>\n",
       "      <td>0.290966</td>\n",
       "    </tr>\n",
       "    <tr>\n",
       "      <th>qwen</th>\n",
       "      <td>32.666667</td>\n",
       "      <td>14.000000</td>\n",
       "      <td>0.270872</td>\n",
       "    </tr>\n",
       "    <tr>\n",
       "      <th rowspan=\"3\" valign=\"top\">gsm8k</th>\n",
       "      <th>llama</th>\n",
       "      <td>36.000000</td>\n",
       "      <td>75.666667</td>\n",
       "      <td>0.687609</td>\n",
       "    </tr>\n",
       "    <tr>\n",
       "      <th>mistral</th>\n",
       "      <td>26.333333</td>\n",
       "      <td>78.000000</td>\n",
       "      <td>0.731292</td>\n",
       "    </tr>\n",
       "    <tr>\n",
       "      <th>qwen</th>\n",
       "      <td>28.666667</td>\n",
       "      <td>59.000000</td>\n",
       "      <td>0.473391</td>\n",
       "    </tr>\n",
       "    <tr>\n",
       "      <th rowspan=\"3\" valign=\"top\">sst-5</th>\n",
       "      <th>llama</th>\n",
       "      <td>31.666667</td>\n",
       "      <td>16.333333</td>\n",
       "      <td>0.348427</td>\n",
       "    </tr>\n",
       "    <tr>\n",
       "      <th>mistral</th>\n",
       "      <td>25.333333</td>\n",
       "      <td>12.666667</td>\n",
       "      <td>0.204301</td>\n",
       "    </tr>\n",
       "    <tr>\n",
       "      <th>qwen</th>\n",
       "      <td>28.333333</td>\n",
       "      <td>11.333333</td>\n",
       "      <td>0.243379</td>\n",
       "    </tr>\n",
       "    <tr>\n",
       "      <th rowspan=\"3\" valign=\"top\">subj</th>\n",
       "      <th>llama</th>\n",
       "      <td>24.000000</td>\n",
       "      <td>9.333333</td>\n",
       "      <td>0.133333</td>\n",
       "    </tr>\n",
       "    <tr>\n",
       "      <th>mistral</th>\n",
       "      <td>33.000000</td>\n",
       "      <td>19.000000</td>\n",
       "      <td>0.315278</td>\n",
       "    </tr>\n",
       "    <tr>\n",
       "      <th>qwen</th>\n",
       "      <td>31.000000</td>\n",
       "      <td>15.000000</td>\n",
       "      <td>0.251507</td>\n",
       "    </tr>\n",
       "  </tbody>\n",
       "</table>\n",
       "</div>"
      ],
      "text/plain": [
       "                 len_instr  len_few_shot   frac_fs\n",
       "dataset model                                     \n",
       "agnews  llama    42.333333     19.666667  0.298037\n",
       "        mistral  28.000000     42.333333  0.595182\n",
       "        qwen     31.666667     31.333333  0.387821\n",
       "copa    llama    33.666667     17.000000  0.277500\n",
       "        mistral  27.666667     15.333333  0.290966\n",
       "        qwen     32.666667     14.000000  0.270872\n",
       "gsm8k   llama    36.000000     75.666667  0.687609\n",
       "        mistral  26.333333     78.000000  0.731292\n",
       "        qwen     28.666667     59.000000  0.473391\n",
       "sst-5   llama    31.666667     16.333333  0.348427\n",
       "        mistral  25.333333     12.666667  0.204301\n",
       "        qwen     28.333333     11.333333  0.243379\n",
       "subj    llama    24.000000      9.333333  0.133333\n",
       "        mistral  33.000000     19.000000  0.315278\n",
       "        qwen     31.000000     15.000000  0.251507"
      ]
     },
     "execution_count": 82,
     "metadata": {},
     "output_type": "execute_result"
    }
   ],
   "source": [
    "df[[\"len_instr\", \"len_few_shot\", \"frac_fs\"]]"
   ]
  },
  {
   "cell_type": "code",
   "execution_count": null,
   "id": "d55b501f",
   "metadata": {},
   "outputs": [
    {
     "ename": "KeyError",
     "evalue": "'frac_downstream_llm'",
     "output_type": "error",
     "traceback": [
      "\u001b[1;31m---------------------------------------------------------------------------\u001b[0m",
      "\u001b[1;31mKeyError\u001b[0m                                  Traceback (most recent call last)",
      "File \u001b[1;32mc:\\Users\\tzehl\\anaconda3\\envs\\ds\\Lib\\site-packages\\pandas\\core\\indexes\\base.py:3805\u001b[0m, in \u001b[0;36mIndex.get_loc\u001b[1;34m(self, key)\u001b[0m\n\u001b[0;32m   3804\u001b[0m \u001b[38;5;28;01mtry\u001b[39;00m:\n\u001b[1;32m-> 3805\u001b[0m     \u001b[38;5;28;01mreturn\u001b[39;00m \u001b[38;5;28;43mself\u001b[39;49m\u001b[38;5;241;43m.\u001b[39;49m\u001b[43m_engine\u001b[49m\u001b[38;5;241;43m.\u001b[39;49m\u001b[43mget_loc\u001b[49m\u001b[43m(\u001b[49m\u001b[43mcasted_key\u001b[49m\u001b[43m)\u001b[49m\n\u001b[0;32m   3806\u001b[0m \u001b[38;5;28;01mexcept\u001b[39;00m \u001b[38;5;167;01mKeyError\u001b[39;00m \u001b[38;5;28;01mas\u001b[39;00m err:\n",
      "File \u001b[1;32mindex.pyx:167\u001b[0m, in \u001b[0;36mpandas._libs.index.IndexEngine.get_loc\u001b[1;34m()\u001b[0m\n",
      "File \u001b[1;32mindex.pyx:196\u001b[0m, in \u001b[0;36mpandas._libs.index.IndexEngine.get_loc\u001b[1;34m()\u001b[0m\n",
      "File \u001b[1;32mpandas\\\\_libs\\\\hashtable_class_helper.pxi:7081\u001b[0m, in \u001b[0;36mpandas._libs.hashtable.PyObjectHashTable.get_item\u001b[1;34m()\u001b[0m\n",
      "File \u001b[1;32mpandas\\\\_libs\\\\hashtable_class_helper.pxi:7089\u001b[0m, in \u001b[0;36mpandas._libs.hashtable.PyObjectHashTable.get_item\u001b[1;34m()\u001b[0m\n",
      "\u001b[1;31mKeyError\u001b[0m: 'frac_downstream_llm'",
      "\nThe above exception was the direct cause of the following exception:\n",
      "\u001b[1;31mKeyError\u001b[0m                                  Traceback (most recent call last)",
      "Cell \u001b[1;32mIn[71], line 1\u001b[0m\n\u001b[1;32m----> 1\u001b[0m \u001b[43mdf\u001b[49m\u001b[43m[\u001b[49m\u001b[38;5;124;43m\"\u001b[39;49m\u001b[38;5;124;43mfrac_downstream_llm\u001b[39;49m\u001b[38;5;124;43m\"\u001b[39;49m\u001b[43m]\u001b[49m\u001b[38;5;241m.\u001b[39mmean()\n",
      "File \u001b[1;32mc:\\Users\\tzehl\\anaconda3\\envs\\ds\\Lib\\site-packages\\pandas\\core\\frame.py:4102\u001b[0m, in \u001b[0;36mDataFrame.__getitem__\u001b[1;34m(self, key)\u001b[0m\n\u001b[0;32m   4100\u001b[0m \u001b[38;5;28;01mif\u001b[39;00m \u001b[38;5;28mself\u001b[39m\u001b[38;5;241m.\u001b[39mcolumns\u001b[38;5;241m.\u001b[39mnlevels \u001b[38;5;241m>\u001b[39m \u001b[38;5;241m1\u001b[39m:\n\u001b[0;32m   4101\u001b[0m     \u001b[38;5;28;01mreturn\u001b[39;00m \u001b[38;5;28mself\u001b[39m\u001b[38;5;241m.\u001b[39m_getitem_multilevel(key)\n\u001b[1;32m-> 4102\u001b[0m indexer \u001b[38;5;241m=\u001b[39m \u001b[38;5;28;43mself\u001b[39;49m\u001b[38;5;241;43m.\u001b[39;49m\u001b[43mcolumns\u001b[49m\u001b[38;5;241;43m.\u001b[39;49m\u001b[43mget_loc\u001b[49m\u001b[43m(\u001b[49m\u001b[43mkey\u001b[49m\u001b[43m)\u001b[49m\n\u001b[0;32m   4103\u001b[0m \u001b[38;5;28;01mif\u001b[39;00m is_integer(indexer):\n\u001b[0;32m   4104\u001b[0m     indexer \u001b[38;5;241m=\u001b[39m [indexer]\n",
      "File \u001b[1;32mc:\\Users\\tzehl\\anaconda3\\envs\\ds\\Lib\\site-packages\\pandas\\core\\indexes\\base.py:3812\u001b[0m, in \u001b[0;36mIndex.get_loc\u001b[1;34m(self, key)\u001b[0m\n\u001b[0;32m   3807\u001b[0m     \u001b[38;5;28;01mif\u001b[39;00m \u001b[38;5;28misinstance\u001b[39m(casted_key, \u001b[38;5;28mslice\u001b[39m) \u001b[38;5;129;01mor\u001b[39;00m (\n\u001b[0;32m   3808\u001b[0m         \u001b[38;5;28misinstance\u001b[39m(casted_key, abc\u001b[38;5;241m.\u001b[39mIterable)\n\u001b[0;32m   3809\u001b[0m         \u001b[38;5;129;01mand\u001b[39;00m \u001b[38;5;28many\u001b[39m(\u001b[38;5;28misinstance\u001b[39m(x, \u001b[38;5;28mslice\u001b[39m) \u001b[38;5;28;01mfor\u001b[39;00m x \u001b[38;5;129;01min\u001b[39;00m casted_key)\n\u001b[0;32m   3810\u001b[0m     ):\n\u001b[0;32m   3811\u001b[0m         \u001b[38;5;28;01mraise\u001b[39;00m InvalidIndexError(key)\n\u001b[1;32m-> 3812\u001b[0m     \u001b[38;5;28;01mraise\u001b[39;00m \u001b[38;5;167;01mKeyError\u001b[39;00m(key) \u001b[38;5;28;01mfrom\u001b[39;00m\u001b[38;5;250m \u001b[39m\u001b[38;5;21;01merr\u001b[39;00m\n\u001b[0;32m   3813\u001b[0m \u001b[38;5;28;01mexcept\u001b[39;00m \u001b[38;5;167;01mTypeError\u001b[39;00m:\n\u001b[0;32m   3814\u001b[0m     \u001b[38;5;66;03m# If we have a listlike key, _check_indexing_error will raise\u001b[39;00m\n\u001b[0;32m   3815\u001b[0m     \u001b[38;5;66;03m#  InvalidIndexError. Otherwise we fall through and re-raise\u001b[39;00m\n\u001b[0;32m   3816\u001b[0m     \u001b[38;5;66;03m#  the TypeError.\u001b[39;00m\n\u001b[0;32m   3817\u001b[0m     \u001b[38;5;28mself\u001b[39m\u001b[38;5;241m.\u001b[39m_check_indexing_error(key)\n",
      "\u001b[1;31mKeyError\u001b[0m: 'frac_downstream_llm'"
     ]
    }
   ],
   "source": [
    "df[\"frac_downstream_llm\"].mean()"
   ]
  },
  {
   "cell_type": "code",
   "execution_count": null,
   "id": "6d5583c7",
   "metadata": {},
   "outputs": [
    {
     "data": {
      "text/plain": [
       "dataset\n",
       "agnews    0.985458\n",
       "copa      0.871082\n",
       "gsm8k     0.996258\n",
       "sst-5     0.990032\n",
       "subj      0.987852\n",
       "Name: frac_downstream_llm, dtype: float64"
      ]
     },
     "execution_count": 9,
     "metadata": {},
     "output_type": "execute_result"
    }
   ],
   "source": [
    "df = df.reset_index()\n",
    "df.groupby(\"dataset\").mean(numeric_only=True)[\"frac_downstream_llm\"]"
   ]
  },
  {
   "cell_type": "code",
   "execution_count": null,
   "id": "5c0acabf",
   "metadata": {},
   "outputs": [
    {
     "data": {
      "text/plain": [
       "model\n",
       "llama      0.986693\n",
       "mistral    0.940054\n",
       "qwen       0.971662\n",
       "Name: frac_downstream_llm, dtype: float64"
      ]
     },
     "execution_count": 10,
     "metadata": {},
     "output_type": "execute_result"
    }
   ],
   "source": [
    "df.groupby(\"model\").mean(numeric_only=True)[\"frac_downstream_llm\"]"
   ]
  }
 ],
 "metadata": {
  "kernelspec": {
   "display_name": "ds",
   "language": "python",
   "name": "python3"
  },
  "language_info": {
   "codemirror_mode": {
    "name": "ipython",
    "version": 3
   },
   "file_extension": ".py",
   "mimetype": "text/x-python",
   "name": "python",
   "nbconvert_exporter": "python",
   "pygments_lexer": "ipython3",
   "version": "3.12.5"
  }
 },
 "nbformat": 4,
 "nbformat_minor": 5
}
