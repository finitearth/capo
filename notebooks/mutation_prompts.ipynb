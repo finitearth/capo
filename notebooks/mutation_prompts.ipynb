{
 "cells": [
  {
   "cell_type": "code",
   "execution_count": 178,
   "metadata": {},
   "outputs": [],
   "source": [
    "from promptolution.llms import APILLM\n",
    "from sentence_transformers import SentenceTransformer\n",
    "from sentence_transformers.models import Normalize\n",
    "import numpy as np\n",
    "from seaborn import heatmap"
   ]
  },
  {
   "cell_type": "code",
   "execution_count": 179,
   "metadata": {},
   "outputs": [],
   "source": [
    "token = open(\"../deepinfratoken.txt\", \"r\").read()\n",
    "meta_llm = APILLM(\"meta-llama/Meta-Llama-3-8B-Instruct\", token)"
   ]
  },
  {
   "cell_type": "code",
   "execution_count": 180,
   "metadata": {},
   "outputs": [
    {
     "name": "stderr",
     "output_type": "stream",
     "text": [
      "Some weights of the model checkpoint at NovaSearch/stella_en_400M_v5 were not used when initializing NewModel: ['new.pooler.dense.bias', 'new.pooler.dense.weight']\n",
      "- This IS expected if you are initializing NewModel from the checkpoint of a model trained on another task or with another architecture (e.g. initializing a BertForSequenceClassification model from a BertForPreTraining model).\n",
      "- This IS NOT expected if you are initializing NewModel from the checkpoint of a model that you expect to be exactly identical (initializing a BertForSequenceClassification model from a BertForSequenceClassification model).\n"
     ]
    }
   ],
   "source": [
    "similarity_model = SentenceTransformer(\n",
    "    \"NovaSearch/stella_en_400M_v5\", trust_remote_code=True, device=\"cuda\"\n",
    ")"
   ]
  },
  {
   "cell_type": "code",
   "execution_count": 181,
   "metadata": {},
   "outputs": [],
   "source": [
    "similarity_model = similarity_model.append(Normalize())"
   ]
  },
  {
   "cell_type": "code",
   "execution_count": 182,
   "metadata": {},
   "outputs": [],
   "source": [
    "def eval_similarities(embs_a, embs_b, similarity_model) -> np.array:\n",
    "    similarities = np.dot(embs_a, embs_b.T)\n",
    "    # similarities = np.triu(similarities, 1)\n",
    "\n",
    "    return similarities"
   ]
  },
  {
   "cell_type": "markdown",
   "metadata": {},
   "source": [
    "# Sample Prompts"
   ]
  },
  {
   "cell_type": "code",
   "execution_count": 215,
   "metadata": {},
   "outputs": [],
   "source": [
    "base_prompts = [\n",
    "    \"Your task is to identify the primary topic of the news artical and choose from World, Sports, Business and Tech.\",\n",
    "    \"Your job is to determine whether a news article belongs to the World, Sports, Business, or Tech category based on its primary theme.\",\n",
    "    \"You will be given a news article and asked to classify it as World, Sports, Business and Tech, depending on its main topic.\",\n",
    "    \"Your responsibility is to assign a news article to one of four categories: World, Sports, Business, or Tech, based on its main idea.\",\n",
    "    \"Categorize the news article into one of four categories: World, Sports, Business, or Tech, based on its content.\",\n",
    "]"
   ]
  },
  {
   "cell_type": "markdown",
   "metadata": {},
   "source": [
    "# EvoPromptDE Mutation Prompt"
   ]
  },
  {
   "cell_type": "markdown",
   "metadata": {},
   "source": [
    "=> would not allow us to seperate mutation from cross over"
   ]
  },
  {
   "cell_type": "code",
   "execution_count": 184,
   "metadata": {},
   "outputs": [],
   "source": [
    "meta_prompt = \"\"\"Please follow the instruction step-by-step to generate a better prompt.\n",
    "Identifying the different parts between Prompt 1 and Prompt 2:\n",
    "Prompt 1: Your task is to classify the comment as one of the following categories: terrible, bad, okay, good, great.\n",
    "Prompt 2: In this task, you are given sentences from movie reviews. The task is to classify a sentence as one of the following categories: terrible, bad, okay, good, great.\n",
    "Different parts:\n",
    "\"Your task is to classify the comment\" vs \"In this task, you are given sentences from movie reviews. The task is to classify a sentence\"\n",
    "\"comment\" vs \"sentences from movie reviews\"\n",
    "\n",
    "2. Randomly mutate the different parts:\n",
    "\"Your task is to classify the comment\" -> \"The objective is to categorize the statement\"\n",
    "\"comment\" -> \"phrases in movie reviews\"\n",
    "\n",
    "3. Crossover the different parts with the following Prompt 3 and generate a final prompt bracketed with <prompt> and </prompt>:\n",
    "Prompt 3: You are a sentiment classifier. To do this, you must first understand the meaning of the sentence and any relevant context. And then you should classify it as one of the following categories: terrible, bad, okay, good, great.\n",
    "\n",
    "Final Prompt: <prompt>As a sentiment classifier, analyze phrases in movie reviews and categorize them into one of the following categories: terrible, bad, okay, good, great, while considering the meaning and relevant context.</prompt>\n",
    "\n",
    "Please follow the instruction step-by-step to generate a better prompt.\n",
    "1. Identify the different parts between the Prompt 1 and Prompt 2:\n",
    "Prompt 1: <prompt1>\n",
    "Prompt 2: <prompt2>\n",
    "2. Randomly mutate the different parts\n",
    "3. Crossover the different parts with the following Prompt 3 and generate a final prompt bracketed with <prompt> and </prompt>:\n",
    "Prompt 3: <prompt0>\n",
    "\n",
    "1.\"\"\""
   ]
  },
  {
   "cell_type": "code",
   "execution_count": 185,
   "metadata": {},
   "outputs": [],
   "source": [
    "new_prompts = []\n",
    "for prompt_0 in base_prompts:\n",
    "    for prompt_1 in base_prompts:\n",
    "        for prompt_2 in base_prompts:\n",
    "            mp = (\n",
    "                meta_prompt.replace(\"<prompt1>\", prompt_1)\n",
    "                .replace(\"<prompt2>\", prompt_2)\n",
    "                .replace(\"<prompt0>\", prompt_0)\n",
    "            )\n",
    "            new_prompt = meta_llm.get_response([mp])[0]\n",
    "            new_prompt = new_prompt.split(\"<prompt>\")[-1].split(\"</prompt>\")[0]\n",
    "            new_prompts.append(new_prompt)"
   ]
  },
  {
   "cell_type": "code",
   "execution_count": 186,
   "metadata": {},
   "outputs": [
    {
     "name": "stdout",
     "output_type": "stream",
     "text": [
      "[\"Let's follow the instructions step-by-step to generate a better prompt.\\n\\n1. Identify the different parts between Prompt 1 and Prompt 2:\\n\\nPrompt 1: Please perform Question Classification task. Given the question, assign a label from ['Description', 'Entity', 'Expression', 'Human', 'Location', 'Number']. Return label only without any other text\\n\\nPrompt 2: Please perform Question Classification task. Given the question, assign a label from ['Description', 'Entity', 'Expression', 'Human', 'Location', 'Number']. Return label only without any other text\\n\\nDifferent parts:\\n\\n* None (both prompts are identical)\\n\\nSince the prompts are identical, there is no need to mutate or crossover parts. Therefore, we can proceed to the next step.\\n\\n(Note: If you'd like to introduce minor variations, you can try replacing small phrases or words, but since the prompts are identical, it's not necessary in this case.)\", ' and ', 'Let\\'s follow the instructions step-by-step to generate a better prompt.\\n\\n1. Identify the different parts between Prompt 1 and Prompt 2:\\n\\n* \"Please perform Question Classification task\" is present in both prompts, so this part is the same.\\n* The second part of Prompt 1 is \"Given the question, assign a label from [\\'Description\\', \\'Entity\\', \\'Expression\\', \\'Human\\', \\'Location\\', \\'Number\\']. Return label only without any other text\", whereas Prompt 2 is \"Your task is to choose a type of the question, from Description, Entity, Expression, Human, Location and Number.\"\\n* The key differences are the wording and the specific instructions. Prompt 1 is more detailed and specifies what the output should be, while Prompt 2 is more concise and general.\\n\\n2. Randomly mutate the different parts:\\n\\n* \"Please perform Question Classification task\" remains the same.\\n* \"Given the question, assign a label from [\\'Description\\', \\'Entity\\', \\'Expression\\', \\'Human\\', \\'Location\\', \\'Number\\']. Return label only without any other text\" becomes \"Classify the question based on the provided labels [\\'Description\\', \\'Entity\\', \\'Expression\\', \\'Human\\', \\'Location\\', \\'Number\\']\".\\n* \"Your task is to choose a type', 'Let\\'s follow the instructions step-by-step to generate a better prompt.\\n\\n1. Identify the different parts between Prompt 1 and Prompt 2:\\n\\nDifferent parts:\\n\"Please perform Question Classification task\" is present in both prompts, so it\\'s not a different part.\\n\"Given the question, assign a label\" vs \"Analyze an English question and identify which category\"\\n\"\\'Description\\', \\'Entity\\', \\'Expression\\', \\'Human\\', \\'Location\\', \\'Number\\'\" is present in both prompts, so it\\'s not a different part.\\n\"Return label only without any other text\" is present in both prompts, so it\\'s not a different part.\\n\"belong\" is present in Prompt 2, but not in Prompt 1.\\n\\nSo, the different parts are:\\n\\n* \"analyze\" vs \"assign a label\"\\n* \"belong\" vs no similar phrase in Prompt 1\\n\\n2. Randomly mutate the different parts:\\n\\n\"analyze\" -> \"classify\"\\n\"assign a label\" -> \"determine the category\"\\n\"belong\" -> (no similar phrase, so skip this one)\\n\\nMutated parts:\\n\\n* \"analyze\" -> \"classify\"\\n* No change in the remaining parts\\n\\n3. Crossover the different parts with Prompt 3 and generate a final', 'Classify the provided query based on the following options: labels: Description, Entity, Expression, Human, Location, Number. Please perform this task.', \"Let's follow the instructions step-by-step to generate a better prompt.\\n\\n1. Identify the different parts between Prompt 1 and Prompt 2:\\n\\nPrompt 1: Determine the type of the given question and choose from Description, Entity, Expression, Human, Location and Number.\\nPrompt 2: Determine the type of the given question and choose from Description, Entity, Expression, Human, Location and Number.\\n\\nThere seems to be no differences between Prompt 1 and Prompt 2, so we can't identify any specific parts to mutate.\\n\\nLet's move to the next step.\\n\\n(To be continued in the next response)\", ' and ', ' and ', \"Task is to categorize the query based on the provided categories of questions ['Description', 'Entity', 'Expression', 'Human', 'Location', 'Number']. Return the corresponding label.\", \"Classify the query as a given question based on labels ['Description', 'Entity', 'Expression', 'Human', 'Location', '\", \"Please classify a question into one of the following categories: ['Description', 'Entity', 'Expression', 'Human', 'Location', 'Number'], performing a Question Classification task.\", ' and ', ' and ', 'Investigate a mathematical inquiry, classifying', ' and ', ' and ', ' and ', 'Classify the question', 'Let\\'s follow the instructions step-by-step to generate a better prompt.\\n\\n1. Identify the different parts between the Prompt 1 and Prompt 2:\\n\\nPrompt 1: \"Please perform Question Classification task. Given the question, assign a label from [\\'Description\\', \\'Entity\\', \\'Expression\\', \\'Human\\', \\'Location\\', \\'Number\\']. Return label only without any other text\"\\n\\nPrompt 2: \"Your task is to choose a type of the question, from Description, Entity, Expression, Human, Location and Number.\"\\n\\nDifferent parts:\\n\"Perform Question Classification task\" vs \"Your task is to choose a type\"\\n\"Given the question, assign a label\" vs \"choose a type of the question\"\\n\"Return label only without any other text\" vs nothing (no similar phrase in Prompt 2)\\n\\n2. Randomly mutate the different parts:\\n\\n\"Perform Question Classification task\" -> \"Classify the query\"\\n\"Given the question, assign a label\" -> \"Identify the type of inquiry\"\\n\"Return label only without any other text\" -> \"Output the corresponding category\"\\n\\nMutated parts:\\n\\n* \"Perform Question Classification task\" becomes \"Classify the query\"\\n* \"Given the question, assign a label\" becomes \"Identify the type of inquiry\"\\n* \"', 'Classify an English text and choose from Description, Entity, Expression, Human, Location, and Number as', 'Let\\'s follow the instruction step-by-step to generate a better prompt.\\n\\n1. Identify the different parts between Prompt 1 and Prompt 2:\\n\\nPrompt 1: Determine the type of the given question and choose from Description, Entity, Expression, Human, Location and Number.\\nPrompt 2: Please perform Question Classification task. Given the question, assign a label from [\\'Description\\', \\'Entity\\', \\'Expression\\', \\'Human\\', \\'Location\\', \\'Number\\']. Return label only without any other text\\n\\nDifferent parts:\\n\\n* \"Determine the type of the given question\" vs \"Please perform Question Classification task\"\\n* \"choose from Description, Entity, Expression, Human, Location and Number\" vs \"assign a label from [\\'Description\\', \\'Entity\\', \\'Expression\\', \\'Human\\', \\'Location\\', \\'Number\\']\"\\n\\n2. Randomly mutate the different parts:\\n\\n* \"Determine the type of the given question\" -> \"Classify the input as a type\"\\n* \"choose from\" -> \"select one of\"\\n* [\"Description\\', \\'Entity\\', \\'Expression\\', \\'Human\\', \\'Location\\', \\'Number\\']\" -> \"six possible labels\"\\n\\nMutated parts:\\n\\n* \"Classify the input as a type\"\\n* \"select one of six possible labels\"\\n\\nLet\\'s keep the', 'Identify the topic of a question and categorize it into one of the following types: Description, Entity, Expression, Human, Location, or Number.', 'Classify the question into', ' Review the linguistic structure of the query', 'I\\'d be happy to help!\\n\\n1. Identify the different parts between the Prompt 1 and Prompt 2:\\n\\nPrompt 1: \"Your task is to choose a type of the question, from Description, Entity, Expression, Human, Location and Number.\"\\nPrompt 2: \"Please perform Question Classification task. Given the question, assign a label from [\\'Description\\', \\'Entity\\', \\'Expression\\', \\'Human\\', \\'Location\\', \\'Number\\']. Return label only without any other text\"\\n\\nDifferent parts:\\n\\n* \"Your task is to choose a type of the question\" vs \"Please perform Question Classification task\"\\n* \"from Description, Entity, Expression, Human, Location and Number\" vs \"assign a label from [\\'Description\\', \\'Entity\\', \\'Expression\\', \\'Human\\', \\'Location\\', \\'Number\\']\"\\n* \"Description, Entity, Expression, Human, Location and Number\" vs simply the list of options\\n\\n2. Randomly mutate the different parts:\\n\\n* \"Your task is to choose a type of the question\" -> \"Determine the classification of the question\"\\n* \"from Description, Entity, Expression, Human, Location and Number\" -> \"by selecting one of the following options: Description, Entity, Expression, Human, Location, Number\"\\n* \"Description, Entity', 'Let\\'s follow the instructions step-by-step to generate a better prompt.\\n\\n1. Identify the different parts between the Prompt 1 and Prompt 2:\\n\\nPrompt 1: \"Your task is to choose a type of the question, from Description, Entity, Expression, Human, Location and Number.\"\\nPrompt 2: \"Determine the type of the given question and choose from Description, Entity, Expression, Human, Location and Number.\"\\n\\nDifferent parts:\\n\\n* \"Your task is to choose a type of the question\" vs \"Determine the type of the given question\"\\n* \"from Description, Entity, Expression, Human, Location and Number\" vs \"choose from Description, Entity, Expression, Human, Location and Number\"\\n\\nLet me know when to proceed to the next step!', 'Determine the type of the given question and classify it as one of the following categories: Description, Entity, Expression, Human, Location and Number.', 'Let\\'s follow the instruction step-by-step to generate a better prompt.\\n\\n1. Identify the different parts between the Prompt 1 and Prompt 2:\\nPrompt 1: Your task is to choose a type of the question, from Description, Entity, Expression, Human, Location and Number.\\nPrompt 2: Analyze an English question and identify which category it belongs to: Description, Entity, Expression, Human, Location, or Number.\\n\\nDifferent parts:\\n\"Your task is to choose a type of the question\" vs \"Analyze an English question and identify which category it belongs to\"\\n\"choose a type of the question\" vs \"identify which category it belongs to\"\\n\"from Description, Entity, Expression, Human, Location and Number\" vs \"Description, Entity, Expression, Human, Location, or Number\"\\n\\nLet\\'s move on to the next step.', 'Let\\'s follow the instructions step-by-step to generate a better prompt.\\n\\n1. Identify the different parts between the Prompt 1 and Prompt 2:\\nPrompt 1: Analyze an English question and identify which category it belongs to: Description, Entity, Expression, Human, Location, or Number.\\nPrompt 2: Please perform Question Classification task. Given the question, assign a label from [\\'Description\\', \\'Entity\\', \\'Expression\\', \\'Human\\', \\'Location\\', \\'Number\\']. Return label only without any other text\\n\\nDifferent parts:\\n\"Analyze an English question\" vs \"Please perform Question Classification task\"\\n\"and identify which category it belongs to\" vs \"Given the question, assign a label from\"\\n\"Description, Entity, Expression, Human, Location, or Number\" vs [\\'Description\\', \\'Entity\\', \\'Expression\\', \\'Human\\', \\'Location\\', \\'Number\\']\\n\\n2. Randomly mutate the different parts:\\n\"Analyze an English question\" -> \"Classify the query\"\\n\"and identify which category it belongs to\" -> \"to categorize it into\"\\n\"Description, Entity, Expression, Human, Location, or Number\" -> \"the categories: Description, Entity, Expression, Human, Location, or Number\"\\n\\n3. Crossover the different parts with the', 'Examine the given inquiry and determine the classification in one of the', 'Examine a given query and determine the category it falls under within the categories of Description, Entity, Expression, Human, Location, or Number.', 'Examine an English question and determine its type, categorizing it as one of the following: Description, Entity,', 'Please perform Question Classification task. Given the question, assign a label from [list of labels]. Your task is to choose a type of the question, from Description, Entity, Expression, Human, Location and Number.', 'Here are the steps to identify the different parts between Prompt 1 and Prompt 2:\\n\\n1. Identify the different parts between Prompt 1 and Prompt 2:\\n\\nPrompt 1: Please perform Question Classification task. Given the question, assign a label from [\\'Description\\', \\'Entity\\', \\'Expression\\', \\'Human\\', \\'Location\\', \\'Number\\']. Return label only without any other text\\nPrompt 2: Determine the type of the given question and choose from Description, Entity, Expression, Human, Location and Number.\\n\\nDifferent parts:\\n\"Please perform Question Classification task\" vs \"Determine the type of the given question\"\\n\"Given the question, assign a label from [\\'Description\\', \\'Entity\\', \\'Expression\\', \\'Human\\', \\'Location\\', \\'Number\\']. Return label only without any other text\" vs \"choose from Description, Entity, Expression, Human, Location and Number\"\\n\\n2. Randomly mutate the different parts:\\n\"Please perform Question Classification task\" -> \"Classify the questions according to\"\\n\"Given the question, assign a label from [\\'Description\\', \\'Entity\\', \\'Expression\\', \\'Human\\', \\'Location\\', \\'Number\\']. Return label only without any other text\" -> \"label the text type based on the following options: Description, Entity, Expression, Human, Location', 'Let\\'s follow the instruction step-by-step to generate a better prompt.\\n\\n1. Identify the different parts between Prompt 1 and Prompt 2:\\n\\nPrompt 1: Please perform Question Classification task. Given the question, assign a label from [\\'Description\\', \\'Entity\\', \\'Expression\\', \\'Human\\', \\'Location\\', \\'Number\\']. Return label only without any other text\\nPrompt 2: Your task is to choose a type of the question, from Description, Entity, Expression, Human, Location and Number.\\n\\nDifferent parts:\\n\\n\"Please perform Question Classification task\" vs \"Your task is to choose a type of the question\"\\n\"Given the question, assign a label from [\\'Description\\', \\'Entity\\', \\'Expression\\', \\'Human\\', \\'Location\\', \\'Number\\']. Return label only without any other text\" vs \"Your task is to choose a type of the question, from Description, Entity, Expression, Human, Location and Number\"\\n\\n2. Randomly mutate the different parts:\\n\\n\"Please perform Question Classification task\" -> \"The objective is to categorize questions\"\\n\"Given the question, assign a label from [\\'Description\\', \\'Entity\\', \\'Expression\\', \\'Human\\', \\'Location\\', \\'Number\\']. Return label only without any other text\" -> \"Identify the type of inquiry, selecting', 'Your objective is to classify a query and identify the category', ' and </prompt', 'Your task is to identify the question type, selecting from Description, Entity, Expression, Human, Location, and Number.', ' and ', ' and ', '1. Identify the different parts between Prompt 1 and Prompt 2:\\n\\nPrompt 1: Your task is to choose a type of the question, from Description, Entity, Expression, Human, Location and Number.\\nPrompt 2: Please perform Question Classification task. Given the question, assign a label from [\\'Description\\', \\'Entity\\', \\'Expression\\', \\'Human\\', \\'Location\\', \\'Number\\']. Return label only without any other text\\n\\nDifferent parts:\\n\"This is a task\" vs \"Please perform Question Classification task\"\\n\"choose a type of the question\" vs \"Given the question\"\\n\"from Description, Entity, Expression, Human, Location and Number\" vs \"assign a label from [\\'Description\\', \\'Entity\\', \\'Expression\\', \\'Human\\', \\'Location\\', \\'Number\\']\"\\n\"Return label only without any other text\" vs \"\". (no exact equivalent)\\n\\n2. Randomly mutate the different parts:\\n\\n\"This is a task\" -> \"Your goal is to\"\\n\"choose a type of the question\" -> \"classify the query\"\\n\"from Description, Entity, Expression, Human, Location and Number\" -> \"based on the categories of Description, Entity, Expression, Human, Location, and Number\"\\n\"\" -> \"generate the corresponding label\"\\n\\n3. Crossover the different parts', '', 'Choose a type of question regarding [insert category] from Description, Entity, Expression, Human, Location, and Number.', ' and ', 'Let\\'s follow the instructions step-by-step.\\n\\n1. Identify the different parts between the Prompt 1 and Prompt 2:\\n\\nPrompt 1: Analyze an English question and identify which category it belongs to: Description, Entity, Expression, Human, Location, or Number.\\nPrompt 2: Please perform Question Classification task. Given the question, assign a label from [\\'Description\\', \\'Entity\\', \\'Expression\\', \\'Human\\', \\'Location\\', \\'Number\\']. Return label only without any other text\\n\\nDifferent parts:\\n\\n* \"Analyze an English question\" vs \"Please perform Question Classification task\"\\n* \"identify which category it belongs to\" vs \"assign a label from\"\\n* \"Description, Entity, Expression, Human, Location, or Number\" vs \\'[\\'Description\\', \\'Entity\\', \\'Expression\\', \\'Human\\', \\'Location\\', \\'Number\\']\\'\\n* \"Return label only without any other text\" (note: this is not a distinct part, but rather a constraint)\\n\\n2. Randomly mutate the different parts:\\n\\n* \"Analyze an English question\" -> \"Examine a query\"\\n* \"identify which category it belongs to\" -> \"determine its category\"\\n* \"Description, Entity, Expression, Human, Location, or Number\" -> \"categories: Description, Entity', 'Examine the nature of a', 'Examine the text type and determine the specific category in: Description, Entity, Expression, Human, Location, and Number.', 'Classify a given query into one of the predefined categories: Description, Entity, Expression, Human, Location, or Number.', 'Let\\'s follow the instruction step-by-step to generate a better prompt.\\n\\n1. Identify the different parts between the Prompt 1 and Prompt 2:\\n\\nPrompt 1: Please perform Question Classification task. Given the question, assign a label from [\\'Description\\', \\'Entity\\', \\'Expression\\', \\'Human\\', \\'Location\\', \\'Number\\']. Return label only without any other text\\nPrompt 2: Please perform Question Classification task. Given the question, assign a label from [\\'Description\\', \\'Entity\\', \\'Expression\\', \\'Human\\', \\'Location\\', \\'Number\\']. Return label only without any other text\\n\\nDifferent parts:\\n\\n\"Please perform Question Classification task\" vs \"Please perform Question Classification task\" (no difference)\\n\"Given the question, assign a label from...\" vs \"Given the question, assign a label from...\" (no difference)\\n\"Return label only without any other text\" vs \"Return label only without any other text\" (no difference)\\n\"\\'Description\\', \\'Entity\\', \\'Expression\\', \\'Human\\', \\'Location\\', \\'Number\\'\" vs \"\\'Description\\', \\'Entity\\', \\'Expression\\', \\'Human\\', \\'Location\\', \\'Number\\'\" (no difference)\\n\\n2. Randomly mutate the different parts:\\n\\nNo mutations possible since there are no differences to mutate.\\n\\n3. Crossover the different parts', ' and ', 'Let\\'s follow the instructions step-by-step to generate a better prompt.\\n\\n1. Identify the different parts between the Prompt 1 and Prompt 2:\\n\\nPrompt 1: Please perform Question Classification task. Given the question, assign a label from [\\'Description\\', \\'Entity\\', \\'Expression\\', \\'Human\\', \\'Location\\', \\'Number\\']. Return label only without any other text\\nPrompt 2: Your task is to choose a type of the question, from Description, Entity, Expression, Human, Location and Number.\\n\\nDifferent parts:\\n\\n\"Please perform Question Classification task\" vs \"Your task is to\"\\n\"Given the question, assign a label from [...]\" vs \"Your task is to choose a type of the question\"\\n\", Return label only without any other text\" vs (no corresponding part in Prompt 2)\\n\"\\'Description\\', \\'Entity\\', \\'Expression\\', \\'Human\\', \\'Location\\', \\'Number\\'\" vs \"Description, Entity, Expression, Human, Location and Number\"\\n\\n2. Randomly mutate the different parts:\\n\\n\"Please perform Question Classification task\" -> \"Classify the inquiry\"\\n\"Given the question, assign a label from [...]\" -> \"Identify the category for each query\"\\n\", Return label only without any other text\" -> empty string (no change)\\n\"\\'Description', 'Let\\'s follow the instructions step-by-step to generate a better prompt.\\n\\n1. Identify the different parts between Prompt 1 and Prompt 2:\\n\\nPrompt 1: Please perform Question Classification task. Given the question, assign a label from [\\'Description\\', \\'Entity\\', \\'Expression\\', \\'Human\\', \\'Location\\', \\'Number\\']. Return label only without any other text\\nPrompt 2: Analyze an English question and identify which category it belongs to: Description, Entity, Expression, Human, Location, or Number.\\n\\nDifferent parts:\\n\"Please perform Question Classification task\" vs \"Analyze an English question\"\\n\"Given the question, assign a label\" vs \"identify which category it belongs to\"\\n\"\\'Description\\', \\'Entity\\', \\'Expression\\', \\'Human\\', \\'Location\\', \\'Number\\'.\" vs \"Description, Entity, Expression, Human, Location, or Number\"\\n\\n2. Randomly mutate the different parts:\\n\\n\"Please perform Question Classification task\" -> \"Classify English questions\"\\n\"Given the question, assign a label\" -> \"Determine the category of each question\"\\n\"\\'Description\\', \\'Entity\\', \\'Expression\\', \\'Human\\', \\'Location\\', \\'Number\\'.\" -> \"\\'Category\\', \\'Category\\', \\'Category\\', \\'Category\\', \\'Category\\', \\'Category\\'.\"\\n\\n3.', 'Let\\'s follow the instructions step-by-step to generate a better prompt.\\n\\n1. Identify the different parts between Prompt 1 and Prompt 2:\\n\\nPrompt 1: \"Determine the type of the given question and choose from Description, Entity, Expression, Human, Location and Number.\"\\nPrompt 2: \"Please perform Question Classification task. Given the question, assign a label from [\\'Description\\', \\'Entity\\', \\'Expression\\', \\'Human\\', \\'Location\\', \\'Number\\']. Return label only without any other text\"\\n\\nDifferent parts:\\n\\n* \"Determine the type of the given question\" vs \"Please perform Question Classification task\"\\n* \"choose from\" vs \"assign a label from\"\\n* \"Description, Entity, Expression, Human, Location and Number\" vs [\\'Description\\', \\'Entity\\', \\'Expression\\', \\'Human\\', \\'Location\\', \\'Number\\']\\n\\n2. Randomly mutate the different parts:\\n\\n* \"Determine the type of the given question\" -> \"Categorize the provided inquiry\"\\n* \"choose from\" -> \"select among\"\\n* \"Description, Entity, Expression, Human, Location and Number\" -> \"the categories of Description, Entity, Expression, Human, Location, Number\"\\n* [\\'Description\\', \\'Entity\\', \\'Expression\\', \\'Human\\', \\'Location\\', \\'', 'Analyze the given English question and identify which option it belongs to: Description, Entity, Expression, Human, Location, or Number.', 'Identify the category that an English question', 'Identify the nature of the inquiry and select among Description, Entity, Expression, Human, Location, or Number to determine the classification of an English question.', 'Let\\'s follow the instructions step-by-step to generate a better prompt.\\n\\n1. Identify the different parts between Prompt 1 and Prompt 2:\\nPrompt 1: \"Your task is to choose a type of the question\" vs \"Please perform Question Classification task\"\\nPrompt 2: \"choose a type of the question\" -> \"Entity question type\"\\n\"Description, Entity, Expression, Human, Location and Number\" -> [\\'Description\\', \\'Entity\\', \\'Expression\\', \\'Human\\', \\'Location\\', \\'Number\\']\\n\\nDifferent parts:\\n\"Your task is to\" vs \"Please perform\"\\n\"choose a type of the question\" vs \"Entity question type\"\\n\"Description, Entity, Expression, Human, Location and Number\" vs [\\'Description\\', \\'Entity\\', \\'Expression\\', \\'Human\\', \\'Location\\', \\'Number\\']\\n\\n2. Randomly mutate the different parts:\\n\"Your task is to\" -> \"The objective is to\"\\n\"choose a type of the question\" -> \"identify the category\"\\n\"Description, Entity, Expression, Human, Location and Number\" -> [\\'Types\\', \\'Categories\\']\\n\\nMutated parts:\\n\"The objective is to identify the category [Types, Categories]\"\\n\\n3. Crossover the different parts with the following Prompt 3 and generate a final prompt bracketed', 'The goal is to identify the category of a query and select among Description, Entity,', 'Analyze an English phrase and select a category from Description, Entity, Expression, Human, Location, or Number.', ' and ', 'Let\\'s follow the instructions step-by-step to generate a better prompt.\\n\\n1. Identify the different parts between the Prompt 1 and Prompt 2:\\nPrompt 1: Analyze an English question and identify which category it belongs to: Description, Entity, Expression, Human, Location, or Number.\\nPrompt 2: Please perform Question Classification task. Given the question, assign a label from [\\'Description\\', \\'Entity\\', \\'Expression\\', \\'Human\\', \\'Location\\', \\'Number\\']. Return label only without any other text\\n\\nDifferent parts:\\n\"Analyze an English question and identify which category it belongs to\" vs \"Please perform Question Classification task. Given the question, assign a label from\"\\n\"\\'Description, Entity, Expression, Human, Location, or Number\\'\" vs \"[\\'Description\\', \\'Entity\\', \\'Expression\\', \\'Human\\', \\'Location\\', \\'Number\\']\"\\n\\n2. Randomly mutate the different parts:\\n\"Analyze an English question and identify which category it belongs to\" -> \"Examine the question and determine its category\"\\n\"Please perform Question Classification task\" -> \"Classify the question into a category\"\\n\"\\'Description, Entity, Expression, Human, Location, or Number\\'\" -> \"categories: Description, Entity, Expression, Human, Location, or Number\"\\n\"', ' and ', 'Let\\'s follow the instruction step-by-step to generate a better prompt.\\n\\n1. Identify the different parts between Prompt 1 and Prompt 2:\\n\\nPrompt 1: Analyze an English question and identify which category it belongs to: Description, Entity, Expression, Human, Location, or Number.\\nPrompt 2: Your task is to choose a type of the question, from Description, Entity, Expression, Human, Location and Number.\\n\\nDifferent parts:\\n\\n\"Analyze an English question and identify which category it belongs to\" vs \"Your task is to choose a type of the question\"\\n\">Description, Entity, Expression, Human, Location, or Number\" vs \"Description, Entity, Expression, Human, Location and Number\"\\n\\n2. Randomly mutate the different parts:\\n\\n\"Analyze an English question and identify which category it belongs to\" -> \"Examine the English query and determine its classification\"\\n\"Description, Entity, Expression, Human, Location, or Number\" -> \"Description, entity, expression, human, location, and number types\"\\n\"Your task is to choose a type of the question\" -> \"The objective is to determine the query type\"\\n\"Description, Entity, Expression, Human, Location, and Number\" -> \"Description, entity, expression, human', \"Let's follow the instructions step-by-step to generate a better prompt.\\n\\n1. Identify the different parts between Prompt 1 and Prompt 2:\\n\\nPrompt 1: Analyze an English question and identify which category it belongs to: Description, Entity, Expression, Human, Location, or Number.\\nPrompt 2: (There is no Prompt 2 provided, so we cannot identify different parts)\\n\\nPlease provide the correct Prompt 2 so we can proceed with the instructions.\"]\n"
     ]
    }
   ],
   "source": [
    "print(new_prompts)"
   ]
  },
  {
   "cell_type": "code",
   "execution_count": 187,
   "metadata": {},
   "outputs": [],
   "source": [
    "embs_old = similarity_model.encode(base_prompts)\n",
    "embs_new = similarity_model.encode(new_prompts)\n",
    "sims_old_new = eval_similarities(embs_old, embs_new, similarity_model)\n",
    "sims_new_new = eval_similarities(embs_new, embs_new, similarity_model)"
   ]
  },
  {
   "cell_type": "code",
   "execution_count": 188,
   "metadata": {},
   "outputs": [
    {
     "name": "stdout",
     "output_type": "stream",
     "text": [
      "0.69002473\n",
      "0.62920034\n",
      "0.19569868\n"
     ]
    }
   ],
   "source": [
    "print(sims_old_new.mean())\n",
    "print(sims_new_new.mean())\n",
    "print(sims_new_new.std())"
   ]
  },
  {
   "cell_type": "markdown",
   "metadata": {},
   "source": [
    "# EvoPrompt GA"
   ]
  },
  {
   "cell_type": "code",
   "execution_count": 216,
   "metadata": {},
   "outputs": [],
   "source": [
    "meta_prompt = \"\"\"Please follow the instruction step-by-step to generate a better prompt.\n",
    "1. Crossover the following prompts and generate a new prompt:\n",
    "Prompt 1: Rewrite the input text into simpler text.\n",
    "Prompt 2: Rewrite my complex sentence in simpler terms, but keep the meaning.\n",
    "2. Mutate the prompt generated in Step 1 and generate a final prompt bracketed with <prompt> and </prompt>.\n",
    "\n",
    "1. Crossover Prompt: Rewrite the complex text into simpler text while keeping its meaning.\n",
    "2. <prompt>Transform the provided text into simpler language, maintaining its essence.</prompt>\n",
    "\n",
    "Please follow the instruction step-by-step to generate a better prompt.\n",
    "1. Crossover the following prompts and generate a new prompt:\n",
    "Prompt 1: <prompt1>\n",
    "Prompt 2: <prompt2>\n",
    "2. Mutate the prompt generated in Step 1 and generate a final prompt bracketed with <prompt> and </prompt>.\n",
    "\n",
    "1.\"\"\""
   ]
  },
  {
   "cell_type": "code",
   "execution_count": 217,
   "metadata": {},
   "outputs": [],
   "source": [
    "new_prompts = []\n",
    "\n",
    "for _ in range(2):\n",
    "    for prompt_1 in base_prompts:\n",
    "        for prompt_2 in base_prompts:\n",
    "            mp = meta_prompt.replace(\"<prompt1>\", prompt_1).replace(\"<prompt2>\", prompt_2)\n",
    "            new_prompt = meta_llm.get_response([mp])[0]\n",
    "            new_prompt = new_prompt.split(\"<prompt>\")[-1].split(\"</prompt>\")[0]\n",
    "            new_prompts.append(new_prompt)"
   ]
  },
  {
   "cell_type": "code",
   "execution_count": 218,
   "metadata": {},
   "outputs": [],
   "source": [
    "embs_old = similarity_model.encode(base_prompts)\n",
    "embs_new = similarity_model.encode(new_prompts)\n",
    "sims_old_new = eval_similarities(embs_old, embs_new, similarity_model)\n",
    "sims_new_new = eval_similarities(embs_new, embs_new, similarity_model)"
   ]
  },
  {
   "cell_type": "code",
   "execution_count": 219,
   "metadata": {},
   "outputs": [
    {
     "name": "stdout",
     "output_type": "stream",
     "text": [
      "[' and ', 'Classify news articles by identifying their primary theme and assigning them to one of four categories: World, Sports, Business, or Tech.', 'Determine the primary topic of a news article and classify it as World, Sports, Business, or Tech by identifying its central theme.', \"Please provide the second prompt, and I'll be happy to help you generate a new prompt by crossing over the two and then mutating the result.\\n\\nPlease go ahead and provide the second prompt.\", 'Determine the main focus of the news article by sorting it into one of the predefined categories – either World, Sports, Business, or Tech – using the content as a guide.', 'Classify news articles by their primary theme, grouping them into World, Sports, Business, or Tech categories.', 'Since the crossover of the two prompts results in identical prompts, I will proceed to mutate the prompt to generate a new one.\\n\\nMutated Prompt:\\n<eventually-categorize-articles>Classify news articles into World, Sports, Business, or Tech categories based on their primary theme, and aim to accurately categorize the majority of articles while refining your judgment over time.', 'Classify a news article into one of four categories (World, Sports, Business, or Tech) by analyzing its primary theme or main topic.', 'Categorize news articles into World, Sports, Business, or Tech based on the dominant theme or central idea.', 'Distinguish and categorize news articles according to their primary theme or content, categorizing them as World, Sports, Business, or Tech.', 'Determine the primary subject of the provided news article and assign it to one of the four categories: World, Sports, Business, or Tech, reflecting its primary emphasis.', ' and ', 'Since the two prompts are identical, I will follow the instructions to cross over and mutate the prompt.\\n\\n1. Crossover:\\nThe two prompts are identical, so I will combine them as is:\\n\\nYou will be given a news article and asked to classify it as World, Sports, Business, and Tech, depending on its main topic.\\n\\n2. Mutate the prompt:\\nI will make some minor changes to the prompt to make it more robust and nuanced:\\n\\n<promptsegments of a news article will be provided, and you should categorize them into one of the following topics: World, Sports, Business, or Tech, depending on the primary subject matter', 'Please provide the necessary prompts for Step 1.', 'Accurately categorize the given news article into one of the four categories - World, Sports, Business, or Tech - based on its primary topic and relevant information.', 'Classify news articles based on their primary topic, using one of the following categories: World, Sports, Business, or Tech.', ' Classify a news article according to its dominant topic, selecting from the categories of World, Sports, Business, or Tech.', \"I'd be happy to help!\\n\\n1. Crossover the prompts:\\n\\nPrompt 1: Your responsibility is to assign a news article to one of four categories: World, Sports, Business, or Tech, based on its main idea.\\nPrompt 2: You will be given a news article and asked to classify it as World, Sports, Business and Tech, depending on its main topic.\\n\\nCombined prompt: Assign a news article to one of four categories - World, Sports, Business, or Tech - based on its main topic or idea.\\n\\n2. Mutate the generated prompt:\\n\\n[prompt]Classify the given news article into one of the four categories - World, Sports, Business, or Tech - by identifying its primary focus[/prompt]\\n\\nPlease let me know if the resulting prompt meets your requirements!\", 'Classify a news article into one of four categories (World, Sports, Business, or Tech) and summarize its key points in 50 words or less.', 'Accurately categorize a given news article into one of four categories (World, Sports, Business, or Tech) by analyzing both its main idea and content.', 'Identify the primary topic of the news text and categorize it under World, Sports, Business, or Tech.', 'Classify the provided news article into World, Sports, Business, or Tech categories based on its core theme and content.', ' Identify and categorize news articles into World, Sports, Business, or Tech based on their main subject matter. ', 'Classify a news article into one of four main categories (World, Sports, Business, or Tech) by identifying its core theme and assigning it accordingly.', 'Classify the news article into one of four categories: World, Sports, Business, or Tech, using its content as a guide.', '` and `', ' Distinguish the main topic of a news article and classify it as either World, Sports, Business, or Tech-related by examining its primary theme. ', ' and ', 'Classify a news article according to its primary topic, assigning it to one of four categories: World, Sports, Business, or Tech.', ' Determine the main topic of a news article and categorize it as either World, Sports, Business, or Tech.', 'Classify a news article into one of the following categories (World, Sports, Business, or Tech) based on its dominant topic.', 'Determine and categorize news articles into either World, Sports, Business, or Tech based on their primary theme', 'Classify the news article into the most relevant category (World, Sports, Business, or Tech) based on its primary topic.', 'Classify a news article into the most relevant category (World, Sports, Business, or Tech) based on its underlying theme or central idea.', 'Identify the most relevant category for a given news article by analyzing its dominant theme or content, from among World, Sports, Business, or Tech.', 'Determine the main subject of the news article by selecting one of four categories: World, Sports, Business, or Tech.', 'Categorize a given news article into World, Sports, Business, or Tech sections based on its primary theme, ensuring accurate classification.', 'Categorize the provided news article into one of the following categories: World, Sports, Business, or Tech, based on its primary topic.', 'Accurately categorize the provided news article into one of the four core topics - World, Sports, Business, or Tech - by identifying its primary theme.', \"Let's follow the instructions step-by-step:\\n\\n1. Crossover the prompts:\\n\\nPrompt 1: You will be given a news article and asked to classify it as World, Sports, Business and Tech, depending on its main topic.\\nPrompt 2: Categorize the news article into one of four categories: World, Sports, Business, or Tech, based on its content.\\n\\nCombined prompt: Classify the news article into one of four categories (World, Sports, Business, or Tech) by identifying its main topic.\\n\\n2. Mutate the generated prompt:\\n\\n[colorized text].\", 'Classify the provided news article into one of four categories (World, Sports, Business, or Tech) by determining its primary topic.', \"Please provide the prompts you'd like me to crossover and mutate. I'll be happy to generate a better prompt for you. \\n\\nPlease go ahead and provide the two prompts.\", 'Categorize a news article by assigning it to one of four realms: World, Sports, Business, or Technology, according to its primary subject.', 'Categorize a given article into one of four predefined categories (World, Sports, Business, or Tech) by identifying its central theme and assigning the most relevant category.', 'I\\'d be happy to help!\\n\\n1. Crossover the prompts:\\nPrompt 1: \"Your responsibility is to assign a news article to one of four categories: World, Sports, Business, or Tech, based on its main idea.\"\\nPrompt 2: \"Categorize the news article into one of four categories: World, Sports, Business, or Tech, based on its content.\"\\n\\nGenerated new prompt:\\n\"Determine the most suitable category (World, Sports, Business, or Tech) for the news article based on its central idea and content.\"\\n\\n2. Mutate the prompt:\\n< prompt > Classify news stories according to their primary focus and content into one of the following categories: World, Sports, Business, or Tech. ', \"Let's follow the instructions.\\n\\n1. Crossover the prompts:\\nPrompt 1: Categorize the news article into one of four categories: World, Sports, Business, or Tech, based on its content.\\nPrompt 2: Your task is to identify the primary topic of the news article and choose from World, Sports, Business, and Tech.\\n\\nGenerated crossover prompt:\\nIdentify the primary topic of the news article and categorize it into one of the following: World, Sports, Business, or Tech.\\n\\n2. Mutate the prompt:\\n<Imply the primary topic and categorize the news article into World, Sports, Business, or Tech, making a discerning judgment based on its content.\", ' and ', \"Assign the given news article to one of the four primary categories (World, Sports, Business, and Tech) based on the article's primary topic.\", 'Classify a news article into World, Sports, Business, or Tech categories based on its content, focusing on the main idea and key points.', 'Categorize news articles into one of four categories (World, Sports, Business, or Tech) based on their content.']\n"
     ]
    }
   ],
   "source": [
    "print(new_prompts)"
   ]
  },
  {
   "cell_type": "code",
   "execution_count": 220,
   "metadata": {},
   "outputs": [
    {
     "name": "stdout",
     "output_type": "stream",
     "text": [
      "0.84156543\n",
      "0.7692937\n",
      "0.23206602\n"
     ]
    }
   ],
   "source": [
    "print(sims_old_new.mean())\n",
    "print(sims_new_new.mean())\n",
    "print(sims_new_new.std())"
   ]
  },
  {
   "cell_type": "markdown",
   "metadata": {},
   "source": [
    "# Prompt Variation template"
   ]
  },
  {
   "cell_type": "code",
   "execution_count": 221,
   "metadata": {},
   "outputs": [],
   "source": [
    "meta_prompt = \"\"\"Generate a single variation of the following instruction while keeping the semantic meaning.\n",
    "Generate the variation starting with <prompt> and ending with </prompt> tags.\n",
    "\n",
    "Input: <prev_prompt>\n",
    "\n",
    "Output:\"\"\""
   ]
  },
  {
   "cell_type": "code",
   "execution_count": 222,
   "metadata": {},
   "outputs": [],
   "source": [
    "new_prompts = []\n",
    "for _ in range(4):\n",
    "    for prompt in base_prompts:\n",
    "        mp = meta_prompt.replace(\"<prev_prompt>\", prompt)\n",
    "        new_prompt = meta_llm.get_response([mp])[0]\n",
    "        new_prompt = new_prompt.split(\"<prompt>\")[-1].split(\"</prompt>\")[0]\n",
    "        new_prompts.append(new_prompt)"
   ]
  },
  {
   "cell_type": "code",
   "execution_count": 223,
   "metadata": {},
   "outputs": [
    {
     "name": "stdout",
     "output_type": "stream",
     "text": [
      "['Categorize the news article under the topic that best represents its primary theme, choosing from World, Sports, Business, and Technology.', 'Classify a news article into one of four categories - World, Sports, Business, or Tech - based on its main topic of discussion.', 'You will be provided with a news article and required to categorize it as World, Sports, Business, or Tech, based on its primary subject matter.', \"You'll categorize news articles into one of four main areas: World News, Sports News, Business Insights, or Tech Updates, depending on the primary topic of the article.\", 'Classify the news article into one of the following categories: Global, Athletics, Finance, or High-Tech, according to its subject matter.', 'Choose the primary topic of the news article from the options World, Sports, Business, or Tech.', \" Classify a news article into one of four categories: World, Sports, Business, or Tech, based on the article's primary theme.\", 'You will be presented with a news article and requested to categorize it as World, Sports, Business, or Tech, based on its primary subject matter.', 'Classify news articles into four distinct categories: Global News, Athletic Updates, Financial Insights, or Tech Trends, according to the primary topic or theme.', 'Categorize the news article according to its content into one of four main categories: Global Affairs, Athletics, Financial Markets, or Digital Innovation.', 'Read the news article and determine its main theme, then select the most applicable category from World, Sports, Business, or Tech.', 'Classify news articles into categories, identifying the primary theme to determine whether an article belongs to World, Sports, Business, or Tech.', 'You will be presented with a news article and required to categorize it as World, Sports, Business, or Tech, based on its primary subject matter.', 'Classify a news article into one of four categories: Global News, Sports News, Financial News, or Technology News, based on its primary theme.', 'Group the news article into one of four predefined categories: Global, Athletics, Commerce, or Computing, based on the topic it discusses.', 'Find the main theme of the news article and select an option: World News, Sports Updates, Corporate Insights, or Technology Trends.', 'Classify a news article as World, Sports, Business, or Tech based on its main topic.', 'You will be presented with a news article and asked to categorize it into one of four main topics: World, Sports, Business, or Technology, based on the primary subject matter.', 'You will be responsible for categorizing news articles into one of four main sections: World, Sports, Business, or Tech, in accordance with the primary topic or theme of the article.', 'Classify the news article according to its subject matter, choosing from: World, Sports, Business, or Technology.']\n"
     ]
    }
   ],
   "source": [
    "print(new_prompts)"
   ]
  },
  {
   "cell_type": "code",
   "execution_count": 224,
   "metadata": {},
   "outputs": [],
   "source": [
    "embs_old = similarity_model.encode(base_prompts)\n",
    "embs_new = similarity_model.encode(new_prompts)\n",
    "sims_old_new = eval_similarities(embs_old, embs_new, similarity_model)\n",
    "sims_new_new = eval_similarities(embs_new, embs_new, similarity_model)"
   ]
  },
  {
   "cell_type": "code",
   "execution_count": 225,
   "metadata": {},
   "outputs": [
    {
     "name": "stdout",
     "output_type": "stream",
     "text": [
      "0.882621\n",
      "0.8461745\n",
      "0.096574746\n"
     ]
    }
   ],
   "source": [
    "print(sims_old_new.mean())\n",
    "print(sims_new_new.mean())\n",
    "print(sims_new_new.std())"
   ]
  },
  {
   "cell_type": "markdown",
   "metadata": {},
   "source": [
    "# Basic really random prompt"
   ]
  },
  {
   "cell_type": "code",
   "execution_count": 226,
   "metadata": {},
   "outputs": [],
   "source": [
    "meta_prompt = \"\"\"\n",
    "Improve the prompt and return the result between <prompt> and </prompt>:\n",
    "\n",
    "<instruction>\n",
    "\"\"\""
   ]
  },
  {
   "cell_type": "code",
   "execution_count": 227,
   "metadata": {},
   "outputs": [],
   "source": [
    "new_prompts = []\n",
    "for _ in range(4):\n",
    "    for prompt in base_prompts:\n",
    "        mp = meta_prompt.replace(\"<instruction>\", prompt)\n",
    "        new_prompt = meta_llm.get_response([mp])[0]\n",
    "        new_prompt = new_prompt.split(\"<prompt>\")[-1].split(\"</prompt>\")[0]\n",
    "        new_prompts.append(new_prompt)"
   ]
  },
  {
   "cell_type": "code",
   "execution_count": 228,
   "metadata": {},
   "outputs": [
    {
     "name": "stdout",
     "output_type": "stream",
     "text": [
      "['Classify the primary topic of the news article into one of the following categories: World, Sports, Business, or Tech.', 'Randomly generate a news article paragraph, then ask me to categorize it into one of four categories: World, Sports, Business, or Tech, based on its primary theme. The article should be realistic and descriptive enough to require some thought to categorize correctly.', '<Prompt>Classify a given news article into one of the following categories: World, Sports, Business, and Tech, based on its main topic. Please read the article and identify the primary subject matter and categorize it accordingly.</Prompt>', 'Classify a news article into one of four categories: World, Sports, Business, or Tech, based on its main idea. Provide a brief summary of the article and justify your categorization.', \"Categorize the provided news article into one of four categories: World, Sports, Business, or Tech, based on its content. Please analyze the article's headlines, keywords, and abstract to determine the most fitting category.\", 'Draw upon your language comprehension skills to analyze the provided news article and categorize it into one of the following topic areas: World, Sports, Business, or Tech. Please identify the primary topic of the article and select the most relevant category from the options provided. Your answer should be one of the following: World, Sports, Business, or Tech.', '\"Classify a given news article into one of four categories: World, Sports, Business, or Tech, based on its primary theme. Please note that the article\\'s title, keywords, and summary will be provided to aid in your determination. Your task is to accurately identify which category the article belongs to.\"', \"<blockquote><strong>Predict a News Category:</strong> Given a news article, categorize it as one of the following: <strong>World, Sports, Business, Tech</strong>, based on its primary topic.</blockquote>\\n\\nLet me know what news article you'd like me to classify!\", 'Assign a news article to one of four categories: World, Sports, Business, or Tech, based on its main idea.', \"Categorize a given news article into one of four categories: World, Sports, Business, or Tech, based on its content. Please provide the news article's text for me to categorize.\", 'Classify the primary topic of the news article as World, Sports, Business, or Tech.', ' Classify a news article into one of the following categories: World, Sports, Business, or Tech, based on its primary theme and content.', 'Classify a given news article into one of the following categories: World, Sports, Business, or Tech, based on its main topic. The article will be provided to you, and you must determine which category it belongs to.', 'Classify a given news article into one of four categories: World, Sports, Business, or Tech, based on its main idea.', \"Categorize a given news article into one of four categories: World, Sports, Business, or Tech, based on its content. Provide the category and a brief explanation of the categorization decision. Consider factors such as the article's subject matter, tone, and keywords when making your determination.\", 'Your task is to analyze the news article and categorize the primary topic into one of the following categories: World, Sports, Business, or Tech.', \"Classify a news article into one of the following categories: World, Sports, Business, or Tech, based on its primary theme. Please select the category that best fits the article's topic.\", ' Classify a given news article into one of the following categories: World, Sports, Business, or Tech, based on its main topic. Provide a detailed analysis justifying your classification. ', 'A news article is provided. Please categorize it as either World, Sports, Business, or Tech based on its main idea.', '<prompt severally categorize the news article into one of the following categories based on its content: World, Sports, Business, or Tech, and specify which category it falls under by indicating \"World:\", \"Sports:\", \"Business:\", or \"Tech:\"']\n"
     ]
    }
   ],
   "source": [
    "print(new_prompts)"
   ]
  },
  {
   "cell_type": "code",
   "execution_count": 229,
   "metadata": {},
   "outputs": [],
   "source": [
    "embs_old = similarity_model.encode(base_prompts)\n",
    "embs_new = similarity_model.encode(new_prompts)\n",
    "sims_old_new = eval_similarities(embs_old, embs_new, similarity_model)\n",
    "sims_new_new = eval_similarities(embs_new, embs_new, similarity_model)"
   ]
  },
  {
   "cell_type": "code",
   "execution_count": 230,
   "metadata": {},
   "outputs": [
    {
     "name": "stdout",
     "output_type": "stream",
     "text": [
      "0.9455951\n",
      "0.94949603\n",
      "0.033495728\n"
     ]
    }
   ],
   "source": [
    "print(sims_old_new.mean())\n",
    "print(sims_new_new.mean())\n",
    "print(sims_new_new.std())"
   ]
  },
  {
   "cell_type": "markdown",
   "metadata": {},
   "source": [
    "# A new idea"
   ]
  },
  {
   "cell_type": "code",
   "execution_count": 231,
   "metadata": {},
   "outputs": [],
   "source": [
    "# prompt taking a single prompt and generating a new one\n",
    "meta_prompt = \"\"\"From the given prompt, generate a new prompt that is similar in meaning. Return the new prompt between <prompt> and </prompt> tags.\n",
    "\n",
    "<instruction>\n",
    "\"\"\""
   ]
  },
  {
   "cell_type": "code",
   "execution_count": 232,
   "metadata": {},
   "outputs": [],
   "source": [
    "new_prompts = []\n",
    "for _ in range(4):\n",
    "    for prompt in base_prompts:\n",
    "        mp = meta_prompt.replace(\"<instruction>\", prompt)\n",
    "        new_prompt = meta_llm.get_response([mp])[0]\n",
    "        new_prompt = new_prompt.split(\"<prompt>\")[-1].split(\"</prompt>\")[0]\n",
    "        new_prompts.append(new_prompt)"
   ]
  },
  {
   "cell_type": "code",
   "execution_count": 233,
   "metadata": {},
   "outputs": [
    {
     "name": "stdout",
     "output_type": "stream",
     "text": [
      "[' gibberish\\n\\n<Prompt>The task is to determine the core subject of the news report and categorize it as Entertainment, Politics, Health, or Culture.</Prompt>', 'Automatically categorize a given news article into one of four categories (World, Sports, Business, or Tech) based on its main subject matter.', 'Classify a given news article into one of the following categories: General, Politics, Entertainment, or Science, based on its primary subject matter.', 'Classify a news headline into one of four categories: Global News, Athletic Events, Financial Updates, or Digital Developments, based on its primary focus.', 'Classify the news headline into one of four categories: Global News, Sports Update, Financial Report, or Technological Breakthrough, based on its theme.', 'Classify the main theme of the article as World, Sports, Business, or Technology.', \"Classify a news article into one of the following categories: News, Entertainment, Politics, or Sciences, based on the article's primary subject matter.\", 'Classify a given news article into categories such as Politics, Entertainment, Science, and Culture, based on its primary subject matter', 'Classify a news headline into one of four categories: Global, Athletics, Finance, or Digital, based on its primary topic.', 'Classify the news story into one of the following categories: Global, Athletics, Finance, or Innovation, depending on its topic.', 'Read a current event article and categorize its main theme under Politics, Entertainment, Economy, or Science.', 'Classify a given news article into one of four categories: Global Affairs, Entertainment, Economics, or Innovation based on its main topic.', 'Categorize a given news article into one of four categories: Politics, Entertainment, Economy, and Science/Technology, based on its primary subject matter.', 'Identify the primary theme of a news story and categorize it under one of four headings: Global, Athletics, Financial, or Digital.', 'Classify the news article into one of four categories: International, Athletics, Finance, or Computing/Science, based on its subject matter.', 'Can you determine the main subject of the newspaper article and categorize it into options like Politics, Entertainment, Finance, or Health?', 'Classify a news article as belonging to the categories: Global Affairs, Athletics, Financial, or Innovation based on its primary content.', 'Classify a provided news article into one of the following categories: Politics, Entertainment, Economy, or Science and Technology, based on its primary topic.', 'Assign a fictional news headline to one of four categories: Politics, Entertainment, Health, or Education, based on its main theme.', 'Classify the news story into one of four categories: International, Athletics, Economy, or Innovation, based on its subject matter.']\n"
     ]
    }
   ],
   "source": [
    "print(new_prompts)"
   ]
  },
  {
   "cell_type": "code",
   "execution_count": 234,
   "metadata": {},
   "outputs": [],
   "source": [
    "embs_old = similarity_model.encode(base_prompts)\n",
    "embs_new = similarity_model.encode(new_prompts)\n",
    "sims_old_new = eval_similarities(embs_old, embs_new, similarity_model)\n",
    "sims_new_new = eval_similarities(embs_new, embs_new, similarity_model)"
   ]
  },
  {
   "cell_type": "code",
   "execution_count": 235,
   "metadata": {},
   "outputs": [
    {
     "name": "stdout",
     "output_type": "stream",
     "text": [
      "0.79380965\n",
      "0.8067877\n",
      "0.092519104\n"
     ]
    }
   ],
   "source": [
    "print(sims_old_new.mean())\n",
    "print(sims_new_new.mean())\n",
    "print(sims_new_new.std())"
   ]
  },
  {
   "cell_type": "markdown",
   "metadata": {},
   "source": [
    "# Human Gradient Descent"
   ]
  },
  {
   "cell_type": "code",
   "execution_count": 236,
   "metadata": {},
   "outputs": [],
   "source": [
    "meta_prompt = \"\"\"Please do the following for this task: The dataset contains news articles categorized into four classes: World, Sports, Business, and Tech. The task is to classify each news article into one of the four categories. The class mentioned first in the response of the LLM will be the prediction.\n",
    "Rephrase the following instruction while preserving its core meaning, while substantially differing in linguistcal style.\n",
    "Return the new prompt between <prompt> and </prompt> tags.\n",
    "\n",
    "<instruction>\n",
    "\"\"\""
   ]
  },
  {
   "cell_type": "code",
   "execution_count": 237,
   "metadata": {},
   "outputs": [],
   "source": [
    "new_prompts = []\n",
    "for _ in range(4):\n",
    "    for prompt in base_prompts:\n",
    "        mp = meta_prompt.replace(\"<instruction>\", prompt)\n",
    "        out = meta_llm.get_response([mp])[0]\n",
    "        new_prompt = out.split(\"<prompt>\")[-1].split(\"</prompt>\")[0]\n",
    "        new_prompts.append(new_prompt)"
   ]
  },
  {
   "cell_type": "code",
   "execution_count": 238,
   "metadata": {},
   "outputs": [
    {
     "name": "stdout",
     "output_type": "stream",
     "text": [
      "[\"\\nDelve into the essence of each news article and pinpoint its dominant theme. This involves identifying the core subject matter and assigning it to one of four categories: World, Sports, Business, or Tech. The primary classification will be based on the subject mentioned first in the LLM's output.\", '\\nClassify each news article by assigning one of the four fundamental categorizations: World, Sports, Business, or Tech, relying on the dominant topic or theme presented in the article. The categorization you propose will be the one that initially comes to mind for the LLM.', 'Prepare to categorize a news item into one of four designated realms: Worldly affairs, Sporting highlights, Business updates, or Tech tidbits. Upon receiving the article, pls identify the primary focus and assign the most fitting category based on that.', \"Classify the given news article into one of four broad categories: 'Global News', 'Athletes' Activations', 'Market Movement', or 'Technological Trends', choosing the one that most accurately reflects its core subject matter.\", 'Render a categorization verdict for each news article, designating it to fall within one of the following four distinct domains: global current events (World), athletic competitions and prowess (Sports), economic and financial happenings (Business), or technological advancements and innovations (Tech).', ' Unravel the essence of each news article and pinpoint its core topic, selecting one of the four pervasive categories, namely World, Sports, Business, and Tech, in a concise and singular classification.', \"Unravel the underlying essence of a news article and pinpoint its fundamental identity by assigning it to one of four distinct domains: World, Sports, Business, or Tech, the category most aptly capturing the article's core essence.\", \"Classify the provided news article into one of four categories: World, Sports, Business, and Tech, with your primary designation being the category that initially comes to mind upon reading the article's content.\", 'Datastream incoming! Ready to plunk each news article into one of four distinct buckets: World, Sports, Business, or Tech. Assign the main idea category of each article by the light of our linguistic magnifying glass.', '>\\nTo sort news stories into compartments, identify the primary subject matter of an article: is it international affairs, athletic events, financial transactions, or innovations in technology?', \"Discern the central theme of each news article and categorize it into one of four predefined groups: Global Affairs, Athletic Pursuits, Financial Insights, or Technological Advancements. Your assignment is to determine the most dominant topic in each piece of news and affiliate it with one of the four given categories, with the primary topic's label serving as the classification.\", 'Decipher the core topic of a news article and allot it to one of four predefined slots: World for global events, Sports for athletic pursuits, Business for market trends and financials, or Tech for cutting-edge innovations and breakthroughs.', ' Identify the culinary genre of a recipe, specifying whether it falls under the rubric of Gastronomic Explorations (World), Athletic Fueling (Sports), Corporate Cuisine (Business), or Digital Innovations (Tech). Please enter the primary classification, trusting the implicit instincts of the language model.', 'Divine the essence of a news article and slot it into one of four cosmic realms: World, Sports, Business, or Tech, where its idiosyncratic spirit is destined to reside.', 'Take a given news article and, guided by the words on the page, predict which of four distinct categories it belongs: the realm of global events (World), the arena of athletic competition (Sports), the sphere of commerce and finance (Business), or the domain of technological innovation (Tech).', 'Unravel the headlines: determine the chief subject matter of the news article and steer it to one of four prescribed categories: the global scene, sporting events, economic insights, or technological breakthroughs.', ' Identify the prevailing theme in a given news article and arbitrarily assign it to one of four pre-established categories: global current events (World), athletic competitions (Sports), financial market activity (Business), or cutting-edge innovation (Tech).', \"A news text is about to be presented to you, and you're the judge! Determine which of four categories this article belongs to: Worldly matters, Sporting events, Corporate happenings, or Technological breakthroughs. The first label that comes to mind takes precedence.\", \"Imagine you're a curator tasked with shelving news articles into labeled bins. You'll examine each article's essence, identifying its primary theme, and subsequently categorize it within one of four compartments: World, Sports, Business, or Tech. Your discerning eye will guide the assignment, ensuring each article finds its most fitting home.\", 'The goal is to identify the primary theme of each news article, pinpointing its affinity for one of four distinct domains: World, Sports, Business, or Tech, and subsequently assign it to the most fitting classification.']\n"
     ]
    }
   ],
   "source": [
    "print(new_prompts)"
   ]
  },
  {
   "cell_type": "code",
   "execution_count": 239,
   "metadata": {},
   "outputs": [],
   "source": [
    "embs_old = similarity_model.encode(base_prompts)\n",
    "embs_new = similarity_model.encode(new_prompts)\n",
    "sims_old_new = eval_similarities(embs_old, embs_new, similarity_model)\n",
    "sims_new_new = eval_similarities(embs_new, embs_new, similarity_model)"
   ]
  },
  {
   "cell_type": "code",
   "execution_count": 240,
   "metadata": {},
   "outputs": [
    {
     "name": "stdout",
     "output_type": "stream",
     "text": [
      "0.80516815\n",
      "0.7795717\n",
      "0.112174466\n"
     ]
    }
   ],
   "source": [
    "print(sims_old_new.mean())\n",
    "print(sims_new_new.mean())\n",
    "print(sims_new_new.std())"
   ]
  },
  {
   "cell_type": "code",
   "execution_count": null,
   "metadata": {},
   "outputs": [],
   "source": []
  },
  {
   "cell_type": "code",
   "execution_count": null,
   "metadata": {},
   "outputs": [],
   "source": []
  },
  {
   "cell_type": "code",
   "execution_count": null,
   "metadata": {},
   "outputs": [],
   "source": []
  }
 ],
 "metadata": {
  "kernelspec": {
   "display_name": "ds",
   "language": "python",
   "name": "python3"
  },
  "language_info": {
   "codemirror_mode": {
    "name": "ipython",
    "version": 3
   },
   "file_extension": ".py",
   "mimetype": "text/x-python",
   "name": "python",
   "nbconvert_exporter": "python",
   "pygments_lexer": "ipython3",
   "version": "3.12.5"
  }
 },
 "nbformat": 4,
 "nbformat_minor": 2
}
