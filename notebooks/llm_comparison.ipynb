{
 "cells": [
  {
   "cell_type": "markdown",
   "metadata": {},
   "source": [
    "# LLM Comparison\n",
    "In this experiment we compare two instances of a Llama-3.3-70B model. One which is called via the DeepInfra API and one locally hosted on the LRZ server. The latter is a GPTQ quantized version of the model. We want to show, that the locally hosted version can be used for all experiments and can keep up with the DeepInfra model. This allows for more extensive experiments, since we do not have to consider any API costs.<br>\n",
    "For the quantized model version we used the following system prompt: \"You are a helpful, harmless, and honest assistant. You answer the user's questions accurately and fairly.\" (for the API hosted model this cannot be specified)."
   ]
  },
  {
   "cell_type": "code",
   "execution_count": 1,
   "metadata": {},
   "outputs": [],
   "source": [
    "import pandas as pd\n",
    "import matplotlib.pyplot as plt\n",
    "import seaborn as sns\n",
    "\n",
    "comparison_df = pd.read_csv(\"../results/llm_comparison/summary.csv\")\n",
    "deepinfra_df = pd.read_csv(\"../results/llm_comparison/deepinfra_responses.csv\")\n",
    "vllm_df = pd.read_csv(\"../results/llm_comparison/vllm_responses.csv\")"
   ]
  },
  {
   "cell_type": "markdown",
   "metadata": {},
   "source": [
    "## Compare Answers\n",
    "Using the first three samples we compare some answers of the models (stored in deepinfra_df and vllm_df).\n",
    "\n",
    "### DeepInfra hosted model\n",
    "\n",
    "1: The main topic of the news article is: Hackers exploiting a flaw in Microsoft's JPEG format.Category: Tech <br>\n",
    "2: The main topic of the news article is: Arsenal's win in the Premier LeagueCategory: Sports <br>\n",
    "3: The main topic of the news article is: Temporary Flight Caps at O'Hare Airport.I choose: Business. <br>\n",
    "\n",
    "### Locally hosted model\n",
    "\n",
    "1: The main topic of the news article is: Hackers exploiting a security flaw in Microsoft's JPEG format.Category: Tech <br>\n",
    "2: The main topic of the news article is: Arsenal's win in the Premier League.Category: Sports. <br>\n",
    "3: The main topic of the news article is: Air Traffic Control and Flight Regulations.I choose: Business. <br>\n",
    "\n",
    "### Result\n",
    "The answers are very similar to each other, which already indicates, that the local LLM can be used instead of the API-hosted one."
   ]
  },
  {
   "cell_type": "markdown",
   "metadata": {},
   "source": [
    "## Compare Performance\n",
    "We furthermore compare the performance of both models on 2 different tasks and throughout all initial prompt proposed by the EvoPrompt paper. For all runs we use the dev set with the same 200 samples per task."
   ]
  },
  {
   "cell_type": "code",
   "execution_count": 16,
   "metadata": {},
   "outputs": [],
   "source": [
    "avg_df = (\n",
    "    comparison_df.groupby([\"model_name\", \"dataset\"]).agg({\"score\": [\"mean\", \"std\"]}).reset_index()\n",
    ")\n",
    "avg_df.columns = [\"model_name\", \"dataset\", \"mean\", \"std\"]\n",
    "avg_df[\"platform\"] = [\"vllm\" if \"vllm\" in x else \"deepinfra\" for x in avg_df[\"model_name\"]]"
   ]
  },
  {
   "cell_type": "code",
   "execution_count": 8,
   "metadata": {},
   "outputs": [
    {
     "data": {
      "image/png": "[encoded data removed]",
      "text/plain": [
       "<Figure size 1000x600 with 1 Axes>"
      ]
     },
     "metadata": {},
     "output_type": "display_data"
    }
   ],
   "source": [
    "plt.figure(figsize=(10, 6))\n",
    "sns.set_style(\"whitegrid\")\n",
    "\n",
    "# Plot dataset on x-axis, models as groups\n",
    "ax = sns.barplot(x=\"dataset\", y=\"mean\", hue=\"platform\", data=avg_df, palette=\"viridis\")\n",
    "\n",
    "plt.title(\"Average Scores by Model and Dataset\")\n",
    "plt.xlabel(\"Dataset\")\n",
    "plt.ylabel(\"Average Score\")\n",
    "plt.ylim(0, 1)\n",
    "\n",
    "for i, p in enumerate(ax.patches):\n",
    "    height = p.get_height()\n",
    "    if height > 0:\n",
    "        ax.annotate(\n",
    "            f\"{height:.3f}\",\n",
    "            (p.get_x() + p.get_width() / 2.0, height),\n",
    "            ha=\"center\",\n",
    "            va=\"bottom\",\n",
    "            fontsize=11,\n",
    "        )\n",
    "\n",
    "plt.legend(title=\"platform\", loc=\"upper right\")\n",
    "\n",
    "plt.tight_layout()\n",
    "plt.show()"
   ]
  },
  {
   "cell_type": "code",
   "execution_count": 15,
   "metadata": {},
   "outputs": [
    {
     "data": {
      "application/vnd.microsoft.datawrangler.viewer.v0+json": {
       "columns": [
        {
         "name": "index",
         "rawType": "int64",
         "type": "integer"
        },
        {
         "name": "platform",
         "rawType": "object",
         "type": "string"
        },
        {
         "name": "dataset",
         "rawType": "object",
         "type": "string"
        },
        {
         "name": "score",
         "rawType": "object",
         "type": "string"
        }
       ],
       "conversionMethod": "pd.DataFrame",
       "ref": "fb5fd9d1-eb6a-4ab4-a7bf-dad807361e3c",
       "rows": [
        [
         "0",
         "deepinfra",
         "agnews",
         "0.785 ± 0.095"
        ],
        [
         "1",
         "deepinfra",
         "subj",
         "0.590 ± 0.055"
        ],
        [
         "2",
         "vllm",
         "agnews",
         "0.843 ± 0.040"
        ],
        [
         "3",
         "vllm",
         "subj",
         "0.577 ± 0.066"
        ]
       ],
       "shape": {
        "columns": 3,
        "rows": 4
       }
      },
      "text/html": [
       "<div>\n",
       "<style scoped>\n",
       "    .dataframe tbody tr th:only-of-type {\n",
       "        vertical-align: middle;\n",
       "    }\n",
       "\n",
       "    .dataframe tbody tr th {\n",
       "        vertical-align: top;\n",
       "    }\n",
       "\n",
       "    .dataframe thead th {\n",
       "        text-align: right;\n",
       "    }\n",
       "</style>\n",
       "<table border=\"1\" class=\"dataframe\">\n",
       "  <thead>\n",
       "    <tr style=\"text-align: right;\">\n",
       "      <th></th>\n",
       "      <th>platform</th>\n",
       "      <th>dataset</th>\n",
       "      <th>score</th>\n",
       "    </tr>\n",
       "  </thead>\n",
       "  <tbody>\n",
       "    <tr>\n",
       "      <th>0</th>\n",
       "      <td>deepinfra</td>\n",
       "      <td>agnews</td>\n",
       "      <td>0.785 ± 0.095</td>\n",
       "    </tr>\n",
       "    <tr>\n",
       "      <th>1</th>\n",
       "      <td>deepinfra</td>\n",
       "      <td>subj</td>\n",
       "      <td>0.590 ± 0.055</td>\n",
       "    </tr>\n",
       "    <tr>\n",
       "      <th>2</th>\n",
       "      <td>vllm</td>\n",
       "      <td>agnews</td>\n",
       "      <td>0.843 ± 0.040</td>\n",
       "    </tr>\n",
       "    <tr>\n",
       "      <th>3</th>\n",
       "      <td>vllm</td>\n",
       "      <td>subj</td>\n",
       "      <td>0.577 ± 0.066</td>\n",
       "    </tr>\n",
       "  </tbody>\n",
       "</table>\n",
       "</div>"
      ],
      "text/plain": [
       "    platform dataset          score\n",
       "0  deepinfra  agnews  0.785 ± 0.095\n",
       "1  deepinfra    subj  0.590 ± 0.055\n",
       "2       vllm  agnews  0.843 ± 0.040\n",
       "3       vllm    subj  0.577 ± 0.066"
      ]
     },
     "execution_count": 15,
     "metadata": {},
     "output_type": "execute_result"
    }
   ],
   "source": [
    "table_data = []\n",
    "for _, row in avg_df.iterrows():\n",
    "    table_data.append([row[\"platform\"], row[\"dataset\"], f\"{row['mean']:.3f} ± {row['std']:.3f}\"])\n",
    "\n",
    "pd.DataFrame(table_data, columns=[\"platform\", \"dataset\", \"score\"])"
   ]
  }
 ],
 "metadata": {
  "kernelspec": {
   "display_name": "capo-JzHO-Y9b-py3.12",
   "language": "python",
   "name": "python3"
  },
  "language_info": {
   "codemirror_mode": {
    "name": "ipython",
    "version": 3
   },
   "file_extension": ".py",
   "mimetype": "text/x-python",
   "name": "python",
   "nbconvert_exporter": "python",
   "pygments_lexer": "ipython3",
   "version": "3.12.5"
  }
 },
 "nbformat": 4,
 "nbformat_minor": 2
}
