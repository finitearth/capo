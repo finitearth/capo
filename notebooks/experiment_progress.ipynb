{
 "cells": [
  {
   "cell_type": "markdown",
   "metadata": {},
   "source": [
    "# Experiment Progress Tracking\n",
    "Get a nice overview of which experiments are missing up to now"
   ]
  },
  {
   "cell_type": "code",
   "execution_count": 1,
   "metadata": {},
   "outputs": [],
   "source": [
    "from glob import glob\n",
    "import pandas as pd"
   ]
  },
  {
   "cell_type": "markdown",
   "metadata": {},
   "source": [
    "## Main Experiments"
   ]
  },
  {
   "cell_type": "code",
   "execution_count": 14,
   "metadata": {},
   "outputs": [
    {
     "data": {
      "application/vnd.microsoft.datawrangler.viewer.v0+json": {
       "columns": [
        {
         "name": "index",
         "rawType": "int64",
         "type": "integer"
        },
        {
         "name": "optimizer",
         "rawType": "object",
         "type": "string"
        },
        {
         "name": "dataset",
         "rawType": "object",
         "type": "string"
        },
        {
         "name": "model",
         "rawType": "object",
         "type": "string"
        },
        {
         "name": "seed",
         "rawType": "object",
         "type": "string"
        },
        {
         "name": "step_results",
         "rawType": "bool",
         "type": "boolean"
        },
        {
         "name": "step_results_eval",
         "rawType": "bool",
         "type": "boolean"
        }
       ],
       "conversionMethod": "pd.DataFrame",
       "ref": "a8b4c878-fa76-4d91-bc5b-366d7399fbe4",
       "rows": [
        [
         "0",
         "CAPO",
         "agnews",
         "llama",
         "seed42",
         "True",
         "True"
        ],
        [
         "1",
         "CAPO",
         "agnews",
         "llama",
         "seed43",
         "True",
         "True"
        ],
        [
         "2",
         "CAPO",
         "agnews",
         "llama",
         "seed44",
         "True",
         "True"
        ],
        [
         "3",
         "CAPO",
         "agnews",
         "mistral",
         "seed42",
         "True",
         "True"
        ],
        [
         "4",
         "CAPO",
         "agnews",
         "mistral",
         "seed43",
         "True",
         "True"
        ],
        [
         "5",
         "CAPO",
         "agnews",
         "mistral",
         "seed44",
         "True",
         "True"
        ],
        [
         "6",
         "CAPO",
         "agnews",
         "qwen",
         "seed42",
         "True",
         "True"
        ],
        [
         "7",
         "CAPO",
         "agnews",
         "qwen",
         "seed43",
         "True",
         "True"
        ],
        [
         "8",
         "CAPO",
         "agnews",
         "qwen",
         "seed44",
         "True",
         "True"
        ],
        [
         "9",
         "CAPO",
         "copa",
         "llama",
         "seed42",
         "True",
         "True"
        ],
        [
         "10",
         "CAPO",
         "copa",
         "llama",
         "seed43",
         "True",
         "True"
        ],
        [
         "11",
         "CAPO",
         "copa",
         "llama",
         "seed44",
         "True",
         "True"
        ],
        [
         "12",
         "CAPO",
         "copa",
         "mistral",
         "seed42",
         "True",
         "True"
        ],
        [
         "13",
         "CAPO",
         "copa",
         "mistral",
         "seed43",
         "True",
         "True"
        ],
        [
         "14",
         "CAPO",
         "copa",
         "mistral",
         "seed44",
         "True",
         "True"
        ],
        [
         "15",
         "CAPO",
         "copa",
         "qwen",
         "seed42",
         "True",
         "True"
        ],
        [
         "16",
         "CAPO",
         "copa",
         "qwen",
         "seed43",
         "True",
         "True"
        ],
        [
         "17",
         "CAPO",
         "copa",
         "qwen",
         "seed44",
         "True",
         "True"
        ],
        [
         "18",
         "CAPO",
         "gsm8k",
         "llama",
         "seed42",
         "True",
         "True"
        ],
        [
         "19",
         "CAPO",
         "gsm8k",
         "llama",
         "seed43",
         "True",
         "True"
        ],
        [
         "20",
         "CAPO",
         "gsm8k",
         "llama",
         "seed44",
         "True",
         "True"
        ],
        [
         "21",
         "CAPO",
         "gsm8k",
         "mistral",
         "seed42",
         "True",
         "True"
        ],
        [
         "22",
         "CAPO",
         "gsm8k",
         "mistral",
         "seed43",
         "True",
         "True"
        ],
        [
         "23",
         "CAPO",
         "gsm8k",
         "mistral",
         "seed44",
         "True",
         "True"
        ],
        [
         "24",
         "CAPO",
         "gsm8k",
         "qwen",
         "seed42",
         "True",
         "True"
        ],
        [
         "25",
         "CAPO",
         "gsm8k",
         "qwen",
         "seed43",
         "True",
         "True"
        ],
        [
         "26",
         "CAPO",
         "gsm8k",
         "qwen",
         "seed44",
         "True",
         "True"
        ],
        [
         "27",
         "CAPO",
         "sst-5",
         "llama",
         "seed42",
         "True",
         "True"
        ],
        [
         "28",
         "CAPO",
         "sst-5",
         "llama",
         "seed43",
         "True",
         "True"
        ],
        [
         "29",
         "CAPO",
         "sst-5",
         "llama",
         "seed44",
         "True",
         "True"
        ],
        [
         "30",
         "CAPO",
         "sst-5",
         "mistral",
         "seed42",
         "True",
         "True"
        ],
        [
         "31",
         "CAPO",
         "sst-5",
         "mistral",
         "seed43",
         "True",
         "True"
        ],
        [
         "32",
         "CAPO",
         "sst-5",
         "mistral",
         "seed44",
         "True",
         "True"
        ],
        [
         "33",
         "CAPO",
         "sst-5",
         "qwen",
         "seed42",
         "True",
         "True"
        ],
        [
         "34",
         "CAPO",
         "sst-5",
         "qwen",
         "seed43",
         "True",
         "True"
        ],
        [
         "35",
         "CAPO",
         "sst-5",
         "qwen",
         "seed44",
         "True",
         "True"
        ],
        [
         "36",
         "CAPO",
         "subj",
         "llama",
         "seed42",
         "True",
         "True"
        ],
        [
         "37",
         "CAPO",
         "subj",
         "llama",
         "seed43",
         "True",
         "True"
        ],
        [
         "38",
         "CAPO",
         "subj",
         "llama",
         "seed44",
         "True",
         "True"
        ],
        [
         "39",
         "CAPO",
         "subj",
         "mistral",
         "seed42",
         "True",
         "True"
        ],
        [
         "40",
         "CAPO",
         "subj",
         "mistral",
         "seed43",
         "True",
         "True"
        ],
        [
         "41",
         "CAPO",
         "subj",
         "mistral",
         "seed44",
         "True",
         "True"
        ],
        [
         "42",
         "CAPO",
         "subj",
         "qwen",
         "seed42",
         "True",
         "True"
        ],
        [
         "43",
         "CAPO",
         "subj",
         "qwen",
         "seed43",
         "True",
         "True"
        ],
        [
         "44",
         "CAPO",
         "subj",
         "qwen",
         "seed44",
         "True",
         "True"
        ],
        [
         "45",
         "EvoPromptGA",
         "agnews",
         "llama",
         "seed42",
         "True",
         "True"
        ],
        [
         "46",
         "EvoPromptGA",
         "agnews",
         "llama",
         "seed43",
         "True",
         "True"
        ],
        [
         "47",
         "EvoPromptGA",
         "agnews",
         "llama",
         "seed44",
         "True",
         "True"
        ],
        [
         "48",
         "EvoPromptGA",
         "agnews",
         "mistral",
         "seed42",
         "True",
         "False"
        ],
        [
         "49",
         "EvoPromptGA",
         "agnews",
         "mistral",
         "seed43",
         "True",
         "False"
        ]
       ],
       "shape": {
        "columns": 6,
        "rows": 180
       }
      },
      "text/html": [
       "<div>\n",
       "<style scoped>\n",
       "    .dataframe tbody tr th:only-of-type {\n",
       "        vertical-align: middle;\n",
       "    }\n",
       "\n",
       "    .dataframe tbody tr th {\n",
       "        vertical-align: top;\n",
       "    }\n",
       "\n",
       "    .dataframe thead th {\n",
       "        text-align: right;\n",
       "    }\n",
       "</style>\n",
       "<table border=\"1\" class=\"dataframe\">\n",
       "  <thead>\n",
       "    <tr style=\"text-align: right;\">\n",
       "      <th></th>\n",
       "      <th>optimizer</th>\n",
       "      <th>dataset</th>\n",
       "      <th>model</th>\n",
       "      <th>seed</th>\n",
       "      <th>step_results</th>\n",
       "      <th>step_results_eval</th>\n",
       "    </tr>\n",
       "  </thead>\n",
       "  <tbody>\n",
       "    <tr>\n",
       "      <th>0</th>\n",
       "      <td>CAPO</td>\n",
       "      <td>agnews</td>\n",
       "      <td>llama</td>\n",
       "      <td>seed42</td>\n",
       "      <td>True</td>\n",
       "      <td>True</td>\n",
       "    </tr>\n",
       "    <tr>\n",
       "      <th>1</th>\n",
       "      <td>CAPO</td>\n",
       "      <td>agnews</td>\n",
       "      <td>llama</td>\n",
       "      <td>seed43</td>\n",
       "      <td>True</td>\n",
       "      <td>True</td>\n",
       "    </tr>\n",
       "    <tr>\n",
       "      <th>2</th>\n",
       "      <td>CAPO</td>\n",
       "      <td>agnews</td>\n",
       "      <td>llama</td>\n",
       "      <td>seed44</td>\n",
       "      <td>True</td>\n",
       "      <td>True</td>\n",
       "    </tr>\n",
       "    <tr>\n",
       "      <th>3</th>\n",
       "      <td>CAPO</td>\n",
       "      <td>agnews</td>\n",
       "      <td>mistral</td>\n",
       "      <td>seed42</td>\n",
       "      <td>True</td>\n",
       "      <td>True</td>\n",
       "    </tr>\n",
       "    <tr>\n",
       "      <th>4</th>\n",
       "      <td>CAPO</td>\n",
       "      <td>agnews</td>\n",
       "      <td>mistral</td>\n",
       "      <td>seed43</td>\n",
       "      <td>True</td>\n",
       "      <td>True</td>\n",
       "    </tr>\n",
       "    <tr>\n",
       "      <th>...</th>\n",
       "      <td>...</td>\n",
       "      <td>...</td>\n",
       "      <td>...</td>\n",
       "      <td>...</td>\n",
       "      <td>...</td>\n",
       "      <td>...</td>\n",
       "    </tr>\n",
       "    <tr>\n",
       "      <th>175</th>\n",
       "      <td>PromptWizard</td>\n",
       "      <td>subj</td>\n",
       "      <td>mistral</td>\n",
       "      <td>seed43</td>\n",
       "      <td>True</td>\n",
       "      <td>True</td>\n",
       "    </tr>\n",
       "    <tr>\n",
       "      <th>176</th>\n",
       "      <td>PromptWizard</td>\n",
       "      <td>subj</td>\n",
       "      <td>mistral</td>\n",
       "      <td>seed44</td>\n",
       "      <td>True</td>\n",
       "      <td>True</td>\n",
       "    </tr>\n",
       "    <tr>\n",
       "      <th>177</th>\n",
       "      <td>PromptWizard</td>\n",
       "      <td>subj</td>\n",
       "      <td>qwen</td>\n",
       "      <td>seed42</td>\n",
       "      <td>True</td>\n",
       "      <td>True</td>\n",
       "    </tr>\n",
       "    <tr>\n",
       "      <th>178</th>\n",
       "      <td>PromptWizard</td>\n",
       "      <td>subj</td>\n",
       "      <td>qwen</td>\n",
       "      <td>seed43</td>\n",
       "      <td>True</td>\n",
       "      <td>True</td>\n",
       "    </tr>\n",
       "    <tr>\n",
       "      <th>179</th>\n",
       "      <td>PromptWizard</td>\n",
       "      <td>subj</td>\n",
       "      <td>qwen</td>\n",
       "      <td>seed44</td>\n",
       "      <td>True</td>\n",
       "      <td>True</td>\n",
       "    </tr>\n",
       "  </tbody>\n",
       "</table>\n",
       "<p>180 rows × 6 columns</p>\n",
       "</div>"
      ],
      "text/plain": [
       "        optimizer dataset    model    seed  step_results  step_results_eval\n",
       "0            CAPO  agnews    llama  seed42          True               True\n",
       "1            CAPO  agnews    llama  seed43          True               True\n",
       "2            CAPO  agnews    llama  seed44          True               True\n",
       "3            CAPO  agnews  mistral  seed42          True               True\n",
       "4            CAPO  agnews  mistral  seed43          True               True\n",
       "..            ...     ...      ...     ...           ...                ...\n",
       "175  PromptWizard    subj  mistral  seed43          True               True\n",
       "176  PromptWizard    subj  mistral  seed44          True               True\n",
       "177  PromptWizard    subj     qwen  seed42          True               True\n",
       "178  PromptWizard    subj     qwen  seed43          True               True\n",
       "179  PromptWizard    subj     qwen  seed44          True               True\n",
       "\n",
       "[180 rows x 6 columns]"
      ]
     },
     "execution_count": 14,
     "metadata": {},
     "output_type": "execute_result"
    }
   ],
   "source": [
    "main_exp_status = []\n",
    "\n",
    "for optimizer in [\"CAPO\", \"EvoPromptGA\", \"OPRO\", \"PromptWizard\"]:\n",
    "    for dataset in [\"agnews\", \"copa\", \"gsm8k\", \"sst-5\", \"subj\"]:\n",
    "        for model in [\"llama\", \"mistral\", \"qwen\"]:\n",
    "            for seed in [\"seed42\", \"seed43\", \"seed44\"]:\n",
    "                has_step_res = (\n",
    "                    len(\n",
    "                        glob(\n",
    "                            f\"../results/{dataset}/{model}/{optimizer}/{seed}/**/step_results.parquet\",\n",
    "                            recursive=True,\n",
    "                        )\n",
    "                    )\n",
    "                    > 0\n",
    "                )\n",
    "                has_step_eval = (\n",
    "                    len(\n",
    "                        glob(\n",
    "                            f\"../results/{dataset}/{model}/{optimizer}/{seed}/**/step_results_eval.csv\",\n",
    "                            recursive=True,\n",
    "                        )\n",
    "                    )\n",
    "                    > 0\n",
    "                )\n",
    "\n",
    "                # add a new row to the dataframe\n",
    "                exp_status = {\n",
    "                    \"optimizer\": optimizer,\n",
    "                    \"dataset\": dataset,\n",
    "                    \"model\": model,\n",
    "                    \"seed\": seed,\n",
    "                    \"step_results\": has_step_res,\n",
    "                    \"step_results_eval\": has_step_eval,\n",
    "                }\n",
    "\n",
    "                main_exp_status.append(exp_status)\n",
    "\n",
    "main_exp_status = pd.DataFrame(main_exp_status)\n",
    "main_exp_status"
   ]
  }
 ],
 "metadata": {
  "kernelspec": {
   "display_name": "capo-JzHO-Y9b-py3.12",
   "language": "python",
   "name": "python3"
  },
  "language_info": {
   "codemirror_mode": {
    "name": "ipython",
    "version": 3
   },
   "file_extension": ".py",
   "mimetype": "text/x-python",
   "name": "python",
   "nbconvert_exporter": "python",
   "pygments_lexer": "ipython3",
   "version": "3.12.5"
  }
 },
 "nbformat": 4,
 "nbformat_minor": 2
}
