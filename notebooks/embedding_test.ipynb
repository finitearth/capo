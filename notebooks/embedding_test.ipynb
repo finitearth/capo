{
 "cells": [
  {
   "cell_type": "code",
   "execution_count": 22,
   "metadata": {},
   "outputs": [],
   "source": [
    "from sentence_transformers import SentenceTransformer\n",
    "import pandas as pd\n",
    "from glob import glob\n",
    "import plotly.graph_objects as go\n",
    "\n",
    "import umap"
   ]
  },
  {
   "cell_type": "code",
   "execution_count": 23,
   "metadata": {},
   "outputs": [],
   "source": [
    "embedder = SentenceTransformer(\"sentence-transformers/all-MiniLM-L6-v2\")\n",
    "dim_reducer = umap.UMAP(n_neighbors=15, n_components=2, metric=\"cosine\")"
   ]
  },
  {
   "cell_type": "code",
   "execution_count": 51,
   "metadata": {},
   "outputs": [
    {
     "name": "stderr",
     "output_type": "stream",
     "text": [
      "c:\\Users\\tzehl\\anaconda3\\envs\\ds\\Lib\\site-packages\\sklearn\\utils\\deprecation.py:151: FutureWarning:\n",
      "\n",
      "'force_all_finite' was renamed to 'ensure_all_finite' in 1.6 and will be removed in 1.8.\n",
      "\n"
     ]
    }
   ],
   "source": [
    "path = \"../results/copa/llama/CAPO/seed42/**/step_results.parquet\"\n",
    "df = pd.read_parquet(glob(path, recursive=True)[0])\n",
    "prompts = df[\"prompt\"].unique()\n",
    "embs = embedder.encode(prompts)\n",
    "embs_2d = dim_reducer.fit_transform(embs)\n",
    "scores = df[\"score\"].values"
   ]
  },
  {
   "cell_type": "code",
   "execution_count": 52,
   "metadata": {},
   "outputs": [
    {
     "data": {
      "application/vnd.plotly.v1+json": {
       "config": {
        "plotlyServerURL": "https://plot.ly"
       },
       "data": [
        {
         "colorscale": [
          [
           0,
           "#440154"
          ],
          [
           0.1111111111111111,
           "#482878"
          ],
          [
           0.2222222222222222,
           "#3e4989"
          ],
          [
           0.3333333333333333,
           "#31688e"
          ],
          [
           0.4444444444444444,
           "#26828e"
          ],
          [
           0.5555555555555556,
           "#1f9e89"
          ],
          [
           0.6666666666666666,
           "#35b779"
          ],
          [
           0.7777777777777778,
           "#6ece58"
          ],
          [
           0.8888888888888888,
           "#b5de2b"
          ],
          [
           1,
           "#fde725"
          ]
         ],
         "contours": {
          "coloring": "heatmap",
          "labelfont": {
           "color": "white",
           "size": 12
          },
          "showlabels": true
         },
         "type": "contour",
         "x": [
          13.147046,
          13.514965,
          15.27914,
          13.165912,
          14.118124,
          15.664786,
          15.701011,
          14.274073,
          13.279706,
          13.647297,
          15.321187,
          14.486617,
          15.639918,
          13.3931875,
          15.0325575,
          14.504157,
          15.1639385,
          15.024949,
          14.591672,
          16.088125,
          13.84477,
          14.250864,
          14.680206
         ],
         "y": [
          -1.2868131,
          -0.8533721,
          -0.8111495,
          -0.23836073,
          -2.1939037,
          -2.0237892,
          0.14487866,
          -1.5245473,
          -2.2349997,
          -1.8716482,
          0.65050596,
          -1.0261669,
          -1.4518621,
          0.23369846,
          -1.9583237,
          0.6575696,
          -0.15840425,
          -1.317897,
          -0.536508,
          -0.9408883,
          -0.055615995,
          0.21749207,
          0.038305447
         ],
         "z": [
          0.94,
          0.9333333333333333,
          0.93,
          0.93,
          0.92,
          0.92,
          0.9166666666666666,
          0.91,
          0.9066666666666666,
          0.9,
          0.94,
          0.9333333333333333,
          0.93,
          0.93,
          0.92,
          0.92,
          0.9166666666666666,
          0.9166666666666666,
          0.91,
          0.91,
          0.94,
          0.9333333333333333,
          0.93,
          0.93,
          0.93,
          0.9266666666666666,
          0.92,
          0.92,
          0.9166666666666666,
          0.9166666666666666,
          0.94,
          0.9333333333333333,
          0.93,
          0.93,
          0.93,
          0.9266666666666666,
          0.92,
          0.92,
          0.92,
          0.9166666666666666,
          0.94,
          0.9333333333333333,
          0.93,
          0.93,
          0.93,
          0.9266666666666666,
          0.9233333333333333,
          0.92,
          0.92,
          0.9166666666666666,
          0.94,
          0.9333333333333333,
          0.93,
          0.93,
          0.93,
          0.9266666666666666,
          0.9233333333333333,
          0.92,
          0.92,
          0.9166666666666666,
          0.94,
          0.9333333333333333,
          0.93,
          0.93,
          0.93,
          0.9266666666666666,
          0.9266666666666666,
          0.9233333333333333,
          0.92,
          0.92,
          0.94,
          0.9333333333333333,
          0.93,
          0.93,
          0.9266666666666666,
          0.9266666666666666,
          0.9266666666666666,
          0.9233333333333333,
          0.92,
          0.92,
          0.94,
          0.9333333333333333,
          0.93,
          0.93,
          0.9266666666666666,
          0.9266666666666666,
          0.9266666666666666,
          0.9233333333333333,
          0.92,
          0.92,
          0.94,
          0.9333333333333333,
          0.9333333333333333,
          0.93,
          0.93,
          0.9266666666666666,
          0.9266666666666666,
          0.9233333333333333,
          0.92,
          0.92,
          0.94,
          0.9333333333333333,
          0.9333333333333333,
          0.93,
          0.93,
          0.9266666666666666,
          0.9266666666666666,
          0.9233333333333333,
          0.92,
          0.92,
          0.94,
          0.9333333333333333,
          0.9333333333333333,
          0.93,
          0.93,
          0.9266666666666666,
          0.9266666666666666,
          0.9233333333333333,
          0.92,
          0.92,
          0.94,
          0.9333333333333333,
          0.9333333333333333,
          0.93,
          0.93,
          0.9266666666666666,
          0.9266666666666666,
          0.9233333333333333,
          0.9233333333333333,
          0.92,
          0.94,
          0.9333333333333333,
          0.9333333333333333,
          0.93,
          0.93,
          0.9266666666666666,
          0.9266666666666666,
          0.9233333333333333,
          0.9233333333333333,
          0.92,
          0.94,
          0.9333333333333333,
          0.9333333333333333,
          0.93,
          0.93,
          0.93,
          0.9266666666666666,
          0.9266666666666666,
          0.9233333333333333,
          0.9233333333333333,
          0.94,
          0.94,
          0.9333333333333333,
          0.9333333333333333,
          0.93,
          0.93,
          0.93,
          0.9266666666666666,
          0.9266666666666666,
          0.9233333333333333,
          0.94,
          0.94,
          0.9333333333333333,
          0.9333333333333333,
          0.93,
          0.93,
          0.93,
          0.9266666666666666,
          0.9266666666666666,
          0.9233333333333333,
          0.94,
          0.94,
          0.9333333333333333,
          0.9333333333333333,
          0.93,
          0.93,
          0.93,
          0.9266666666666666,
          0.9266666666666666,
          0.9266666666666666,
          0.94,
          0.94,
          0.9333333333333333,
          0.9333333333333333,
          0.93,
          0.93,
          0.93,
          0.9266666666666666,
          0.9266666666666666,
          0.9266666666666666,
          0.94,
          0.94,
          0.9333333333333333,
          0.9333333333333333,
          0.93,
          0.93,
          0.93,
          0.9266666666666666,
          0.9266666666666666,
          0.9266666666666666
         ]
        },
        {
         "mode": "markers",
         "type": "scatter",
         "x": [
          13.147046,
          13.514965,
          15.27914,
          13.165912,
          14.118124,
          15.664786,
          15.701011,
          14.274073,
          13.279706,
          13.647297,
          15.321187,
          14.486617,
          15.639918,
          13.3931875,
          15.0325575,
          14.504157,
          15.1639385,
          15.024949,
          14.591672,
          16.088125,
          13.84477,
          14.250864,
          14.680206
         ],
         "y": [
          -1.2868131,
          -0.8533721,
          -0.8111495,
          -0.23836073,
          -2.1939037,
          -2.0237892,
          0.14487866,
          -1.5245473,
          -2.2349997,
          -1.8716482,
          0.65050596,
          -1.0261669,
          -1.4518621,
          0.23369846,
          -1.9583237,
          0.6575696,
          -0.15840425,
          -1.317897,
          -0.536508,
          -0.9408883,
          -0.055615995,
          0.21749207,
          0.038305447
         ]
        }
       ],
       "layout": {
        "height": 800,
        "template": {
         "data": {
          "bar": [
           {
            "error_x": {
             "color": "#2a3f5f"
            },
            "error_y": {
             "color": "#2a3f5f"
            },
            "marker": {
             "line": {
              "color": "#E5ECF6",
              "width": 0.5
             },
             "pattern": {
              "fillmode": "overlay",
              "size": 10,
              "solidity": 0.2
             }
            },
            "type": "bar"
           }
          ],
          "barpolar": [
           {
            "marker": {
             "line": {
              "color": "#E5ECF6",
              "width": 0.5
             },
             "pattern": {
              "fillmode": "overlay",
              "size": 10,
              "solidity": 0.2
             }
            },
            "type": "barpolar"
           }
          ],
          "carpet": [
           {
            "aaxis": {
             "endlinecolor": "#2a3f5f",
             "gridcolor": "white",
             "linecolor": "white",
             "minorgridcolor": "white",
             "startlinecolor": "#2a3f5f"
            },
            "baxis": {
             "endlinecolor": "#2a3f5f",
             "gridcolor": "white",
             "linecolor": "white",
             "minorgridcolor": "white",
             "startlinecolor": "#2a3f5f"
            },
            "type": "carpet"
           }
          ],
          "choropleth": [
           {
            "colorbar": {
             "outlinewidth": 0,
             "ticks": ""
            },
            "type": "choropleth"
           }
          ],
          "contour": [
           {
            "colorbar": {
             "outlinewidth": 0,
             "ticks": ""
            },
            "colorscale": [
             [
              0,
              "#0d0887"
             ],
             [
              0.1111111111111111,
              "#46039f"
             ],
             [
              0.2222222222222222,
              "#7201a8"
             ],
             [
              0.3333333333333333,
              "#9c179e"
             ],
             [
              0.4444444444444444,
              "#bd3786"
             ],
             [
              0.5555555555555556,
              "#d8576b"
             ],
             [
              0.6666666666666666,
              "#ed7953"
             ],
             [
              0.7777777777777778,
              "#fb9f3a"
             ],
             [
              0.8888888888888888,
              "#fdca26"
             ],
             [
              1,
              "#f0f921"
             ]
            ],
            "type": "contour"
           }
          ],
          "contourcarpet": [
           {
            "colorbar": {
             "outlinewidth": 0,
             "ticks": ""
            },
            "type": "contourcarpet"
           }
          ],
          "heatmap": [
           {
            "colorbar": {
             "outlinewidth": 0,
             "ticks": ""
            },
            "colorscale": [
             [
              0,
              "#0d0887"
             ],
             [
              0.1111111111111111,
              "#46039f"
             ],
             [
              0.2222222222222222,
              "#7201a8"
             ],
             [
              0.3333333333333333,
              "#9c179e"
             ],
             [
              0.4444444444444444,
              "#bd3786"
             ],
             [
              0.5555555555555556,
              "#d8576b"
             ],
             [
              0.6666666666666666,
              "#ed7953"
             ],
             [
              0.7777777777777778,
              "#fb9f3a"
             ],
             [
              0.8888888888888888,
              "#fdca26"
             ],
             [
              1,
              "#f0f921"
             ]
            ],
            "type": "heatmap"
           }
          ],
          "heatmapgl": [
           {
            "colorbar": {
             "outlinewidth": 0,
             "ticks": ""
            },
            "colorscale": [
             [
              0,
              "#0d0887"
             ],
             [
              0.1111111111111111,
              "#46039f"
             ],
             [
              0.2222222222222222,
              "#7201a8"
             ],
             [
              0.3333333333333333,
              "#9c179e"
             ],
             [
              0.4444444444444444,
              "#bd3786"
             ],
             [
              0.5555555555555556,
              "#d8576b"
             ],
             [
              0.6666666666666666,
              "#ed7953"
             ],
             [
              0.7777777777777778,
              "#fb9f3a"
             ],
             [
              0.8888888888888888,
              "#fdca26"
             ],
             [
              1,
              "#f0f921"
             ]
            ],
            "type": "heatmapgl"
           }
          ],
          "histogram": [
           {
            "marker": {
             "pattern": {
              "fillmode": "overlay",
              "size": 10,
              "solidity": 0.2
             }
            },
            "type": "histogram"
           }
          ],
          "histogram2d": [
           {
            "colorbar": {
             "outlinewidth": 0,
             "ticks": ""
            },
            "colorscale": [
             [
              0,
              "#0d0887"
             ],
             [
              0.1111111111111111,
              "#46039f"
             ],
             [
              0.2222222222222222,
              "#7201a8"
             ],
             [
              0.3333333333333333,
              "#9c179e"
             ],
             [
              0.4444444444444444,
              "#bd3786"
             ],
             [
              0.5555555555555556,
              "#d8576b"
             ],
             [
              0.6666666666666666,
              "#ed7953"
             ],
             [
              0.7777777777777778,
              "#fb9f3a"
             ],
             [
              0.8888888888888888,
              "#fdca26"
             ],
             [
              1,
              "#f0f921"
             ]
            ],
            "type": "histogram2d"
           }
          ],
          "histogram2dcontour": [
           {
            "colorbar": {
             "outlinewidth": 0,
             "ticks": ""
            },
            "colorscale": [
             [
              0,
              "#0d0887"
             ],
             [
              0.1111111111111111,
              "#46039f"
             ],
             [
              0.2222222222222222,
              "#7201a8"
             ],
             [
              0.3333333333333333,
              "#9c179e"
             ],
             [
              0.4444444444444444,
              "#bd3786"
             ],
             [
              0.5555555555555556,
              "#d8576b"
             ],
             [
              0.6666666666666666,
              "#ed7953"
             ],
             [
              0.7777777777777778,
              "#fb9f3a"
             ],
             [
              0.8888888888888888,
              "#fdca26"
             ],
             [
              1,
              "#f0f921"
             ]
            ],
            "type": "histogram2dcontour"
           }
          ],
          "mesh3d": [
           {
            "colorbar": {
             "outlinewidth": 0,
             "ticks": ""
            },
            "type": "mesh3d"
           }
          ],
          "parcoords": [
           {
            "line": {
             "colorbar": {
              "outlinewidth": 0,
              "ticks": ""
             }
            },
            "type": "parcoords"
           }
          ],
          "pie": [
           {
            "automargin": true,
            "type": "pie"
           }
          ],
          "scatter": [
           {
            "fillpattern": {
             "fillmode": "overlay",
             "size": 10,
             "solidity": 0.2
            },
            "type": "scatter"
           }
          ],
          "scatter3d": [
           {
            "line": {
             "colorbar": {
              "outlinewidth": 0,
              "ticks": ""
             }
            },
            "marker": {
             "colorbar": {
              "outlinewidth": 0,
              "ticks": ""
             }
            },
            "type": "scatter3d"
           }
          ],
          "scattercarpet": [
           {
            "marker": {
             "colorbar": {
              "outlinewidth": 0,
              "ticks": ""
             }
            },
            "type": "scattercarpet"
           }
          ],
          "scattergeo": [
           {
            "marker": {
             "colorbar": {
              "outlinewidth": 0,
              "ticks": ""
             }
            },
            "type": "scattergeo"
           }
          ],
          "scattergl": [
           {
            "marker": {
             "colorbar": {
              "outlinewidth": 0,
              "ticks": ""
             }
            },
            "type": "scattergl"
           }
          ],
          "scattermapbox": [
           {
            "marker": {
             "colorbar": {
              "outlinewidth": 0,
              "ticks": ""
             }
            },
            "type": "scattermapbox"
           }
          ],
          "scatterpolar": [
           {
            "marker": {
             "colorbar": {
              "outlinewidth": 0,
              "ticks": ""
             }
            },
            "type": "scatterpolar"
           }
          ],
          "scatterpolargl": [
           {
            "marker": {
             "colorbar": {
              "outlinewidth": 0,
              "ticks": ""
             }
            },
            "type": "scatterpolargl"
           }
          ],
          "scatterternary": [
           {
            "marker": {
             "colorbar": {
              "outlinewidth": 0,
              "ticks": ""
             }
            },
            "type": "scatterternary"
           }
          ],
          "surface": [
           {
            "colorbar": {
             "outlinewidth": 0,
             "ticks": ""
            },
            "colorscale": [
             [
              0,
              "#0d0887"
             ],
             [
              0.1111111111111111,
              "#46039f"
             ],
             [
              0.2222222222222222,
              "#7201a8"
             ],
             [
              0.3333333333333333,
              "#9c179e"
             ],
             [
              0.4444444444444444,
              "#bd3786"
             ],
             [
              0.5555555555555556,
              "#d8576b"
             ],
             [
              0.6666666666666666,
              "#ed7953"
             ],
             [
              0.7777777777777778,
              "#fb9f3a"
             ],
             [
              0.8888888888888888,
              "#fdca26"
             ],
             [
              1,
              "#f0f921"
             ]
            ],
            "type": "surface"
           }
          ],
          "table": [
           {
            "cells": {
             "fill": {
              "color": "#EBF0F8"
             },
             "line": {
              "color": "white"
             }
            },
            "header": {
             "fill": {
              "color": "#C8D4E3"
             },
             "line": {
              "color": "white"
             }
            },
            "type": "table"
           }
          ]
         },
         "layout": {
          "annotationdefaults": {
           "arrowcolor": "#2a3f5f",
           "arrowhead": 0,
           "arrowwidth": 1
          },
          "autotypenumbers": "strict",
          "coloraxis": {
           "colorbar": {
            "outlinewidth": 0,
            "ticks": ""
           }
          },
          "colorscale": {
           "diverging": [
            [
             0,
             "#8e0152"
            ],
            [
             0.1,
             "#c51b7d"
            ],
            [
             0.2,
             "#de77ae"
            ],
            [
             0.3,
             "#f1b6da"
            ],
            [
             0.4,
             "#fde0ef"
            ],
            [
             0.5,
             "#f7f7f7"
            ],
            [
             0.6,
             "#e6f5d0"
            ],
            [
             0.7,
             "#b8e186"
            ],
            [
             0.8,
             "#7fbc41"
            ],
            [
             0.9,
             "#4d9221"
            ],
            [
             1,
             "#276419"
            ]
           ],
           "sequential": [
            [
             0,
             "#0d0887"
            ],
            [
             0.1111111111111111,
             "#46039f"
            ],
            [
             0.2222222222222222,
             "#7201a8"
            ],
            [
             0.3333333333333333,
             "#9c179e"
            ],
            [
             0.4444444444444444,
             "#bd3786"
            ],
            [
             0.5555555555555556,
             "#d8576b"
            ],
            [
             0.6666666666666666,
             "#ed7953"
            ],
            [
             0.7777777777777778,
             "#fb9f3a"
            ],
            [
             0.8888888888888888,
             "#fdca26"
            ],
            [
             1,
             "#f0f921"
            ]
           ],
           "sequentialminus": [
            [
             0,
             "#0d0887"
            ],
            [
             0.1111111111111111,
             "#46039f"
            ],
            [
             0.2222222222222222,
             "#7201a8"
            ],
            [
             0.3333333333333333,
             "#9c179e"
            ],
            [
             0.4444444444444444,
             "#bd3786"
            ],
            [
             0.5555555555555556,
             "#d8576b"
            ],
            [
             0.6666666666666666,
             "#ed7953"
            ],
            [
             0.7777777777777778,
             "#fb9f3a"
            ],
            [
             0.8888888888888888,
             "#fdca26"
            ],
            [
             1,
             "#f0f921"
            ]
           ]
          },
          "colorway": [
           "#636efa",
           "#EF553B",
           "#00cc96",
           "#ab63fa",
           "#FFA15A",
           "#19d3f3",
           "#FF6692",
           "#B6E880",
           "#FF97FF",
           "#FECB52"
          ],
          "font": {
           "color": "#2a3f5f"
          },
          "geo": {
           "bgcolor": "white",
           "lakecolor": "white",
           "landcolor": "#E5ECF6",
           "showlakes": true,
           "showland": true,
           "subunitcolor": "white"
          },
          "hoverlabel": {
           "align": "left"
          },
          "hovermode": "closest",
          "mapbox": {
           "style": "light"
          },
          "paper_bgcolor": "white",
          "plot_bgcolor": "#E5ECF6",
          "polar": {
           "angularaxis": {
            "gridcolor": "white",
            "linecolor": "white",
            "ticks": ""
           },
           "bgcolor": "#E5ECF6",
           "radialaxis": {
            "gridcolor": "white",
            "linecolor": "white",
            "ticks": ""
           }
          },
          "scene": {
           "xaxis": {
            "backgroundcolor": "#E5ECF6",
            "gridcolor": "white",
            "gridwidth": 2,
            "linecolor": "white",
            "showbackground": true,
            "ticks": "",
            "zerolinecolor": "white"
           },
           "yaxis": {
            "backgroundcolor": "#E5ECF6",
            "gridcolor": "white",
            "gridwidth": 2,
            "linecolor": "white",
            "showbackground": true,
            "ticks": "",
            "zerolinecolor": "white"
           },
           "zaxis": {
            "backgroundcolor": "#E5ECF6",
            "gridcolor": "white",
            "gridwidth": 2,
            "linecolor": "white",
            "showbackground": true,
            "ticks": "",
            "zerolinecolor": "white"
           }
          },
          "shapedefaults": {
           "line": {
            "color": "#2a3f5f"
           }
          },
          "ternary": {
           "aaxis": {
            "gridcolor": "white",
            "linecolor": "white",
            "ticks": ""
           },
           "baxis": {
            "gridcolor": "white",
            "linecolor": "white",
            "ticks": ""
           },
           "bgcolor": "#E5ECF6",
           "caxis": {
            "gridcolor": "white",
            "linecolor": "white",
            "ticks": ""
           }
          },
          "title": {
           "x": 0.05
          },
          "xaxis": {
           "automargin": true,
           "gridcolor": "white",
           "linecolor": "white",
           "ticks": "",
           "title": {
            "standoff": 15
           },
           "zerolinecolor": "white",
           "zerolinewidth": 2
          },
          "yaxis": {
           "automargin": true,
           "gridcolor": "white",
           "linecolor": "white",
           "ticks": "",
           "title": {
            "standoff": 15
           },
           "zerolinecolor": "white",
           "zerolinewidth": 2
          }
         }
        },
        "width": 800
       }
      }
     },
     "metadata": {},
     "output_type": "display_data"
    }
   ],
   "source": [
    "fig = go.Figure(\n",
    "    data=go.Contour(\n",
    "        z=scores,\n",
    "        x=embs_2d[:, 0],\n",
    "        y=embs_2d[:, 1],\n",
    "        colorscale=\"Viridis\",\n",
    "        contours=dict(\n",
    "            coloring=\"heatmap\",\n",
    "            showlabels=True,  # show labels on contours\n",
    "            labelfont=dict(  # label font properties\n",
    "                size=12,\n",
    "                color=\"white\",\n",
    "            ),\n",
    "        ),\n",
    "    )\n",
    ").update_layout({\"height\": 800, \"width\": 800})\n",
    "\n",
    "# show dots on top of the contour plot with color according to col step\n",
    "fig.add_trace(\n",
    "    go.Scatter(\n",
    "        x=embs_2d[:, 0],\n",
    "        y=embs_2d[:, 1],\n",
    "        mode=\"markers\",\n",
    "        # marker=dict(\n",
    "        #     size=8,\n",
    "        #     color=df[\"step\"],\n",
    "        #     showscale=True\n",
    "        # )\n",
    "    )\n",
    ")\n",
    "fig.show()"
   ]
  },
  {
   "cell_type": "code",
   "execution_count": null,
   "metadata": {},
   "outputs": [],
   "source": []
  }
 ],
 "metadata": {
  "kernelspec": {
   "display_name": "ds",
   "language": "python",
   "name": "python3"
  },
  "language_info": {
   "codemirror_mode": {
    "name": "ipython",
    "version": 3
   },
   "file_extension": ".py",
   "mimetype": "text/x-python",
   "name": "python",
   "nbconvert_exporter": "python",
   "pygments_lexer": "ipython3",
   "version": "3.12.5"
  }
 },
 "nbformat": 4,
 "nbformat_minor": 2
}
