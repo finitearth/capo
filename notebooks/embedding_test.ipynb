{
 "cells": [
  {
   "cell_type": "code",
   "execution_count": 22,
   "metadata": {},
   "outputs": [],
   "source": [
    "from sentence_transformers import SentenceTransformer\n",
    "import pandas as pd\n",
    "from glob import glob\n",
    "import plotly.graph_objects as go\n",
    "\n",
    "import umap"
   ]
  },
  {
   "cell_type": "code",
   "execution_count": 70,
   "metadata": {},
   "outputs": [],
   "source": [
    "embedder = SentenceTransformer(\"sentence-transformers/all-MiniLM-L6-v2\")\n",
    "dim_reducer = umap.UMAP(n_neighbors=3, n_components=2, metric=\"cosine\")"
   ]
  },
  {
   "cell_type": "code",
   "execution_count": 71,
   "metadata": {},
   "outputs": [
    {
     "name": "stderr",
     "output_type": "stream",
     "text": [
      "c:\\Users\\tzehl\\anaconda3\\envs\\ds\\Lib\\site-packages\\sklearn\\utils\\deprecation.py:151: FutureWarning:\n",
      "\n",
      "'force_all_finite' was renamed to 'ensure_all_finite' in 1.6 and will be removed in 1.8.\n",
      "\n"
     ]
    }
   ],
   "source": [
    "# path = \"../results/copa/llama/CAPO/seed42/**/step_results.parquet\"\n",
    "path = \"../results/gsm8k/llama/CAPO/seed42/benchmark_experiment_gsm8k_llama_CAPO_42/4a7ed6c7986d10c96da8ff5875d45cfceda504e4c14d828bec5010882f5eb1be/step_results.parquet\"\n",
    "df = pd.read_parquet(glob(path, recursive=True)[0])\n",
    "prompts = df[\"prompt\"].str.split(\"Input:\", expand=True)[0].unique()\n",
    "embs = embedder.encode(prompts)\n",
    "embs_2d = dim_reducer.fit_transform(embs)\n",
    "scores = df[\"score\"].values"
   ]
  },
  {
   "cell_type": "code",
   "execution_count": 72,
   "metadata": {},
   "outputs": [
    {
     "data": {
      "application/vnd.plotly.v1+json": {
       "config": {
        "plotlyServerURL": "https://plot.ly"
       },
       "data": [
        {
         "colorscale": [
          [
           0,
           "#440154"
          ],
          [
           0.1111111111111111,
           "#482878"
          ],
          [
           0.2222222222222222,
           "#3e4989"
          ],
          [
           0.3333333333333333,
           "#31688e"
          ],
          [
           0.4444444444444444,
           "#26828e"
          ],
          [
           0.5555555555555556,
           "#1f9e89"
          ],
          [
           0.6666666666666666,
           "#35b779"
          ],
          [
           0.7777777777777778,
           "#6ece58"
          ],
          [
           0.8888888888888888,
           "#b5de2b"
          ],
          [
           1,
           "#fde725"
          ]
         ],
         "contours": {
          "coloring": "heatmap",
          "labelfont": {
           "color": "white",
           "size": 12
          },
          "showlabels": true
         },
         "type": "contour",
         "x": [
          16.009748,
          15.37925,
          13.990713,
          15.019997,
          13.90464,
          15.132259,
          14.245124,
          14.477381,
          18.089552,
          16.969103,
          17.041517,
          18.086514,
          17.469627,
          16.76185,
          16.707941,
          17.659317,
          17.611973,
          17.133085,
          18.273897,
          16.237474,
          16.612194,
          17.047459
         ],
         "y": [
          4.1878524,
          3.6797523,
          9.875646,
          3.3940377,
          9.279829,
          3.4998896,
          9.463281,
          9.909992,
          8.137734,
          5.0697207,
          6.3301344,
          7.932224,
          8.103721,
          6.6555867,
          7.541287,
          6.6131773,
          6.052375,
          8.441127,
          7.5842776,
          4.4263225,
          4.777813,
          7.7283845
         ],
         "z": [
          -0.8666666666666667,
          -0.8666666666666667,
          -0.8333333333333334,
          -0.8333333333333334,
          -0.8,
          -0.8,
          -0.8,
          -0.7333333333333333,
          -0.6333333333333333,
          -0.6333333333333333,
          -0.8166666666666667,
          -0.7833333333333333,
          -0.75,
          -0.75,
          -0.7333333333333333,
          -0.7333333333333333,
          -0.7333333333333333,
          -0.7166666666666667,
          -0.7,
          -0.7,
          -0.8333333333333334,
          -0.7714285714285715,
          -0.7619047619047619,
          -0.7619047619047619,
          -0.7523809523809524,
          -0.7380952380952381,
          -0.7333333333333333,
          -0.719047619047619,
          -0.6714285714285714,
          -0.6666666666666666,
          -0.8291666666666667,
          -0.7666666666666667,
          -0.75,
          -0.75,
          -0.7458333333333333,
          -0.7333333333333333,
          -0.7166666666666667,
          -0.7125,
          -0.7041666666666667,
          -0.6708333333333333,
          -0.8291666666666667,
          -0.7666666666666667,
          -0.75,
          -0.75,
          -0.7458333333333333,
          -0.7333333333333333,
          -0.7166666666666667,
          -0.7125,
          -0.7041666666666667,
          -0.7041666666666667,
          -0.84,
          -0.7866666666666666,
          -0.7633333333333333,
          -0.7633333333333333,
          -0.7566666666666667,
          -0.7566666666666667,
          -0.7366666666666667,
          -0.7366666666666667,
          -0.7266666666666667,
          -0.7233333333333334,
          -0.84,
          -0.7866666666666666,
          -0.7633333333333333,
          -0.7633333333333333,
          -0.7566666666666667,
          -0.7566666666666667,
          -0.7366666666666667,
          -0.7366666666666667,
          -0.7266666666666667,
          -0.7233333333333334,
          -0.84,
          -0.7866666666666666,
          -0.7633333333333333,
          -0.7633333333333333,
          -0.7566666666666667,
          -0.7566666666666667,
          -0.7366666666666667,
          -0.7366666666666667,
          -0.7266666666666667,
          -0.7266666666666667,
          -0.84,
          -0.7866666666666666,
          -0.77,
          -0.7633333333333333,
          -0.7633333333333333,
          -0.7566666666666667,
          -0.7566666666666667,
          -0.7366666666666667,
          -0.7366666666666667,
          -0.7266666666666667,
          -0.84,
          -0.7866666666666666,
          -0.77,
          -0.7633333333333333,
          -0.7633333333333333,
          -0.7566666666666667,
          -0.7566666666666667,
          -0.7366666666666667,
          -0.7366666666666667,
          -0.7266666666666667,
          -0.84,
          -0.7866666666666666,
          -0.77,
          -0.7633333333333333,
          -0.7633333333333333,
          -0.7566666666666667,
          -0.7566666666666667,
          -0.7366666666666667,
          -0.7366666666666667,
          -0.7266666666666667,
          -0.84,
          -0.7866666666666666,
          -0.77,
          -0.7633333333333333,
          -0.7633333333333333,
          -0.7566666666666667,
          -0.7566666666666667,
          -0.7366666666666667,
          -0.7366666666666667,
          -0.7266666666666667,
          -0.84,
          -0.7866666666666666,
          -0.77,
          -0.7633333333333333,
          -0.7633333333333333,
          -0.7566666666666667,
          -0.7566666666666667,
          -0.7366666666666667,
          -0.7366666666666667,
          -0.7266666666666667,
          -0.84,
          -0.7866666666666666,
          -0.77,
          -0.7666666666666667,
          -0.7633333333333333,
          -0.7633333333333333,
          -0.7611111111111111,
          -0.7566666666666667,
          -0.7566666666666667,
          -0.7266666666666667,
          -0.84,
          -0.7866666666666666,
          -0.7766666666666666,
          -0.77,
          -0.7633333333333333,
          -0.7633333333333333,
          -0.7566666666666667,
          -0.7566666666666667,
          -0.7566666666666667,
          -0.7366666666666667
         ]
        },
        {
         "mode": "markers",
         "type": "scatter",
         "x": [
          16.009748,
          15.37925,
          13.990713,
          15.019997,
          13.90464,
          15.132259,
          14.245124,
          14.477381,
          18.089552,
          16.969103,
          17.041517,
          18.086514,
          17.469627,
          16.76185,
          16.707941,
          17.659317,
          17.611973,
          17.133085,
          18.273897,
          16.237474,
          16.612194,
          17.047459
         ],
         "y": [
          4.1878524,
          3.6797523,
          9.875646,
          3.3940377,
          9.279829,
          3.4998896,
          9.463281,
          9.909992,
          8.137734,
          5.0697207,
          6.3301344,
          7.932224,
          8.103721,
          6.6555867,
          7.541287,
          6.6131773,
          6.052375,
          8.441127,
          7.5842776,
          4.4263225,
          4.777813,
          7.7283845
         ]
        }
       ],
       "layout": {
        "height": 800,
        "template": {
         "data": {
          "bar": [
           {
            "error_x": {
             "color": "#2a3f5f"
            },
            "error_y": {
             "color": "#2a3f5f"
            },
            "marker": {
             "line": {
              "color": "#E5ECF6",
              "width": 0.5
             },
             "pattern": {
              "fillmode": "overlay",
              "size": 10,
              "solidity": 0.2
             }
            },
            "type": "bar"
           }
          ],
          "barpolar": [
           {
            "marker": {
             "line": {
              "color": "#E5ECF6",
              "width": 0.5
             },
             "pattern": {
              "fillmode": "overlay",
              "size": 10,
              "solidity": 0.2
             }
            },
            "type": "barpolar"
           }
          ],
          "carpet": [
           {
            "aaxis": {
             "endlinecolor": "#2a3f5f",
             "gridcolor": "white",
             "linecolor": "white",
             "minorgridcolor": "white",
             "startlinecolor": "#2a3f5f"
            },
            "baxis": {
             "endlinecolor": "#2a3f5f",
             "gridcolor": "white",
             "linecolor": "white",
             "minorgridcolor": "white",
             "startlinecolor": "#2a3f5f"
            },
            "type": "carpet"
           }
          ],
          "choropleth": [
           {
            "colorbar": {
             "outlinewidth": 0,
             "ticks": ""
            },
            "type": "choropleth"
           }
          ],
          "contour": [
           {
            "colorbar": {
             "outlinewidth": 0,
             "ticks": ""
            },
            "colorscale": [
             [
              0,
              "#0d0887"
             ],
             [
              0.1111111111111111,
              "#46039f"
             ],
             [
              0.2222222222222222,
              "#7201a8"
             ],
             [
              0.3333333333333333,
              "#9c179e"
             ],
             [
              0.4444444444444444,
              "#bd3786"
             ],
             [
              0.5555555555555556,
              "#d8576b"
             ],
             [
              0.6666666666666666,
              "#ed7953"
             ],
             [
              0.7777777777777778,
              "#fb9f3a"
             ],
             [
              0.8888888888888888,
              "#fdca26"
             ],
             [
              1,
              "#f0f921"
             ]
            ],
            "type": "contour"
           }
          ],
          "contourcarpet": [
           {
            "colorbar": {
             "outlinewidth": 0,
             "ticks": ""
            },
            "type": "contourcarpet"
           }
          ],
          "heatmap": [
           {
            "colorbar": {
             "outlinewidth": 0,
             "ticks": ""
            },
            "colorscale": [
             [
              0,
              "#0d0887"
             ],
             [
              0.1111111111111111,
              "#46039f"
             ],
             [
              0.2222222222222222,
              "#7201a8"
             ],
             [
              0.3333333333333333,
              "#9c179e"
             ],
             [
              0.4444444444444444,
              "#bd3786"
             ],
             [
              0.5555555555555556,
              "#d8576b"
             ],
             [
              0.6666666666666666,
              "#ed7953"
             ],
             [
              0.7777777777777778,
              "#fb9f3a"
             ],
             [
              0.8888888888888888,
              "#fdca26"
             ],
             [
              1,
              "#f0f921"
             ]
            ],
            "type": "heatmap"
           }
          ],
          "heatmapgl": [
           {
            "colorbar": {
             "outlinewidth": 0,
             "ticks": ""
            },
            "colorscale": [
             [
              0,
              "#0d0887"
             ],
             [
              0.1111111111111111,
              "#46039f"
             ],
             [
              0.2222222222222222,
              "#7201a8"
             ],
             [
              0.3333333333333333,
              "#9c179e"
             ],
             [
              0.4444444444444444,
              "#bd3786"
             ],
             [
              0.5555555555555556,
              "#d8576b"
             ],
             [
              0.6666666666666666,
              "#ed7953"
             ],
             [
              0.7777777777777778,
              "#fb9f3a"
             ],
             [
              0.8888888888888888,
              "#fdca26"
             ],
             [
              1,
              "#f0f921"
             ]
            ],
            "type": "heatmapgl"
           }
          ],
          "histogram": [
           {
            "marker": {
             "pattern": {
              "fillmode": "overlay",
              "size": 10,
              "solidity": 0.2
             }
            },
            "type": "histogram"
           }
          ],
          "histogram2d": [
           {
            "colorbar": {
             "outlinewidth": 0,
             "ticks": ""
            },
            "colorscale": [
             [
              0,
              "#0d0887"
             ],
             [
              0.1111111111111111,
              "#46039f"
             ],
             [
              0.2222222222222222,
              "#7201a8"
             ],
             [
              0.3333333333333333,
              "#9c179e"
             ],
             [
              0.4444444444444444,
              "#bd3786"
             ],
             [
              0.5555555555555556,
              "#d8576b"
             ],
             [
              0.6666666666666666,
              "#ed7953"
             ],
             [
              0.7777777777777778,
              "#fb9f3a"
             ],
             [
              0.8888888888888888,
              "#fdca26"
             ],
             [
              1,
              "#f0f921"
             ]
            ],
            "type": "histogram2d"
           }
          ],
          "histogram2dcontour": [
           {
            "colorbar": {
             "outlinewidth": 0,
             "ticks": ""
            },
            "colorscale": [
             [
              0,
              "#0d0887"
             ],
             [
              0.1111111111111111,
              "#46039f"
             ],
             [
              0.2222222222222222,
              "#7201a8"
             ],
             [
              0.3333333333333333,
              "#9c179e"
             ],
             [
              0.4444444444444444,
              "#bd3786"
             ],
             [
              0.5555555555555556,
              "#d8576b"
             ],
             [
              0.6666666666666666,
              "#ed7953"
             ],
             [
              0.7777777777777778,
              "#fb9f3a"
             ],
             [
              0.8888888888888888,
              "#fdca26"
             ],
             [
              1,
              "#f0f921"
             ]
            ],
            "type": "histogram2dcontour"
           }
          ],
          "mesh3d": [
           {
            "colorbar": {
             "outlinewidth": 0,
             "ticks": ""
            },
            "type": "mesh3d"
           }
          ],
          "parcoords": [
           {
            "line": {
             "colorbar": {
              "outlinewidth": 0,
              "ticks": ""
             }
            },
            "type": "parcoords"
           }
          ],
          "pie": [
           {
            "automargin": true,
            "type": "pie"
           }
          ],
          "scatter": [
           {
            "fillpattern": {
             "fillmode": "overlay",
             "size": 10,
             "solidity": 0.2
            },
            "type": "scatter"
           }
          ],
          "scatter3d": [
           {
            "line": {
             "colorbar": {
              "outlinewidth": 0,
              "ticks": ""
             }
            },
            "marker": {
             "colorbar": {
              "outlinewidth": 0,
              "ticks": ""
             }
            },
            "type": "scatter3d"
           }
          ],
          "scattercarpet": [
           {
            "marker": {
             "colorbar": {
              "outlinewidth": 0,
              "ticks": ""
             }
            },
            "type": "scattercarpet"
           }
          ],
          "scattergeo": [
           {
            "marker": {
             "colorbar": {
              "outlinewidth": 0,
              "ticks": ""
             }
            },
            "type": "scattergeo"
           }
          ],
          "scattergl": [
           {
            "marker": {
             "colorbar": {
              "outlinewidth": 0,
              "ticks": ""
             }
            },
            "type": "scattergl"
           }
          ],
          "scattermapbox": [
           {
            "marker": {
             "colorbar": {
              "outlinewidth": 0,
              "ticks": ""
             }
            },
            "type": "scattermapbox"
           }
          ],
          "scatterpolar": [
           {
            "marker": {
             "colorbar": {
              "outlinewidth": 0,
              "ticks": ""
             }
            },
            "type": "scatterpolar"
           }
          ],
          "scatterpolargl": [
           {
            "marker": {
             "colorbar": {
              "outlinewidth": 0,
              "ticks": ""
             }
            },
            "type": "scatterpolargl"
           }
          ],
          "scatterternary": [
           {
            "marker": {
             "colorbar": {
              "outlinewidth": 0,
              "ticks": ""
             }
            },
            "type": "scatterternary"
           }
          ],
          "surface": [
           {
            "colorbar": {
             "outlinewidth": 0,
             "ticks": ""
            },
            "colorscale": [
             [
              0,
              "#0d0887"
             ],
             [
              0.1111111111111111,
              "#46039f"
             ],
             [
              0.2222222222222222,
              "#7201a8"
             ],
             [
              0.3333333333333333,
              "#9c179e"
             ],
             [
              0.4444444444444444,
              "#bd3786"
             ],
             [
              0.5555555555555556,
              "#d8576b"
             ],
             [
              0.6666666666666666,
              "#ed7953"
             ],
             [
              0.7777777777777778,
              "#fb9f3a"
             ],
             [
              0.8888888888888888,
              "#fdca26"
             ],
             [
              1,
              "#f0f921"
             ]
            ],
            "type": "surface"
           }
          ],
          "table": [
           {
            "cells": {
             "fill": {
              "color": "#EBF0F8"
             },
             "line": {
              "color": "white"
             }
            },
            "header": {
             "fill": {
              "color": "#C8D4E3"
             },
             "line": {
              "color": "white"
             }
            },
            "type": "table"
           }
          ]
         },
         "layout": {
          "annotationdefaults": {
           "arrowcolor": "#2a3f5f",
           "arrowhead": 0,
           "arrowwidth": 1
          },
          "autotypenumbers": "strict",
          "coloraxis": {
           "colorbar": {
            "outlinewidth": 0,
            "ticks": ""
           }
          },
          "colorscale": {
           "diverging": [
            [
             0,
             "#8e0152"
            ],
            [
             0.1,
             "#c51b7d"
            ],
            [
             0.2,
             "#de77ae"
            ],
            [
             0.3,
             "#f1b6da"
            ],
            [
             0.4,
             "#fde0ef"
            ],
            [
             0.5,
             "#f7f7f7"
            ],
            [
             0.6,
             "#e6f5d0"
            ],
            [
             0.7,
             "#b8e186"
            ],
            [
             0.8,
             "#7fbc41"
            ],
            [
             0.9,
             "#4d9221"
            ],
            [
             1,
             "#276419"
            ]
           ],
           "sequential": [
            [
             0,
             "#0d0887"
            ],
            [
             0.1111111111111111,
             "#46039f"
            ],
            [
             0.2222222222222222,
             "#7201a8"
            ],
            [
             0.3333333333333333,
             "#9c179e"
            ],
            [
             0.4444444444444444,
             "#bd3786"
            ],
            [
             0.5555555555555556,
             "#d8576b"
            ],
            [
             0.6666666666666666,
             "#ed7953"
            ],
            [
             0.7777777777777778,
             "#fb9f3a"
            ],
            [
             0.8888888888888888,
             "#fdca26"
            ],
            [
             1,
             "#f0f921"
            ]
           ],
           "sequentialminus": [
            [
             0,
             "#0d0887"
            ],
            [
             0.1111111111111111,
             "#46039f"
            ],
            [
             0.2222222222222222,
             "#7201a8"
            ],
            [
             0.3333333333333333,
             "#9c179e"
            ],
            [
             0.4444444444444444,
             "#bd3786"
            ],
            [
             0.5555555555555556,
             "#d8576b"
            ],
            [
             0.6666666666666666,
             "#ed7953"
            ],
            [
             0.7777777777777778,
             "#fb9f3a"
            ],
            [
             0.8888888888888888,
             "#fdca26"
            ],
            [
             1,
             "#f0f921"
            ]
           ]
          },
          "colorway": [
           "#636efa",
           "#EF553B",
           "#00cc96",
           "#ab63fa",
           "#FFA15A",
           "#19d3f3",
           "#FF6692",
           "#B6E880",
           "#FF97FF",
           "#FECB52"
          ],
          "font": {
           "color": "#2a3f5f"
          },
          "geo": {
           "bgcolor": "white",
           "lakecolor": "white",
           "landcolor": "#E5ECF6",
           "showlakes": true,
           "showland": true,
           "subunitcolor": "white"
          },
          "hoverlabel": {
           "align": "left"
          },
          "hovermode": "closest",
          "mapbox": {
           "style": "light"
          },
          "paper_bgcolor": "white",
          "plot_bgcolor": "#E5ECF6",
          "polar": {
           "angularaxis": {
            "gridcolor": "white",
            "linecolor": "white",
            "ticks": ""
           },
           "bgcolor": "#E5ECF6",
           "radialaxis": {
            "gridcolor": "white",
            "linecolor": "white",
            "ticks": ""
           }
          },
          "scene": {
           "xaxis": {
            "backgroundcolor": "#E5ECF6",
            "gridcolor": "white",
            "gridwidth": 2,
            "linecolor": "white",
            "showbackground": true,
            "ticks": "",
            "zerolinecolor": "white"
           },
           "yaxis": {
            "backgroundcolor": "#E5ECF6",
            "gridcolor": "white",
            "gridwidth": 2,
            "linecolor": "white",
            "showbackground": true,
            "ticks": "",
            "zerolinecolor": "white"
           },
           "zaxis": {
            "backgroundcolor": "#E5ECF6",
            "gridcolor": "white",
            "gridwidth": 2,
            "linecolor": "white",
            "showbackground": true,
            "ticks": "",
            "zerolinecolor": "white"
           }
          },
          "shapedefaults": {
           "line": {
            "color": "#2a3f5f"
           }
          },
          "ternary": {
           "aaxis": {
            "gridcolor": "white",
            "linecolor": "white",
            "ticks": ""
           },
           "baxis": {
            "gridcolor": "white",
            "linecolor": "white",
            "ticks": ""
           },
           "bgcolor": "#E5ECF6",
           "caxis": {
            "gridcolor": "white",
            "linecolor": "white",
            "ticks": ""
           }
          },
          "title": {
           "x": 0.05
          },
          "xaxis": {
           "automargin": true,
           "gridcolor": "white",
           "linecolor": "white",
           "ticks": "",
           "title": {
            "standoff": 15
           },
           "zerolinecolor": "white",
           "zerolinewidth": 2
          },
          "yaxis": {
           "automargin": true,
           "gridcolor": "white",
           "linecolor": "white",
           "ticks": "",
           "title": {
            "standoff": 15
           },
           "zerolinecolor": "white",
           "zerolinewidth": 2
          }
         }
        },
        "width": 800
       }
      }
     },
     "metadata": {},
     "output_type": "display_data"
    }
   ],
   "source": [
    "fig = go.Figure(\n",
    "    data=go.Contour(\n",
    "        z=-scores,\n",
    "        x=embs_2d[:, 0],\n",
    "        y=embs_2d[:, 1],\n",
    "        colorscale=\"Viridis\",\n",
    "        contours=dict(\n",
    "            coloring=\"heatmap\",\n",
    "            showlabels=True,  # show labels on contours\n",
    "            labelfont=dict(  # label font properties\n",
    "                size=12,\n",
    "                color=\"white\",\n",
    "            ),\n",
    "        ),\n",
    "    )\n",
    ").update_layout({\"height\": 800, \"width\": 800})\n",
    "\n",
    "# show dots on top of the contour plot with color according to col step\n",
    "fig.add_trace(\n",
    "    go.Scatter(\n",
    "        x=embs_2d[:, 0],\n",
    "        y=embs_2d[:, 1],\n",
    "        mode=\"markers\",\n",
    "        # marker=dict(\n",
    "        #     size=8,\n",
    "        #     color=df[\"step\"],\n",
    "        #     showscale=True\n",
    "        # )\n",
    "    )\n",
    ")\n",
    "fig.show()"
   ]
  },
  {
   "cell_type": "code",
   "execution_count": 73,
   "metadata": {},
   "outputs": [
    {
     "data": {
      "text/plain": [
       "array(['Break down this word problem carefully. Remember to format the final answer within <final_answer> </final_answer> tags.\\n\\n',\n",
       "       'Calling all math wizards! I need help with this tricky multi-step word problem. Walk me through your solution process and wrap the final answer with <final_answer> </final_answer> tags.\\n\\n',\n",
       "       'Please analyze this elementary school math problem that requires multiple logical steps. After explaining your reasoning, provide the ultimate solution between <final_answer> tags.\\n\\n',\n",
       "       \"I'm having trouble with this grade school math word problem. Can you provide a detailed solution? Make sure to put your final answer between <final_answer> and </final_answer> markers so I can easily identify it.\\n\\n\",\n",
       "       'Analyze and solve the following elementary school math problem that requires multiple steps of reasoning. Your final answer must be contained within <final_answer> </final_answer> tags.\\n\\n',\n",
       "       \"I'd appreciate your assistance with this elementary math word problem. Please explain each step of your reasoning and make sure to format the final solution inside <final_answer> </final_answer> markers.\\n\\n\",\n",
       "       'Tackle this elementary math problem by breaking it into logical steps. When you reach the solution, enclose the final answer with <final_answer> and </final_answer> markers for clarity.\\n\\n',\n",
       "       'This problem requires multi-step reasoning to solve correctly. Please walk through your approach and clearly indicate your final answer using the <final_answer> </final_answer> format.\\n\\n',\n",
       "       'Solve step-by-step. Final answer between <final_answer> tags.\\n\\n',\n",
       "       \"I'm struggling to crack this complex math word problem from my grade school days, which demands a series of logical steps to unravel. Could you break down the solution into manageable parts and guide me through your thought process? When you arrive at the final solution, please enclose it within <final_answer> and </final_answer> tags so it stands out clearly.\\n\\n\",\n",
       "       \"I'm struggling to solve a complex math word problem typically given to grade school students, which involves multiple steps of reasoning. Could you walk me through a step-by-step approach to solve it and clearly mark the final solution using <final_answer> and </final_answer> tags so it's easy to spot the answer?\\n\\n\",\n",
       "       \"To address this math word problem from an elementary school level, which demands a reasoning process that involves several steps, it's necessary to dissect the problem into manageable, logical parts. Then, methodically solve each component, detailing your thought process as you progress. Upon arriving at the solution, format your final answer by placing it between <final_answer> and </final_answer> tags, ensuring that the answer is unmistakably presented within these markers for easy identification and extraction.\\n\\n\",\n",
       "       \"To tackle this math word problem from an elementary school level, which demands a reasoning process that involves multiple steps, it's crucial to deconstruct it into smaller, coherent segments that can be logically analyzed. Approach the problem with a meticulous mindset, solving each part systematically while elaborating on your reasoning at each stage. Ultimately, encapsulate your final solution within the designated <final_answer> and </final_answer> markers to ensure it is clearly identifiable and easily extractable.\\n\\n\",\n",
       "       \"I'm struggling to solve a complex grade school math word problem that involves multiple steps. To tackle this, I need a step-by-step breakdown of the solution, where each part of the problem is analyzed and solved in a logical and methodical manner, with clear explanations for each step. Could you provide a thorough, step-by-step solution to this problem, ensuring that your reasoning is transparent and easy to follow? Once you've reached the final solution, please enclose it within <final_answer> and </final_answer> tags so it can be easily located and extracted.\\n\\n\",\n",
       "       'To address a challenging grade school math word problem that demands a multi-step approach, I require a detailed, sequential analysis. This should involve dissecting the problem into manageable parts, solving each component through logical reasoning, and providing clear, concise explanations for every step of the process. The goal is to create a transparent, easy-to-understand solution that methodically leads to the final answer. Upon reaching the conclusion, please format the final solution by placing it between <final_answer> and </final_answer> markers for straightforward identification and extraction.\\n\\n',\n",
       "       \"I'm having trouble tackling a challenging math word problem from grade school that involves several steps to reach the correct solution. Can you break down the problem into manageable parts, provide a detailed solution, and highlight the final result within the <final_answer> </final_answer> tags for easy identification?\\n\\n\",\n",
       "       \"I'm struggling to solve a complex math word problem intended for grade school level, which demands a series of logical steps to arrive at the correct solution. Could you break down the problem step by step, explaining your thought process, and then clearly highlight the final answer enclosed within <final_answer> and </final_answer> tags for easy recognition?\\n\\n\",\n",
       "       \"Let's break down this elementary school math word problem into manageable parts and solve it step by step, using logical reasoning and a systematic approach. As we work through the problem, please provide a clear explanation for each step of your reasoning. The goal is to arrive at a final solution, which should be clearly presented between the <final_answer> and </final_answer> markers for easy identification and extraction. This will ensure that the answer is readily accessible and can be accurately extracted for further use.\\n\\n\",\n",
       "       'Help me crack a tricky grade school math puzzle that demands a series of logical steps to unravel. Could you dissect this math problem, typically taught in elementary school, into bite-sized components, offer a step-by-step explanation of your thought process, and then encapsulate the final solution within <final_answer> tags to make it easily accessible?\\n\\n',\n",
       "       \"To tackle this math word problem, which demands a series of logical steps to arrive at the correct solution, it's essential to dissect it methodically and outline your thought process. When you've reached the conclusion, be sure to encapsulate your final answer within the designated <final_answer> </final_answer> tags for easy identification.\\n\\n\",\n",
       "       \"I'm struggling to crack this complex math word problem from my grade school coursework, which demands a series of logical steps to arrive at the correct solution. Could you break down the problem into manageable parts, methodically explaining your thought process and calculations at each stage? When you reach the conclusion, would you kindly enclose your final numerical answer within <final_answer> and </final_answer> tags for easy recognition?\\n\\n\",\n",
       "       \"You're faced with a challenging math word problem from a grade school curriculum that demands a series of logical steps to find the solution. To break it down, a systematic approach is necessary, detailing each stage of the thought process. Can you provide a detailed, sequential explanation to solve this problem, ensuring that the final result is clearly highlighted within the <final_answer> </final_answer> markers for effortless extraction and identification of the solution?\\n\\n\"],\n",
       "      dtype=object)"
      ]
     },
     "execution_count": 73,
     "metadata": {},
     "output_type": "execute_result"
    }
   ],
   "source": [
    "prompts"
   ]
  }
 ],
 "metadata": {
  "kernelspec": {
   "display_name": "ds",
   "language": "python",
   "name": "python3"
  },
  "language_info": {
   "codemirror_mode": {
    "name": "ipython",
    "version": 3
   },
   "file_extension": ".py",
   "mimetype": "text/x-python",
   "name": "python",
   "nbconvert_exporter": "python",
   "pygments_lexer": "ipython3",
   "version": "3.12.5"
  }
 },
 "nbformat": 4,
 "nbformat_minor": 2
}
