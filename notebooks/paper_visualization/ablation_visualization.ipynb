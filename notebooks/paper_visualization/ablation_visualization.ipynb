{
 "cells": [
  {
   "cell_type": "markdown",
   "metadata": {},
   "source": [
    "# Ablation Experiment Results"
   ]
  },
  {
   "cell_type": "code",
   "execution_count": null,
   "metadata": {},
   "outputs": [],
   "source": [
    "from capo.analysis.utils import (\n",
    "    get_results,\n",
    "    generate_comparison_table,\n",
    ")\n",
    "from capo.analysis.visualizations import (\n",
    "    plot_population_scores_comparison,\n",
    "    plot_length_score,\n",
    ")\n",
    "\n",
    "import os\n",
    "\n",
    "os.chdir(\"../../\")"
   ]
  },
  {
   "cell_type": "code",
   "execution_count": null,
   "metadata": {},
   "outputs": [],
   "source": [
    "# CAPO    # EVO     # CAPO_MUT    # EVO_MUT\n",
    "colors = [\"#1b9e77\", \"#7570b3\", \"#66D874\", \"#9570b2\"]\n",
    "markers = [\"o\", \"o\", \"d\", \"d\"]"
   ]
  },
  {
   "cell_type": "code",
   "execution_count": null,
   "metadata": {},
   "outputs": [],
   "source": [
    "DATASETS = [\"agnews\", \"gsm8k\"]"
   ]
  },
  {
   "cell_type": "markdown",
   "metadata": {},
   "source": [
    "## No Racing"
   ]
  },
  {
   "cell_type": "code",
   "execution_count": null,
   "metadata": {},
   "outputs": [],
   "source": [
    "for dataset in DATASETS:\n",
    "    plot_population_scores_comparison(\n",
    "        dataset,\n",
    "        \"llama\",\n",
    "        [\"CAPO\", \"\", \"CAPO_no_racing\"],\n",
    "        labels=[\"CAPO\", \"\", \"CAPO w/o racing\"],\n",
    "        plot_stddev=True,\n",
    "        x_col=\"step\",\n",
    "        colors=colors,\n",
    "        markers=markers,\n",
    "        ncols=2,\n",
    "    )"
   ]
  },
  {
   "cell_type": "markdown",
   "metadata": {},
   "source": [
    "- we can do much more steps if we do racing (3x for agnews/2x for gsm8k) with the 5 mio budget.\n",
    "- in case of gsm8k we increase in performance, while for agnews we are worse than the no racing version\n",
    "- performance differences lie really close to each other (within one sd)"
   ]
  },
  {
   "cell_type": "code",
   "execution_count": null,
   "metadata": {},
   "outputs": [],
   "source": [
    "for dataset in DATASETS:\n",
    "    plot_population_scores_comparison(\n",
    "        dataset,\n",
    "        \"llama\",\n",
    "        [\"CAPO\", \"\", \"CAPO_no_racing\"],\n",
    "        labels=[\"CAPO\", \"\", \"CAPO w/o racing\"],\n",
    "        plot_stddev=True,\n",
    "        plot_seeds=False,\n",
    "        x_col=\"input_tokens_cum\",\n",
    "        colors=colors,\n",
    "        markers=markers,\n",
    "        ncols=2,\n",
    "    )"
   ]
  },
  {
   "cell_type": "markdown",
   "metadata": {},
   "source": [
    "- first results available after less tokens invested (about 500.000 tokens earlier for all seeds)\n",
    "- in other seeds the results are already available much earlier (after just a couple of 100k tokens)"
   ]
  },
  {
   "cell_type": "code",
   "execution_count": null,
   "metadata": {},
   "outputs": [],
   "source": [
    "generate_comparison_table(DATASETS, [\"CAPO\", \"CAPO_no_racing\"], \"llama\")"
   ]
  },
  {
   "cell_type": "markdown",
   "metadata": {},
   "source": [
    "## Shuffling"
   ]
  },
  {
   "cell_type": "code",
   "execution_count": null,
   "metadata": {},
   "outputs": [],
   "source": [
    "for dataset in DATASETS:\n",
    "    plot_population_scores_comparison(\n",
    "        dataset,\n",
    "        \"llama\",\n",
    "        [\"CAPO\", \"nan\", \"CAPO_shuffling\"],\n",
    "        x_col=\"step\",\n",
    "        colors=colors,\n",
    "        markers=markers,\n",
    "        labels=[\"CAPO\", \"\", \"CAPO w/ shuffling\"],\n",
    "        ncols=2,\n",
    "    )"
   ]
  },
  {
   "cell_type": "code",
   "execution_count": null,
   "metadata": {},
   "outputs": [],
   "source": [
    "generate_comparison_table(DATASETS, [\"CAPO\", \"CAPO_shuffling\"], \"llama\")"
   ]
  },
  {
   "cell_type": "markdown",
   "metadata": {},
   "source": [
    "## Zero Shot Performance"
   ]
  },
  {
   "cell_type": "code",
   "execution_count": null,
   "metadata": {},
   "outputs": [],
   "source": [
    "for dataset in [\"gsm8k\"]:\n",
    "    plot_population_scores_comparison(\n",
    "        dataset,\n",
    "        \"llama\",\n",
    "        [\"CAPO\", \"EvoPromptGA\", \"CAPO_zero_shot\"],\n",
    "        labels=[\"CAPO\", \"EvoPromptGA\", \"CAPO zero shot\"],\n",
    "        plot_stddev=True,\n",
    "        plot_seeds=True,\n",
    "        x_col=\"step\",\n",
    "        colors=colors,\n",
    "        markers=markers,\n",
    "        ncols=2,\n",
    "    )"
   ]
  },
  {
   "cell_type": "markdown",
   "metadata": {},
   "source": [
    "- we can do much more steps without few shots (less token consuming)\n",
    "- for agnews we get better results in earlier steps when incorporation few-shots\n",
    "- for gsm8k the shots have a great influence on the performance"
   ]
  },
  {
   "cell_type": "code",
   "execution_count": null,
   "metadata": {},
   "outputs": [],
   "source": [
    "for dataset in DATASETS:\n",
    "    plot_population_scores_comparison(\n",
    "        dataset,\n",
    "        \"llama\",\n",
    "        [\"CAPO\", \"EvoPromptGA\", \"CAPO_zero_shot\"],\n",
    "        labels=[\"CAPO\", \"EvoPromptGA\", \"CAPO zero shot\"],\n",
    "        plot_stddev=True,\n",
    "        plot_seeds=True,\n",
    "        x_col=\"input_tokens_cum\",\n",
    "        colors=colors,\n",
    "        markers=markers,\n",
    "        ncols=2,\n",
    "    )"
   ]
  },
  {
   "cell_type": "markdown",
   "metadata": {},
   "source": [
    "- higher cost efficiency without few shots (good results are early available)\n",
    "- despite starting not as good as EvoPrompt we manage to take over the lead \n"
   ]
  },
  {
   "cell_type": "markdown",
   "metadata": {},
   "source": [
    "## Generic Initializations"
   ]
  },
  {
   "cell_type": "code",
   "execution_count": null,
   "metadata": {},
   "outputs": [],
   "source": [
    "for dataset in DATASETS:\n",
    "    plot_population_scores_comparison(\n",
    "        dataset,\n",
    "        \"llama\",\n",
    "        [\"CAPO\", \"EvoPromptGA\", \"CAPO_generic_init\"],  # , \"EvoPromptGA_generic_init\"],\n",
    "        labels=[\"CAPO\", \"EvoPromptGA\", \"CAPO w/ generic init\"],  # , \"EvoPromptGA w/ generic init\"],\n",
    "        plot_stddev=True,\n",
    "        x_col=\"input_tokens_cum\",\n",
    "        colors=colors,\n",
    "        markers=markers,\n",
    "        ncols=2,\n",
    "    )"
   ]
  },
  {
   "cell_type": "code",
   "execution_count": null,
   "metadata": {},
   "outputs": [],
   "source": [
    "generate_comparison_table(\n",
    "    DATASETS,\n",
    "    [\"CAPO\", \"EvoPromptGA\", \"EvoPromptGA_generic_init\", \"CAPO_generic_init\"],\n",
    "    \"llama\",\n",
    ")"
   ]
  },
  {
   "cell_type": "code",
   "execution_count": null,
   "metadata": {},
   "outputs": [],
   "source": [
    "generate_comparison_table(\n",
    "    DATASETS,\n",
    "    [\"CAPO\", \"EvoPromptGA\", \"EvoPromptGA_generic_init\", \"CAPO_generic_init\"],\n",
    "    \"llama\",\n",
    "    score_col=\"prompt_len\",\n",
    ")"
   ]
  },
  {
   "cell_type": "code",
   "execution_count": null,
   "metadata": {},
   "outputs": [],
   "source": [
    "plot_length_score(\n",
    "    \"gsm8k\",\n",
    "    \"llama\",\n",
    "    [\"CAPO\", \"EvoPromptGA\", \"CAPO_generic_init\"],\n",
    "    x_col=\"prompt_len\",\n",
    "    score_col=\"test_score\",\n",
    "    log_scale=False,\n",
    ");"
   ]
  },
  {
   "cell_type": "code",
   "execution_count": null,
   "metadata": {},
   "outputs": [],
   "source": [
    "print(\n",
    "    get_results(\"gsm8k\", \"llama\", \"CAPO_generic_init\")\n",
    "    .groupby(\"prompt\", as_index=False)\n",
    "    .first()\n",
    "    .sort_values(\"test_score\", ascending=False)\n",
    "    .iloc[0][\"prompt\"]\n",
    ")"
   ]
  },
  {
   "cell_type": "markdown",
   "metadata": {},
   "source": [
    "## EvoPrompt Simplified Template"
   ]
  },
  {
   "cell_type": "code",
   "execution_count": null,
   "metadata": {},
   "outputs": [],
   "source": [
    "for dataset in DATASETS:\n",
    "    plot_population_scores_comparison(\n",
    "        dataset,\n",
    "        \"llama\",\n",
    "        [\"nan\", \"EvoPromptGA\", \"nan\", \"EvoPromptGA_TD\"],\n",
    "        plot_stddev=True,\n",
    "        x_col=\"input_tokens_cum\",\n",
    "        colors=colors,\n",
    "        markers=markers,\n",
    "        ncols=2,\n",
    "    )"
   ]
  },
  {
   "cell_type": "markdown",
   "metadata": {},
   "source": [
    "- using our simplified template (which also incorporates a task description) we perform slightly worse than the vanilla EvoPromptGA\n",
    "- lets move this in the appendix"
   ]
  },
  {
   "cell_type": "markdown",
   "metadata": {},
   "source": [
    "## Plot multiple into one"
   ]
  },
  {
   "cell_type": "code",
   "execution_count": null,
   "metadata": {},
   "outputs": [],
   "source": [
    "plot_population_scores_comparison(\n",
    "    \"agnews\",\n",
    "    \"llama\",\n",
    "    [\"CAPO_no_racing\", \"CAPO_no_lp\", \"CAPO\", \"CAPO_zero_shot\"],\n",
    "    labels=[\"CAPO w/o racing\", r\"CAPO $\\gamma=0$\", \"CAPO\", \"CAPO zero shot\"],\n",
    "    continuous_colors=True,\n",
    "    plot_stddev=True,\n",
    "    plot_seeds=False,\n",
    "    ncols=2,\n",
    ");"
   ]
  },
  {
   "cell_type": "code",
   "execution_count": null,
   "metadata": {},
   "outputs": [],
   "source": [
    "plot_population_scores_comparison(\n",
    "    \"gsm8k\",\n",
    "    \"llama\",\n",
    "    [\"CAPO_no_racing\", \"CAPO_no_lp\", \"CAPO\", \"CAPO_zero_shot\"],\n",
    "    labels=[\"CAPO w/o racing\", r\"CAPO $\\gamma=0$\", \"CAPO\", \"CAPO zero shot\"],\n",
    "    continuous_colors=True,\n",
    "    plot_stddev=True,\n",
    "    plot_seeds=False,\n",
    "    ncols=2,\n",
    ");"
   ]
  },
  {
   "cell_type": "code",
   "execution_count": null,
   "metadata": {},
   "outputs": [],
   "source": [
    "plot_population_scores_comparison(\n",
    "    \"agnews\",\n",
    "    \"llama\",\n",
    "    [\"CAPO_no_racing\", \"CAPO_no_lp\", \"CAPO\", \"CAPO_zero_shot\"],\n",
    "    labels=[\"CAPO w/o racing\", r\"CAPO $\\gamma=0$\", \"CAPO\", \"CAPO zero shot\"],\n",
    "    x_col=\"input_tokens_cum\",\n",
    "    continuous_colors=True,\n",
    "    plot_stddev=True,\n",
    "    plot_seeds=False,\n",
    "    ncols=2,\n",
    ");"
   ]
  },
  {
   "cell_type": "code",
   "execution_count": null,
   "metadata": {},
   "outputs": [],
   "source": [
    "plot_population_scores_comparison(\n",
    "    \"agnews\",\n",
    "    \"llama\",\n",
    "    [\"CAPO\", \"CAPO_shuffling\", \"CAPO_no_racing\", \"CAPO_zero_shot\"],\n",
    "    labels=[\"CAPO\", \"CAPO w/ shuffling\", \"CAPO w/o racing\", \"CAPO zero shot\"],\n",
    "    plot_stddev=True,\n",
    "    plot_seeds=False,\n",
    ")"
   ]
  },
  {
   "cell_type": "code",
   "execution_count": null,
   "metadata": {},
   "outputs": [],
   "source": [
    "generate_comparison_table(\n",
    "    datasets=[\"agnews\", \"gsm8k\"],\n",
    "    optims=[\n",
    "        \"CAPO\",\n",
    "        \"CAPO_zero_shot\",\n",
    "        \"CAPO_no_lp\",\n",
    "        \"CAPO_no_racing\",\n",
    "        \"CAPO_generic_init\",\n",
    "        \"EvoPromptGA\",\n",
    "    ],\n",
    "    model=\"llama\",\n",
    ")"
   ]
  },
  {
   "cell_type": "markdown",
   "metadata": {},
   "source": []
  },
  {
   "cell_type": "code",
   "execution_count": null,
   "metadata": {},
   "outputs": [],
   "source": [
    "generate_comparison_table(\n",
    "    datasets=[\"agnews\", \"gsm8k\"],\n",
    "    optims=[\n",
    "        \"CAPO\",\n",
    "        \"CAPO_zero_shot\",\n",
    "        \"CAPO_no_lp\",\n",
    "        \"CAPO_no_racing\",\n",
    "        \"CAPO_generic_init\",\n",
    "        \"EvoPromptGA\",\n",
    "    ],\n",
    "    model=\"llama\",\n",
    "    score_col=\"prompt_len\",\n",
    ")"
   ]
  },
  {
   "cell_type": "code",
   "execution_count": null,
   "metadata": {},
   "outputs": [],
   "source": []
  }
 ],
 "metadata": {
  "kernelspec": {
   "display_name": "ds",
   "language": "python",
   "name": "python3"
  },
  "language_info": {
   "codemirror_mode": {
    "name": "ipython",
    "version": 3
   },
   "file_extension": ".py",
   "mimetype": "text/x-python",
   "name": "python",
   "nbconvert_exporter": "python",
   "pygments_lexer": "ipython3",
   "version": "3.12.5"
  }
 },
 "nbformat": 4,
 "nbformat_minor": 2
}
