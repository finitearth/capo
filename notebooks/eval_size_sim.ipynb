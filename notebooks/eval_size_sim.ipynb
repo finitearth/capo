{
 "cells": [
  {
   "cell_type": "code",
   "execution_count": 59,
   "metadata": {},
   "outputs": [],
   "source": [
    "import numpy as np\n",
    "from scipy.stats import ttest_rel"
   ]
  },
  {
   "cell_type": "code",
   "execution_count": 66,
   "metadata": {},
   "outputs": [],
   "source": [
    "p_prompt_1 = 0.90\n",
    "p_prompt_2 = 0.85\n",
    "alpha = 0.2\n",
    "n = 30 * 10\n",
    "ps = []\n",
    "sigs = []"
   ]
  },
  {
   "cell_type": "code",
   "execution_count": 67,
   "metadata": {},
   "outputs": [],
   "source": [
    "# simulate 30 samples (each sample is bernoulli)\n",
    "for _ in range(10_000):\n",
    "    samples_1 = np.random.binomial(1, p_prompt_1, n)\n",
    "    samples_2 = np.random.binomial(1, p_prompt_2, n)\n",
    "    _, p_value = ttest_rel(samples_1, samples_2, alternative=\"greater\")\n",
    "\n",
    "    ps.append(p_value)\n",
    "    sigs.append(p_value < alpha)"
   ]
  },
  {
   "cell_type": "code",
   "execution_count": 68,
   "metadata": {},
   "outputs": [],
   "source": [
    "ps = np.array(ps)\n",
    "sigs = np.array(sigs)\n",
    "ps = ps[~np.isnan(ps)]\n",
    "sigs = sigs[~np.isnan(sigs)]"
   ]
  },
  {
   "cell_type": "code",
   "execution_count": 69,
   "metadata": {},
   "outputs": [
    {
     "data": {
      "text/plain": [
       "0.09564231732970563"
      ]
     },
     "execution_count": 69,
     "metadata": {},
     "output_type": "execute_result"
    }
   ],
   "source": [
    "ps.mean()"
   ]
  },
  {
   "cell_type": "code",
   "execution_count": 70,
   "metadata": {},
   "outputs": [
    {
     "data": {
      "text/plain": [
       "0.8403"
      ]
     },
     "execution_count": 70,
     "metadata": {},
     "output_type": "execute_result"
    }
   ],
   "source": [
    "sigs.mean()"
   ]
  },
  {
   "cell_type": "code",
   "execution_count": null,
   "metadata": {},
   "outputs": [],
   "source": []
  }
 ],
 "metadata": {
  "kernelspec": {
   "display_name": "ds",
   "language": "python",
   "name": "python3"
  },
  "language_info": {
   "codemirror_mode": {
    "name": "ipython",
    "version": 3
   },
   "file_extension": ".py",
   "mimetype": "text/x-python",
   "name": "python",
   "nbconvert_exporter": "python",
   "pygments_lexer": "ipython3",
   "version": "3.12.5"
  }
 },
 "nbformat": 4,
 "nbformat_minor": 2
}
