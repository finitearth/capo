{
 "cells": [
  {
   "cell_type": "code",
   "execution_count": 365,
   "metadata": {},
   "outputs": [],
   "source": [
    "path = \"../results/copa/llama/CAPO/seed42/**/step_results.parquet\""
   ]
  },
  {
   "cell_type": "code",
   "execution_count": 366,
   "metadata": {},
   "outputs": [],
   "source": [
    "import matplotlib.pyplot as plt\n",
    "import pandas as pd\n",
    "from glob import glob"
   ]
  },
  {
   "cell_type": "code",
   "execution_count": 367,
   "metadata": {},
   "outputs": [
    {
     "data": {
      "text/html": [
       "<div>\n",
       "<style scoped>\n",
       "    .dataframe tbody tr th:only-of-type {\n",
       "        vertical-align: middle;\n",
       "    }\n",
       "\n",
       "    .dataframe tbody tr th {\n",
       "        vertical-align: top;\n",
       "    }\n",
       "\n",
       "    .dataframe thead th {\n",
       "        text-align: right;\n",
       "    }\n",
       "</style>\n",
       "<table border=\"1\" class=\"dataframe\">\n",
       "  <thead>\n",
       "    <tr style=\"text-align: right;\">\n",
       "      <th></th>\n",
       "      <th>step</th>\n",
       "      <th>timestamp</th>\n",
       "      <th>time_elapsed</th>\n",
       "      <th>score</th>\n",
       "      <th>prompt</th>\n",
       "      <th>input_tokens_meta_llm</th>\n",
       "      <th>output_tokens_meta_llm</th>\n",
       "      <th>input_tokens_downstream_llm</th>\n",
       "      <th>output_tokens_downstream_llm</th>\n",
       "    </tr>\n",
       "  </thead>\n",
       "  <tbody>\n",
       "    <tr>\n",
       "      <th>0</th>\n",
       "      <td>1</td>\n",
       "      <td>2025-03-21 19:43:18.364144</td>\n",
       "      <td>1249.751517</td>\n",
       "      <td>0.940000</td>\n",
       "      <td>Using commonsense reasoning, identify whether ...</td>\n",
       "      <td>1551</td>\n",
       "      <td>598</td>\n",
       "      <td>555582</td>\n",
       "      <td>234625</td>\n",
       "    </tr>\n",
       "    <tr>\n",
       "      <th>1</th>\n",
       "      <td>1</td>\n",
       "      <td>2025-03-21 19:43:18.364144</td>\n",
       "      <td>1249.751517</td>\n",
       "      <td>0.933333</td>\n",
       "      <td>From a commonsense perspective, analyze the gi...</td>\n",
       "      <td>1551</td>\n",
       "      <td>598</td>\n",
       "      <td>555582</td>\n",
       "      <td>234625</td>\n",
       "    </tr>\n",
       "    <tr>\n",
       "      <th>2</th>\n",
       "      <td>1</td>\n",
       "      <td>2025-03-21 19:43:18.364144</td>\n",
       "      <td>1249.751517</td>\n",
       "      <td>0.930000</td>\n",
       "      <td>This is a causal reasoning task. Consider the ...</td>\n",
       "      <td>1551</td>\n",
       "      <td>598</td>\n",
       "      <td>555582</td>\n",
       "      <td>234625</td>\n",
       "    </tr>\n",
       "    <tr>\n",
       "      <th>3</th>\n",
       "      <td>1</td>\n",
       "      <td>2025-03-21 19:43:18.364144</td>\n",
       "      <td>1249.751517</td>\n",
       "      <td>0.930000</td>\n",
       "      <td>Evaluate the given situation and identify the ...</td>\n",
       "      <td>1551</td>\n",
       "      <td>598</td>\n",
       "      <td>555582</td>\n",
       "      <td>234625</td>\n",
       "    </tr>\n",
       "    <tr>\n",
       "      <th>4</th>\n",
       "      <td>1</td>\n",
       "      <td>2025-03-21 19:43:18.364144</td>\n",
       "      <td>1249.751517</td>\n",
       "      <td>0.920000</td>\n",
       "      <td>Pick A or B based on which has the stronger ca...</td>\n",
       "      <td>1551</td>\n",
       "      <td>598</td>\n",
       "      <td>555582</td>\n",
       "      <td>234625</td>\n",
       "    </tr>\n",
       "    <tr>\n",
       "      <th>...</th>\n",
       "      <td>...</td>\n",
       "      <td>...</td>\n",
       "      <td>...</td>\n",
       "      <td>...</td>\n",
       "      <td>...</td>\n",
       "      <td>...</td>\n",
       "      <td>...</td>\n",
       "      <td>...</td>\n",
       "      <td>...</td>\n",
       "    </tr>\n",
       "    <tr>\n",
       "      <th>195</th>\n",
       "      <td>20</td>\n",
       "      <td>2025-03-21 21:20:03.181734</td>\n",
       "      <td>370.293667</td>\n",
       "      <td>0.930000</td>\n",
       "      <td>Evaluate the given situation from a practical ...</td>\n",
       "      <td>2162</td>\n",
       "      <td>1037</td>\n",
       "      <td>137668</td>\n",
       "      <td>130680</td>\n",
       "    </tr>\n",
       "    <tr>\n",
       "      <th>196</th>\n",
       "      <td>20</td>\n",
       "      <td>2025-03-21 21:20:03.181734</td>\n",
       "      <td>370.293667</td>\n",
       "      <td>0.930000</td>\n",
       "      <td>Evaluate the given situation and identify the ...</td>\n",
       "      <td>2162</td>\n",
       "      <td>1037</td>\n",
       "      <td>137668</td>\n",
       "      <td>130680</td>\n",
       "    </tr>\n",
       "    <tr>\n",
       "      <th>197</th>\n",
       "      <td>20</td>\n",
       "      <td>2025-03-21 21:20:03.181734</td>\n",
       "      <td>370.293667</td>\n",
       "      <td>0.926667</td>\n",
       "      <td>To solve this problem, you'll need to apply lo...</td>\n",
       "      <td>2162</td>\n",
       "      <td>1037</td>\n",
       "      <td>137668</td>\n",
       "      <td>130680</td>\n",
       "    </tr>\n",
       "    <tr>\n",
       "      <th>198</th>\n",
       "      <td>20</td>\n",
       "      <td>2025-03-21 21:20:03.181734</td>\n",
       "      <td>370.293667</td>\n",
       "      <td>0.926667</td>\n",
       "      <td>Assess the provided scenario, and then decide ...</td>\n",
       "      <td>2162</td>\n",
       "      <td>1037</td>\n",
       "      <td>137668</td>\n",
       "      <td>130680</td>\n",
       "    </tr>\n",
       "    <tr>\n",
       "      <th>199</th>\n",
       "      <td>20</td>\n",
       "      <td>2025-03-21 21:20:03.181734</td>\n",
       "      <td>370.293667</td>\n",
       "      <td>0.926667</td>\n",
       "      <td>Assess your capacity for logical reasoning by ...</td>\n",
       "      <td>2162</td>\n",
       "      <td>1037</td>\n",
       "      <td>137668</td>\n",
       "      <td>130680</td>\n",
       "    </tr>\n",
       "  </tbody>\n",
       "</table>\n",
       "<p>200 rows × 9 columns</p>\n",
       "</div>"
      ],
      "text/plain": [
       "     step                  timestamp  time_elapsed     score  \\\n",
       "0       1 2025-03-21 19:43:18.364144   1249.751517  0.940000   \n",
       "1       1 2025-03-21 19:43:18.364144   1249.751517  0.933333   \n",
       "2       1 2025-03-21 19:43:18.364144   1249.751517  0.930000   \n",
       "3       1 2025-03-21 19:43:18.364144   1249.751517  0.930000   \n",
       "4       1 2025-03-21 19:43:18.364144   1249.751517  0.920000   \n",
       "..    ...                        ...           ...       ...   \n",
       "195    20 2025-03-21 21:20:03.181734    370.293667  0.930000   \n",
       "196    20 2025-03-21 21:20:03.181734    370.293667  0.930000   \n",
       "197    20 2025-03-21 21:20:03.181734    370.293667  0.926667   \n",
       "198    20 2025-03-21 21:20:03.181734    370.293667  0.926667   \n",
       "199    20 2025-03-21 21:20:03.181734    370.293667  0.926667   \n",
       "\n",
       "                                                prompt  input_tokens_meta_llm  \\\n",
       "0    Using commonsense reasoning, identify whether ...                   1551   \n",
       "1    From a commonsense perspective, analyze the gi...                   1551   \n",
       "2    This is a causal reasoning task. Consider the ...                   1551   \n",
       "3    Evaluate the given situation and identify the ...                   1551   \n",
       "4    Pick A or B based on which has the stronger ca...                   1551   \n",
       "..                                                 ...                    ...   \n",
       "195  Evaluate the given situation from a practical ...                   2162   \n",
       "196  Evaluate the given situation and identify the ...                   2162   \n",
       "197  To solve this problem, you'll need to apply lo...                   2162   \n",
       "198  Assess the provided scenario, and then decide ...                   2162   \n",
       "199  Assess your capacity for logical reasoning by ...                   2162   \n",
       "\n",
       "     output_tokens_meta_llm  input_tokens_downstream_llm  \\\n",
       "0                       598                       555582   \n",
       "1                       598                       555582   \n",
       "2                       598                       555582   \n",
       "3                       598                       555582   \n",
       "4                       598                       555582   \n",
       "..                      ...                          ...   \n",
       "195                    1037                       137668   \n",
       "196                    1037                       137668   \n",
       "197                    1037                       137668   \n",
       "198                    1037                       137668   \n",
       "199                    1037                       137668   \n",
       "\n",
       "     output_tokens_downstream_llm  \n",
       "0                          234625  \n",
       "1                          234625  \n",
       "2                          234625  \n",
       "3                          234625  \n",
       "4                          234625  \n",
       "..                            ...  \n",
       "195                        130680  \n",
       "196                        130680  \n",
       "197                        130680  \n",
       "198                        130680  \n",
       "199                        130680  \n",
       "\n",
       "[200 rows x 9 columns]"
      ]
     },
     "execution_count": 367,
     "metadata": {},
     "output_type": "execute_result"
    }
   ],
   "source": [
    "df = pd.read_parquet(glob(path, recursive=True)[0])\n",
    "df"
   ]
  },
  {
   "cell_type": "code",
   "execution_count": 368,
   "metadata": {},
   "outputs": [],
   "source": [
    "df[\"total_tokens\"] = (\n",
    "    df[\"output_tokens_meta_llm\"]\n",
    "    + df[\"input_tokens_meta_llm\"]\n",
    "    + df[\"output_tokens_downstream_llm\"]\n",
    "    + df[\"input_tokens_downstream_llm\"]\n",
    ")\n",
    "df[\"total_tokens\"] = df[\"total_tokens\"].cumsum()"
   ]
  },
  {
   "cell_type": "code",
   "execution_count": 369,
   "metadata": {},
   "outputs": [],
   "source": [
    "# cum of tokens\n",
    "df[\"output_tokens_downstream_llm_cum\"] = df[\"output_tokens_downstream_llm\"].cumsum()\n",
    "df[\"output_tokens_meta_llm_cum\"] = df[\"output_tokens_meta_llm\"].cumsum()\n",
    "df[\"input_tokens_downstream_llm_cum\"] = df[\"input_tokens_downstream_llm\"].cumsum()\n",
    "df[\"input_tokens_meta_llm_cum\"] = df[\"input_tokens_meta_llm\"].cumsum()"
   ]
  },
  {
   "cell_type": "code",
   "execution_count": 370,
   "metadata": {},
   "outputs": [
    {
     "data": {
      "image/png": "[encoded data removed]",
      "text/plain": [
       "<Figure size 640x480 with 1 Axes>"
      ]
     },
     "metadata": {},
     "output_type": "display_data"
    }
   ],
   "source": [
    "# plot pie\n",
    "fig, ax = plt.subplots()\n",
    "ax.pie(\n",
    "    [\n",
    "        df[\"output_tokens_downstream_llm_cum\"].iloc[-1],\n",
    "        df[\"output_tokens_meta_llm_cum\"].iloc[-1],\n",
    "        df[\"input_tokens_downstream_llm_cum\"].iloc[-1],\n",
    "        df[\"input_tokens_meta_llm_cum\"].iloc[-1],\n",
    "    ],\n",
    "    labels=[\n",
    "        \"output_tokens_downstream_llm_cum\",\n",
    "        \"output_tokens_meta_llm_cum\",\n",
    "        \"input_tokens_downstream_llm_cum\",\n",
    "        \"input_tokens_meta_llm_cum\",\n",
    "    ],\n",
    "    autopct=\"%1.1f%%\",\n",
    ")\n",
    "plt.show()"
   ]
  },
  {
   "cell_type": "code",
   "execution_count": 371,
   "metadata": {},
   "outputs": [],
   "source": [
    "df[\"n_shots\"] = df[\"prompt\"].str.count(\"Input:\") - 1"
   ]
  },
  {
   "cell_type": "code",
   "execution_count": 372,
   "metadata": {},
   "outputs": [
    {
     "name": "stdout",
     "output_type": "stream",
     "text": [
      "Using commonsense reasoning, identify whether option A or option B is the correct cause or effect for the given scenario. Format your answer as <final_answer>A</final_answer> or <final_answer>B</final_answer>.\n",
      "\n",
      "Input:\n",
      "The man read the cartoon in the newspaper.\n",
      "effect A:\n",
      "He sipped coffee.\n",
      "effect B:\n",
      "He chuckled.\n",
      "Output:\n",
      "<final_answer>B</final_answer>\n",
      "\n",
      "Input:\n"
     ]
    }
   ],
   "source": [
    "print(df[\"prompt\"].sample(1).item())"
   ]
  },
  {
   "cell_type": "code",
   "execution_count": 374,
   "metadata": {},
   "outputs": [],
   "source": [
    "df[\"prompt_len\"] = df[\"prompt\"].str.len()"
   ]
  },
  {
   "cell_type": "code",
   "execution_count": 377,
   "metadata": {},
   "outputs": [
    {
     "data": {
      "image/png": "[encoded data removed]",
      "text/plain": [
       "<Figure size 640x480 with 1 Axes>"
      ]
     },
     "metadata": {},
     "output_type": "display_data"
    }
   ],
   "source": [
    "# correlation between number shots and score => boxplot, and give number of samples per n_shots\n",
    "fig = df.groupby(\"prompt\").first().boxplot(column=\"score\", by=\"n_shots\", showfliers=False)\n",
    "# add number of samples (unique prompts!) per n_shots\n",
    "num_samples = df.groupby([\"prompt\", \"n_shots\"]).size().reset_index().groupby(\"n_shots\").size()\n",
    "for i, n in enumerate(num_samples):\n",
    "    fig.text(\n",
    "        i + 1,\n",
    "        df[\"score\"].min(),\n",
    "        n,\n",
    "        ha=\"center\",\n",
    "        va=\"center\",\n",
    "        rotation=0,\n",
    "        fontsize=8,\n",
    "        color=\"black\",\n",
    "        fontweight=\"bold\",\n",
    "    )\n",
    "\n",
    "plt.show();"
   ]
  },
  {
   "cell_type": "code",
   "execution_count": 378,
   "metadata": {},
   "outputs": [
    {
     "data": {
      "text/html": [
       "<div>\n",
       "<style scoped>\n",
       "    .dataframe tbody tr th:only-of-type {\n",
       "        vertical-align: middle;\n",
       "    }\n",
       "\n",
       "    .dataframe tbody tr th {\n",
       "        vertical-align: top;\n",
       "    }\n",
       "\n",
       "    .dataframe thead th {\n",
       "        text-align: right;\n",
       "    }\n",
       "</style>\n",
       "<table border=\"1\" class=\"dataframe\">\n",
       "  <thead>\n",
       "    <tr style=\"text-align: right;\">\n",
       "      <th></th>\n",
       "      <th>step</th>\n",
       "      <th>time_elapsed</th>\n",
       "      <th>score</th>\n",
       "      <th>input_tokens_meta_llm</th>\n",
       "      <th>output_tokens_meta_llm</th>\n",
       "      <th>input_tokens_downstream_llm</th>\n",
       "      <th>output_tokens_downstream_llm</th>\n",
       "      <th>total_tokens</th>\n",
       "      <th>output_tokens_downstream_llm_cum</th>\n",
       "      <th>output_tokens_meta_llm_cum</th>\n",
       "      <th>input_tokens_downstream_llm_cum</th>\n",
       "      <th>input_tokens_meta_llm_cum</th>\n",
       "      <th>n_shots</th>\n",
       "      <th>prompt_len</th>\n",
       "      <th>score_max</th>\n",
       "    </tr>\n",
       "  </thead>\n",
       "  <tbody>\n",
       "    <tr>\n",
       "      <th>0</th>\n",
       "      <td>1</td>\n",
       "      <td>1249.751517</td>\n",
       "      <td>0.920667</td>\n",
       "      <td>1551.0</td>\n",
       "      <td>598.0</td>\n",
       "      <td>555582.0</td>\n",
       "      <td>234625.0</td>\n",
       "      <td>4357958.0</td>\n",
       "      <td>1290437.5</td>\n",
       "      <td>3289.0</td>\n",
       "      <td>3055701.0</td>\n",
       "      <td>8530.5</td>\n",
       "      <td>1.9</td>\n",
       "      <td>538.3</td>\n",
       "      <td>0.94</td>\n",
       "    </tr>\n",
       "    <tr>\n",
       "      <th>1</th>\n",
       "      <td>2</td>\n",
       "      <td>413.781578</td>\n",
       "      <td>0.922667</td>\n",
       "      <td>1761.0</td>\n",
       "      <td>833.0</td>\n",
       "      <td>158821.0</td>\n",
       "      <td>172588.0</td>\n",
       "      <td>9760576.5</td>\n",
       "      <td>3295484.0</td>\n",
       "      <td>10561.5</td>\n",
       "      <td>6429335.5</td>\n",
       "      <td>25195.5</td>\n",
       "      <td>2.0</td>\n",
       "      <td>639.5</td>\n",
       "      <td>0.94</td>\n",
       "    </tr>\n",
       "    <tr>\n",
       "      <th>2</th>\n",
       "      <td>3</td>\n",
       "      <td>346.553768</td>\n",
       "      <td>0.926333</td>\n",
       "      <td>1717.0</td>\n",
       "      <td>711.0</td>\n",
       "      <td>127924.0</td>\n",
       "      <td>94722.0</td>\n",
       "      <td>12501497.0</td>\n",
       "      <td>4593101.0</td>\n",
       "      <td>18220.5</td>\n",
       "      <td>7847612.0</td>\n",
       "      <td>42563.5</td>\n",
       "      <td>2.0</td>\n",
       "      <td>627.8</td>\n",
       "      <td>0.94</td>\n",
       "    </tr>\n",
       "    <tr>\n",
       "      <th>3</th>\n",
       "      <td>4</td>\n",
       "      <td>324.058423</td>\n",
       "      <td>0.926667</td>\n",
       "      <td>1953.0</td>\n",
       "      <td>892.0</td>\n",
       "      <td>128396.0</td>\n",
       "      <td>73288.0</td>\n",
       "      <td>14639239.5</td>\n",
       "      <td>5422434.0</td>\n",
       "      <td>26326.0</td>\n",
       "      <td>9129448.0</td>\n",
       "      <td>61031.5</td>\n",
       "      <td>2.0</td>\n",
       "      <td>658.0</td>\n",
       "      <td>0.94</td>\n",
       "    </tr>\n",
       "    <tr>\n",
       "      <th>4</th>\n",
       "      <td>5</td>\n",
       "      <td>552.637074</td>\n",
       "      <td>0.927000</td>\n",
       "      <td>1827.0</td>\n",
       "      <td>892.0</td>\n",
       "      <td>247880.0</td>\n",
       "      <td>183796.0</td>\n",
       "      <td>17948792.5</td>\n",
       "      <td>6763108.0</td>\n",
       "      <td>35246.0</td>\n",
       "      <td>11070570.0</td>\n",
       "      <td>79868.5</td>\n",
       "      <td>1.9</td>\n",
       "      <td>643.7</td>\n",
       "      <td>0.94</td>\n",
       "    </tr>\n",
       "    <tr>\n",
       "      <th>5</th>\n",
       "      <td>6</td>\n",
       "      <td>199.056463</td>\n",
       "      <td>0.927000</td>\n",
       "      <td>2176.0</td>\n",
       "      <td>1080.0</td>\n",
       "      <td>66076.0</td>\n",
       "      <td>68067.0</td>\n",
       "      <td>20659264.5</td>\n",
       "      <td>7964558.5</td>\n",
       "      <td>45200.0</td>\n",
       "      <td>12549448.0</td>\n",
       "      <td>100058.0</td>\n",
       "      <td>1.9</td>\n",
       "      <td>643.7</td>\n",
       "      <td>0.94</td>\n",
       "    </tr>\n",
       "    <tr>\n",
       "      <th>6</th>\n",
       "      <td>7</td>\n",
       "      <td>253.955099</td>\n",
       "      <td>0.928000</td>\n",
       "      <td>1891.0</td>\n",
       "      <td>923.0</td>\n",
       "      <td>111205.0</td>\n",
       "      <td>60882.0</td>\n",
       "      <td>22239515.5</td>\n",
       "      <td>8605711.0</td>\n",
       "      <td>55136.5</td>\n",
       "      <td>13458417.5</td>\n",
       "      <td>120250.5</td>\n",
       "      <td>2.1</td>\n",
       "      <td>666.9</td>\n",
       "      <td>0.94</td>\n",
       "    </tr>\n",
       "    <tr>\n",
       "      <th>7</th>\n",
       "      <td>8</td>\n",
       "      <td>455.044418</td>\n",
       "      <td>0.927667</td>\n",
       "      <td>1964.0</td>\n",
       "      <td>918.0</td>\n",
       "      <td>224272.0</td>\n",
       "      <td>122971.0</td>\n",
       "      <td>24952257.5</td>\n",
       "      <td>9556020.5</td>\n",
       "      <td>64339.0</td>\n",
       "      <td>15192336.0</td>\n",
       "      <td>139562.0</td>\n",
       "      <td>1.9</td>\n",
       "      <td>655.3</td>\n",
       "      <td>0.94</td>\n",
       "    </tr>\n",
       "    <tr>\n",
       "      <th>8</th>\n",
       "      <td>9</td>\n",
       "      <td>118.205645</td>\n",
       "      <td>0.927667</td>\n",
       "      <td>1983.0</td>\n",
       "      <td>994.0</td>\n",
       "      <td>30986.0</td>\n",
       "      <td>39880.0</td>\n",
       "      <td>26933956.5</td>\n",
       "      <td>10328730.0</td>\n",
       "      <td>73937.0</td>\n",
       "      <td>16371983.0</td>\n",
       "      <td>159306.5</td>\n",
       "      <td>1.9</td>\n",
       "      <td>655.3</td>\n",
       "      <td>0.94</td>\n",
       "    </tr>\n",
       "    <tr>\n",
       "      <th>9</th>\n",
       "      <td>10</td>\n",
       "      <td>408.631913</td>\n",
       "      <td>0.928333</td>\n",
       "      <td>2004.0</td>\n",
       "      <td>950.0</td>\n",
       "      <td>167065.0</td>\n",
       "      <td>141833.0</td>\n",
       "      <td>28981436.0</td>\n",
       "      <td>11288271.5</td>\n",
       "      <td>83635.0</td>\n",
       "      <td>17430277.5</td>\n",
       "      <td>179252.0</td>\n",
       "      <td>1.9</td>\n",
       "      <td>663.3</td>\n",
       "      <td>0.94</td>\n",
       "    </tr>\n",
       "    <tr>\n",
       "      <th>10</th>\n",
       "      <td>11</td>\n",
       "      <td>146.640877</td>\n",
       "      <td>0.928333</td>\n",
       "      <td>2032.0</td>\n",
       "      <td>1117.0</td>\n",
       "      <td>55856.0</td>\n",
       "      <td>50642.0</td>\n",
       "      <td>30987828.5</td>\n",
       "      <td>12205051.0</td>\n",
       "      <td>94053.5</td>\n",
       "      <td>18489278.0</td>\n",
       "      <td>199446.0</td>\n",
       "      <td>1.9</td>\n",
       "      <td>663.3</td>\n",
       "      <td>0.94</td>\n",
       "    </tr>\n",
       "    <tr>\n",
       "      <th>11</th>\n",
       "      <td>12</td>\n",
       "      <td>267.410554</td>\n",
       "      <td>0.928333</td>\n",
       "      <td>1914.0</td>\n",
       "      <td>917.0</td>\n",
       "      <td>126240.0</td>\n",
       "      <td>60989.0</td>\n",
       "      <td>32526570.0</td>\n",
       "      <td>12768379.5</td>\n",
       "      <td>104123.5</td>\n",
       "      <td>19434950.0</td>\n",
       "      <td>219117.0</td>\n",
       "      <td>1.9</td>\n",
       "      <td>663.3</td>\n",
       "      <td>0.94</td>\n",
       "    </tr>\n",
       "    <tr>\n",
       "      <th>12</th>\n",
       "      <td>13</td>\n",
       "      <td>265.737886</td>\n",
       "      <td>0.928667</td>\n",
       "      <td>1975.0</td>\n",
       "      <td>961.0</td>\n",
       "      <td>96408.0</td>\n",
       "      <td>91103.0</td>\n",
       "      <td>34429298.5</td>\n",
       "      <td>13543896.5</td>\n",
       "      <td>113535.5</td>\n",
       "      <td>20533274.0</td>\n",
       "      <td>238592.5</td>\n",
       "      <td>1.8</td>\n",
       "      <td>693.8</td>\n",
       "      <td>0.94</td>\n",
       "    </tr>\n",
       "    <tr>\n",
       "      <th>13</th>\n",
       "      <td>14</td>\n",
       "      <td>355.222730</td>\n",
       "      <td>0.928667</td>\n",
       "      <td>1914.0</td>\n",
       "      <td>940.0</td>\n",
       "      <td>125876.0</td>\n",
       "      <td>110120.0</td>\n",
       "      <td>36599985.0</td>\n",
       "      <td>14559520.0</td>\n",
       "      <td>123030.0</td>\n",
       "      <td>21659428.0</td>\n",
       "      <td>258007.0</td>\n",
       "      <td>1.8</td>\n",
       "      <td>693.8</td>\n",
       "      <td>0.94</td>\n",
       "    </tr>\n",
       "    <tr>\n",
       "      <th>14</th>\n",
       "      <td>15</td>\n",
       "      <td>248.593362</td>\n",
       "      <td>0.929667</td>\n",
       "      <td>1912.0</td>\n",
       "      <td>888.0</td>\n",
       "      <td>101189.0</td>\n",
       "      <td>48901.0</td>\n",
       "      <td>38515705.0</td>\n",
       "      <td>15324015.5</td>\n",
       "      <td>132144.0</td>\n",
       "      <td>22782409.5</td>\n",
       "      <td>277136.0</td>\n",
       "      <td>1.8</td>\n",
       "      <td>726.2</td>\n",
       "      <td>0.94</td>\n",
       "    </tr>\n",
       "    <tr>\n",
       "      <th>15</th>\n",
       "      <td>16</td>\n",
       "      <td>340.469041</td>\n",
       "      <td>0.931333</td>\n",
       "      <td>2334.0</td>\n",
       "      <td>1218.0</td>\n",
       "      <td>149923.0</td>\n",
       "      <td>105537.0</td>\n",
       "      <td>40628276.0</td>\n",
       "      <td>16124523.5</td>\n",
       "      <td>142839.0</td>\n",
       "      <td>24062336.5</td>\n",
       "      <td>298577.0</td>\n",
       "      <td>1.9</td>\n",
       "      <td>746.5</td>\n",
       "      <td>0.94</td>\n",
       "    </tr>\n",
       "    <tr>\n",
       "      <th>16</th>\n",
       "      <td>17</td>\n",
       "      <td>233.315797</td>\n",
       "      <td>0.931333</td>\n",
       "      <td>2097.0</td>\n",
       "      <td>1072.0</td>\n",
       "      <td>99623.0</td>\n",
       "      <td>54679.0</td>\n",
       "      <td>42659920.5</td>\n",
       "      <td>16900174.5</td>\n",
       "      <td>154216.0</td>\n",
       "      <td>25284916.5</td>\n",
       "      <td>320613.5</td>\n",
       "      <td>1.9</td>\n",
       "      <td>746.5</td>\n",
       "      <td>0.94</td>\n",
       "    </tr>\n",
       "    <tr>\n",
       "      <th>17</th>\n",
       "      <td>18</td>\n",
       "      <td>388.510351</td>\n",
       "      <td>0.931667</td>\n",
       "      <td>1915.0</td>\n",
       "      <td>890.0</td>\n",
       "      <td>169891.0</td>\n",
       "      <td>109076.0</td>\n",
       "      <td>44918286.0</td>\n",
       "      <td>17746148.0</td>\n",
       "      <td>163935.0</td>\n",
       "      <td>26667620.5</td>\n",
       "      <td>340582.5</td>\n",
       "      <td>2.0</td>\n",
       "      <td>757.9</td>\n",
       "      <td>0.94</td>\n",
       "    </tr>\n",
       "    <tr>\n",
       "      <th>18</th>\n",
       "      <td>19</td>\n",
       "      <td>116.671939</td>\n",
       "      <td>0.931667</td>\n",
       "      <td>2220.0</td>\n",
       "      <td>1054.0</td>\n",
       "      <td>45484.0</td>\n",
       "      <td>42399.0</td>\n",
       "      <td>46687623.5</td>\n",
       "      <td>18470184.5</td>\n",
       "      <td>173737.0</td>\n",
       "      <td>27682292.0</td>\n",
       "      <td>361410.0</td>\n",
       "      <td>2.0</td>\n",
       "      <td>757.9</td>\n",
       "      <td>0.94</td>\n",
       "    </tr>\n",
       "    <tr>\n",
       "      <th>19</th>\n",
       "      <td>20</td>\n",
       "      <td>370.293667</td>\n",
       "      <td>0.931667</td>\n",
       "      <td>2162.0</td>\n",
       "      <td>1037.0</td>\n",
       "      <td>137668.0</td>\n",
       "      <td>130680.0</td>\n",
       "      <td>48591338.5</td>\n",
       "      <td>19379720.0</td>\n",
       "      <td>184183.5</td>\n",
       "      <td>28644144.0</td>\n",
       "      <td>383291.0</td>\n",
       "      <td>2.0</td>\n",
       "      <td>757.9</td>\n",
       "      <td>0.94</td>\n",
       "    </tr>\n",
       "  </tbody>\n",
       "</table>\n",
       "</div>"
      ],
      "text/plain": [
       "    step  time_elapsed     score  input_tokens_meta_llm  \\\n",
       "0      1   1249.751517  0.920667                 1551.0   \n",
       "1      2    413.781578  0.922667                 1761.0   \n",
       "2      3    346.553768  0.926333                 1717.0   \n",
       "3      4    324.058423  0.926667                 1953.0   \n",
       "4      5    552.637074  0.927000                 1827.0   \n",
       "5      6    199.056463  0.927000                 2176.0   \n",
       "6      7    253.955099  0.928000                 1891.0   \n",
       "7      8    455.044418  0.927667                 1964.0   \n",
       "8      9    118.205645  0.927667                 1983.0   \n",
       "9     10    408.631913  0.928333                 2004.0   \n",
       "10    11    146.640877  0.928333                 2032.0   \n",
       "11    12    267.410554  0.928333                 1914.0   \n",
       "12    13    265.737886  0.928667                 1975.0   \n",
       "13    14    355.222730  0.928667                 1914.0   \n",
       "14    15    248.593362  0.929667                 1912.0   \n",
       "15    16    340.469041  0.931333                 2334.0   \n",
       "16    17    233.315797  0.931333                 2097.0   \n",
       "17    18    388.510351  0.931667                 1915.0   \n",
       "18    19    116.671939  0.931667                 2220.0   \n",
       "19    20    370.293667  0.931667                 2162.0   \n",
       "\n",
       "    output_tokens_meta_llm  input_tokens_downstream_llm  \\\n",
       "0                    598.0                     555582.0   \n",
       "1                    833.0                     158821.0   \n",
       "2                    711.0                     127924.0   \n",
       "3                    892.0                     128396.0   \n",
       "4                    892.0                     247880.0   \n",
       "5                   1080.0                      66076.0   \n",
       "6                    923.0                     111205.0   \n",
       "7                    918.0                     224272.0   \n",
       "8                    994.0                      30986.0   \n",
       "9                    950.0                     167065.0   \n",
       "10                  1117.0                      55856.0   \n",
       "11                   917.0                     126240.0   \n",
       "12                   961.0                      96408.0   \n",
       "13                   940.0                     125876.0   \n",
       "14                   888.0                     101189.0   \n",
       "15                  1218.0                     149923.0   \n",
       "16                  1072.0                      99623.0   \n",
       "17                   890.0                     169891.0   \n",
       "18                  1054.0                      45484.0   \n",
       "19                  1037.0                     137668.0   \n",
       "\n",
       "    output_tokens_downstream_llm  total_tokens  \\\n",
       "0                       234625.0     4357958.0   \n",
       "1                       172588.0     9760576.5   \n",
       "2                        94722.0    12501497.0   \n",
       "3                        73288.0    14639239.5   \n",
       "4                       183796.0    17948792.5   \n",
       "5                        68067.0    20659264.5   \n",
       "6                        60882.0    22239515.5   \n",
       "7                       122971.0    24952257.5   \n",
       "8                        39880.0    26933956.5   \n",
       "9                       141833.0    28981436.0   \n",
       "10                       50642.0    30987828.5   \n",
       "11                       60989.0    32526570.0   \n",
       "12                       91103.0    34429298.5   \n",
       "13                      110120.0    36599985.0   \n",
       "14                       48901.0    38515705.0   \n",
       "15                      105537.0    40628276.0   \n",
       "16                       54679.0    42659920.5   \n",
       "17                      109076.0    44918286.0   \n",
       "18                       42399.0    46687623.5   \n",
       "19                      130680.0    48591338.5   \n",
       "\n",
       "    output_tokens_downstream_llm_cum  output_tokens_meta_llm_cum  \\\n",
       "0                          1290437.5                      3289.0   \n",
       "1                          3295484.0                     10561.5   \n",
       "2                          4593101.0                     18220.5   \n",
       "3                          5422434.0                     26326.0   \n",
       "4                          6763108.0                     35246.0   \n",
       "5                          7964558.5                     45200.0   \n",
       "6                          8605711.0                     55136.5   \n",
       "7                          9556020.5                     64339.0   \n",
       "8                         10328730.0                     73937.0   \n",
       "9                         11288271.5                     83635.0   \n",
       "10                        12205051.0                     94053.5   \n",
       "11                        12768379.5                    104123.5   \n",
       "12                        13543896.5                    113535.5   \n",
       "13                        14559520.0                    123030.0   \n",
       "14                        15324015.5                    132144.0   \n",
       "15                        16124523.5                    142839.0   \n",
       "16                        16900174.5                    154216.0   \n",
       "17                        17746148.0                    163935.0   \n",
       "18                        18470184.5                    173737.0   \n",
       "19                        19379720.0                    184183.5   \n",
       "\n",
       "    input_tokens_downstream_llm_cum  input_tokens_meta_llm_cum  n_shots  \\\n",
       "0                         3055701.0                     8530.5      1.9   \n",
       "1                         6429335.5                    25195.5      2.0   \n",
       "2                         7847612.0                    42563.5      2.0   \n",
       "3                         9129448.0                    61031.5      2.0   \n",
       "4                        11070570.0                    79868.5      1.9   \n",
       "5                        12549448.0                   100058.0      1.9   \n",
       "6                        13458417.5                   120250.5      2.1   \n",
       "7                        15192336.0                   139562.0      1.9   \n",
       "8                        16371983.0                   159306.5      1.9   \n",
       "9                        17430277.5                   179252.0      1.9   \n",
       "10                       18489278.0                   199446.0      1.9   \n",
       "11                       19434950.0                   219117.0      1.9   \n",
       "12                       20533274.0                   238592.5      1.8   \n",
       "13                       21659428.0                   258007.0      1.8   \n",
       "14                       22782409.5                   277136.0      1.8   \n",
       "15                       24062336.5                   298577.0      1.9   \n",
       "16                       25284916.5                   320613.5      1.9   \n",
       "17                       26667620.5                   340582.5      2.0   \n",
       "18                       27682292.0                   361410.0      2.0   \n",
       "19                       28644144.0                   383291.0      2.0   \n",
       "\n",
       "    prompt_len  score_max  \n",
       "0        538.3       0.94  \n",
       "1        639.5       0.94  \n",
       "2        627.8       0.94  \n",
       "3        658.0       0.94  \n",
       "4        643.7       0.94  \n",
       "5        643.7       0.94  \n",
       "6        666.9       0.94  \n",
       "7        655.3       0.94  \n",
       "8        655.3       0.94  \n",
       "9        663.3       0.94  \n",
       "10       663.3       0.94  \n",
       "11       663.3       0.94  \n",
       "12       693.8       0.94  \n",
       "13       693.8       0.94  \n",
       "14       726.2       0.94  \n",
       "15       746.5       0.94  \n",
       "16       746.5       0.94  \n",
       "17       757.9       0.94  \n",
       "18       757.9       0.94  \n",
       "19       757.9       0.94  "
      ]
     },
     "execution_count": 378,
     "metadata": {},
     "output_type": "execute_result"
    }
   ],
   "source": [
    "# group df by step and get the mean of the values (ignore stings)\n",
    "df_grouped = df.groupby(\"step\", as_index=False).mean(numeric_only=True)\n",
    "# df_grouped[\"cum_input_tokens\"] = df_grouped[\"input_tokens_downstream_llm\"].cumsum()\n",
    "\n",
    "# join the maximum score for each step\n",
    "df_grouped = df_grouped.join(\n",
    "    df.groupby(\"step\", as_index=False).max()[[\"step\", \"score\"]].set_index(\"step\"),\n",
    "    on=\"step\",\n",
    "    rsuffix=\"_max\",\n",
    ")\n",
    "\n",
    "df_grouped"
   ]
  },
  {
   "cell_type": "code",
   "execution_count": 379,
   "metadata": {},
   "outputs": [
    {
     "data": {
      "image/png": "[encoded data removed]",
      "text/plain": [
       "<Figure size 640x480 with 1 Axes>"
      ]
     },
     "metadata": {},
     "output_type": "display_data"
    }
   ],
   "source": [
    "# plot step vs total tokens\n",
    "plt.bar(df_grouped[\"step\"], df_grouped[\"total_tokens\"]);"
   ]
  },
  {
   "cell_type": "code",
   "execution_count": 380,
   "metadata": {},
   "outputs": [
    {
     "data": {
      "image/png": "[encoded data removed]",
      "text/plain": [
       "<Figure size 640x480 with 1 Axes>"
      ]
     },
     "metadata": {},
     "output_type": "display_data"
    }
   ],
   "source": [
    "# plot token count vs step and adapt y-axis to min and max\n",
    "column = \"score\"\n",
    "plt.plot(df_grouped[\"total_tokens\"], df_grouped[column])\n",
    "plt.show();"
   ]
  },
  {
   "cell_type": "code",
   "execution_count": 381,
   "metadata": {},
   "outputs": [
    {
     "data": {
      "image/png": "[encoded data removed]",
      "text/plain": [
       "<Figure size 640x480 with 1 Axes>"
      ]
     },
     "metadata": {},
     "output_type": "display_data"
    }
   ],
   "source": [
    "# plot token count vs step and adapt y-axis to min and max\n",
    "column = \"score\"\n",
    "plt.plot(df_grouped[\"step\"], df_grouped[column])\n",
    "plt.show();"
   ]
  },
  {
   "cell_type": "code",
   "execution_count": 382,
   "metadata": {},
   "outputs": [
    {
     "data": {
      "image/png": "[encoded data removed]",
      "text/plain": [
       "<Figure size 640x480 with 1 Axes>"
      ]
     },
     "metadata": {},
     "output_type": "display_data"
    }
   ],
   "source": [
    "# x_axis => step, y_axis => worst_score, mean_score, best_score\n",
    "col = \"score\"\n",
    "\n",
    "worst_scores = df.groupby(\"step\", as_index=False).min(numeric_only=True)[[\"step\", col]]\n",
    "mean_scores = df.groupby(\"step\", as_index=False).mean(numeric_only=True)[[\"step\", col]]\n",
    "best_scores = df.groupby(\"step\", as_index=False).max(numeric_only=True)[[\"step\", col]]\n",
    "\n",
    "plt.plot(worst_scores[\"step\"], worst_scores[col], label=\"worst\", color=\"red\")\n",
    "plt.plot(mean_scores[\"step\"], mean_scores[col], label=\"mean\", color=\"green\")\n",
    "plt.plot(best_scores[\"step\"], best_scores[col], label=\"best\", color=\"blue\")\n",
    "# fill area between lines\n",
    "plt.fill_between(mean_scores[\"step\"], worst_scores[col], best_scores[col], alpha=0.2)\n",
    "plt.legend()\n",
    "plt.show();"
   ]
  },
  {
   "cell_type": "code",
   "execution_count": 383,
   "metadata": {},
   "outputs": [
    {
     "data": {
      "image/png": "[encoded data removed]",
      "text/plain": [
       "<Figure size 640x480 with 1 Axes>"
      ]
     },
     "metadata": {},
     "output_type": "display_data"
    }
   ],
   "source": [
    "# plot score vs prompt length\n",
    "plt.scatter(df_grouped[\"prompt_len\"], df_grouped[\"score\"])\n",
    "plt.show();"
   ]
  },
  {
   "cell_type": "code",
   "execution_count": 384,
   "metadata": {},
   "outputs": [
    {
     "data": {
      "image/png": "[encoded data removed]",
      "text/plain": [
       "<Figure size 640x480 with 1 Axes>"
      ]
     },
     "metadata": {},
     "output_type": "display_data"
    }
   ],
   "source": [
    "# prompt length vs step\n",
    "plt.bar(df_grouped[\"step\"], df_grouped[\"prompt_len\"]);"
   ]
  },
  {
   "cell_type": "markdown",
   "metadata": {},
   "source": [
    "### Analyze best prompts per step"
   ]
  },
  {
   "cell_type": "code",
   "execution_count": 358,
   "metadata": {},
   "outputs": [
    {
     "name": "stderr",
     "output_type": "stream",
     "text": [
      "C:\\Users\\tzehl\\AppData\\Local\\Temp\\ipykernel_23256\\373190983.py:1: DeprecationWarning: DataFrameGroupBy.apply operated on the grouping columns. This behavior is deprecated, and in a future version of pandas the grouping columns will be excluded from the operation. Either pass `include_groups=False` to exclude the groupings or explicitly select the grouping columns after groupby to silence this warning.\n",
      "  df_best = df.groupby(\"step\").apply(lambda x: x.nlargest(1, \"score\")).reset_index(drop=True)\n"
     ]
    }
   ],
   "source": [
    "df_best = df.groupby(\"step\").apply(lambda x: x.nlargest(1, \"score\")).reset_index(drop=True)\n",
    "# df_best"
   ]
  },
  {
   "cell_type": "code",
   "execution_count": 385,
   "metadata": {},
   "outputs": [
    {
     "data": {
      "image/png": "[encoded data removed]",
      "text/plain": [
       "<Figure size 640x480 with 1 Axes>"
      ]
     },
     "metadata": {},
     "output_type": "display_data"
    }
   ],
   "source": [
    "# max a line plot of the best score vs step\n",
    "plt.plot(df_best[\"step\"], df_best[\"score\"]);"
   ]
  },
  {
   "cell_type": "markdown",
   "metadata": {},
   "source": [
    "## Analyze Racing"
   ]
  },
  {
   "cell_type": "code",
   "execution_count": 386,
   "metadata": {},
   "outputs": [],
   "source": [
    "from pprint import pprint as pp\n",
    "\n",
    "p = lambda x: (pp(x.replace(\"\\r\", \"\"), compact=True, width=200))"
   ]
  },
  {
   "cell_type": "code",
   "execution_count": 387,
   "metadata": {},
   "outputs": [
    {
     "data": {
      "text/plain": [
       "0     0.94\n",
       "10    0.94\n",
       "20    0.94\n",
       "30    0.94\n",
       "40    0.94\n",
       "50    0.94\n",
       "60    0.94\n",
       "70    0.94\n",
       "80    0.94\n",
       "90    0.94\n",
       "Name: score, dtype: float64"
      ]
     },
     "execution_count": 387,
     "metadata": {},
     "output_type": "execute_result"
    }
   ],
   "source": [
    "df[\"score\"].nlargest(10)"
   ]
  },
  {
   "cell_type": "code",
   "execution_count": 388,
   "metadata": {},
   "outputs": [
    {
     "name": "stdout",
     "output_type": "stream",
     "text": [
      "unique? 2\n",
      "number of shots:  1\n",
      "score:  0.94\n",
      "first occurence:  1\n",
      "last occurence:  20\n",
      "last train score:  0.94\n",
      "('Using commonsense reasoning, identify whether option A or option B is the correct cause or effect for the given scenario. Format your answer as <final_answer>A</final_answer> or '\n",
      " '<final_answer>B</final_answer>.\\n'\n",
      " '\\n'\n",
      " 'Input:\\n'\n",
      " 'The man read the cartoon in the newspaper.\\n'\n",
      " 'effect A:\\n'\n",
      " 'He sipped coffee.\\n'\n",
      " 'effect B:\\n'\n",
      " 'He chuckled.\\n'\n",
      " 'Output:\\n'\n",
      " '<final_answer>B</final_answer>\\n'\n",
      " '\\n'\n",
      " 'Input:')\n"
     ]
    }
   ],
   "source": [
    "# best prompt\n",
    "col = \"score\"\n",
    "k_best = 1\n",
    "\n",
    "best_prompt = df[df[col] == df[col].nlargest(k_best).values[k_best - 1]]\n",
    "print(\"unique?\", len(best_prompt[\"prompt\"].unique()))\n",
    "print(\"number of shots: \", best_prompt[\"n_shots\"].values[0])\n",
    "print(\"score: \", best_prompt[col].values[0])\n",
    "print(\"first occurence: \", best_prompt[\"step\"].values[0])\n",
    "print(\"last occurence: \", best_prompt[\"step\"].values[-1])\n",
    "print(\"last train score: \", best_prompt[\"score\"].values[-1].round(2))\n",
    "\n",
    "p(best_prompt[\"prompt\"].unique()[0])"
   ]
  },
  {
   "cell_type": "code",
   "execution_count": 336,
   "metadata": {},
   "outputs": [
    {
     "name": "stdout",
     "output_type": "stream",
     "text": [
      "Classify the given news article into one of the categories (World, Sports, Business, or Sci/Tech) and provide your response within <final_answer> tags for accurate categorization.\n"
     ]
    }
   ],
   "source": [
    "print(best_prompt[\"prompt\"].unique()[0])"
   ]
  },
  {
   "cell_type": "code",
   "execution_count": 277,
   "metadata": {},
   "outputs": [
    {
     "data": {
      "text/plain": [
       "\"Determine if this sentence is subjective or objective and put your answer between <final_answer> tags.\\n\\nInput:\\nupper west sidey exercise in narcissism and self-congratulation disguised as a tribute .\\nOutput:\\n<final_answer>Subjective</final_answer>\\n\\nInput:\\nall in all , the count of monte cristo is okay , but it is surely no classic , like the novel upon which it is based .\\nOutput:\\n<final_answer>Subjective</final_answer>\\n\\nInput:\\nplotless collection of moronic stunts is by far the worst movie of the year .\\nOutput:\\n<final_answer>Subjective</final_answer>\\n\\nInput:\\nshe 's helped along in that process by betsy wright ( pamela gordon ) , a misanthropic dog-walker in need of help with her business and struggling with her own dark past .\\nOutput:\\n<final_answer>objective</final_answer>\\n\\nInput:\""
      ]
     },
     "execution_count": 277,
     "metadata": {},
     "output_type": "execute_result"
    }
   ],
   "source": [
    "best_prompt[\"prompt\"].unique()[0]"
   ]
  },
  {
   "cell_type": "code",
   "execution_count": 278,
   "metadata": {},
   "outputs": [
    {
     "ename": "OSError",
     "evalue": "[Errno 22] Invalid argument: '../results/subj/llama/CAPO/seed43/**/step_results.parquet'",
     "output_type": "error",
     "traceback": [
      "\u001b[1;31m---------------------------------------------------------------------------\u001b[0m",
      "\u001b[1;31mOSError\u001b[0m                                   Traceback (most recent call last)",
      "Cell \u001b[1;32mIn[278], line 4\u001b[0m\n\u001b[0;32m      1\u001b[0m \u001b[38;5;66;03m# load the prompt scores per block\u001b[39;00m\n\u001b[0;32m      2\u001b[0m path \u001b[38;5;241m=\u001b[39m path\u001b[38;5;241m.\u001b[39mreplace(\u001b[38;5;124m\"\u001b[39m\u001b[38;5;124mstep_results_eval\u001b[39m\u001b[38;5;124m\"\u001b[39m, \u001b[38;5;124m\"\u001b[39m\u001b[38;5;124mprompt_scores\u001b[39m\u001b[38;5;124m\"\u001b[39m)\n\u001b[1;32m----> 4\u001b[0m df_blocks \u001b[38;5;241m=\u001b[39m \u001b[43mpd\u001b[49m\u001b[38;5;241;43m.\u001b[39;49m\u001b[43mread_csv\u001b[49m\u001b[43m(\u001b[49m\u001b[43mpath\u001b[49m\u001b[43m)\u001b[49m\n\u001b[0;32m      5\u001b[0m \u001b[38;5;66;03m# round all numbers to 2 decimal places\u001b[39;00m\n\u001b[0;32m      6\u001b[0m df_blocks \u001b[38;5;241m=\u001b[39m df_blocks\u001b[38;5;241m.\u001b[39mround(\u001b[38;5;241m2\u001b[39m)\n",
      "File \u001b[1;32mc:\\Users\\tzehl\\anaconda3\\envs\\ds\\Lib\\site-packages\\pandas\\io\\parsers\\readers.py:1026\u001b[0m, in \u001b[0;36mread_csv\u001b[1;34m(filepath_or_buffer, sep, delimiter, header, names, index_col, usecols, dtype, engine, converters, true_values, false_values, skipinitialspace, skiprows, skipfooter, nrows, na_values, keep_default_na, na_filter, verbose, skip_blank_lines, parse_dates, infer_datetime_format, keep_date_col, date_parser, date_format, dayfirst, cache_dates, iterator, chunksize, compression, thousands, decimal, lineterminator, quotechar, quoting, doublequote, escapechar, comment, encoding, encoding_errors, dialect, on_bad_lines, delim_whitespace, low_memory, memory_map, float_precision, storage_options, dtype_backend)\u001b[0m\n\u001b[0;32m   1013\u001b[0m kwds_defaults \u001b[38;5;241m=\u001b[39m _refine_defaults_read(\n\u001b[0;32m   1014\u001b[0m     dialect,\n\u001b[0;32m   1015\u001b[0m     delimiter,\n\u001b[1;32m   (...)\u001b[0m\n\u001b[0;32m   1022\u001b[0m     dtype_backend\u001b[38;5;241m=\u001b[39mdtype_backend,\n\u001b[0;32m   1023\u001b[0m )\n\u001b[0;32m   1024\u001b[0m kwds\u001b[38;5;241m.\u001b[39mupdate(kwds_defaults)\n\u001b[1;32m-> 1026\u001b[0m \u001b[38;5;28;01mreturn\u001b[39;00m \u001b[43m_read\u001b[49m\u001b[43m(\u001b[49m\u001b[43mfilepath_or_buffer\u001b[49m\u001b[43m,\u001b[49m\u001b[43m \u001b[49m\u001b[43mkwds\u001b[49m\u001b[43m)\u001b[49m\n",
      "File \u001b[1;32mc:\\Users\\tzehl\\anaconda3\\envs\\ds\\Lib\\site-packages\\pandas\\io\\parsers\\readers.py:620\u001b[0m, in \u001b[0;36m_read\u001b[1;34m(filepath_or_buffer, kwds)\u001b[0m\n\u001b[0;32m    617\u001b[0m _validate_names(kwds\u001b[38;5;241m.\u001b[39mget(\u001b[38;5;124m\"\u001b[39m\u001b[38;5;124mnames\u001b[39m\u001b[38;5;124m\"\u001b[39m, \u001b[38;5;28;01mNone\u001b[39;00m))\n\u001b[0;32m    619\u001b[0m \u001b[38;5;66;03m# Create the parser.\u001b[39;00m\n\u001b[1;32m--> 620\u001b[0m parser \u001b[38;5;241m=\u001b[39m \u001b[43mTextFileReader\u001b[49m\u001b[43m(\u001b[49m\u001b[43mfilepath_or_buffer\u001b[49m\u001b[43m,\u001b[49m\u001b[43m \u001b[49m\u001b[38;5;241;43m*\u001b[39;49m\u001b[38;5;241;43m*\u001b[39;49m\u001b[43mkwds\u001b[49m\u001b[43m)\u001b[49m\n\u001b[0;32m    622\u001b[0m \u001b[38;5;28;01mif\u001b[39;00m chunksize \u001b[38;5;129;01mor\u001b[39;00m iterator:\n\u001b[0;32m    623\u001b[0m     \u001b[38;5;28;01mreturn\u001b[39;00m parser\n",
      "File \u001b[1;32mc:\\Users\\tzehl\\anaconda3\\envs\\ds\\Lib\\site-packages\\pandas\\io\\parsers\\readers.py:1620\u001b[0m, in \u001b[0;36mTextFileReader.__init__\u001b[1;34m(self, f, engine, **kwds)\u001b[0m\n\u001b[0;32m   1617\u001b[0m     \u001b[38;5;28mself\u001b[39m\u001b[38;5;241m.\u001b[39moptions[\u001b[38;5;124m\"\u001b[39m\u001b[38;5;124mhas_index_names\u001b[39m\u001b[38;5;124m\"\u001b[39m] \u001b[38;5;241m=\u001b[39m kwds[\u001b[38;5;124m\"\u001b[39m\u001b[38;5;124mhas_index_names\u001b[39m\u001b[38;5;124m\"\u001b[39m]\n\u001b[0;32m   1619\u001b[0m \u001b[38;5;28mself\u001b[39m\u001b[38;5;241m.\u001b[39mhandles: IOHandles \u001b[38;5;241m|\u001b[39m \u001b[38;5;28;01mNone\u001b[39;00m \u001b[38;5;241m=\u001b[39m \u001b[38;5;28;01mNone\u001b[39;00m\n\u001b[1;32m-> 1620\u001b[0m \u001b[38;5;28mself\u001b[39m\u001b[38;5;241m.\u001b[39m_engine \u001b[38;5;241m=\u001b[39m \u001b[38;5;28;43mself\u001b[39;49m\u001b[38;5;241;43m.\u001b[39;49m\u001b[43m_make_engine\u001b[49m\u001b[43m(\u001b[49m\u001b[43mf\u001b[49m\u001b[43m,\u001b[49m\u001b[43m \u001b[49m\u001b[38;5;28;43mself\u001b[39;49m\u001b[38;5;241;43m.\u001b[39;49m\u001b[43mengine\u001b[49m\u001b[43m)\u001b[49m\n",
      "File \u001b[1;32mc:\\Users\\tzehl\\anaconda3\\envs\\ds\\Lib\\site-packages\\pandas\\io\\parsers\\readers.py:1880\u001b[0m, in \u001b[0;36mTextFileReader._make_engine\u001b[1;34m(self, f, engine)\u001b[0m\n\u001b[0;32m   1878\u001b[0m     \u001b[38;5;28;01mif\u001b[39;00m \u001b[38;5;124m\"\u001b[39m\u001b[38;5;124mb\u001b[39m\u001b[38;5;124m\"\u001b[39m \u001b[38;5;129;01mnot\u001b[39;00m \u001b[38;5;129;01min\u001b[39;00m mode:\n\u001b[0;32m   1879\u001b[0m         mode \u001b[38;5;241m+\u001b[39m\u001b[38;5;241m=\u001b[39m \u001b[38;5;124m\"\u001b[39m\u001b[38;5;124mb\u001b[39m\u001b[38;5;124m\"\u001b[39m\n\u001b[1;32m-> 1880\u001b[0m \u001b[38;5;28mself\u001b[39m\u001b[38;5;241m.\u001b[39mhandles \u001b[38;5;241m=\u001b[39m \u001b[43mget_handle\u001b[49m\u001b[43m(\u001b[49m\n\u001b[0;32m   1881\u001b[0m \u001b[43m    \u001b[49m\u001b[43mf\u001b[49m\u001b[43m,\u001b[49m\n\u001b[0;32m   1882\u001b[0m \u001b[43m    \u001b[49m\u001b[43mmode\u001b[49m\u001b[43m,\u001b[49m\n\u001b[0;32m   1883\u001b[0m \u001b[43m    \u001b[49m\u001b[43mencoding\u001b[49m\u001b[38;5;241;43m=\u001b[39;49m\u001b[38;5;28;43mself\u001b[39;49m\u001b[38;5;241;43m.\u001b[39;49m\u001b[43moptions\u001b[49m\u001b[38;5;241;43m.\u001b[39;49m\u001b[43mget\u001b[49m\u001b[43m(\u001b[49m\u001b[38;5;124;43m\"\u001b[39;49m\u001b[38;5;124;43mencoding\u001b[39;49m\u001b[38;5;124;43m\"\u001b[39;49m\u001b[43m,\u001b[49m\u001b[43m \u001b[49m\u001b[38;5;28;43;01mNone\u001b[39;49;00m\u001b[43m)\u001b[49m\u001b[43m,\u001b[49m\n\u001b[0;32m   1884\u001b[0m \u001b[43m    \u001b[49m\u001b[43mcompression\u001b[49m\u001b[38;5;241;43m=\u001b[39;49m\u001b[38;5;28;43mself\u001b[39;49m\u001b[38;5;241;43m.\u001b[39;49m\u001b[43moptions\u001b[49m\u001b[38;5;241;43m.\u001b[39;49m\u001b[43mget\u001b[49m\u001b[43m(\u001b[49m\u001b[38;5;124;43m\"\u001b[39;49m\u001b[38;5;124;43mcompression\u001b[39;49m\u001b[38;5;124;43m\"\u001b[39;49m\u001b[43m,\u001b[49m\u001b[43m \u001b[49m\u001b[38;5;28;43;01mNone\u001b[39;49;00m\u001b[43m)\u001b[49m\u001b[43m,\u001b[49m\n\u001b[0;32m   1885\u001b[0m \u001b[43m    \u001b[49m\u001b[43mmemory_map\u001b[49m\u001b[38;5;241;43m=\u001b[39;49m\u001b[38;5;28;43mself\u001b[39;49m\u001b[38;5;241;43m.\u001b[39;49m\u001b[43moptions\u001b[49m\u001b[38;5;241;43m.\u001b[39;49m\u001b[43mget\u001b[49m\u001b[43m(\u001b[49m\u001b[38;5;124;43m\"\u001b[39;49m\u001b[38;5;124;43mmemory_map\u001b[39;49m\u001b[38;5;124;43m\"\u001b[39;49m\u001b[43m,\u001b[49m\u001b[43m \u001b[49m\u001b[38;5;28;43;01mFalse\u001b[39;49;00m\u001b[43m)\u001b[49m\u001b[43m,\u001b[49m\n\u001b[0;32m   1886\u001b[0m \u001b[43m    \u001b[49m\u001b[43mis_text\u001b[49m\u001b[38;5;241;43m=\u001b[39;49m\u001b[43mis_text\u001b[49m\u001b[43m,\u001b[49m\n\u001b[0;32m   1887\u001b[0m \u001b[43m    \u001b[49m\u001b[43merrors\u001b[49m\u001b[38;5;241;43m=\u001b[39;49m\u001b[38;5;28;43mself\u001b[39;49m\u001b[38;5;241;43m.\u001b[39;49m\u001b[43moptions\u001b[49m\u001b[38;5;241;43m.\u001b[39;49m\u001b[43mget\u001b[49m\u001b[43m(\u001b[49m\u001b[38;5;124;43m\"\u001b[39;49m\u001b[38;5;124;43mencoding_errors\u001b[39;49m\u001b[38;5;124;43m\"\u001b[39;49m\u001b[43m,\u001b[49m\u001b[43m \u001b[49m\u001b[38;5;124;43m\"\u001b[39;49m\u001b[38;5;124;43mstrict\u001b[39;49m\u001b[38;5;124;43m\"\u001b[39;49m\u001b[43m)\u001b[49m\u001b[43m,\u001b[49m\n\u001b[0;32m   1888\u001b[0m \u001b[43m    \u001b[49m\u001b[43mstorage_options\u001b[49m\u001b[38;5;241;43m=\u001b[39;49m\u001b[38;5;28;43mself\u001b[39;49m\u001b[38;5;241;43m.\u001b[39;49m\u001b[43moptions\u001b[49m\u001b[38;5;241;43m.\u001b[39;49m\u001b[43mget\u001b[49m\u001b[43m(\u001b[49m\u001b[38;5;124;43m\"\u001b[39;49m\u001b[38;5;124;43mstorage_options\u001b[39;49m\u001b[38;5;124;43m\"\u001b[39;49m\u001b[43m,\u001b[49m\u001b[43m \u001b[49m\u001b[38;5;28;43;01mNone\u001b[39;49;00m\u001b[43m)\u001b[49m\u001b[43m,\u001b[49m\n\u001b[0;32m   1889\u001b[0m \u001b[43m\u001b[49m\u001b[43m)\u001b[49m\n\u001b[0;32m   1890\u001b[0m \u001b[38;5;28;01massert\u001b[39;00m \u001b[38;5;28mself\u001b[39m\u001b[38;5;241m.\u001b[39mhandles \u001b[38;5;129;01mis\u001b[39;00m \u001b[38;5;129;01mnot\u001b[39;00m \u001b[38;5;28;01mNone\u001b[39;00m\n\u001b[0;32m   1891\u001b[0m f \u001b[38;5;241m=\u001b[39m \u001b[38;5;28mself\u001b[39m\u001b[38;5;241m.\u001b[39mhandles\u001b[38;5;241m.\u001b[39mhandle\n",
      "File \u001b[1;32mc:\\Users\\tzehl\\anaconda3\\envs\\ds\\Lib\\site-packages\\pandas\\io\\common.py:873\u001b[0m, in \u001b[0;36mget_handle\u001b[1;34m(path_or_buf, mode, encoding, compression, memory_map, is_text, errors, storage_options)\u001b[0m\n\u001b[0;32m    868\u001b[0m \u001b[38;5;28;01melif\u001b[39;00m \u001b[38;5;28misinstance\u001b[39m(handle, \u001b[38;5;28mstr\u001b[39m):\n\u001b[0;32m    869\u001b[0m     \u001b[38;5;66;03m# Check whether the filename is to be opened in binary mode.\u001b[39;00m\n\u001b[0;32m    870\u001b[0m     \u001b[38;5;66;03m# Binary mode does not support 'encoding' and 'newline'.\u001b[39;00m\n\u001b[0;32m    871\u001b[0m     \u001b[38;5;28;01mif\u001b[39;00m ioargs\u001b[38;5;241m.\u001b[39mencoding \u001b[38;5;129;01mand\u001b[39;00m \u001b[38;5;124m\"\u001b[39m\u001b[38;5;124mb\u001b[39m\u001b[38;5;124m\"\u001b[39m \u001b[38;5;129;01mnot\u001b[39;00m \u001b[38;5;129;01min\u001b[39;00m ioargs\u001b[38;5;241m.\u001b[39mmode:\n\u001b[0;32m    872\u001b[0m         \u001b[38;5;66;03m# Encoding\u001b[39;00m\n\u001b[1;32m--> 873\u001b[0m         handle \u001b[38;5;241m=\u001b[39m \u001b[38;5;28;43mopen\u001b[39;49m\u001b[43m(\u001b[49m\n\u001b[0;32m    874\u001b[0m \u001b[43m            \u001b[49m\u001b[43mhandle\u001b[49m\u001b[43m,\u001b[49m\n\u001b[0;32m    875\u001b[0m \u001b[43m            \u001b[49m\u001b[43mioargs\u001b[49m\u001b[38;5;241;43m.\u001b[39;49m\u001b[43mmode\u001b[49m\u001b[43m,\u001b[49m\n\u001b[0;32m    876\u001b[0m \u001b[43m            \u001b[49m\u001b[43mencoding\u001b[49m\u001b[38;5;241;43m=\u001b[39;49m\u001b[43mioargs\u001b[49m\u001b[38;5;241;43m.\u001b[39;49m\u001b[43mencoding\u001b[49m\u001b[43m,\u001b[49m\n\u001b[0;32m    877\u001b[0m \u001b[43m            \u001b[49m\u001b[43merrors\u001b[49m\u001b[38;5;241;43m=\u001b[39;49m\u001b[43merrors\u001b[49m\u001b[43m,\u001b[49m\n\u001b[0;32m    878\u001b[0m \u001b[43m            \u001b[49m\u001b[43mnewline\u001b[49m\u001b[38;5;241;43m=\u001b[39;49m\u001b[38;5;124;43m\"\u001b[39;49m\u001b[38;5;124;43m\"\u001b[39;49m\u001b[43m,\u001b[49m\n\u001b[0;32m    879\u001b[0m \u001b[43m        \u001b[49m\u001b[43m)\u001b[49m\n\u001b[0;32m    880\u001b[0m     \u001b[38;5;28;01melse\u001b[39;00m:\n\u001b[0;32m    881\u001b[0m         \u001b[38;5;66;03m# Binary mode\u001b[39;00m\n\u001b[0;32m    882\u001b[0m         handle \u001b[38;5;241m=\u001b[39m \u001b[38;5;28mopen\u001b[39m(handle, ioargs\u001b[38;5;241m.\u001b[39mmode)\n",
      "\u001b[1;31mOSError\u001b[0m: [Errno 22] Invalid argument: '../results/subj/llama/CAPO/seed43/**/step_results.parquet'"
     ]
    }
   ],
   "source": [
    "# load the prompt scores per block\n",
    "path = path.replace(\"step_results_eval\", \"prompt_scores\")\n",
    "\n",
    "df_blocks = pd.read_csv(path)\n",
    "# round all numbers to 2 decimal places\n",
    "df_blocks = df_blocks.round(2)\n",
    "\n",
    "df_blocks"
   ]
  },
  {
   "cell_type": "code",
   "execution_count": null,
   "metadata": {},
   "outputs": [
    {
     "data": {
      "text/plain": [
       "\"For this assignment, you'll act as a news classification assistant. Your goal is to carefully analyze the given news article and assign it to one of these four categories: World, Sports, Business, or Sci/Tech. Please format your final response as <final_answer>selected category</final_answer> to facilitate accurate system recognition and smooth processing.\\r\\n\\r\\nInput:\\r\\n<|im_start|>assistant\\r\\n\""
      ]
     },
     "execution_count": 107,
     "metadata": {},
     "output_type": "execute_result"
    }
   ],
   "source": [
    "s = df.prompt.sample(1).item()\n",
    "s"
   ]
  },
  {
   "cell_type": "code",
   "execution_count": null,
   "metadata": {},
   "outputs": [
    {
     "data": {
      "text/plain": [
       "'Address the math word problem by dissecting it into simpler components for easier resolution. Upon arriving at the solution, make certain that your ultimate answer is enclosed within the <final_answer> and </final_answer> markers.\\r\\n\\r\\nInput: A taco truck is selling soft tacos for $2 and hard shell tacos for $5 during the lunch rush. The first group of customers is a family that buys four hard shell tacos and three soft tacos. The rest of the customers in the lunch rush only buy two soft tacos each. There were ten customers after the family. How many dollars did the taco truck make during the lunch rush?\\r\\nOutput: <final_answer>66</final_answer>\\r\\n\\r\\nInput:'"
      ]
     },
     "execution_count": 108,
     "metadata": {},
     "output_type": "execute_result"
    }
   ],
   "source": [
    "df_blocks.iloc[2][\"Unnamed: 0\"]"
   ]
  },
  {
   "cell_type": "code",
   "execution_count": null,
   "metadata": {},
   "outputs": [
    {
     "name": "stdout",
     "output_type": "stream",
     "text": [
      "For this assignment, you'll act as a news classification assistant. Your goal is to carefully analyze the given news article and assign it to one of these four categories: World, Sports, Business, or Sci/Tech. Please format your final response as <final_answer>selected category</final_answer> to facilitate accurate system recognition and smooth processing.\n",
      "\n",
      "Input:\n",
      "<|im_start|>assistant\n",
      "\n"
     ]
    }
   ],
   "source": [
    "print(s)"
   ]
  },
  {
   "cell_type": "code",
   "execution_count": null,
   "metadata": {},
   "outputs": [
    {
     "name": "stdout",
     "output_type": "stream",
     "text": [
      "\n"
     ]
    }
   ],
   "source": [
    "print(\"\\r\")"
   ]
  },
  {
   "cell_type": "code",
   "execution_count": null,
   "metadata": {},
   "outputs": [],
   "source": [
    "# get number of blocks per prompt by counting non nans per columns\n",
    "n_blocks = df_blocks.count(axis=1) - 1"
   ]
  },
  {
   "cell_type": "code",
   "execution_count": null,
   "metadata": {},
   "outputs": [
    {
     "data": {
      "text/plain": [
       "0       1\n",
       "1       1\n",
       "2      10\n",
       "3      10\n",
       "4       1\n",
       "       ..\n",
       "263     1\n",
       "264     4\n",
       "265     1\n",
       "266    10\n",
       "267     1\n",
       "Length: 268, dtype: int64"
      ]
     },
     "execution_count": 112,
     "metadata": {},
     "output_type": "execute_result"
    }
   ],
   "source": [
    "n_blocks"
   ]
  },
  {
   "cell_type": "code",
   "execution_count": null,
   "metadata": {},
   "outputs": [],
   "source": [
    "df_count = pd.DataFrame({\"n_blocks\": n_blocks.values, \"prompt\": df_blocks[\"Unnamed: 0\"]})"
   ]
  },
  {
   "cell_type": "code",
   "execution_count": null,
   "metadata": {},
   "outputs": [
    {
     "data": {
      "text/plain": [
       "n_blocks\n",
       "1     199\n",
       "10     32\n",
       "2      20\n",
       "4       7\n",
       "5       4\n",
       "3       4\n",
       "6       1\n",
       "8       1\n",
       "Name: count, dtype: int64"
      ]
     },
     "execution_count": 114,
     "metadata": {},
     "output_type": "execute_result"
    }
   ],
   "source": [
    "df_count[\"n_blocks\"].value_counts()"
   ]
  },
  {
   "cell_type": "code",
   "execution_count": null,
   "metadata": {},
   "outputs": [
    {
     "ename": "ValueError",
     "evalue": "Bin edges must be unique: Index([nan, nan, nan, nan, nan, nan], dtype='float64').\nYou can drop duplicate edges by setting the 'duplicates' kwarg",
     "output_type": "error",
     "traceback": [
      "\u001b[1;31m---------------------------------------------------------------------------\u001b[0m",
      "\u001b[1;31mValueError\u001b[0m                                Traceback (most recent call last)",
      "Cell \u001b[1;32mIn[115], line 5\u001b[0m\n\u001b[0;32m      2\u001b[0m df_count \u001b[38;5;241m=\u001b[39m df_count\u001b[38;5;241m.\u001b[39mjoin(df\u001b[38;5;241m.\u001b[39mset_index(\u001b[38;5;124m\"\u001b[39m\u001b[38;5;124mprompt\u001b[39m\u001b[38;5;124m\"\u001b[39m), on\u001b[38;5;241m=\u001b[39m\u001b[38;5;124m\"\u001b[39m\u001b[38;5;124mprompt\u001b[39m\u001b[38;5;124m\"\u001b[39m, how\u001b[38;5;241m=\u001b[39m\u001b[38;5;124m\"\u001b[39m\u001b[38;5;124mleft\u001b[39m\u001b[38;5;124m\"\u001b[39m, lsuffix\u001b[38;5;241m=\u001b[39m\u001b[38;5;124m\"\u001b[39m\u001b[38;5;124m_rrr\u001b[39m\u001b[38;5;124m\"\u001b[39m)\n\u001b[0;32m      4\u001b[0m \u001b[38;5;66;03m# bin by test_score\u001b[39;00m\n\u001b[1;32m----> 5\u001b[0m df_count[\u001b[38;5;124m\"\u001b[39m\u001b[38;5;124mtest_score_bin\u001b[39m\u001b[38;5;124m\"\u001b[39m] \u001b[38;5;241m=\u001b[39m \u001b[43mpd\u001b[49m\u001b[38;5;241;43m.\u001b[39;49m\u001b[43mcut\u001b[49m\u001b[43m(\u001b[49m\u001b[43mdf_count\u001b[49m\u001b[43m[\u001b[49m\u001b[38;5;124;43m\"\u001b[39;49m\u001b[38;5;124;43mtest_score\u001b[39;49m\u001b[38;5;124;43m\"\u001b[39;49m\u001b[43m]\u001b[49m\u001b[43m,\u001b[49m\u001b[43m \u001b[49m\u001b[43mbins\u001b[49m\u001b[38;5;241;43m=\u001b[39;49m\u001b[38;5;241;43m5\u001b[39;49m\u001b[43m)\u001b[49m\n",
      "File \u001b[1;32mc:\\Users\\tzehl\\anaconda3\\envs\\ds\\Lib\\site-packages\\pandas\\core\\reshape\\tile.py:257\u001b[0m, in \u001b[0;36mcut\u001b[1;34m(x, bins, right, labels, retbins, precision, include_lowest, duplicates, ordered)\u001b[0m\n\u001b[0;32m    254\u001b[0m     \u001b[38;5;28;01mif\u001b[39;00m \u001b[38;5;129;01mnot\u001b[39;00m bins\u001b[38;5;241m.\u001b[39mis_monotonic_increasing:\n\u001b[0;32m    255\u001b[0m         \u001b[38;5;28;01mraise\u001b[39;00m \u001b[38;5;167;01mValueError\u001b[39;00m(\u001b[38;5;124m\"\u001b[39m\u001b[38;5;124mbins must increase monotonically.\u001b[39m\u001b[38;5;124m\"\u001b[39m)\n\u001b[1;32m--> 257\u001b[0m fac, bins \u001b[38;5;241m=\u001b[39m \u001b[43m_bins_to_cuts\u001b[49m\u001b[43m(\u001b[49m\n\u001b[0;32m    258\u001b[0m \u001b[43m    \u001b[49m\u001b[43mx_idx\u001b[49m\u001b[43m,\u001b[49m\n\u001b[0;32m    259\u001b[0m \u001b[43m    \u001b[49m\u001b[43mbins\u001b[49m\u001b[43m,\u001b[49m\n\u001b[0;32m    260\u001b[0m \u001b[43m    \u001b[49m\u001b[43mright\u001b[49m\u001b[38;5;241;43m=\u001b[39;49m\u001b[43mright\u001b[49m\u001b[43m,\u001b[49m\n\u001b[0;32m    261\u001b[0m \u001b[43m    \u001b[49m\u001b[43mlabels\u001b[49m\u001b[38;5;241;43m=\u001b[39;49m\u001b[43mlabels\u001b[49m\u001b[43m,\u001b[49m\n\u001b[0;32m    262\u001b[0m \u001b[43m    \u001b[49m\u001b[43mprecision\u001b[49m\u001b[38;5;241;43m=\u001b[39;49m\u001b[43mprecision\u001b[49m\u001b[43m,\u001b[49m\n\u001b[0;32m    263\u001b[0m \u001b[43m    \u001b[49m\u001b[43minclude_lowest\u001b[49m\u001b[38;5;241;43m=\u001b[39;49m\u001b[43minclude_lowest\u001b[49m\u001b[43m,\u001b[49m\n\u001b[0;32m    264\u001b[0m \u001b[43m    \u001b[49m\u001b[43mduplicates\u001b[49m\u001b[38;5;241;43m=\u001b[39;49m\u001b[43mduplicates\u001b[49m\u001b[43m,\u001b[49m\n\u001b[0;32m    265\u001b[0m \u001b[43m    \u001b[49m\u001b[43mordered\u001b[49m\u001b[38;5;241;43m=\u001b[39;49m\u001b[43mordered\u001b[49m\u001b[43m,\u001b[49m\n\u001b[0;32m    266\u001b[0m \u001b[43m\u001b[49m\u001b[43m)\u001b[49m\n\u001b[0;32m    268\u001b[0m \u001b[38;5;28;01mreturn\u001b[39;00m _postprocess_for_cut(fac, bins, retbins, original)\n",
      "File \u001b[1;32mc:\\Users\\tzehl\\anaconda3\\envs\\ds\\Lib\\site-packages\\pandas\\core\\reshape\\tile.py:443\u001b[0m, in \u001b[0;36m_bins_to_cuts\u001b[1;34m(x_idx, bins, right, labels, precision, include_lowest, duplicates, ordered)\u001b[0m\n\u001b[0;32m    441\u001b[0m \u001b[38;5;28;01mif\u001b[39;00m \u001b[38;5;28mlen\u001b[39m(unique_bins) \u001b[38;5;241m<\u001b[39m \u001b[38;5;28mlen\u001b[39m(bins) \u001b[38;5;129;01mand\u001b[39;00m \u001b[38;5;28mlen\u001b[39m(bins) \u001b[38;5;241m!=\u001b[39m \u001b[38;5;241m2\u001b[39m:\n\u001b[0;32m    442\u001b[0m     \u001b[38;5;28;01mif\u001b[39;00m duplicates \u001b[38;5;241m==\u001b[39m \u001b[38;5;124m\"\u001b[39m\u001b[38;5;124mraise\u001b[39m\u001b[38;5;124m\"\u001b[39m:\n\u001b[1;32m--> 443\u001b[0m         \u001b[38;5;28;01mraise\u001b[39;00m \u001b[38;5;167;01mValueError\u001b[39;00m(\n\u001b[0;32m    444\u001b[0m             \u001b[38;5;124mf\u001b[39m\u001b[38;5;124m\"\u001b[39m\u001b[38;5;124mBin edges must be unique: \u001b[39m\u001b[38;5;132;01m{\u001b[39;00m\u001b[38;5;28mrepr\u001b[39m(bins)\u001b[38;5;132;01m}\u001b[39;00m\u001b[38;5;124m.\u001b[39m\u001b[38;5;130;01m\\n\u001b[39;00m\u001b[38;5;124m\"\u001b[39m\n\u001b[0;32m    445\u001b[0m             \u001b[38;5;124mf\u001b[39m\u001b[38;5;124m\"\u001b[39m\u001b[38;5;124mYou can drop duplicate edges by setting the \u001b[39m\u001b[38;5;124m'\u001b[39m\u001b[38;5;124mduplicates\u001b[39m\u001b[38;5;124m'\u001b[39m\u001b[38;5;124m kwarg\u001b[39m\u001b[38;5;124m\"\u001b[39m\n\u001b[0;32m    446\u001b[0m         )\n\u001b[0;32m    447\u001b[0m     bins \u001b[38;5;241m=\u001b[39m unique_bins\n\u001b[0;32m    449\u001b[0m side: Literal[\u001b[38;5;124m\"\u001b[39m\u001b[38;5;124mleft\u001b[39m\u001b[38;5;124m\"\u001b[39m, \u001b[38;5;124m\"\u001b[39m\u001b[38;5;124mright\u001b[39m\u001b[38;5;124m\"\u001b[39m] \u001b[38;5;241m=\u001b[39m \u001b[38;5;124m\"\u001b[39m\u001b[38;5;124mleft\u001b[39m\u001b[38;5;124m\"\u001b[39m \u001b[38;5;28;01mif\u001b[39;00m right \u001b[38;5;28;01melse\u001b[39;00m \u001b[38;5;124m\"\u001b[39m\u001b[38;5;124mright\u001b[39m\u001b[38;5;124m\"\u001b[39m\n",
      "\u001b[1;31mValueError\u001b[0m: Bin edges must be unique: Index([nan, nan, nan, nan, nan, nan], dtype='float64').\nYou can drop duplicate edges by setting the 'duplicates' kwarg"
     ]
    }
   ],
   "source": [
    "# join with df\n",
    "df_count = df_count.join(df.set_index(\"prompt\"), on=\"prompt\", how=\"left\", lsuffix=\"_rrr\")\n",
    "\n",
    "# bin by test_score\n",
    "df_count[\"test_score_bin\"] = pd.cut(df_count[\"test_score\"], bins=5)"
   ]
  },
  {
   "cell_type": "code",
   "execution_count": null,
   "metadata": {},
   "outputs": [
    {
     "ename": "KeyError",
     "evalue": "'test_score_bin'",
     "output_type": "error",
     "traceback": [
      "\u001b[1;31m---------------------------------------------------------------------------\u001b[0m",
      "\u001b[1;31mKeyError\u001b[0m                                  Traceback (most recent call last)",
      "Cell \u001b[1;32mIn[116], line 2\u001b[0m\n\u001b[0;32m      1\u001b[0m \u001b[38;5;66;03m# evals vs score => boxplot\u001b[39;00m\n\u001b[1;32m----> 2\u001b[0m \u001b[43mdf_count\u001b[49m\u001b[38;5;241;43m.\u001b[39;49m\u001b[43mboxplot\u001b[49m\u001b[43m(\u001b[49m\u001b[43mcolumn\u001b[49m\u001b[38;5;241;43m=\u001b[39;49m\u001b[38;5;124;43m\"\u001b[39;49m\u001b[38;5;124;43mn_blocks\u001b[39;49m\u001b[38;5;124;43m\"\u001b[39;49m\u001b[43m,\u001b[49m\u001b[43m \u001b[49m\u001b[43mby\u001b[49m\u001b[38;5;241;43m=\u001b[39;49m\u001b[38;5;124;43m\"\u001b[39;49m\u001b[38;5;124;43mtest_score_bin\u001b[39;49m\u001b[38;5;124;43m\"\u001b[39;49m\u001b[43m)\u001b[49m;\n",
      "File \u001b[1;32mc:\\Users\\tzehl\\anaconda3\\envs\\ds\\Lib\\site-packages\\pandas\\plotting\\_core.py:533\u001b[0m, in \u001b[0;36mboxplot_frame\u001b[1;34m(self, column, by, ax, fontsize, rot, grid, figsize, layout, return_type, backend, **kwargs)\u001b[0m\n\u001b[0;32m    516\u001b[0m \u001b[38;5;129m@Substitution\u001b[39m(data\u001b[38;5;241m=\u001b[39m\u001b[38;5;124m\"\u001b[39m\u001b[38;5;124m\"\u001b[39m, backend\u001b[38;5;241m=\u001b[39m_backend_doc)\n\u001b[0;32m    517\u001b[0m \u001b[38;5;129m@Appender\u001b[39m(_boxplot_doc)\n\u001b[0;32m    518\u001b[0m \u001b[38;5;28;01mdef\u001b[39;00m\u001b[38;5;250m \u001b[39m\u001b[38;5;21mboxplot_frame\u001b[39m(\n\u001b[1;32m   (...)\u001b[0m\n\u001b[0;32m    530\u001b[0m     \u001b[38;5;241m*\u001b[39m\u001b[38;5;241m*\u001b[39mkwargs,\n\u001b[0;32m    531\u001b[0m ):\n\u001b[0;32m    532\u001b[0m     plot_backend \u001b[38;5;241m=\u001b[39m _get_plot_backend(backend)\n\u001b[1;32m--> 533\u001b[0m     \u001b[38;5;28;01mreturn\u001b[39;00m \u001b[43mplot_backend\u001b[49m\u001b[38;5;241;43m.\u001b[39;49m\u001b[43mboxplot_frame\u001b[49m\u001b[43m(\u001b[49m\n\u001b[0;32m    534\u001b[0m \u001b[43m        \u001b[49m\u001b[38;5;28;43mself\u001b[39;49m\u001b[43m,\u001b[49m\n\u001b[0;32m    535\u001b[0m \u001b[43m        \u001b[49m\u001b[43mcolumn\u001b[49m\u001b[38;5;241;43m=\u001b[39;49m\u001b[43mcolumn\u001b[49m\u001b[43m,\u001b[49m\n\u001b[0;32m    536\u001b[0m \u001b[43m        \u001b[49m\u001b[43mby\u001b[49m\u001b[38;5;241;43m=\u001b[39;49m\u001b[43mby\u001b[49m\u001b[43m,\u001b[49m\n\u001b[0;32m    537\u001b[0m \u001b[43m        \u001b[49m\u001b[43max\u001b[49m\u001b[38;5;241;43m=\u001b[39;49m\u001b[43max\u001b[49m\u001b[43m,\u001b[49m\n\u001b[0;32m    538\u001b[0m \u001b[43m        \u001b[49m\u001b[43mfontsize\u001b[49m\u001b[38;5;241;43m=\u001b[39;49m\u001b[43mfontsize\u001b[49m\u001b[43m,\u001b[49m\n\u001b[0;32m    539\u001b[0m \u001b[43m        \u001b[49m\u001b[43mrot\u001b[49m\u001b[38;5;241;43m=\u001b[39;49m\u001b[43mrot\u001b[49m\u001b[43m,\u001b[49m\n\u001b[0;32m    540\u001b[0m \u001b[43m        \u001b[49m\u001b[43mgrid\u001b[49m\u001b[38;5;241;43m=\u001b[39;49m\u001b[43mgrid\u001b[49m\u001b[43m,\u001b[49m\n\u001b[0;32m    541\u001b[0m \u001b[43m        \u001b[49m\u001b[43mfigsize\u001b[49m\u001b[38;5;241;43m=\u001b[39;49m\u001b[43mfigsize\u001b[49m\u001b[43m,\u001b[49m\n\u001b[0;32m    542\u001b[0m \u001b[43m        \u001b[49m\u001b[43mlayout\u001b[49m\u001b[38;5;241;43m=\u001b[39;49m\u001b[43mlayout\u001b[49m\u001b[43m,\u001b[49m\n\u001b[0;32m    543\u001b[0m \u001b[43m        \u001b[49m\u001b[43mreturn_type\u001b[49m\u001b[38;5;241;43m=\u001b[39;49m\u001b[43mreturn_type\u001b[49m\u001b[43m,\u001b[49m\n\u001b[0;32m    544\u001b[0m \u001b[43m        \u001b[49m\u001b[38;5;241;43m*\u001b[39;49m\u001b[38;5;241;43m*\u001b[39;49m\u001b[43mkwargs\u001b[49m\u001b[43m,\u001b[49m\n\u001b[0;32m    545\u001b[0m \u001b[43m    \u001b[49m\u001b[43m)\u001b[49m\n",
      "File \u001b[1;32mc:\\Users\\tzehl\\anaconda3\\envs\\ds\\Lib\\site-packages\\pandas\\plotting\\_matplotlib\\boxplot.py:492\u001b[0m, in \u001b[0;36mboxplot_frame\u001b[1;34m(self, column, by, ax, fontsize, rot, grid, figsize, layout, return_type, **kwds)\u001b[0m\n\u001b[0;32m    477\u001b[0m \u001b[38;5;28;01mdef\u001b[39;00m\u001b[38;5;250m \u001b[39m\u001b[38;5;21mboxplot_frame\u001b[39m(\n\u001b[0;32m    478\u001b[0m     \u001b[38;5;28mself\u001b[39m,\n\u001b[0;32m    479\u001b[0m     column\u001b[38;5;241m=\u001b[39m\u001b[38;5;28;01mNone\u001b[39;00m,\n\u001b[1;32m   (...)\u001b[0m\n\u001b[0;32m    488\u001b[0m     \u001b[38;5;241m*\u001b[39m\u001b[38;5;241m*\u001b[39mkwds,\n\u001b[0;32m    489\u001b[0m ):\n\u001b[0;32m    490\u001b[0m     \u001b[38;5;28;01mimport\u001b[39;00m\u001b[38;5;250m \u001b[39m\u001b[38;5;21;01mmatplotlib\u001b[39;00m\u001b[38;5;21;01m.\u001b[39;00m\u001b[38;5;21;01mpyplot\u001b[39;00m\u001b[38;5;250m \u001b[39m\u001b[38;5;28;01mas\u001b[39;00m\u001b[38;5;250m \u001b[39m\u001b[38;5;21;01mplt\u001b[39;00m\n\u001b[1;32m--> 492\u001b[0m     ax \u001b[38;5;241m=\u001b[39m \u001b[43mboxplot\u001b[49m\u001b[43m(\u001b[49m\n\u001b[0;32m    493\u001b[0m \u001b[43m        \u001b[49m\u001b[38;5;28;43mself\u001b[39;49m\u001b[43m,\u001b[49m\n\u001b[0;32m    494\u001b[0m \u001b[43m        \u001b[49m\u001b[43mcolumn\u001b[49m\u001b[38;5;241;43m=\u001b[39;49m\u001b[43mcolumn\u001b[49m\u001b[43m,\u001b[49m\n\u001b[0;32m    495\u001b[0m \u001b[43m        \u001b[49m\u001b[43mby\u001b[49m\u001b[38;5;241;43m=\u001b[39;49m\u001b[43mby\u001b[49m\u001b[43m,\u001b[49m\n\u001b[0;32m    496\u001b[0m \u001b[43m        \u001b[49m\u001b[43max\u001b[49m\u001b[38;5;241;43m=\u001b[39;49m\u001b[43max\u001b[49m\u001b[43m,\u001b[49m\n\u001b[0;32m    497\u001b[0m \u001b[43m        \u001b[49m\u001b[43mfontsize\u001b[49m\u001b[38;5;241;43m=\u001b[39;49m\u001b[43mfontsize\u001b[49m\u001b[43m,\u001b[49m\n\u001b[0;32m    498\u001b[0m \u001b[43m        \u001b[49m\u001b[43mgrid\u001b[49m\u001b[38;5;241;43m=\u001b[39;49m\u001b[43mgrid\u001b[49m\u001b[43m,\u001b[49m\n\u001b[0;32m    499\u001b[0m \u001b[43m        \u001b[49m\u001b[43mrot\u001b[49m\u001b[38;5;241;43m=\u001b[39;49m\u001b[43mrot\u001b[49m\u001b[43m,\u001b[49m\n\u001b[0;32m    500\u001b[0m \u001b[43m        \u001b[49m\u001b[43mfigsize\u001b[49m\u001b[38;5;241;43m=\u001b[39;49m\u001b[43mfigsize\u001b[49m\u001b[43m,\u001b[49m\n\u001b[0;32m    501\u001b[0m \u001b[43m        \u001b[49m\u001b[43mlayout\u001b[49m\u001b[38;5;241;43m=\u001b[39;49m\u001b[43mlayout\u001b[49m\u001b[43m,\u001b[49m\n\u001b[0;32m    502\u001b[0m \u001b[43m        \u001b[49m\u001b[43mreturn_type\u001b[49m\u001b[38;5;241;43m=\u001b[39;49m\u001b[43mreturn_type\u001b[49m\u001b[43m,\u001b[49m\n\u001b[0;32m    503\u001b[0m \u001b[43m        \u001b[49m\u001b[38;5;241;43m*\u001b[39;49m\u001b[38;5;241;43m*\u001b[39;49m\u001b[43mkwds\u001b[49m\u001b[43m,\u001b[49m\n\u001b[0;32m    504\u001b[0m \u001b[43m    \u001b[49m\u001b[43m)\u001b[49m\n\u001b[0;32m    505\u001b[0m     plt\u001b[38;5;241m.\u001b[39mdraw_if_interactive()\n\u001b[0;32m    506\u001b[0m     \u001b[38;5;28;01mreturn\u001b[39;00m ax\n",
      "File \u001b[1;32mc:\\Users\\tzehl\\anaconda3\\envs\\ds\\Lib\\site-packages\\pandas\\plotting\\_matplotlib\\boxplot.py:438\u001b[0m, in \u001b[0;36mboxplot\u001b[1;34m(data, column, by, ax, fontsize, rot, grid, figsize, layout, return_type, **kwds)\u001b[0m\n\u001b[0;32m    433\u001b[0m     columns \u001b[38;5;241m=\u001b[39m [column]\n\u001b[0;32m    435\u001b[0m \u001b[38;5;28;01mif\u001b[39;00m by \u001b[38;5;129;01mis\u001b[39;00m \u001b[38;5;129;01mnot\u001b[39;00m \u001b[38;5;28;01mNone\u001b[39;00m:\n\u001b[0;32m    436\u001b[0m     \u001b[38;5;66;03m# Prefer array return type for 2-D plots to match the subplot layout\u001b[39;00m\n\u001b[0;32m    437\u001b[0m     \u001b[38;5;66;03m# https://github.com/pandas-dev/pandas/pull/12216#issuecomment-241175580\u001b[39;00m\n\u001b[1;32m--> 438\u001b[0m     result \u001b[38;5;241m=\u001b[39m \u001b[43m_grouped_plot_by_column\u001b[49m\u001b[43m(\u001b[49m\n\u001b[0;32m    439\u001b[0m \u001b[43m        \u001b[49m\u001b[43mplot_group\u001b[49m\u001b[43m,\u001b[49m\n\u001b[0;32m    440\u001b[0m \u001b[43m        \u001b[49m\u001b[43mdata\u001b[49m\u001b[43m,\u001b[49m\n\u001b[0;32m    441\u001b[0m \u001b[43m        \u001b[49m\u001b[43mcolumns\u001b[49m\u001b[38;5;241;43m=\u001b[39;49m\u001b[43mcolumns\u001b[49m\u001b[43m,\u001b[49m\n\u001b[0;32m    442\u001b[0m \u001b[43m        \u001b[49m\u001b[43mby\u001b[49m\u001b[38;5;241;43m=\u001b[39;49m\u001b[43mby\u001b[49m\u001b[43m,\u001b[49m\n\u001b[0;32m    443\u001b[0m \u001b[43m        \u001b[49m\u001b[43mgrid\u001b[49m\u001b[38;5;241;43m=\u001b[39;49m\u001b[43mgrid\u001b[49m\u001b[43m,\u001b[49m\n\u001b[0;32m    444\u001b[0m \u001b[43m        \u001b[49m\u001b[43mfigsize\u001b[49m\u001b[38;5;241;43m=\u001b[39;49m\u001b[43mfigsize\u001b[49m\u001b[43m,\u001b[49m\n\u001b[0;32m    445\u001b[0m \u001b[43m        \u001b[49m\u001b[43max\u001b[49m\u001b[38;5;241;43m=\u001b[39;49m\u001b[43max\u001b[49m\u001b[43m,\u001b[49m\n\u001b[0;32m    446\u001b[0m \u001b[43m        \u001b[49m\u001b[43mlayout\u001b[49m\u001b[38;5;241;43m=\u001b[39;49m\u001b[43mlayout\u001b[49m\u001b[43m,\u001b[49m\n\u001b[0;32m    447\u001b[0m \u001b[43m        \u001b[49m\u001b[43mreturn_type\u001b[49m\u001b[38;5;241;43m=\u001b[39;49m\u001b[43mreturn_type\u001b[49m\u001b[43m,\u001b[49m\n\u001b[0;32m    448\u001b[0m \u001b[43m        \u001b[49m\u001b[38;5;241;43m*\u001b[39;49m\u001b[38;5;241;43m*\u001b[39;49m\u001b[43mkwds\u001b[49m\u001b[43m,\u001b[49m\n\u001b[0;32m    449\u001b[0m \u001b[43m    \u001b[49m\u001b[43m)\u001b[49m\n\u001b[0;32m    450\u001b[0m \u001b[38;5;28;01melse\u001b[39;00m:\n\u001b[0;32m    451\u001b[0m     \u001b[38;5;28;01mif\u001b[39;00m return_type \u001b[38;5;129;01mis\u001b[39;00m \u001b[38;5;28;01mNone\u001b[39;00m:\n",
      "File \u001b[1;32mc:\\Users\\tzehl\\anaconda3\\envs\\ds\\Lib\\site-packages\\pandas\\plotting\\_matplotlib\\boxplot.py:299\u001b[0m, in \u001b[0;36m_grouped_plot_by_column\u001b[1;34m(plotf, data, columns, by, numeric_only, grid, figsize, ax, layout, return_type, **kwargs)\u001b[0m\n\u001b[0;32m    286\u001b[0m \u001b[38;5;28;01mdef\u001b[39;00m\u001b[38;5;250m \u001b[39m\u001b[38;5;21m_grouped_plot_by_column\u001b[39m(\n\u001b[0;32m    287\u001b[0m     plotf,\n\u001b[0;32m    288\u001b[0m     data,\n\u001b[1;32m   (...)\u001b[0m\n\u001b[0;32m    297\u001b[0m     \u001b[38;5;241m*\u001b[39m\u001b[38;5;241m*\u001b[39mkwargs,\n\u001b[0;32m    298\u001b[0m ):\n\u001b[1;32m--> 299\u001b[0m     grouped \u001b[38;5;241m=\u001b[39m \u001b[43mdata\u001b[49m\u001b[38;5;241;43m.\u001b[39;49m\u001b[43mgroupby\u001b[49m\u001b[43m(\u001b[49m\u001b[43mby\u001b[49m\u001b[43m,\u001b[49m\u001b[43m \u001b[49m\u001b[43mobserved\u001b[49m\u001b[38;5;241;43m=\u001b[39;49m\u001b[38;5;28;43;01mFalse\u001b[39;49;00m\u001b[43m)\u001b[49m\n\u001b[0;32m    300\u001b[0m     \u001b[38;5;28;01mif\u001b[39;00m columns \u001b[38;5;129;01mis\u001b[39;00m \u001b[38;5;28;01mNone\u001b[39;00m:\n\u001b[0;32m    301\u001b[0m         \u001b[38;5;28;01mif\u001b[39;00m \u001b[38;5;129;01mnot\u001b[39;00m \u001b[38;5;28misinstance\u001b[39m(by, (\u001b[38;5;28mlist\u001b[39m, \u001b[38;5;28mtuple\u001b[39m)):\n",
      "File \u001b[1;32mc:\\Users\\tzehl\\anaconda3\\envs\\ds\\Lib\\site-packages\\pandas\\core\\frame.py:9183\u001b[0m, in \u001b[0;36mDataFrame.groupby\u001b[1;34m(self, by, axis, level, as_index, sort, group_keys, observed, dropna)\u001b[0m\n\u001b[0;32m   9180\u001b[0m \u001b[38;5;28;01mif\u001b[39;00m level \u001b[38;5;129;01mis\u001b[39;00m \u001b[38;5;28;01mNone\u001b[39;00m \u001b[38;5;129;01mand\u001b[39;00m by \u001b[38;5;129;01mis\u001b[39;00m \u001b[38;5;28;01mNone\u001b[39;00m:\n\u001b[0;32m   9181\u001b[0m     \u001b[38;5;28;01mraise\u001b[39;00m \u001b[38;5;167;01mTypeError\u001b[39;00m(\u001b[38;5;124m\"\u001b[39m\u001b[38;5;124mYou have to supply one of \u001b[39m\u001b[38;5;124m'\u001b[39m\u001b[38;5;124mby\u001b[39m\u001b[38;5;124m'\u001b[39m\u001b[38;5;124m and \u001b[39m\u001b[38;5;124m'\u001b[39m\u001b[38;5;124mlevel\u001b[39m\u001b[38;5;124m'\u001b[39m\u001b[38;5;124m\"\u001b[39m)\n\u001b[1;32m-> 9183\u001b[0m \u001b[38;5;28;01mreturn\u001b[39;00m \u001b[43mDataFrameGroupBy\u001b[49m\u001b[43m(\u001b[49m\n\u001b[0;32m   9184\u001b[0m \u001b[43m    \u001b[49m\u001b[43mobj\u001b[49m\u001b[38;5;241;43m=\u001b[39;49m\u001b[38;5;28;43mself\u001b[39;49m\u001b[43m,\u001b[49m\n\u001b[0;32m   9185\u001b[0m \u001b[43m    \u001b[49m\u001b[43mkeys\u001b[49m\u001b[38;5;241;43m=\u001b[39;49m\u001b[43mby\u001b[49m\u001b[43m,\u001b[49m\n\u001b[0;32m   9186\u001b[0m \u001b[43m    \u001b[49m\u001b[43maxis\u001b[49m\u001b[38;5;241;43m=\u001b[39;49m\u001b[43maxis\u001b[49m\u001b[43m,\u001b[49m\n\u001b[0;32m   9187\u001b[0m \u001b[43m    \u001b[49m\u001b[43mlevel\u001b[49m\u001b[38;5;241;43m=\u001b[39;49m\u001b[43mlevel\u001b[49m\u001b[43m,\u001b[49m\n\u001b[0;32m   9188\u001b[0m \u001b[43m    \u001b[49m\u001b[43mas_index\u001b[49m\u001b[38;5;241;43m=\u001b[39;49m\u001b[43mas_index\u001b[49m\u001b[43m,\u001b[49m\n\u001b[0;32m   9189\u001b[0m \u001b[43m    \u001b[49m\u001b[43msort\u001b[49m\u001b[38;5;241;43m=\u001b[39;49m\u001b[43msort\u001b[49m\u001b[43m,\u001b[49m\n\u001b[0;32m   9190\u001b[0m \u001b[43m    \u001b[49m\u001b[43mgroup_keys\u001b[49m\u001b[38;5;241;43m=\u001b[39;49m\u001b[43mgroup_keys\u001b[49m\u001b[43m,\u001b[49m\n\u001b[0;32m   9191\u001b[0m \u001b[43m    \u001b[49m\u001b[43mobserved\u001b[49m\u001b[38;5;241;43m=\u001b[39;49m\u001b[43mobserved\u001b[49m\u001b[43m,\u001b[49m\n\u001b[0;32m   9192\u001b[0m \u001b[43m    \u001b[49m\u001b[43mdropna\u001b[49m\u001b[38;5;241;43m=\u001b[39;49m\u001b[43mdropna\u001b[49m\u001b[43m,\u001b[49m\n\u001b[0;32m   9193\u001b[0m \u001b[43m\u001b[49m\u001b[43m)\u001b[49m\n",
      "File \u001b[1;32mc:\\Users\\tzehl\\anaconda3\\envs\\ds\\Lib\\site-packages\\pandas\\core\\groupby\\groupby.py:1329\u001b[0m, in \u001b[0;36mGroupBy.__init__\u001b[1;34m(self, obj, keys, axis, level, grouper, exclusions, selection, as_index, sort, group_keys, observed, dropna)\u001b[0m\n\u001b[0;32m   1326\u001b[0m \u001b[38;5;28mself\u001b[39m\u001b[38;5;241m.\u001b[39mdropna \u001b[38;5;241m=\u001b[39m dropna\n\u001b[0;32m   1328\u001b[0m \u001b[38;5;28;01mif\u001b[39;00m grouper \u001b[38;5;129;01mis\u001b[39;00m \u001b[38;5;28;01mNone\u001b[39;00m:\n\u001b[1;32m-> 1329\u001b[0m     grouper, exclusions, obj \u001b[38;5;241m=\u001b[39m \u001b[43mget_grouper\u001b[49m\u001b[43m(\u001b[49m\n\u001b[0;32m   1330\u001b[0m \u001b[43m        \u001b[49m\u001b[43mobj\u001b[49m\u001b[43m,\u001b[49m\n\u001b[0;32m   1331\u001b[0m \u001b[43m        \u001b[49m\u001b[43mkeys\u001b[49m\u001b[43m,\u001b[49m\n\u001b[0;32m   1332\u001b[0m \u001b[43m        \u001b[49m\u001b[43maxis\u001b[49m\u001b[38;5;241;43m=\u001b[39;49m\u001b[43maxis\u001b[49m\u001b[43m,\u001b[49m\n\u001b[0;32m   1333\u001b[0m \u001b[43m        \u001b[49m\u001b[43mlevel\u001b[49m\u001b[38;5;241;43m=\u001b[39;49m\u001b[43mlevel\u001b[49m\u001b[43m,\u001b[49m\n\u001b[0;32m   1334\u001b[0m \u001b[43m        \u001b[49m\u001b[43msort\u001b[49m\u001b[38;5;241;43m=\u001b[39;49m\u001b[43msort\u001b[49m\u001b[43m,\u001b[49m\n\u001b[0;32m   1335\u001b[0m \u001b[43m        \u001b[49m\u001b[43mobserved\u001b[49m\u001b[38;5;241;43m=\u001b[39;49m\u001b[38;5;28;43;01mFalse\u001b[39;49;00m\u001b[43m \u001b[49m\u001b[38;5;28;43;01mif\u001b[39;49;00m\u001b[43m \u001b[49m\u001b[43mobserved\u001b[49m\u001b[43m \u001b[49m\u001b[38;5;129;43;01mis\u001b[39;49;00m\u001b[43m \u001b[49m\u001b[43mlib\u001b[49m\u001b[38;5;241;43m.\u001b[39;49m\u001b[43mno_default\u001b[49m\u001b[43m \u001b[49m\u001b[38;5;28;43;01melse\u001b[39;49;00m\u001b[43m \u001b[49m\u001b[43mobserved\u001b[49m\u001b[43m,\u001b[49m\n\u001b[0;32m   1336\u001b[0m \u001b[43m        \u001b[49m\u001b[43mdropna\u001b[49m\u001b[38;5;241;43m=\u001b[39;49m\u001b[38;5;28;43mself\u001b[39;49m\u001b[38;5;241;43m.\u001b[39;49m\u001b[43mdropna\u001b[49m\u001b[43m,\u001b[49m\n\u001b[0;32m   1337\u001b[0m \u001b[43m    \u001b[49m\u001b[43m)\u001b[49m\n\u001b[0;32m   1339\u001b[0m \u001b[38;5;28;01mif\u001b[39;00m observed \u001b[38;5;129;01mis\u001b[39;00m lib\u001b[38;5;241m.\u001b[39mno_default:\n\u001b[0;32m   1340\u001b[0m     \u001b[38;5;28;01mif\u001b[39;00m \u001b[38;5;28many\u001b[39m(ping\u001b[38;5;241m.\u001b[39m_passed_categorical \u001b[38;5;28;01mfor\u001b[39;00m ping \u001b[38;5;129;01min\u001b[39;00m grouper\u001b[38;5;241m.\u001b[39mgroupings):\n",
      "File \u001b[1;32mc:\\Users\\tzehl\\anaconda3\\envs\\ds\\Lib\\site-packages\\pandas\\core\\groupby\\grouper.py:1043\u001b[0m, in \u001b[0;36mget_grouper\u001b[1;34m(obj, key, axis, level, sort, observed, validate, dropna)\u001b[0m\n\u001b[0;32m   1041\u001b[0m         in_axis, level, gpr \u001b[38;5;241m=\u001b[39m \u001b[38;5;28;01mFalse\u001b[39;00m, gpr, \u001b[38;5;28;01mNone\u001b[39;00m\n\u001b[0;32m   1042\u001b[0m     \u001b[38;5;28;01melse\u001b[39;00m:\n\u001b[1;32m-> 1043\u001b[0m         \u001b[38;5;28;01mraise\u001b[39;00m \u001b[38;5;167;01mKeyError\u001b[39;00m(gpr)\n\u001b[0;32m   1044\u001b[0m \u001b[38;5;28;01melif\u001b[39;00m \u001b[38;5;28misinstance\u001b[39m(gpr, Grouper) \u001b[38;5;129;01mand\u001b[39;00m gpr\u001b[38;5;241m.\u001b[39mkey \u001b[38;5;129;01mis\u001b[39;00m \u001b[38;5;129;01mnot\u001b[39;00m \u001b[38;5;28;01mNone\u001b[39;00m:\n\u001b[0;32m   1045\u001b[0m     \u001b[38;5;66;03m# Add key to exclusions\u001b[39;00m\n\u001b[0;32m   1046\u001b[0m     exclusions\u001b[38;5;241m.\u001b[39madd(gpr\u001b[38;5;241m.\u001b[39mkey)\n",
      "\u001b[1;31mKeyError\u001b[0m: 'test_score_bin'"
     ]
    }
   ],
   "source": [
    "# evals vs score => boxplot\n",
    "df_count.boxplot(column=\"n_blocks\", by=\"test_score_bin\");"
   ]
  },
  {
   "cell_type": "code",
   "execution_count": null,
   "metadata": {},
   "outputs": [
    {
     "data": {
      "image/png": "[encoded data removed]",
      "text/plain": [
       "<Figure size 640x480 with 1 Axes>"
      ]
     },
     "metadata": {},
     "output_type": "display_data"
    }
   ],
   "source": [
    "# pie chart of number of blocks per prompt\n",
    "df_count[\"n_blocks\"].value_counts().plot.pie();"
   ]
  },
  {
   "cell_type": "code",
   "execution_count": null,
   "metadata": {},
   "outputs": [
    {
     "data": {
      "text/plain": [
       "2131"
      ]
     },
     "execution_count": 56,
     "metadata": {},
     "output_type": "execute_result"
    }
   ],
   "source": [
    "# clculate the number of saved evaluations, so how many differ by how much from 10 in n_blocks\n",
    "df_count[\"n_blocks_diff\"] = abs(df_count[\"n_blocks\"] - 10)\n",
    "n_blocks_diff_times_n = (\n",
    "    df_count[\"n_blocks_diff\"].value_counts() * df_count[\"n_blocks_diff\"].value_counts().index\n",
    ")\n",
    "n_blocks_diff_times_n.sum()"
   ]
  },
  {
   "cell_type": "code",
   "execution_count": null,
   "metadata": {},
   "outputs": [
    {
     "data": {
      "text/plain": [
       "7859"
      ]
     },
     "execution_count": 57,
     "metadata": {},
     "output_type": "execute_result"
    }
   ],
   "source": [
    "# total number of evaluations\n",
    "df_count[\"n_blocks\"].sum()"
   ]
  },
  {
   "cell_type": "code",
   "execution_count": null,
   "metadata": {},
   "outputs": [
    {
     "data": {
      "text/plain": [
       "0.21331331331331332"
      ]
     },
     "execution_count": 58,
     "metadata": {},
     "output_type": "execute_result"
    }
   ],
   "source": [
    "# tokens saved\n",
    "(n_blocks_diff_times_n.sum()) / (n_blocks_diff_times_n.sum() + df_count[\"n_blocks\"].sum())"
   ]
  },
  {
   "cell_type": "code",
   "execution_count": null,
   "metadata": {},
   "outputs": [
    {
     "data": {
      "text/plain": [
       "count    999.000000\n",
       "mean       7.866867\n",
       "std        3.715495\n",
       "min        1.000000\n",
       "25%        6.000000\n",
       "50%       10.000000\n",
       "75%       10.000000\n",
       "max       10.000000\n",
       "Name: n_blocks, dtype: float64"
      ]
     },
     "execution_count": 59,
     "metadata": {},
     "output_type": "execute_result"
    }
   ],
   "source": [
    "df_count[\"n_blocks\"].describe()"
   ]
  },
  {
   "cell_type": "code",
   "execution_count": null,
   "metadata": {},
   "outputs": [
    {
     "data": {
      "text/html": [
       "<div>\n",
       "<style scoped>\n",
       "    .dataframe tbody tr th:only-of-type {\n",
       "        vertical-align: middle;\n",
       "    }\n",
       "\n",
       "    .dataframe tbody tr th {\n",
       "        vertical-align: top;\n",
       "    }\n",
       "\n",
       "    .dataframe thead th {\n",
       "        text-align: right;\n",
       "    }\n",
       "</style>\n",
       "<table border=\"1\" class=\"dataframe\">\n",
       "  <thead>\n",
       "    <tr style=\"text-align: right;\">\n",
       "      <th></th>\n",
       "      <th>step</th>\n",
       "      <th>timestamp</th>\n",
       "      <th>time_elapsed</th>\n",
       "      <th>score</th>\n",
       "      <th>prompt</th>\n",
       "      <th>input_tokens_meta_llm</th>\n",
       "      <th>output_tokens_meta_llm</th>\n",
       "      <th>input_tokens_downstream_llm</th>\n",
       "      <th>output_tokens_downstream_llm</th>\n",
       "      <th>test_score</th>\n",
       "      <th>total_tokens</th>\n",
       "      <th>output_tokens_downstream_llm_cum</th>\n",
       "      <th>output_tokens_meta_llm_cum</th>\n",
       "      <th>input_tokens_downstream_llm_cum</th>\n",
       "      <th>input_tokens_meta_llm_cum</th>\n",
       "      <th>n_shots</th>\n",
       "      <th>prompt_len</th>\n",
       "    </tr>\n",
       "  </thead>\n",
       "  <tbody>\n",
       "    <tr>\n",
       "      <th>0</th>\n",
       "      <td>1</td>\n",
       "      <td>2025-03-16 13:17:26.164321</td>\n",
       "      <td>237.770440</td>\n",
       "      <td>0.574699</td>\n",
       "      <td>Solve the given grade school math word problem...</td>\n",
       "      <td>1244</td>\n",
       "      <td>429</td>\n",
       "      <td>320898</td>\n",
       "      <td>70091</td>\n",
       "      <td>0.524</td>\n",
       "      <td>392662</td>\n",
       "      <td>70091</td>\n",
       "      <td>429</td>\n",
       "      <td>320898</td>\n",
       "      <td>1244</td>\n",
       "      <td>6</td>\n",
       "      <td>2659</td>\n",
       "    </tr>\n",
       "    <tr>\n",
       "      <th>1</th>\n",
       "      <td>1</td>\n",
       "      <td>2025-03-16 13:17:26.164321</td>\n",
       "      <td>237.770440</td>\n",
       "      <td>0.463391</td>\n",
       "      <td>Solve step-by-step. Final answer between &lt;fina...</td>\n",
       "      <td>1244</td>\n",
       "      <td>429</td>\n",
       "      <td>320898</td>\n",
       "      <td>70091</td>\n",
       "      <td>0.346</td>\n",
       "      <td>785324</td>\n",
       "      <td>140182</td>\n",
       "      <td>858</td>\n",
       "      <td>641796</td>\n",
       "      <td>2488</td>\n",
       "      <td>1</td>\n",
       "      <td>325</td>\n",
       "    </tr>\n",
       "    <tr>\n",
       "      <th>2</th>\n",
       "      <td>1</td>\n",
       "      <td>2025-03-16 13:17:26.164321</td>\n",
       "      <td>237.770440</td>\n",
       "      <td>0.387952</td>\n",
       "      <td>Solve this math word problem using step-by-ste...</td>\n",
       "      <td>1244</td>\n",
       "      <td>429</td>\n",
       "      <td>320898</td>\n",
       "      <td>70091</td>\n",
       "      <td>0.296</td>\n",
       "      <td>1177986</td>\n",
       "      <td>210273</td>\n",
       "      <td>1287</td>\n",
       "      <td>962694</td>\n",
       "      <td>3732</td>\n",
       "      <td>3</td>\n",
       "      <td>1203</td>\n",
       "    </tr>\n",
       "    <tr>\n",
       "      <th>3</th>\n",
       "      <td>1</td>\n",
       "      <td>2025-03-16 13:17:26.164321</td>\n",
       "      <td>237.770440</td>\n",
       "      <td>0.374096</td>\n",
       "      <td>Solve this math problem by breaking it down in...</td>\n",
       "      <td>1244</td>\n",
       "      <td>429</td>\n",
       "      <td>320898</td>\n",
       "      <td>70091</td>\n",
       "      <td>0.386</td>\n",
       "      <td>1570648</td>\n",
       "      <td>280364</td>\n",
       "      <td>1716</td>\n",
       "      <td>1283592</td>\n",
       "      <td>4976</td>\n",
       "      <td>6</td>\n",
       "      <td>2563</td>\n",
       "    </tr>\n",
       "    <tr>\n",
       "      <th>4</th>\n",
       "      <td>1</td>\n",
       "      <td>2025-03-16 13:17:26.164321</td>\n",
       "      <td>237.770440</td>\n",
       "      <td>0.350665</td>\n",
       "      <td>Break down this word problem carefully. Rememb...</td>\n",
       "      <td>1244</td>\n",
       "      <td>429</td>\n",
       "      <td>320898</td>\n",
       "      <td>70091</td>\n",
       "      <td>0.344</td>\n",
       "      <td>1963310</td>\n",
       "      <td>350455</td>\n",
       "      <td>2145</td>\n",
       "      <td>1604490</td>\n",
       "      <td>6220</td>\n",
       "      <td>3</td>\n",
       "      <td>1566</td>\n",
       "    </tr>\n",
       "    <tr>\n",
       "      <th>...</th>\n",
       "      <td>...</td>\n",
       "      <td>...</td>\n",
       "      <td>...</td>\n",
       "      <td>...</td>\n",
       "      <td>...</td>\n",
       "      <td>...</td>\n",
       "      <td>...</td>\n",
       "      <td>...</td>\n",
       "      <td>...</td>\n",
       "      <td>...</td>\n",
       "      <td>...</td>\n",
       "      <td>...</td>\n",
       "      <td>...</td>\n",
       "      <td>...</td>\n",
       "      <td>...</td>\n",
       "      <td>...</td>\n",
       "      <td>...</td>\n",
       "    </tr>\n",
       "    <tr>\n",
       "      <th>763</th>\n",
       "      <td>64</td>\n",
       "      <td>2025-03-16 15:10:30.586841</td>\n",
       "      <td>72.124809</td>\n",
       "      <td>0.496561</td>\n",
       "      <td>Address the provided grade school math word pr...</td>\n",
       "      <td>1700</td>\n",
       "      <td>796</td>\n",
       "      <td>79344</td>\n",
       "      <td>23203</td>\n",
       "      <td>0.450</td>\n",
       "      <td>158568932</td>\n",
       "      <td>36382112</td>\n",
       "      <td>584060</td>\n",
       "      <td>120346788</td>\n",
       "      <td>1255972</td>\n",
       "      <td>5</td>\n",
       "      <td>2171</td>\n",
       "    </tr>\n",
       "    <tr>\n",
       "      <th>764</th>\n",
       "      <td>64</td>\n",
       "      <td>2025-03-16 15:10:30.586841</td>\n",
       "      <td>72.124809</td>\n",
       "      <td>0.482756</td>\n",
       "      <td>Adress the given grade school math word proble...</td>\n",
       "      <td>1700</td>\n",
       "      <td>796</td>\n",
       "      <td>79344</td>\n",
       "      <td>23203</td>\n",
       "      <td>0.466</td>\n",
       "      <td>158673975</td>\n",
       "      <td>36405315</td>\n",
       "      <td>584856</td>\n",
       "      <td>120426132</td>\n",
       "      <td>1257672</td>\n",
       "      <td>2</td>\n",
       "      <td>1708</td>\n",
       "    </tr>\n",
       "    <tr>\n",
       "      <th>765</th>\n",
       "      <td>64</td>\n",
       "      <td>2025-03-16 15:10:30.586841</td>\n",
       "      <td>72.124809</td>\n",
       "      <td>0.457430</td>\n",
       "      <td>Solve this math problem by breaking it down in...</td>\n",
       "      <td>1700</td>\n",
       "      <td>796</td>\n",
       "      <td>79344</td>\n",
       "      <td>23203</td>\n",
       "      <td>0.386</td>\n",
       "      <td>158779018</td>\n",
       "      <td>36428518</td>\n",
       "      <td>585652</td>\n",
       "      <td>120505476</td>\n",
       "      <td>1259372</td>\n",
       "      <td>6</td>\n",
       "      <td>2563</td>\n",
       "    </tr>\n",
       "    <tr>\n",
       "      <th>766</th>\n",
       "      <td>64</td>\n",
       "      <td>2025-03-16 15:10:30.586841</td>\n",
       "      <td>72.124809</td>\n",
       "      <td>0.438479</td>\n",
       "      <td>Approach this mathematical challenge by dissec...</td>\n",
       "      <td>1700</td>\n",
       "      <td>796</td>\n",
       "      <td>79344</td>\n",
       "      <td>23203</td>\n",
       "      <td>0.312</td>\n",
       "      <td>158884061</td>\n",
       "      <td>36451721</td>\n",
       "      <td>586448</td>\n",
       "      <td>120584820</td>\n",
       "      <td>1261072</td>\n",
       "      <td>2</td>\n",
       "      <td>1249</td>\n",
       "    </tr>\n",
       "    <tr>\n",
       "      <th>767</th>\n",
       "      <td>64</td>\n",
       "      <td>2025-03-16 15:10:30.586841</td>\n",
       "      <td>72.124809</td>\n",
       "      <td>0.427146</td>\n",
       "      <td>Analyze the provided grade school math word pr...</td>\n",
       "      <td>1700</td>\n",
       "      <td>796</td>\n",
       "      <td>79344</td>\n",
       "      <td>23203</td>\n",
       "      <td>0.386</td>\n",
       "      <td>158989104</td>\n",
       "      <td>36474924</td>\n",
       "      <td>587244</td>\n",
       "      <td>120664164</td>\n",
       "      <td>1262772</td>\n",
       "      <td>5</td>\n",
       "      <td>2460</td>\n",
       "    </tr>\n",
       "  </tbody>\n",
       "</table>\n",
       "<p>768 rows × 17 columns</p>\n",
       "</div>"
      ],
      "text/plain": [
       "     step                   timestamp  time_elapsed     score  \\\n",
       "0       1  2025-03-16 13:17:26.164321    237.770440  0.574699   \n",
       "1       1  2025-03-16 13:17:26.164321    237.770440  0.463391   \n",
       "2       1  2025-03-16 13:17:26.164321    237.770440  0.387952   \n",
       "3       1  2025-03-16 13:17:26.164321    237.770440  0.374096   \n",
       "4       1  2025-03-16 13:17:26.164321    237.770440  0.350665   \n",
       "..    ...                         ...           ...       ...   \n",
       "763    64  2025-03-16 15:10:30.586841     72.124809  0.496561   \n",
       "764    64  2025-03-16 15:10:30.586841     72.124809  0.482756   \n",
       "765    64  2025-03-16 15:10:30.586841     72.124809  0.457430   \n",
       "766    64  2025-03-16 15:10:30.586841     72.124809  0.438479   \n",
       "767    64  2025-03-16 15:10:30.586841     72.124809  0.427146   \n",
       "\n",
       "                                                prompt  input_tokens_meta_llm  \\\n",
       "0    Solve the given grade school math word problem...                   1244   \n",
       "1    Solve step-by-step. Final answer between <fina...                   1244   \n",
       "2    Solve this math word problem using step-by-ste...                   1244   \n",
       "3    Solve this math problem by breaking it down in...                   1244   \n",
       "4    Break down this word problem carefully. Rememb...                   1244   \n",
       "..                                                 ...                    ...   \n",
       "763  Address the provided grade school math word pr...                   1700   \n",
       "764  Adress the given grade school math word proble...                   1700   \n",
       "765  Solve this math problem by breaking it down in...                   1700   \n",
       "766  Approach this mathematical challenge by dissec...                   1700   \n",
       "767  Analyze the provided grade school math word pr...                   1700   \n",
       "\n",
       "     output_tokens_meta_llm  input_tokens_downstream_llm  \\\n",
       "0                       429                       320898   \n",
       "1                       429                       320898   \n",
       "2                       429                       320898   \n",
       "3                       429                       320898   \n",
       "4                       429                       320898   \n",
       "..                      ...                          ...   \n",
       "763                     796                        79344   \n",
       "764                     796                        79344   \n",
       "765                     796                        79344   \n",
       "766                     796                        79344   \n",
       "767                     796                        79344   \n",
       "\n",
       "     output_tokens_downstream_llm  test_score  total_tokens  \\\n",
       "0                           70091       0.524        392662   \n",
       "1                           70091       0.346        785324   \n",
       "2                           70091       0.296       1177986   \n",
       "3                           70091       0.386       1570648   \n",
       "4                           70091       0.344       1963310   \n",
       "..                            ...         ...           ...   \n",
       "763                         23203       0.450     158568932   \n",
       "764                         23203       0.466     158673975   \n",
       "765                         23203       0.386     158779018   \n",
       "766                         23203       0.312     158884061   \n",
       "767                         23203       0.386     158989104   \n",
       "\n",
       "     output_tokens_downstream_llm_cum  output_tokens_meta_llm_cum  \\\n",
       "0                               70091                         429   \n",
       "1                              140182                         858   \n",
       "2                              210273                        1287   \n",
       "3                              280364                        1716   \n",
       "4                              350455                        2145   \n",
       "..                                ...                         ...   \n",
       "763                          36382112                      584060   \n",
       "764                          36405315                      584856   \n",
       "765                          36428518                      585652   \n",
       "766                          36451721                      586448   \n",
       "767                          36474924                      587244   \n",
       "\n",
       "     input_tokens_downstream_llm_cum  input_tokens_meta_llm_cum  n_shots  \\\n",
       "0                             320898                       1244        6   \n",
       "1                             641796                       2488        1   \n",
       "2                             962694                       3732        3   \n",
       "3                            1283592                       4976        6   \n",
       "4                            1604490                       6220        3   \n",
       "..                               ...                        ...      ...   \n",
       "763                        120346788                    1255972        5   \n",
       "764                        120426132                    1257672        2   \n",
       "765                        120505476                    1259372        6   \n",
       "766                        120584820                    1261072        2   \n",
       "767                        120664164                    1262772        5   \n",
       "\n",
       "     prompt_len  \n",
       "0          2659  \n",
       "1           325  \n",
       "2          1203  \n",
       "3          2563  \n",
       "4          1566  \n",
       "..          ...  \n",
       "763        2171  \n",
       "764        1708  \n",
       "765        2563  \n",
       "766        1249  \n",
       "767        2460  \n",
       "\n",
       "[768 rows x 17 columns]"
      ]
     },
     "execution_count": 60,
     "metadata": {},
     "output_type": "execute_result"
    }
   ],
   "source": [
    "df"
   ]
  }
 ],
 "metadata": {
  "kernelspec": {
   "display_name": "ds",
   "language": "python",
   "name": "python3"
  },
  "language_info": {
   "codemirror_mode": {
    "name": "ipython",
    "version": 3
   },
   "file_extension": ".py",
   "mimetype": "text/x-python",
   "name": "python",
   "nbconvert_exporter": "python",
   "pygments_lexer": "ipython3",
   "version": "3.12.5"
  }
 },
 "nbformat": 4,
 "nbformat_minor": 2
}
