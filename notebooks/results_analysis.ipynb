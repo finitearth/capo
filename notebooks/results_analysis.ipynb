{
 "cells": [
  {
   "cell_type": "code",
   "execution_count": 16,
   "metadata": {},
   "outputs": [],
   "source": [
    "path = \"../results/agnews/llama/CAPO/seed44/benchmark_experiment_agnews_llama_CAPO_44/5b73dd7f17882a439680269fb5035fa6c92c2b2ca2aa1c7bda46beed1e683cda/step_results.parquet\""
   ]
  },
  {
   "cell_type": "code",
   "execution_count": 17,
   "metadata": {},
   "outputs": [],
   "source": [
    "import matplotlib.pyplot as plt\n",
    "import pandas as pd"
   ]
  },
  {
   "cell_type": "code",
   "execution_count": 18,
   "metadata": {},
   "outputs": [
    {
     "data": {
      "text/html": [
       "<div>\n",
       "<style scoped>\n",
       "    .dataframe tbody tr th:only-of-type {\n",
       "        vertical-align: middle;\n",
       "    }\n",
       "\n",
       "    .dataframe tbody tr th {\n",
       "        vertical-align: top;\n",
       "    }\n",
       "\n",
       "    .dataframe thead th {\n",
       "        text-align: right;\n",
       "    }\n",
       "</style>\n",
       "<table border=\"1\" class=\"dataframe\">\n",
       "  <thead>\n",
       "    <tr style=\"text-align: right;\">\n",
       "      <th></th>\n",
       "      <th>step</th>\n",
       "      <th>timestamp</th>\n",
       "      <th>time_elapsed</th>\n",
       "      <th>score</th>\n",
       "      <th>prompt</th>\n",
       "      <th>input_tokens_meta_llm</th>\n",
       "      <th>output_tokens_meta_llm</th>\n",
       "      <th>input_tokens_downstream_llm</th>\n",
       "      <th>output_tokens_downstream_llm</th>\n",
       "    </tr>\n",
       "  </thead>\n",
       "  <tbody>\n",
       "    <tr>\n",
       "      <th>0</th>\n",
       "      <td>1</td>\n",
       "      <td>2025-03-21 14:46:19.334540</td>\n",
       "      <td>269.802329</td>\n",
       "      <td>0.966667</td>\n",
       "      <td>Read the following news article and determine ...</td>\n",
       "      <td>1543</td>\n",
       "      <td>619</td>\n",
       "      <td>159403</td>\n",
       "      <td>6675</td>\n",
       "    </tr>\n",
       "    <tr>\n",
       "      <th>1</th>\n",
       "      <td>1</td>\n",
       "      <td>2025-03-21 14:46:19.334540</td>\n",
       "      <td>269.802329</td>\n",
       "      <td>0.966667</td>\n",
       "      <td>I need you to classify this news content into ...</td>\n",
       "      <td>1543</td>\n",
       "      <td>619</td>\n",
       "      <td>159403</td>\n",
       "      <td>6675</td>\n",
       "    </tr>\n",
       "    <tr>\n",
       "      <th>2</th>\n",
       "      <td>1</td>\n",
       "      <td>2025-03-21 14:46:19.334540</td>\n",
       "      <td>269.802329</td>\n",
       "      <td>0.966667</td>\n",
       "      <td>You are a news categorization system. Read the...</td>\n",
       "      <td>1543</td>\n",
       "      <td>619</td>\n",
       "      <td>159403</td>\n",
       "      <td>6675</td>\n",
       "    </tr>\n",
       "    <tr>\n",
       "      <th>3</th>\n",
       "      <td>1</td>\n",
       "      <td>2025-03-21 14:46:19.334540</td>\n",
       "      <td>269.802329</td>\n",
       "      <td>0.966667</td>\n",
       "      <td>For a news categorization task, a dataset of a...</td>\n",
       "      <td>1543</td>\n",
       "      <td>619</td>\n",
       "      <td>159403</td>\n",
       "      <td>6675</td>\n",
       "    </tr>\n",
       "    <tr>\n",
       "      <th>4</th>\n",
       "      <td>1</td>\n",
       "      <td>2025-03-21 14:46:19.334540</td>\n",
       "      <td>269.802329</td>\n",
       "      <td>0.933333</td>\n",
       "      <td>Classification task: Analyze the news content ...</td>\n",
       "      <td>1543</td>\n",
       "      <td>619</td>\n",
       "      <td>159403</td>\n",
       "      <td>6675</td>\n",
       "    </tr>\n",
       "    <tr>\n",
       "      <th>5</th>\n",
       "      <td>1</td>\n",
       "      <td>2025-03-21 14:46:19.334540</td>\n",
       "      <td>269.802329</td>\n",
       "      <td>0.933333</td>\n",
       "      <td>I'm working on a news classification project. ...</td>\n",
       "      <td>1543</td>\n",
       "      <td>619</td>\n",
       "      <td>159403</td>\n",
       "      <td>6675</td>\n",
       "    </tr>\n",
       "    <tr>\n",
       "      <th>6</th>\n",
       "      <td>1</td>\n",
       "      <td>2025-03-21 14:46:19.334540</td>\n",
       "      <td>269.802329</td>\n",
       "      <td>0.933333</td>\n",
       "      <td>Read the following news text and determine whi...</td>\n",
       "      <td>1543</td>\n",
       "      <td>619</td>\n",
       "      <td>159403</td>\n",
       "      <td>6675</td>\n",
       "    </tr>\n",
       "    <tr>\n",
       "      <th>7</th>\n",
       "      <td>1</td>\n",
       "      <td>2025-03-21 14:46:19.334540</td>\n",
       "      <td>269.802329</td>\n",
       "      <td>0.933333</td>\n",
       "      <td>Please read this news article carefully and as...</td>\n",
       "      <td>1543</td>\n",
       "      <td>619</td>\n",
       "      <td>159403</td>\n",
       "      <td>6675</td>\n",
       "    </tr>\n",
       "    <tr>\n",
       "      <th>8</th>\n",
       "      <td>1</td>\n",
       "      <td>2025-03-21 14:46:19.334540</td>\n",
       "      <td>269.802329</td>\n",
       "      <td>0.933333</td>\n",
       "      <td>As an AI assistant, please help classify this ...</td>\n",
       "      <td>1543</td>\n",
       "      <td>619</td>\n",
       "      <td>159403</td>\n",
       "      <td>6675</td>\n",
       "    </tr>\n",
       "    <tr>\n",
       "      <th>9</th>\n",
       "      <td>1</td>\n",
       "      <td>2025-03-21 14:46:19.334540</td>\n",
       "      <td>269.802329</td>\n",
       "      <td>0.933333</td>\n",
       "      <td>Classify the provided news article into its re...</td>\n",
       "      <td>1543</td>\n",
       "      <td>619</td>\n",
       "      <td>159403</td>\n",
       "      <td>6675</td>\n",
       "    </tr>\n",
       "  </tbody>\n",
       "</table>\n",
       "</div>"
      ],
      "text/plain": [
       "   step                  timestamp  time_elapsed     score  \\\n",
       "0     1 2025-03-21 14:46:19.334540    269.802329  0.966667   \n",
       "1     1 2025-03-21 14:46:19.334540    269.802329  0.966667   \n",
       "2     1 2025-03-21 14:46:19.334540    269.802329  0.966667   \n",
       "3     1 2025-03-21 14:46:19.334540    269.802329  0.966667   \n",
       "4     1 2025-03-21 14:46:19.334540    269.802329  0.933333   \n",
       "5     1 2025-03-21 14:46:19.334540    269.802329  0.933333   \n",
       "6     1 2025-03-21 14:46:19.334540    269.802329  0.933333   \n",
       "7     1 2025-03-21 14:46:19.334540    269.802329  0.933333   \n",
       "8     1 2025-03-21 14:46:19.334540    269.802329  0.933333   \n",
       "9     1 2025-03-21 14:46:19.334540    269.802329  0.933333   \n",
       "\n",
       "                                              prompt  input_tokens_meta_llm  \\\n",
       "0  Read the following news article and determine ...                   1543   \n",
       "1  I need you to classify this news content into ...                   1543   \n",
       "2  You are a news categorization system. Read the...                   1543   \n",
       "3  For a news categorization task, a dataset of a...                   1543   \n",
       "4  Classification task: Analyze the news content ...                   1543   \n",
       "5  I'm working on a news classification project. ...                   1543   \n",
       "6  Read the following news text and determine whi...                   1543   \n",
       "7  Please read this news article carefully and as...                   1543   \n",
       "8  As an AI assistant, please help classify this ...                   1543   \n",
       "9  Classify the provided news article into its re...                   1543   \n",
       "\n",
       "   output_tokens_meta_llm  input_tokens_downstream_llm  \\\n",
       "0                     619                       159403   \n",
       "1                     619                       159403   \n",
       "2                     619                       159403   \n",
       "3                     619                       159403   \n",
       "4                     619                       159403   \n",
       "5                     619                       159403   \n",
       "6                     619                       159403   \n",
       "7                     619                       159403   \n",
       "8                     619                       159403   \n",
       "9                     619                       159403   \n",
       "\n",
       "   output_tokens_downstream_llm  \n",
       "0                          6675  \n",
       "1                          6675  \n",
       "2                          6675  \n",
       "3                          6675  \n",
       "4                          6675  \n",
       "5                          6675  \n",
       "6                          6675  \n",
       "7                          6675  \n",
       "8                          6675  \n",
       "9                          6675  "
      ]
     },
     "execution_count": 18,
     "metadata": {},
     "output_type": "execute_result"
    }
   ],
   "source": [
    "df = pd.read_parquet(path)\n",
    "df"
   ]
  },
  {
   "cell_type": "code",
   "execution_count": 10,
   "metadata": {},
   "outputs": [],
   "source": [
    "df[\"total_tokens\"] = (\n",
    "    df[\"output_tokens_meta_llm\"]\n",
    "    + df[\"input_tokens_meta_llm\"]\n",
    "    + df[\"output_tokens_downstream_llm\"]\n",
    "    + df[\"input_tokens_downstream_llm\"]\n",
    ")\n",
    "df[\"total_tokens\"] = df[\"total_tokens\"].cumsum()"
   ]
  },
  {
   "cell_type": "code",
   "execution_count": 11,
   "metadata": {},
   "outputs": [],
   "source": [
    "# cum of tokens\n",
    "df[\"output_tokens_downstream_llm_cum\"] = df[\"output_tokens_downstream_llm\"].cumsum()\n",
    "df[\"output_tokens_meta_llm_cum\"] = df[\"output_tokens_meta_llm\"].cumsum()\n",
    "df[\"input_tokens_downstream_llm_cum\"] = df[\"input_tokens_downstream_llm\"].cumsum()\n",
    "df[\"input_tokens_meta_llm_cum\"] = df[\"input_tokens_meta_llm\"].cumsum()"
   ]
  },
  {
   "cell_type": "code",
   "execution_count": 12,
   "metadata": {},
   "outputs": [
    {
     "data": {
      "image/png": "[encoded data removed]",
      "text/plain": [
       "<Figure size 640x480 with 1 Axes>"
      ]
     },
     "metadata": {},
     "output_type": "display_data"
    }
   ],
   "source": [
    "# plot pie\n",
    "fig, ax = plt.subplots()\n",
    "ax.pie(\n",
    "    [\n",
    "        df[\"output_tokens_downstream_llm_cum\"].iloc[-1],\n",
    "        df[\"output_tokens_meta_llm_cum\"].iloc[-1],\n",
    "        df[\"input_tokens_downstream_llm_cum\"].iloc[-1],\n",
    "        df[\"input_tokens_meta_llm_cum\"].iloc[-1],\n",
    "    ],\n",
    "    labels=[\n",
    "        \"output_tokens_downstream_llm_cum\",\n",
    "        \"output_tokens_meta_llm_cum\",\n",
    "        \"input_tokens_downstream_llm_cum\",\n",
    "        \"input_tokens_meta_llm_cum\",\n",
    "    ],\n",
    "    autopct=\"%1.1f%%\",\n",
    ")\n",
    "plt.show()"
   ]
  },
  {
   "cell_type": "code",
   "execution_count": 13,
   "metadata": {},
   "outputs": [],
   "source": [
    "df[\"n_shots\"] = df[\"prompt\"].str.count(\"Input:\") - 1"
   ]
  },
  {
   "cell_type": "code",
   "execution_count": 14,
   "metadata": {},
   "outputs": [],
   "source": [
    "df[\"prompt_len\"] = df[\"prompt\"].str.len()"
   ]
  },
  {
   "cell_type": "code",
   "execution_count": 15,
   "metadata": {},
   "outputs": [
    {
     "ename": "KeyError",
     "evalue": "'Column not found: test_score'",
     "output_type": "error",
     "traceback": [
      "\u001b[1;31m---------------------------------------------------------------------------\u001b[0m",
      "\u001b[1;31mKeyError\u001b[0m                                  Traceback (most recent call last)",
      "Cell \u001b[1;32mIn[15], line 2\u001b[0m\n\u001b[0;32m      1\u001b[0m \u001b[38;5;66;03m# correlation between number shots and score => boxplot, and give number of samples per n_shots\u001b[39;00m\n\u001b[1;32m----> 2\u001b[0m fig \u001b[38;5;241m=\u001b[39m \u001b[43mdf\u001b[49m\u001b[38;5;241;43m.\u001b[39;49m\u001b[43mgroupby\u001b[49m\u001b[43m(\u001b[49m\u001b[38;5;124;43m\"\u001b[39;49m\u001b[38;5;124;43mprompt\u001b[39;49m\u001b[38;5;124;43m\"\u001b[39;49m\u001b[43m)\u001b[49m\u001b[38;5;241;43m.\u001b[39;49m\u001b[43mfirst\u001b[49m\u001b[43m(\u001b[49m\u001b[43m)\u001b[49m\u001b[38;5;241;43m.\u001b[39;49m\u001b[43mboxplot\u001b[49m\u001b[43m(\u001b[49m\u001b[43mcolumn\u001b[49m\u001b[38;5;241;43m=\u001b[39;49m\u001b[38;5;124;43m\"\u001b[39;49m\u001b[38;5;124;43mtest_score\u001b[39;49m\u001b[38;5;124;43m\"\u001b[39;49m\u001b[43m,\u001b[49m\u001b[43m \u001b[49m\u001b[43mby\u001b[49m\u001b[38;5;241;43m=\u001b[39;49m\u001b[38;5;124;43m\"\u001b[39;49m\u001b[38;5;124;43mn_shots\u001b[39;49m\u001b[38;5;124;43m\"\u001b[39;49m\u001b[43m,\u001b[49m\u001b[43m \u001b[49m\u001b[43mshowfliers\u001b[49m\u001b[38;5;241;43m=\u001b[39;49m\u001b[38;5;28;43;01mFalse\u001b[39;49;00m\u001b[43m)\u001b[49m\n\u001b[0;32m      3\u001b[0m \u001b[38;5;66;03m# add number of samples per n_shots\u001b[39;00m\n\u001b[0;32m      4\u001b[0m num_samples \u001b[38;5;241m=\u001b[39m df\u001b[38;5;241m.\u001b[39mgroupby(\u001b[38;5;124m\"\u001b[39m\u001b[38;5;124mn_shots\u001b[39m\u001b[38;5;124m\"\u001b[39m)\u001b[38;5;241m.\u001b[39msize()\n",
      "File \u001b[1;32mc:\\Users\\tzehl\\anaconda3\\envs\\ds\\Lib\\site-packages\\pandas\\plotting\\_core.py:533\u001b[0m, in \u001b[0;36mboxplot_frame\u001b[1;34m(self, column, by, ax, fontsize, rot, grid, figsize, layout, return_type, backend, **kwargs)\u001b[0m\n\u001b[0;32m    516\u001b[0m \u001b[38;5;129m@Substitution\u001b[39m(data\u001b[38;5;241m=\u001b[39m\u001b[38;5;124m\"\u001b[39m\u001b[38;5;124m\"\u001b[39m, backend\u001b[38;5;241m=\u001b[39m_backend_doc)\n\u001b[0;32m    517\u001b[0m \u001b[38;5;129m@Appender\u001b[39m(_boxplot_doc)\n\u001b[0;32m    518\u001b[0m \u001b[38;5;28;01mdef\u001b[39;00m\u001b[38;5;250m \u001b[39m\u001b[38;5;21mboxplot_frame\u001b[39m(\n\u001b[1;32m   (...)\u001b[0m\n\u001b[0;32m    530\u001b[0m     \u001b[38;5;241m*\u001b[39m\u001b[38;5;241m*\u001b[39mkwargs,\n\u001b[0;32m    531\u001b[0m ):\n\u001b[0;32m    532\u001b[0m     plot_backend \u001b[38;5;241m=\u001b[39m _get_plot_backend(backend)\n\u001b[1;32m--> 533\u001b[0m     \u001b[38;5;28;01mreturn\u001b[39;00m \u001b[43mplot_backend\u001b[49m\u001b[38;5;241;43m.\u001b[39;49m\u001b[43mboxplot_frame\u001b[49m\u001b[43m(\u001b[49m\n\u001b[0;32m    534\u001b[0m \u001b[43m        \u001b[49m\u001b[38;5;28;43mself\u001b[39;49m\u001b[43m,\u001b[49m\n\u001b[0;32m    535\u001b[0m \u001b[43m        \u001b[49m\u001b[43mcolumn\u001b[49m\u001b[38;5;241;43m=\u001b[39;49m\u001b[43mcolumn\u001b[49m\u001b[43m,\u001b[49m\n\u001b[0;32m    536\u001b[0m \u001b[43m        \u001b[49m\u001b[43mby\u001b[49m\u001b[38;5;241;43m=\u001b[39;49m\u001b[43mby\u001b[49m\u001b[43m,\u001b[49m\n\u001b[0;32m    537\u001b[0m \u001b[43m        \u001b[49m\u001b[43max\u001b[49m\u001b[38;5;241;43m=\u001b[39;49m\u001b[43max\u001b[49m\u001b[43m,\u001b[49m\n\u001b[0;32m    538\u001b[0m \u001b[43m        \u001b[49m\u001b[43mfontsize\u001b[49m\u001b[38;5;241;43m=\u001b[39;49m\u001b[43mfontsize\u001b[49m\u001b[43m,\u001b[49m\n\u001b[0;32m    539\u001b[0m \u001b[43m        \u001b[49m\u001b[43mrot\u001b[49m\u001b[38;5;241;43m=\u001b[39;49m\u001b[43mrot\u001b[49m\u001b[43m,\u001b[49m\n\u001b[0;32m    540\u001b[0m \u001b[43m        \u001b[49m\u001b[43mgrid\u001b[49m\u001b[38;5;241;43m=\u001b[39;49m\u001b[43mgrid\u001b[49m\u001b[43m,\u001b[49m\n\u001b[0;32m    541\u001b[0m \u001b[43m        \u001b[49m\u001b[43mfigsize\u001b[49m\u001b[38;5;241;43m=\u001b[39;49m\u001b[43mfigsize\u001b[49m\u001b[43m,\u001b[49m\n\u001b[0;32m    542\u001b[0m \u001b[43m        \u001b[49m\u001b[43mlayout\u001b[49m\u001b[38;5;241;43m=\u001b[39;49m\u001b[43mlayout\u001b[49m\u001b[43m,\u001b[49m\n\u001b[0;32m    543\u001b[0m \u001b[43m        \u001b[49m\u001b[43mreturn_type\u001b[49m\u001b[38;5;241;43m=\u001b[39;49m\u001b[43mreturn_type\u001b[49m\u001b[43m,\u001b[49m\n\u001b[0;32m    544\u001b[0m \u001b[43m        \u001b[49m\u001b[38;5;241;43m*\u001b[39;49m\u001b[38;5;241;43m*\u001b[39;49m\u001b[43mkwargs\u001b[49m\u001b[43m,\u001b[49m\n\u001b[0;32m    545\u001b[0m \u001b[43m    \u001b[49m\u001b[43m)\u001b[49m\n",
      "File \u001b[1;32mc:\\Users\\tzehl\\anaconda3\\envs\\ds\\Lib\\site-packages\\pandas\\plotting\\_matplotlib\\boxplot.py:492\u001b[0m, in \u001b[0;36mboxplot_frame\u001b[1;34m(self, column, by, ax, fontsize, rot, grid, figsize, layout, return_type, **kwds)\u001b[0m\n\u001b[0;32m    477\u001b[0m \u001b[38;5;28;01mdef\u001b[39;00m\u001b[38;5;250m \u001b[39m\u001b[38;5;21mboxplot_frame\u001b[39m(\n\u001b[0;32m    478\u001b[0m     \u001b[38;5;28mself\u001b[39m,\n\u001b[0;32m    479\u001b[0m     column\u001b[38;5;241m=\u001b[39m\u001b[38;5;28;01mNone\u001b[39;00m,\n\u001b[1;32m   (...)\u001b[0m\n\u001b[0;32m    488\u001b[0m     \u001b[38;5;241m*\u001b[39m\u001b[38;5;241m*\u001b[39mkwds,\n\u001b[0;32m    489\u001b[0m ):\n\u001b[0;32m    490\u001b[0m     \u001b[38;5;28;01mimport\u001b[39;00m\u001b[38;5;250m \u001b[39m\u001b[38;5;21;01mmatplotlib\u001b[39;00m\u001b[38;5;21;01m.\u001b[39;00m\u001b[38;5;21;01mpyplot\u001b[39;00m\u001b[38;5;250m \u001b[39m\u001b[38;5;28;01mas\u001b[39;00m\u001b[38;5;250m \u001b[39m\u001b[38;5;21;01mplt\u001b[39;00m\n\u001b[1;32m--> 492\u001b[0m     ax \u001b[38;5;241m=\u001b[39m \u001b[43mboxplot\u001b[49m\u001b[43m(\u001b[49m\n\u001b[0;32m    493\u001b[0m \u001b[43m        \u001b[49m\u001b[38;5;28;43mself\u001b[39;49m\u001b[43m,\u001b[49m\n\u001b[0;32m    494\u001b[0m \u001b[43m        \u001b[49m\u001b[43mcolumn\u001b[49m\u001b[38;5;241;43m=\u001b[39;49m\u001b[43mcolumn\u001b[49m\u001b[43m,\u001b[49m\n\u001b[0;32m    495\u001b[0m \u001b[43m        \u001b[49m\u001b[43mby\u001b[49m\u001b[38;5;241;43m=\u001b[39;49m\u001b[43mby\u001b[49m\u001b[43m,\u001b[49m\n\u001b[0;32m    496\u001b[0m \u001b[43m        \u001b[49m\u001b[43max\u001b[49m\u001b[38;5;241;43m=\u001b[39;49m\u001b[43max\u001b[49m\u001b[43m,\u001b[49m\n\u001b[0;32m    497\u001b[0m \u001b[43m        \u001b[49m\u001b[43mfontsize\u001b[49m\u001b[38;5;241;43m=\u001b[39;49m\u001b[43mfontsize\u001b[49m\u001b[43m,\u001b[49m\n\u001b[0;32m    498\u001b[0m \u001b[43m        \u001b[49m\u001b[43mgrid\u001b[49m\u001b[38;5;241;43m=\u001b[39;49m\u001b[43mgrid\u001b[49m\u001b[43m,\u001b[49m\n\u001b[0;32m    499\u001b[0m \u001b[43m        \u001b[49m\u001b[43mrot\u001b[49m\u001b[38;5;241;43m=\u001b[39;49m\u001b[43mrot\u001b[49m\u001b[43m,\u001b[49m\n\u001b[0;32m    500\u001b[0m \u001b[43m        \u001b[49m\u001b[43mfigsize\u001b[49m\u001b[38;5;241;43m=\u001b[39;49m\u001b[43mfigsize\u001b[49m\u001b[43m,\u001b[49m\n\u001b[0;32m    501\u001b[0m \u001b[43m        \u001b[49m\u001b[43mlayout\u001b[49m\u001b[38;5;241;43m=\u001b[39;49m\u001b[43mlayout\u001b[49m\u001b[43m,\u001b[49m\n\u001b[0;32m    502\u001b[0m \u001b[43m        \u001b[49m\u001b[43mreturn_type\u001b[49m\u001b[38;5;241;43m=\u001b[39;49m\u001b[43mreturn_type\u001b[49m\u001b[43m,\u001b[49m\n\u001b[0;32m    503\u001b[0m \u001b[43m        \u001b[49m\u001b[38;5;241;43m*\u001b[39;49m\u001b[38;5;241;43m*\u001b[39;49m\u001b[43mkwds\u001b[49m\u001b[43m,\u001b[49m\n\u001b[0;32m    504\u001b[0m \u001b[43m    \u001b[49m\u001b[43m)\u001b[49m\n\u001b[0;32m    505\u001b[0m     plt\u001b[38;5;241m.\u001b[39mdraw_if_interactive()\n\u001b[0;32m    506\u001b[0m     \u001b[38;5;28;01mreturn\u001b[39;00m ax\n",
      "File \u001b[1;32mc:\\Users\\tzehl\\anaconda3\\envs\\ds\\Lib\\site-packages\\pandas\\plotting\\_matplotlib\\boxplot.py:438\u001b[0m, in \u001b[0;36mboxplot\u001b[1;34m(data, column, by, ax, fontsize, rot, grid, figsize, layout, return_type, **kwds)\u001b[0m\n\u001b[0;32m    433\u001b[0m     columns \u001b[38;5;241m=\u001b[39m [column]\n\u001b[0;32m    435\u001b[0m \u001b[38;5;28;01mif\u001b[39;00m by \u001b[38;5;129;01mis\u001b[39;00m \u001b[38;5;129;01mnot\u001b[39;00m \u001b[38;5;28;01mNone\u001b[39;00m:\n\u001b[0;32m    436\u001b[0m     \u001b[38;5;66;03m# Prefer array return type for 2-D plots to match the subplot layout\u001b[39;00m\n\u001b[0;32m    437\u001b[0m     \u001b[38;5;66;03m# https://github.com/pandas-dev/pandas/pull/12216#issuecomment-241175580\u001b[39;00m\n\u001b[1;32m--> 438\u001b[0m     result \u001b[38;5;241m=\u001b[39m \u001b[43m_grouped_plot_by_column\u001b[49m\u001b[43m(\u001b[49m\n\u001b[0;32m    439\u001b[0m \u001b[43m        \u001b[49m\u001b[43mplot_group\u001b[49m\u001b[43m,\u001b[49m\n\u001b[0;32m    440\u001b[0m \u001b[43m        \u001b[49m\u001b[43mdata\u001b[49m\u001b[43m,\u001b[49m\n\u001b[0;32m    441\u001b[0m \u001b[43m        \u001b[49m\u001b[43mcolumns\u001b[49m\u001b[38;5;241;43m=\u001b[39;49m\u001b[43mcolumns\u001b[49m\u001b[43m,\u001b[49m\n\u001b[0;32m    442\u001b[0m \u001b[43m        \u001b[49m\u001b[43mby\u001b[49m\u001b[38;5;241;43m=\u001b[39;49m\u001b[43mby\u001b[49m\u001b[43m,\u001b[49m\n\u001b[0;32m    443\u001b[0m \u001b[43m        \u001b[49m\u001b[43mgrid\u001b[49m\u001b[38;5;241;43m=\u001b[39;49m\u001b[43mgrid\u001b[49m\u001b[43m,\u001b[49m\n\u001b[0;32m    444\u001b[0m \u001b[43m        \u001b[49m\u001b[43mfigsize\u001b[49m\u001b[38;5;241;43m=\u001b[39;49m\u001b[43mfigsize\u001b[49m\u001b[43m,\u001b[49m\n\u001b[0;32m    445\u001b[0m \u001b[43m        \u001b[49m\u001b[43max\u001b[49m\u001b[38;5;241;43m=\u001b[39;49m\u001b[43max\u001b[49m\u001b[43m,\u001b[49m\n\u001b[0;32m    446\u001b[0m \u001b[43m        \u001b[49m\u001b[43mlayout\u001b[49m\u001b[38;5;241;43m=\u001b[39;49m\u001b[43mlayout\u001b[49m\u001b[43m,\u001b[49m\n\u001b[0;32m    447\u001b[0m \u001b[43m        \u001b[49m\u001b[43mreturn_type\u001b[49m\u001b[38;5;241;43m=\u001b[39;49m\u001b[43mreturn_type\u001b[49m\u001b[43m,\u001b[49m\n\u001b[0;32m    448\u001b[0m \u001b[43m        \u001b[49m\u001b[38;5;241;43m*\u001b[39;49m\u001b[38;5;241;43m*\u001b[39;49m\u001b[43mkwds\u001b[49m\u001b[43m,\u001b[49m\n\u001b[0;32m    449\u001b[0m \u001b[43m    \u001b[49m\u001b[43m)\u001b[49m\n\u001b[0;32m    450\u001b[0m \u001b[38;5;28;01melse\u001b[39;00m:\n\u001b[0;32m    451\u001b[0m     \u001b[38;5;28;01mif\u001b[39;00m return_type \u001b[38;5;129;01mis\u001b[39;00m \u001b[38;5;28;01mNone\u001b[39;00m:\n",
      "File \u001b[1;32mc:\\Users\\tzehl\\anaconda3\\envs\\ds\\Lib\\site-packages\\pandas\\plotting\\_matplotlib\\boxplot.py:327\u001b[0m, in \u001b[0;36m_grouped_plot_by_column\u001b[1;34m(plotf, data, columns, by, numeric_only, grid, figsize, ax, layout, return_type, **kwargs)\u001b[0m\n\u001b[0;32m    325\u001b[0m \u001b[38;5;28;01mfor\u001b[39;00m i, col \u001b[38;5;129;01min\u001b[39;00m \u001b[38;5;28menumerate\u001b[39m(columns):\n\u001b[0;32m    326\u001b[0m     ax \u001b[38;5;241m=\u001b[39m _axes[i]\n\u001b[1;32m--> 327\u001b[0m     gp_col \u001b[38;5;241m=\u001b[39m \u001b[43mgrouped\u001b[49m\u001b[43m[\u001b[49m\u001b[43mcol\u001b[49m\u001b[43m]\u001b[49m\n\u001b[0;32m    328\u001b[0m     keys, values \u001b[38;5;241m=\u001b[39m \u001b[38;5;28mzip\u001b[39m(\u001b[38;5;241m*\u001b[39mgp_col)\n\u001b[0;32m    329\u001b[0m     re_plotf \u001b[38;5;241m=\u001b[39m plotf(keys, values, ax, xlabel\u001b[38;5;241m=\u001b[39mxlabel, ylabel\u001b[38;5;241m=\u001b[39mylabel, \u001b[38;5;241m*\u001b[39m\u001b[38;5;241m*\u001b[39mkwargs)\n",
      "File \u001b[1;32mc:\\Users\\tzehl\\anaconda3\\envs\\ds\\Lib\\site-packages\\pandas\\core\\groupby\\generic.py:1951\u001b[0m, in \u001b[0;36mDataFrameGroupBy.__getitem__\u001b[1;34m(self, key)\u001b[0m\n\u001b[0;32m   1944\u001b[0m \u001b[38;5;28;01mif\u001b[39;00m \u001b[38;5;28misinstance\u001b[39m(key, \u001b[38;5;28mtuple\u001b[39m) \u001b[38;5;129;01mand\u001b[39;00m \u001b[38;5;28mlen\u001b[39m(key) \u001b[38;5;241m>\u001b[39m \u001b[38;5;241m1\u001b[39m:\n\u001b[0;32m   1945\u001b[0m     \u001b[38;5;66;03m# if len == 1, then it becomes a SeriesGroupBy and this is actually\u001b[39;00m\n\u001b[0;32m   1946\u001b[0m     \u001b[38;5;66;03m# valid syntax, so don't raise\u001b[39;00m\n\u001b[0;32m   1947\u001b[0m     \u001b[38;5;28;01mraise\u001b[39;00m \u001b[38;5;167;01mValueError\u001b[39;00m(\n\u001b[0;32m   1948\u001b[0m         \u001b[38;5;124m\"\u001b[39m\u001b[38;5;124mCannot subset columns with a tuple with more than one element. \u001b[39m\u001b[38;5;124m\"\u001b[39m\n\u001b[0;32m   1949\u001b[0m         \u001b[38;5;124m\"\u001b[39m\u001b[38;5;124mUse a list instead.\u001b[39m\u001b[38;5;124m\"\u001b[39m\n\u001b[0;32m   1950\u001b[0m     )\n\u001b[1;32m-> 1951\u001b[0m \u001b[38;5;28;01mreturn\u001b[39;00m \u001b[38;5;28;43msuper\u001b[39;49m\u001b[43m(\u001b[49m\u001b[43m)\u001b[49m\u001b[38;5;241;43m.\u001b[39;49m\u001b[38;5;21;43m__getitem__\u001b[39;49m\u001b[43m(\u001b[49m\u001b[43mkey\u001b[49m\u001b[43m)\u001b[49m\n",
      "File \u001b[1;32mc:\\Users\\tzehl\\anaconda3\\envs\\ds\\Lib\\site-packages\\pandas\\core\\base.py:244\u001b[0m, in \u001b[0;36mSelectionMixin.__getitem__\u001b[1;34m(self, key)\u001b[0m\n\u001b[0;32m    242\u001b[0m \u001b[38;5;28;01melse\u001b[39;00m:\n\u001b[0;32m    243\u001b[0m     \u001b[38;5;28;01mif\u001b[39;00m key \u001b[38;5;129;01mnot\u001b[39;00m \u001b[38;5;129;01min\u001b[39;00m \u001b[38;5;28mself\u001b[39m\u001b[38;5;241m.\u001b[39mobj:\n\u001b[1;32m--> 244\u001b[0m         \u001b[38;5;28;01mraise\u001b[39;00m \u001b[38;5;167;01mKeyError\u001b[39;00m(\u001b[38;5;124mf\u001b[39m\u001b[38;5;124m\"\u001b[39m\u001b[38;5;124mColumn not found: \u001b[39m\u001b[38;5;132;01m{\u001b[39;00mkey\u001b[38;5;132;01m}\u001b[39;00m\u001b[38;5;124m\"\u001b[39m)\n\u001b[0;32m    245\u001b[0m     ndim \u001b[38;5;241m=\u001b[39m \u001b[38;5;28mself\u001b[39m\u001b[38;5;241m.\u001b[39mobj[key]\u001b[38;5;241m.\u001b[39mndim\n\u001b[0;32m    246\u001b[0m     \u001b[38;5;28;01mreturn\u001b[39;00m \u001b[38;5;28mself\u001b[39m\u001b[38;5;241m.\u001b[39m_gotitem(key, ndim\u001b[38;5;241m=\u001b[39mndim)\n",
      "\u001b[1;31mKeyError\u001b[0m: 'Column not found: test_score'"
     ]
    },
    {
     "data": {
      "image/png": "[encoded data removed]",
      "text/plain": [
       "<Figure size 640x480 with 1 Axes>"
      ]
     },
     "metadata": {},
     "output_type": "display_data"
    }
   ],
   "source": [
    "# correlation between number shots and score => boxplot, and give number of samples per n_shots\n",
    "fig = df.groupby(\"prompt\").first().boxplot(column=\"test_score\", by=\"n_shots\", showfliers=False)\n",
    "# add number of samples per n_shots\n",
    "num_samples = df.groupby(\"n_shots\").size()\n",
    "for i, n in enumerate(num_samples):\n",
    "    fig.text(\n",
    "        i + 1,\n",
    "        0.5,\n",
    "        n,\n",
    "        ha=\"center\",\n",
    "        va=\"center\",\n",
    "        rotation=0,\n",
    "        fontsize=8,\n",
    "        color=\"black\",\n",
    "        fontweight=\"bold\",\n",
    "    )\n",
    "\n",
    "plt.show();"
   ]
  },
  {
   "cell_type": "code",
   "execution_count": null,
   "metadata": {},
   "outputs": [
    {
     "data": {
      "text/html": [
       "<div>\n",
       "<style scoped>\n",
       "    .dataframe tbody tr th:only-of-type {\n",
       "        vertical-align: middle;\n",
       "    }\n",
       "\n",
       "    .dataframe tbody tr th {\n",
       "        vertical-align: top;\n",
       "    }\n",
       "\n",
       "    .dataframe thead th {\n",
       "        text-align: right;\n",
       "    }\n",
       "</style>\n",
       "<table border=\"1\" class=\"dataframe\">\n",
       "  <thead>\n",
       "    <tr style=\"text-align: right;\">\n",
       "      <th></th>\n",
       "      <th>step</th>\n",
       "      <th>time_elapsed</th>\n",
       "      <th>score</th>\n",
       "      <th>input_tokens_meta_llm</th>\n",
       "      <th>output_tokens_meta_llm</th>\n",
       "      <th>input_tokens_downstream_llm</th>\n",
       "      <th>output_tokens_downstream_llm</th>\n",
       "      <th>test_score</th>\n",
       "      <th>total_tokens</th>\n",
       "      <th>output_tokens_downstream_llm_cum</th>\n",
       "      <th>output_tokens_meta_llm_cum</th>\n",
       "      <th>input_tokens_downstream_llm_cum</th>\n",
       "      <th>input_tokens_meta_llm_cum</th>\n",
       "      <th>n_shots</th>\n",
       "      <th>prompt_len</th>\n",
       "      <th>score_max</th>\n",
       "    </tr>\n",
       "  </thead>\n",
       "  <tbody>\n",
       "    <tr>\n",
       "      <th>0</th>\n",
       "      <td>1</td>\n",
       "      <td>301.327093</td>\n",
       "      <td>0.699474</td>\n",
       "      <td>1361.0</td>\n",
       "      <td>452.0</td>\n",
       "      <td>480697.0</td>\n",
       "      <td>42249.0</td>\n",
       "      <td>0.675833</td>\n",
       "      <td>3410933.5</td>\n",
       "      <td>274618.5</td>\n",
       "      <td>2938.0</td>\n",
       "      <td>3124530.5</td>\n",
       "      <td>8846.5</td>\n",
       "      <td>3.750000</td>\n",
       "      <td>1342.333333</td>\n",
       "      <td>0.831282</td>\n",
       "    </tr>\n",
       "    <tr>\n",
       "      <th>1</th>\n",
       "      <td>2</td>\n",
       "      <td>434.617500</td>\n",
       "      <td>0.712170</td>\n",
       "      <td>1329.0</td>\n",
       "      <td>460.0</td>\n",
       "      <td>830672.0</td>\n",
       "      <td>88861.0</td>\n",
       "      <td>0.710833</td>\n",
       "      <td>12285701.0</td>\n",
       "      <td>1084584.5</td>\n",
       "      <td>8414.0</td>\n",
       "      <td>11167732.0</td>\n",
       "      <td>24970.5</td>\n",
       "      <td>2.750000</td>\n",
       "      <td>1026.583333</td>\n",
       "      <td>0.795405</td>\n",
       "    </tr>\n",
       "    <tr>\n",
       "      <th>2</th>\n",
       "      <td>3</td>\n",
       "      <td>144.994443</td>\n",
       "      <td>0.728174</td>\n",
       "      <td>1446.0</td>\n",
       "      <td>482.0</td>\n",
       "      <td>244187.0</td>\n",
       "      <td>14164.0</td>\n",
       "      <td>0.708333</td>\n",
       "      <td>19044785.5</td>\n",
       "      <td>1665386.0</td>\n",
       "      <td>14077.0</td>\n",
       "      <td>17323643.5</td>\n",
       "      <td>41679.0</td>\n",
       "      <td>2.583333</td>\n",
       "      <td>1004.916667</td>\n",
       "      <td>0.798972</td>\n",
       "    </tr>\n",
       "    <tr>\n",
       "      <th>3</th>\n",
       "      <td>4</td>\n",
       "      <td>64.994762</td>\n",
       "      <td>0.794286</td>\n",
       "      <td>1505.0</td>\n",
       "      <td>585.0</td>\n",
       "      <td>99647.0</td>\n",
       "      <td>8945.0</td>\n",
       "      <td>0.697917</td>\n",
       "      <td>21195753.0</td>\n",
       "      <td>1801430.5</td>\n",
       "      <td>20530.5</td>\n",
       "      <td>19314377.5</td>\n",
       "      <td>59414.5</td>\n",
       "      <td>1.666667</td>\n",
       "      <td>725.166667</td>\n",
       "      <td>0.835016</td>\n",
       "    </tr>\n",
       "    <tr>\n",
       "      <th>4</th>\n",
       "      <td>5</td>\n",
       "      <td>147.342124</td>\n",
       "      <td>0.770935</td>\n",
       "      <td>1546.0</td>\n",
       "      <td>617.0</td>\n",
       "      <td>242952.0</td>\n",
       "      <td>16958.0</td>\n",
       "      <td>0.696667</td>\n",
       "      <td>23507978.5</td>\n",
       "      <td>1960855.0</td>\n",
       "      <td>27758.5</td>\n",
       "      <td>21441624.0</td>\n",
       "      <td>77741.0</td>\n",
       "      <td>1.583333</td>\n",
       "      <td>709.000000</td>\n",
       "      <td>0.802695</td>\n",
       "    </tr>\n",
       "    <tr>\n",
       "      <th>...</th>\n",
       "      <td>...</td>\n",
       "      <td>...</td>\n",
       "      <td>...</td>\n",
       "      <td>...</td>\n",
       "      <td>...</td>\n",
       "      <td>...</td>\n",
       "      <td>...</td>\n",
       "      <td>...</td>\n",
       "      <td>...</td>\n",
       "      <td>...</td>\n",
       "      <td>...</td>\n",
       "      <td>...</td>\n",
       "      <td>...</td>\n",
       "      <td>...</td>\n",
       "      <td>...</td>\n",
       "      <td>...</td>\n",
       "    </tr>\n",
       "    <tr>\n",
       "      <th>97</th>\n",
       "      <td>98</td>\n",
       "      <td>41.994841</td>\n",
       "      <td>0.862292</td>\n",
       "      <td>1674.0</td>\n",
       "      <td>651.0</td>\n",
       "      <td>65255.0</td>\n",
       "      <td>4396.0</td>\n",
       "      <td>0.702083</td>\n",
       "      <td>129768468.0</td>\n",
       "      <td>10189430.0</td>\n",
       "      <td>745903.5</td>\n",
       "      <td>116947517.5</td>\n",
       "      <td>1885617.0</td>\n",
       "      <td>0.250000</td>\n",
       "      <td>481.666667</td>\n",
       "      <td>0.879128</td>\n",
       "    </tr>\n",
       "    <tr>\n",
       "      <th>98</th>\n",
       "      <td>99</td>\n",
       "      <td>34.806467</td>\n",
       "      <td>0.824792</td>\n",
       "      <td>1746.0</td>\n",
       "      <td>715.0</td>\n",
       "      <td>48801.0</td>\n",
       "      <td>4049.0</td>\n",
       "      <td>0.702083</td>\n",
       "      <td>130523857.5</td>\n",
       "      <td>10239926.5</td>\n",
       "      <td>754131.5</td>\n",
       "      <td>117623626.5</td>\n",
       "      <td>1906173.0</td>\n",
       "      <td>0.250000</td>\n",
       "      <td>481.666667</td>\n",
       "      <td>0.844003</td>\n",
       "    </tr>\n",
       "    <tr>\n",
       "      <th>99</th>\n",
       "      <td>100</td>\n",
       "      <td>37.791627</td>\n",
       "      <td>0.862292</td>\n",
       "      <td>1649.0</td>\n",
       "      <td>607.0</td>\n",
       "      <td>58869.0</td>\n",
       "      <td>4713.0</td>\n",
       "      <td>0.702083</td>\n",
       "      <td>131256015.0</td>\n",
       "      <td>10292830.5</td>\n",
       "      <td>762009.5</td>\n",
       "      <td>118274680.5</td>\n",
       "      <td>1926494.5</td>\n",
       "      <td>0.250000</td>\n",
       "      <td>481.666667</td>\n",
       "      <td>0.879128</td>\n",
       "    </tr>\n",
       "    <tr>\n",
       "      <th>100</th>\n",
       "      <td>101</td>\n",
       "      <td>53.313723</td>\n",
       "      <td>0.824792</td>\n",
       "      <td>1727.0</td>\n",
       "      <td>668.0</td>\n",
       "      <td>65581.0</td>\n",
       "      <td>6108.0</td>\n",
       "      <td>0.702083</td>\n",
       "      <td>132099670.0</td>\n",
       "      <td>10358454.0</td>\n",
       "      <td>769690.0</td>\n",
       "      <td>119024736.5</td>\n",
       "      <td>1946789.5</td>\n",
       "      <td>0.250000</td>\n",
       "      <td>481.666667</td>\n",
       "      <td>0.844003</td>\n",
       "    </tr>\n",
       "    <tr>\n",
       "      <th>101</th>\n",
       "      <td>102</td>\n",
       "      <td>52.118718</td>\n",
       "      <td>0.862292</td>\n",
       "      <td>1743.0</td>\n",
       "      <td>705.0</td>\n",
       "      <td>72023.0</td>\n",
       "      <td>4376.0</td>\n",
       "      <td>0.702083</td>\n",
       "      <td>133019637.5</td>\n",
       "      <td>10420492.0</td>\n",
       "      <td>777946.5</td>\n",
       "      <td>119853581.5</td>\n",
       "      <td>1967617.5</td>\n",
       "      <td>0.250000</td>\n",
       "      <td>481.666667</td>\n",
       "      <td>0.879128</td>\n",
       "    </tr>\n",
       "  </tbody>\n",
       "</table>\n",
       "<p>102 rows × 16 columns</p>\n",
       "</div>"
      ],
      "text/plain": [
       "     step  time_elapsed     score  input_tokens_meta_llm  \\\n",
       "0       1    301.327093  0.699474                 1361.0   \n",
       "1       2    434.617500  0.712170                 1329.0   \n",
       "2       3    144.994443  0.728174                 1446.0   \n",
       "3       4     64.994762  0.794286                 1505.0   \n",
       "4       5    147.342124  0.770935                 1546.0   \n",
       "..    ...           ...       ...                    ...   \n",
       "97     98     41.994841  0.862292                 1674.0   \n",
       "98     99     34.806467  0.824792                 1746.0   \n",
       "99    100     37.791627  0.862292                 1649.0   \n",
       "100   101     53.313723  0.824792                 1727.0   \n",
       "101   102     52.118718  0.862292                 1743.0   \n",
       "\n",
       "     output_tokens_meta_llm  input_tokens_downstream_llm  \\\n",
       "0                     452.0                     480697.0   \n",
       "1                     460.0                     830672.0   \n",
       "2                     482.0                     244187.0   \n",
       "3                     585.0                      99647.0   \n",
       "4                     617.0                     242952.0   \n",
       "..                      ...                          ...   \n",
       "97                    651.0                      65255.0   \n",
       "98                    715.0                      48801.0   \n",
       "99                    607.0                      58869.0   \n",
       "100                   668.0                      65581.0   \n",
       "101                   705.0                      72023.0   \n",
       "\n",
       "     output_tokens_downstream_llm  test_score  total_tokens  \\\n",
       "0                         42249.0    0.675833     3410933.5   \n",
       "1                         88861.0    0.710833    12285701.0   \n",
       "2                         14164.0    0.708333    19044785.5   \n",
       "3                          8945.0    0.697917    21195753.0   \n",
       "4                         16958.0    0.696667    23507978.5   \n",
       "..                            ...         ...           ...   \n",
       "97                         4396.0    0.702083   129768468.0   \n",
       "98                         4049.0    0.702083   130523857.5   \n",
       "99                         4713.0    0.702083   131256015.0   \n",
       "100                        6108.0    0.702083   132099670.0   \n",
       "101                        4376.0    0.702083   133019637.5   \n",
       "\n",
       "     output_tokens_downstream_llm_cum  output_tokens_meta_llm_cum  \\\n",
       "0                            274618.5                      2938.0   \n",
       "1                           1084584.5                      8414.0   \n",
       "2                           1665386.0                     14077.0   \n",
       "3                           1801430.5                     20530.5   \n",
       "4                           1960855.0                     27758.5   \n",
       "..                                ...                         ...   \n",
       "97                         10189430.0                    745903.5   \n",
       "98                         10239926.5                    754131.5   \n",
       "99                         10292830.5                    762009.5   \n",
       "100                        10358454.0                    769690.0   \n",
       "101                        10420492.0                    777946.5   \n",
       "\n",
       "     input_tokens_downstream_llm_cum  input_tokens_meta_llm_cum   n_shots  \\\n",
       "0                          3124530.5                     8846.5  3.750000   \n",
       "1                         11167732.0                    24970.5  2.750000   \n",
       "2                         17323643.5                    41679.0  2.583333   \n",
       "3                         19314377.5                    59414.5  1.666667   \n",
       "4                         21441624.0                    77741.0  1.583333   \n",
       "..                               ...                        ...       ...   \n",
       "97                       116947517.5                  1885617.0  0.250000   \n",
       "98                       117623626.5                  1906173.0  0.250000   \n",
       "99                       118274680.5                  1926494.5  0.250000   \n",
       "100                      119024736.5                  1946789.5  0.250000   \n",
       "101                      119853581.5                  1967617.5  0.250000   \n",
       "\n",
       "      prompt_len  score_max  \n",
       "0    1342.333333   0.831282  \n",
       "1    1026.583333   0.795405  \n",
       "2    1004.916667   0.798972  \n",
       "3     725.166667   0.835016  \n",
       "4     709.000000   0.802695  \n",
       "..           ...        ...  \n",
       "97    481.666667   0.879128  \n",
       "98    481.666667   0.844003  \n",
       "99    481.666667   0.879128  \n",
       "100   481.666667   0.844003  \n",
       "101   481.666667   0.879128  \n",
       "\n",
       "[102 rows x 16 columns]"
      ]
     },
     "execution_count": 92,
     "metadata": {},
     "output_type": "execute_result"
    }
   ],
   "source": [
    "# group df by step and get the mean of the values (ignore stings)\n",
    "df_grouped = df.groupby(\"step\", as_index=False).mean(numeric_only=True)\n",
    "# df_grouped[\"cum_input_tokens\"] = df_grouped[\"input_tokens_downstream_llm\"].cumsum()\n",
    "\n",
    "# join the maximum score for each step\n",
    "df_grouped = df_grouped.join(\n",
    "    df.groupby(\"step\", as_index=False).max()[[\"step\", \"score\"]].set_index(\"step\"),\n",
    "    on=\"step\",\n",
    "    rsuffix=\"_max\",\n",
    ")\n",
    "\n",
    "df_grouped"
   ]
  },
  {
   "cell_type": "code",
   "execution_count": null,
   "metadata": {},
   "outputs": [
    {
     "data": {
      "image/png": "[encoded data removed]",
      "text/plain": [
       "<Figure size 640x480 with 1 Axes>"
      ]
     },
     "metadata": {},
     "output_type": "display_data"
    }
   ],
   "source": [
    "# plot step vs total tokens\n",
    "plt.bar(df_grouped[\"step\"], df_grouped[\"total_tokens\"]);"
   ]
  },
  {
   "cell_type": "code",
   "execution_count": null,
   "metadata": {},
   "outputs": [
    {
     "data": {
      "image/png": "[encoded data removed]",
      "text/plain": [
       "<Figure size 640x480 with 1 Axes>"
      ]
     },
     "metadata": {},
     "output_type": "display_data"
    }
   ],
   "source": [
    "# plot token count vs step and adapt y-axis to min and max\n",
    "column = \"test_score\"\n",
    "plt.plot(df_grouped[\"total_tokens\"], df_grouped[column])\n",
    "plt.show();"
   ]
  },
  {
   "cell_type": "code",
   "execution_count": null,
   "metadata": {},
   "outputs": [
    {
     "data": {
      "image/png": "[encoded data removed]",
      "text/plain": [
       "<Figure size 640x480 with 1 Axes>"
      ]
     },
     "metadata": {},
     "output_type": "display_data"
    }
   ],
   "source": [
    "# plot token count vs step and adapt y-axis to min and max\n",
    "column = \"test_score\"\n",
    "plt.plot(df_grouped[\"step\"], df_grouped[column])\n",
    "plt.show();"
   ]
  },
  {
   "cell_type": "code",
   "execution_count": null,
   "metadata": {},
   "outputs": [
    {
     "data": {
      "image/png": "[encoded data removed]",
      "text/plain": [
       "<Figure size 640x480 with 1 Axes>"
      ]
     },
     "metadata": {},
     "output_type": "display_data"
    }
   ],
   "source": [
    "# x_axis => step, y_axis => worst_score, mean_score, best_score\n",
    "col = \"test_score\"\n",
    "\n",
    "worst_scores = df.groupby(\"step\", as_index=False).min(numeric_only=True)[[\"step\", col]]\n",
    "mean_scores = df.groupby(\"step\", as_index=False).mean(numeric_only=True)[[\"step\", col]]\n",
    "best_scores = df.groupby(\"step\", as_index=False).max(numeric_only=True)[[\"step\", col]]\n",
    "\n",
    "plt.plot(worst_scores[\"step\"], worst_scores[col], label=\"worst\", color=\"red\")\n",
    "plt.plot(mean_scores[\"step\"], mean_scores[col], label=\"mean\", color=\"green\")\n",
    "plt.plot(best_scores[\"step\"], best_scores[col], label=\"best\", color=\"blue\")\n",
    "# fill area between lines\n",
    "plt.fill_between(mean_scores[\"step\"], worst_scores[col], best_scores[col], alpha=0.2)\n",
    "plt.legend()\n",
    "plt.show();"
   ]
  },
  {
   "cell_type": "code",
   "execution_count": null,
   "metadata": {},
   "outputs": [
    {
     "data": {
      "image/png": "[encoded data removed]",
      "text/plain": [
       "<Figure size 640x480 with 1 Axes>"
      ]
     },
     "metadata": {},
     "output_type": "display_data"
    }
   ],
   "source": [
    "# plot score vs prompt length\n",
    "plt.scatter(df_grouped[\"prompt_len\"], df_grouped[\"test_score\"])\n",
    "plt.show();"
   ]
  },
  {
   "cell_type": "code",
   "execution_count": null,
   "metadata": {},
   "outputs": [
    {
     "data": {
      "image/png": "[encoded data removed]",
      "text/plain": [
       "<Figure size 640x480 with 1 Axes>"
      ]
     },
     "metadata": {},
     "output_type": "display_data"
    }
   ],
   "source": [
    "# prompt length vs step\n",
    "plt.bar(df_grouped[\"step\"], df_grouped[\"prompt_len\"]);"
   ]
  },
  {
   "cell_type": "markdown",
   "metadata": {},
   "source": [
    "### Analyze best prompts per step"
   ]
  },
  {
   "cell_type": "code",
   "execution_count": null,
   "metadata": {},
   "outputs": [
    {
     "name": "stderr",
     "output_type": "stream",
     "text": [
      "C:\\Users\\tzehl\\AppData\\Local\\Temp\\ipykernel_18720\\373190983.py:1: DeprecationWarning: DataFrameGroupBy.apply operated on the grouping columns. This behavior is deprecated, and in a future version of pandas the grouping columns will be excluded from the operation. Either pass `include_groups=False` to exclude the groupings or explicitly select the grouping columns after groupby to silence this warning.\n",
      "  df_best = df.groupby(\"step\").apply(lambda x: x.nlargest(1, \"score\")).reset_index(drop=True)\n"
     ]
    }
   ],
   "source": [
    "df_best = df.groupby(\"step\").apply(lambda x: x.nlargest(1, \"score\")).reset_index(drop=True)\n",
    "# df_best"
   ]
  },
  {
   "cell_type": "code",
   "execution_count": null,
   "metadata": {},
   "outputs": [
    {
     "data": {
      "image/png": "[encoded data removed]",
      "text/plain": [
       "<Figure size 640x480 with 1 Axes>"
      ]
     },
     "metadata": {},
     "output_type": "display_data"
    }
   ],
   "source": [
    "# max a line plot of the best score vs step\n",
    "plt.plot(df_best[\"step\"], df_best[\"test_score\"]);"
   ]
  },
  {
   "cell_type": "markdown",
   "metadata": {},
   "source": [
    "## Analyze Racing"
   ]
  },
  {
   "cell_type": "code",
   "execution_count": null,
   "metadata": {},
   "outputs": [],
   "source": [
    "from pprint import pprint as pp\n",
    "\n",
    "p = lambda x: (pp(x.replace(\"\\r\", \"\"), compact=True, width=200))"
   ]
  },
  {
   "cell_type": "code",
   "execution_count": null,
   "metadata": {},
   "outputs": [
    {
     "data": {
      "text/plain": [
       "1      0.82\n",
       "14     0.82\n",
       "27     0.82\n",
       "43     0.82\n",
       "54     0.82\n",
       "65     0.82\n",
       "77     0.82\n",
       "90     0.82\n",
       "101    0.82\n",
       "115    0.82\n",
       "Name: test_score, dtype: float64"
      ]
     },
     "execution_count": 102,
     "metadata": {},
     "output_type": "execute_result"
    }
   ],
   "source": [
    "df[\"test_score\"].nlargest(10)"
   ]
  },
  {
   "cell_type": "code",
   "execution_count": null,
   "metadata": {},
   "outputs": [
    {
     "name": "stdout",
     "output_type": "stream",
     "text": [
      "unique? 1\n",
      "number of shots:  2\n",
      "score:  0.82\n",
      "first occurence:  1\n",
      "last occurence:  15\n",
      "last train score:  0.79\n",
      "('Determine the appropriate category for the following news article. Options are World, Sports, Business, and Sci/Tech. Format your response with <final_answer> category </final_answer>.\\n'\n",
      " '\\n'\n",
      " 'Input: Tanks encircle shrine in US blitz on rebels UNITED States tanks today encircled the sacred Imam Ali shrine in the Iraqi city of Najaf, after an intense bombardment of rebel positions '\n",
      " 'overnight. \\n'\n",
      " 'Output: <final_answer>World</final_answer>\\n'\n",
      " '\\n'\n",
      " 'Input: UPDATE 5-Marsh  amp; McLennan CEO Jeffrey Greenberg resigns Marsh  amp; McLennan Cos. (MMC.N: Quote, Profile, Research) Chairman and Chief Executive Jeffrey Greenberg resigned on Monday, 11 '\n",
      " 'days after New York Attorney General \\n'\n",
      " 'Output: <final_answer>Business</final_answer>\\n'\n",
      " '\\n'\n",
      " 'Input:\\n'\n",
      " '<|im_start|>assistant\\n')\n"
     ]
    }
   ],
   "source": [
    "# best prompt\n",
    "col = \"test_score\"\n",
    "k_best = 1\n",
    "\n",
    "best_prompt = df[df[col] == df[col].nlargest(k_best).values[k_best - 1]]\n",
    "print(\"unique?\", len(best_prompt[\"prompt\"].unique()))\n",
    "print(\"number of shots: \", best_prompt[\"n_shots\"].values[0])\n",
    "print(\"score: \", best_prompt[col].values[0])\n",
    "print(\"first occurence: \", best_prompt[\"step\"].values[0])\n",
    "print(\"last occurence: \", best_prompt[\"step\"].values[-1])\n",
    "print(\"last train score: \", best_prompt[\"score\"].values[-1].round(2))\n",
    "\n",
    "p(best_prompt[\"prompt\"].unique()[0])"
   ]
  },
  {
   "cell_type": "code",
   "execution_count": null,
   "metadata": {},
   "outputs": [
    {
     "name": "stdout",
     "output_type": "stream",
     "text": [
      "Determine the appropriate category for the following news article. Options are World, Sports, Business, and Sci/Tech. Format your response with <final_answer> category </final_answer>.\n",
      "\n",
      "Input: Tanks encircle shrine in US blitz on rebels UNITED States tanks today encircled the sacred Imam Ali shrine in the Iraqi city of Najaf, after an intense bombardment of rebel positions overnight. \n",
      "Output: <final_answer>World</final_answer>\n",
      "\n",
      "Input: UPDATE 5-Marsh  amp; McLennan CEO Jeffrey Greenberg resigns Marsh  amp; McLennan Cos. (MMC.N: Quote, Profile, Research) Chairman and Chief Executive Jeffrey Greenberg resigned on Monday, 11 days after New York Attorney General \n",
      "Output: <final_answer>Business</final_answer>\n",
      "\n",
      "Input:\n",
      "<|im_start|>assistant\n",
      "\n"
     ]
    }
   ],
   "source": [
    "print(best_prompt[\"prompt\"].unique()[0])"
   ]
  },
  {
   "cell_type": "code",
   "execution_count": null,
   "metadata": {},
   "outputs": [
    {
     "data": {
      "text/plain": [
       "'Determine the appropriate category for the following news article. Options are World, Sports, Business, and Sci/Tech. Format your response with <final_answer> category </final_answer>.\\r\\n\\r\\nInput: Tanks encircle shrine in US blitz on rebels UNITED States tanks today encircled the sacred Imam Ali shrine in the Iraqi city of Najaf, after an intense bombardment of rebel positions overnight. \\r\\nOutput: <final_answer>World</final_answer>\\r\\n\\r\\nInput: UPDATE 5-Marsh  amp; McLennan CEO Jeffrey Greenberg resigns Marsh  amp; McLennan Cos. (MMC.N: Quote, Profile, Research) Chairman and Chief Executive Jeffrey Greenberg resigned on Monday, 11 days after New York Attorney General \\r\\nOutput: <final_answer>Business</final_answer>\\r\\n\\r\\nInput:\\r\\n<|im_start|>assistant\\r\\n'"
      ]
     },
     "execution_count": 105,
     "metadata": {},
     "output_type": "execute_result"
    }
   ],
   "source": [
    "best_prompt[\"prompt\"].unique()[0]"
   ]
  },
  {
   "cell_type": "code",
   "execution_count": null,
   "metadata": {},
   "outputs": [
    {
     "ename": "FileNotFoundError",
     "evalue": "[Errno 2] No such file or directory: '../results/agnews/qwen/CAPO/seed43/benchmark_experiment_agnews_qwen_CAPO_43/d68fc10ed5808b22bcc05bf52807a08e381e40af3e141ec4bcd12359f96161a9/prompt_scores_QWEN_PFUSCH.csv'",
     "output_type": "error",
     "traceback": [
      "\u001b[1;31m---------------------------------------------------------------------------\u001b[0m",
      "\u001b[1;31mFileNotFoundError\u001b[0m                         Traceback (most recent call last)",
      "Cell \u001b[1;32mIn[106], line 4\u001b[0m\n\u001b[0;32m      1\u001b[0m \u001b[38;5;66;03m# load the prompt scores per block\u001b[39;00m\n\u001b[0;32m      2\u001b[0m path \u001b[38;5;241m=\u001b[39m path\u001b[38;5;241m.\u001b[39mreplace(\u001b[38;5;124m\"\u001b[39m\u001b[38;5;124mstep_results_eval\u001b[39m\u001b[38;5;124m\"\u001b[39m, \u001b[38;5;124m\"\u001b[39m\u001b[38;5;124mprompt_scores\u001b[39m\u001b[38;5;124m\"\u001b[39m)\n\u001b[1;32m----> 4\u001b[0m df_blocks \u001b[38;5;241m=\u001b[39m \u001b[43mpd\u001b[49m\u001b[38;5;241;43m.\u001b[39;49m\u001b[43mread_csv\u001b[49m\u001b[43m(\u001b[49m\u001b[43mpath\u001b[49m\u001b[43m)\u001b[49m\n\u001b[0;32m      5\u001b[0m \u001b[38;5;66;03m# round all numbers to 2 decimal places\u001b[39;00m\n\u001b[0;32m      6\u001b[0m df_blocks \u001b[38;5;241m=\u001b[39m df_blocks\u001b[38;5;241m.\u001b[39mround(\u001b[38;5;241m2\u001b[39m)\n",
      "File \u001b[1;32mc:\\Users\\tzehl\\anaconda3\\envs\\ds\\Lib\\site-packages\\pandas\\io\\parsers\\readers.py:1026\u001b[0m, in \u001b[0;36mread_csv\u001b[1;34m(filepath_or_buffer, sep, delimiter, header, names, index_col, usecols, dtype, engine, converters, true_values, false_values, skipinitialspace, skiprows, skipfooter, nrows, na_values, keep_default_na, na_filter, verbose, skip_blank_lines, parse_dates, infer_datetime_format, keep_date_col, date_parser, date_format, dayfirst, cache_dates, iterator, chunksize, compression, thousands, decimal, lineterminator, quotechar, quoting, doublequote, escapechar, comment, encoding, encoding_errors, dialect, on_bad_lines, delim_whitespace, low_memory, memory_map, float_precision, storage_options, dtype_backend)\u001b[0m\n\u001b[0;32m   1013\u001b[0m kwds_defaults \u001b[38;5;241m=\u001b[39m _refine_defaults_read(\n\u001b[0;32m   1014\u001b[0m     dialect,\n\u001b[0;32m   1015\u001b[0m     delimiter,\n\u001b[1;32m   (...)\u001b[0m\n\u001b[0;32m   1022\u001b[0m     dtype_backend\u001b[38;5;241m=\u001b[39mdtype_backend,\n\u001b[0;32m   1023\u001b[0m )\n\u001b[0;32m   1024\u001b[0m kwds\u001b[38;5;241m.\u001b[39mupdate(kwds_defaults)\n\u001b[1;32m-> 1026\u001b[0m \u001b[38;5;28;01mreturn\u001b[39;00m \u001b[43m_read\u001b[49m\u001b[43m(\u001b[49m\u001b[43mfilepath_or_buffer\u001b[49m\u001b[43m,\u001b[49m\u001b[43m \u001b[49m\u001b[43mkwds\u001b[49m\u001b[43m)\u001b[49m\n",
      "File \u001b[1;32mc:\\Users\\tzehl\\anaconda3\\envs\\ds\\Lib\\site-packages\\pandas\\io\\parsers\\readers.py:620\u001b[0m, in \u001b[0;36m_read\u001b[1;34m(filepath_or_buffer, kwds)\u001b[0m\n\u001b[0;32m    617\u001b[0m _validate_names(kwds\u001b[38;5;241m.\u001b[39mget(\u001b[38;5;124m\"\u001b[39m\u001b[38;5;124mnames\u001b[39m\u001b[38;5;124m\"\u001b[39m, \u001b[38;5;28;01mNone\u001b[39;00m))\n\u001b[0;32m    619\u001b[0m \u001b[38;5;66;03m# Create the parser.\u001b[39;00m\n\u001b[1;32m--> 620\u001b[0m parser \u001b[38;5;241m=\u001b[39m \u001b[43mTextFileReader\u001b[49m\u001b[43m(\u001b[49m\u001b[43mfilepath_or_buffer\u001b[49m\u001b[43m,\u001b[49m\u001b[43m \u001b[49m\u001b[38;5;241;43m*\u001b[39;49m\u001b[38;5;241;43m*\u001b[39;49m\u001b[43mkwds\u001b[49m\u001b[43m)\u001b[49m\n\u001b[0;32m    622\u001b[0m \u001b[38;5;28;01mif\u001b[39;00m chunksize \u001b[38;5;129;01mor\u001b[39;00m iterator:\n\u001b[0;32m    623\u001b[0m     \u001b[38;5;28;01mreturn\u001b[39;00m parser\n",
      "File \u001b[1;32mc:\\Users\\tzehl\\anaconda3\\envs\\ds\\Lib\\site-packages\\pandas\\io\\parsers\\readers.py:1620\u001b[0m, in \u001b[0;36mTextFileReader.__init__\u001b[1;34m(self, f, engine, **kwds)\u001b[0m\n\u001b[0;32m   1617\u001b[0m     \u001b[38;5;28mself\u001b[39m\u001b[38;5;241m.\u001b[39moptions[\u001b[38;5;124m\"\u001b[39m\u001b[38;5;124mhas_index_names\u001b[39m\u001b[38;5;124m\"\u001b[39m] \u001b[38;5;241m=\u001b[39m kwds[\u001b[38;5;124m\"\u001b[39m\u001b[38;5;124mhas_index_names\u001b[39m\u001b[38;5;124m\"\u001b[39m]\n\u001b[0;32m   1619\u001b[0m \u001b[38;5;28mself\u001b[39m\u001b[38;5;241m.\u001b[39mhandles: IOHandles \u001b[38;5;241m|\u001b[39m \u001b[38;5;28;01mNone\u001b[39;00m \u001b[38;5;241m=\u001b[39m \u001b[38;5;28;01mNone\u001b[39;00m\n\u001b[1;32m-> 1620\u001b[0m \u001b[38;5;28mself\u001b[39m\u001b[38;5;241m.\u001b[39m_engine \u001b[38;5;241m=\u001b[39m \u001b[38;5;28;43mself\u001b[39;49m\u001b[38;5;241;43m.\u001b[39;49m\u001b[43m_make_engine\u001b[49m\u001b[43m(\u001b[49m\u001b[43mf\u001b[49m\u001b[43m,\u001b[49m\u001b[43m \u001b[49m\u001b[38;5;28;43mself\u001b[39;49m\u001b[38;5;241;43m.\u001b[39;49m\u001b[43mengine\u001b[49m\u001b[43m)\u001b[49m\n",
      "File \u001b[1;32mc:\\Users\\tzehl\\anaconda3\\envs\\ds\\Lib\\site-packages\\pandas\\io\\parsers\\readers.py:1880\u001b[0m, in \u001b[0;36mTextFileReader._make_engine\u001b[1;34m(self, f, engine)\u001b[0m\n\u001b[0;32m   1878\u001b[0m     \u001b[38;5;28;01mif\u001b[39;00m \u001b[38;5;124m\"\u001b[39m\u001b[38;5;124mb\u001b[39m\u001b[38;5;124m\"\u001b[39m \u001b[38;5;129;01mnot\u001b[39;00m \u001b[38;5;129;01min\u001b[39;00m mode:\n\u001b[0;32m   1879\u001b[0m         mode \u001b[38;5;241m+\u001b[39m\u001b[38;5;241m=\u001b[39m \u001b[38;5;124m\"\u001b[39m\u001b[38;5;124mb\u001b[39m\u001b[38;5;124m\"\u001b[39m\n\u001b[1;32m-> 1880\u001b[0m \u001b[38;5;28mself\u001b[39m\u001b[38;5;241m.\u001b[39mhandles \u001b[38;5;241m=\u001b[39m \u001b[43mget_handle\u001b[49m\u001b[43m(\u001b[49m\n\u001b[0;32m   1881\u001b[0m \u001b[43m    \u001b[49m\u001b[43mf\u001b[49m\u001b[43m,\u001b[49m\n\u001b[0;32m   1882\u001b[0m \u001b[43m    \u001b[49m\u001b[43mmode\u001b[49m\u001b[43m,\u001b[49m\n\u001b[0;32m   1883\u001b[0m \u001b[43m    \u001b[49m\u001b[43mencoding\u001b[49m\u001b[38;5;241;43m=\u001b[39;49m\u001b[38;5;28;43mself\u001b[39;49m\u001b[38;5;241;43m.\u001b[39;49m\u001b[43moptions\u001b[49m\u001b[38;5;241;43m.\u001b[39;49m\u001b[43mget\u001b[49m\u001b[43m(\u001b[49m\u001b[38;5;124;43m\"\u001b[39;49m\u001b[38;5;124;43mencoding\u001b[39;49m\u001b[38;5;124;43m\"\u001b[39;49m\u001b[43m,\u001b[49m\u001b[43m \u001b[49m\u001b[38;5;28;43;01mNone\u001b[39;49;00m\u001b[43m)\u001b[49m\u001b[43m,\u001b[49m\n\u001b[0;32m   1884\u001b[0m \u001b[43m    \u001b[49m\u001b[43mcompression\u001b[49m\u001b[38;5;241;43m=\u001b[39;49m\u001b[38;5;28;43mself\u001b[39;49m\u001b[38;5;241;43m.\u001b[39;49m\u001b[43moptions\u001b[49m\u001b[38;5;241;43m.\u001b[39;49m\u001b[43mget\u001b[49m\u001b[43m(\u001b[49m\u001b[38;5;124;43m\"\u001b[39;49m\u001b[38;5;124;43mcompression\u001b[39;49m\u001b[38;5;124;43m\"\u001b[39;49m\u001b[43m,\u001b[49m\u001b[43m \u001b[49m\u001b[38;5;28;43;01mNone\u001b[39;49;00m\u001b[43m)\u001b[49m\u001b[43m,\u001b[49m\n\u001b[0;32m   1885\u001b[0m \u001b[43m    \u001b[49m\u001b[43mmemory_map\u001b[49m\u001b[38;5;241;43m=\u001b[39;49m\u001b[38;5;28;43mself\u001b[39;49m\u001b[38;5;241;43m.\u001b[39;49m\u001b[43moptions\u001b[49m\u001b[38;5;241;43m.\u001b[39;49m\u001b[43mget\u001b[49m\u001b[43m(\u001b[49m\u001b[38;5;124;43m\"\u001b[39;49m\u001b[38;5;124;43mmemory_map\u001b[39;49m\u001b[38;5;124;43m\"\u001b[39;49m\u001b[43m,\u001b[49m\u001b[43m \u001b[49m\u001b[38;5;28;43;01mFalse\u001b[39;49;00m\u001b[43m)\u001b[49m\u001b[43m,\u001b[49m\n\u001b[0;32m   1886\u001b[0m \u001b[43m    \u001b[49m\u001b[43mis_text\u001b[49m\u001b[38;5;241;43m=\u001b[39;49m\u001b[43mis_text\u001b[49m\u001b[43m,\u001b[49m\n\u001b[0;32m   1887\u001b[0m \u001b[43m    \u001b[49m\u001b[43merrors\u001b[49m\u001b[38;5;241;43m=\u001b[39;49m\u001b[38;5;28;43mself\u001b[39;49m\u001b[38;5;241;43m.\u001b[39;49m\u001b[43moptions\u001b[49m\u001b[38;5;241;43m.\u001b[39;49m\u001b[43mget\u001b[49m\u001b[43m(\u001b[49m\u001b[38;5;124;43m\"\u001b[39;49m\u001b[38;5;124;43mencoding_errors\u001b[39;49m\u001b[38;5;124;43m\"\u001b[39;49m\u001b[43m,\u001b[49m\u001b[43m \u001b[49m\u001b[38;5;124;43m\"\u001b[39;49m\u001b[38;5;124;43mstrict\u001b[39;49m\u001b[38;5;124;43m\"\u001b[39;49m\u001b[43m)\u001b[49m\u001b[43m,\u001b[49m\n\u001b[0;32m   1888\u001b[0m \u001b[43m    \u001b[49m\u001b[43mstorage_options\u001b[49m\u001b[38;5;241;43m=\u001b[39;49m\u001b[38;5;28;43mself\u001b[39;49m\u001b[38;5;241;43m.\u001b[39;49m\u001b[43moptions\u001b[49m\u001b[38;5;241;43m.\u001b[39;49m\u001b[43mget\u001b[49m\u001b[43m(\u001b[49m\u001b[38;5;124;43m\"\u001b[39;49m\u001b[38;5;124;43mstorage_options\u001b[39;49m\u001b[38;5;124;43m\"\u001b[39;49m\u001b[43m,\u001b[49m\u001b[43m \u001b[49m\u001b[38;5;28;43;01mNone\u001b[39;49;00m\u001b[43m)\u001b[49m\u001b[43m,\u001b[49m\n\u001b[0;32m   1889\u001b[0m \u001b[43m\u001b[49m\u001b[43m)\u001b[49m\n\u001b[0;32m   1890\u001b[0m \u001b[38;5;28;01massert\u001b[39;00m \u001b[38;5;28mself\u001b[39m\u001b[38;5;241m.\u001b[39mhandles \u001b[38;5;129;01mis\u001b[39;00m \u001b[38;5;129;01mnot\u001b[39;00m \u001b[38;5;28;01mNone\u001b[39;00m\n\u001b[0;32m   1891\u001b[0m f \u001b[38;5;241m=\u001b[39m \u001b[38;5;28mself\u001b[39m\u001b[38;5;241m.\u001b[39mhandles\u001b[38;5;241m.\u001b[39mhandle\n",
      "File \u001b[1;32mc:\\Users\\tzehl\\anaconda3\\envs\\ds\\Lib\\site-packages\\pandas\\io\\common.py:873\u001b[0m, in \u001b[0;36mget_handle\u001b[1;34m(path_or_buf, mode, encoding, compression, memory_map, is_text, errors, storage_options)\u001b[0m\n\u001b[0;32m    868\u001b[0m \u001b[38;5;28;01melif\u001b[39;00m \u001b[38;5;28misinstance\u001b[39m(handle, \u001b[38;5;28mstr\u001b[39m):\n\u001b[0;32m    869\u001b[0m     \u001b[38;5;66;03m# Check whether the filename is to be opened in binary mode.\u001b[39;00m\n\u001b[0;32m    870\u001b[0m     \u001b[38;5;66;03m# Binary mode does not support 'encoding' and 'newline'.\u001b[39;00m\n\u001b[0;32m    871\u001b[0m     \u001b[38;5;28;01mif\u001b[39;00m ioargs\u001b[38;5;241m.\u001b[39mencoding \u001b[38;5;129;01mand\u001b[39;00m \u001b[38;5;124m\"\u001b[39m\u001b[38;5;124mb\u001b[39m\u001b[38;5;124m\"\u001b[39m \u001b[38;5;129;01mnot\u001b[39;00m \u001b[38;5;129;01min\u001b[39;00m ioargs\u001b[38;5;241m.\u001b[39mmode:\n\u001b[0;32m    872\u001b[0m         \u001b[38;5;66;03m# Encoding\u001b[39;00m\n\u001b[1;32m--> 873\u001b[0m         handle \u001b[38;5;241m=\u001b[39m \u001b[38;5;28;43mopen\u001b[39;49m\u001b[43m(\u001b[49m\n\u001b[0;32m    874\u001b[0m \u001b[43m            \u001b[49m\u001b[43mhandle\u001b[49m\u001b[43m,\u001b[49m\n\u001b[0;32m    875\u001b[0m \u001b[43m            \u001b[49m\u001b[43mioargs\u001b[49m\u001b[38;5;241;43m.\u001b[39;49m\u001b[43mmode\u001b[49m\u001b[43m,\u001b[49m\n\u001b[0;32m    876\u001b[0m \u001b[43m            \u001b[49m\u001b[43mencoding\u001b[49m\u001b[38;5;241;43m=\u001b[39;49m\u001b[43mioargs\u001b[49m\u001b[38;5;241;43m.\u001b[39;49m\u001b[43mencoding\u001b[49m\u001b[43m,\u001b[49m\n\u001b[0;32m    877\u001b[0m \u001b[43m            \u001b[49m\u001b[43merrors\u001b[49m\u001b[38;5;241;43m=\u001b[39;49m\u001b[43merrors\u001b[49m\u001b[43m,\u001b[49m\n\u001b[0;32m    878\u001b[0m \u001b[43m            \u001b[49m\u001b[43mnewline\u001b[49m\u001b[38;5;241;43m=\u001b[39;49m\u001b[38;5;124;43m\"\u001b[39;49m\u001b[38;5;124;43m\"\u001b[39;49m\u001b[43m,\u001b[49m\n\u001b[0;32m    879\u001b[0m \u001b[43m        \u001b[49m\u001b[43m)\u001b[49m\n\u001b[0;32m    880\u001b[0m     \u001b[38;5;28;01melse\u001b[39;00m:\n\u001b[0;32m    881\u001b[0m         \u001b[38;5;66;03m# Binary mode\u001b[39;00m\n\u001b[0;32m    882\u001b[0m         handle \u001b[38;5;241m=\u001b[39m \u001b[38;5;28mopen\u001b[39m(handle, ioargs\u001b[38;5;241m.\u001b[39mmode)\n",
      "\u001b[1;31mFileNotFoundError\u001b[0m: [Errno 2] No such file or directory: '../results/agnews/qwen/CAPO/seed43/benchmark_experiment_agnews_qwen_CAPO_43/d68fc10ed5808b22bcc05bf52807a08e381e40af3e141ec4bcd12359f96161a9/prompt_scores_QWEN_PFUSCH.csv'"
     ]
    }
   ],
   "source": [
    "# load the prompt scores per block\n",
    "path = path.replace(\"step_results_eval\", \"prompt_scores\")\n",
    "\n",
    "df_blocks = pd.read_csv(path)\n",
    "# round all numbers to 2 decimal places\n",
    "df_blocks = df_blocks.round(2)\n",
    "\n",
    "df_blocks"
   ]
  },
  {
   "cell_type": "code",
   "execution_count": null,
   "metadata": {},
   "outputs": [
    {
     "data": {
      "text/plain": [
       "\"For this assignment, you'll act as a news classification assistant. Your goal is to carefully analyze the given news article and assign it to one of these four categories: World, Sports, Business, or Sci/Tech. Please format your final response as <final_answer>selected category</final_answer> to facilitate accurate system recognition and smooth processing.\\r\\n\\r\\nInput:\\r\\n<|im_start|>assistant\\r\\n\""
      ]
     },
     "execution_count": 107,
     "metadata": {},
     "output_type": "execute_result"
    }
   ],
   "source": [
    "s = df.prompt.sample(1).item()\n",
    "s"
   ]
  },
  {
   "cell_type": "code",
   "execution_count": null,
   "metadata": {},
   "outputs": [
    {
     "data": {
      "text/plain": [
       "'Address the math word problem by dissecting it into simpler components for easier resolution. Upon arriving at the solution, make certain that your ultimate answer is enclosed within the <final_answer> and </final_answer> markers.\\r\\n\\r\\nInput: A taco truck is selling soft tacos for $2 and hard shell tacos for $5 during the lunch rush. The first group of customers is a family that buys four hard shell tacos and three soft tacos. The rest of the customers in the lunch rush only buy two soft tacos each. There were ten customers after the family. How many dollars did the taco truck make during the lunch rush?\\r\\nOutput: <final_answer>66</final_answer>\\r\\n\\r\\nInput:'"
      ]
     },
     "execution_count": 108,
     "metadata": {},
     "output_type": "execute_result"
    }
   ],
   "source": [
    "df_blocks.iloc[2][\"Unnamed: 0\"]"
   ]
  },
  {
   "cell_type": "code",
   "execution_count": null,
   "metadata": {},
   "outputs": [
    {
     "name": "stdout",
     "output_type": "stream",
     "text": [
      "For this assignment, you'll act as a news classification assistant. Your goal is to carefully analyze the given news article and assign it to one of these four categories: World, Sports, Business, or Sci/Tech. Please format your final response as <final_answer>selected category</final_answer> to facilitate accurate system recognition and smooth processing.\n",
      "\n",
      "Input:\n",
      "<|im_start|>assistant\n",
      "\n"
     ]
    }
   ],
   "source": [
    "print(s)"
   ]
  },
  {
   "cell_type": "code",
   "execution_count": null,
   "metadata": {},
   "outputs": [
    {
     "name": "stdout",
     "output_type": "stream",
     "text": [
      "\n"
     ]
    }
   ],
   "source": [
    "print(\"\\r\")"
   ]
  },
  {
   "cell_type": "code",
   "execution_count": null,
   "metadata": {},
   "outputs": [],
   "source": [
    "# get number of blocks per prompt by counting non nans per columns\n",
    "n_blocks = df_blocks.count(axis=1) - 1"
   ]
  },
  {
   "cell_type": "code",
   "execution_count": null,
   "metadata": {},
   "outputs": [
    {
     "data": {
      "text/plain": [
       "0       1\n",
       "1       1\n",
       "2      10\n",
       "3      10\n",
       "4       1\n",
       "       ..\n",
       "263     1\n",
       "264     4\n",
       "265     1\n",
       "266    10\n",
       "267     1\n",
       "Length: 268, dtype: int64"
      ]
     },
     "execution_count": 112,
     "metadata": {},
     "output_type": "execute_result"
    }
   ],
   "source": [
    "n_blocks"
   ]
  },
  {
   "cell_type": "code",
   "execution_count": null,
   "metadata": {},
   "outputs": [],
   "source": [
    "df_count = pd.DataFrame({\"n_blocks\": n_blocks.values, \"prompt\": df_blocks[\"Unnamed: 0\"]})"
   ]
  },
  {
   "cell_type": "code",
   "execution_count": null,
   "metadata": {},
   "outputs": [
    {
     "data": {
      "text/plain": [
       "n_blocks\n",
       "1     199\n",
       "10     32\n",
       "2      20\n",
       "4       7\n",
       "5       4\n",
       "3       4\n",
       "6       1\n",
       "8       1\n",
       "Name: count, dtype: int64"
      ]
     },
     "execution_count": 114,
     "metadata": {},
     "output_type": "execute_result"
    }
   ],
   "source": [
    "df_count[\"n_blocks\"].value_counts()"
   ]
  },
  {
   "cell_type": "code",
   "execution_count": null,
   "metadata": {},
   "outputs": [
    {
     "ename": "ValueError",
     "evalue": "Bin edges must be unique: Index([nan, nan, nan, nan, nan, nan], dtype='float64').\nYou can drop duplicate edges by setting the 'duplicates' kwarg",
     "output_type": "error",
     "traceback": [
      "\u001b[1;31m---------------------------------------------------------------------------\u001b[0m",
      "\u001b[1;31mValueError\u001b[0m                                Traceback (most recent call last)",
      "Cell \u001b[1;32mIn[115], line 5\u001b[0m\n\u001b[0;32m      2\u001b[0m df_count \u001b[38;5;241m=\u001b[39m df_count\u001b[38;5;241m.\u001b[39mjoin(df\u001b[38;5;241m.\u001b[39mset_index(\u001b[38;5;124m\"\u001b[39m\u001b[38;5;124mprompt\u001b[39m\u001b[38;5;124m\"\u001b[39m), on\u001b[38;5;241m=\u001b[39m\u001b[38;5;124m\"\u001b[39m\u001b[38;5;124mprompt\u001b[39m\u001b[38;5;124m\"\u001b[39m, how\u001b[38;5;241m=\u001b[39m\u001b[38;5;124m\"\u001b[39m\u001b[38;5;124mleft\u001b[39m\u001b[38;5;124m\"\u001b[39m, lsuffix\u001b[38;5;241m=\u001b[39m\u001b[38;5;124m\"\u001b[39m\u001b[38;5;124m_rrr\u001b[39m\u001b[38;5;124m\"\u001b[39m)\n\u001b[0;32m      4\u001b[0m \u001b[38;5;66;03m# bin by test_score\u001b[39;00m\n\u001b[1;32m----> 5\u001b[0m df_count[\u001b[38;5;124m\"\u001b[39m\u001b[38;5;124mtest_score_bin\u001b[39m\u001b[38;5;124m\"\u001b[39m] \u001b[38;5;241m=\u001b[39m \u001b[43mpd\u001b[49m\u001b[38;5;241;43m.\u001b[39;49m\u001b[43mcut\u001b[49m\u001b[43m(\u001b[49m\u001b[43mdf_count\u001b[49m\u001b[43m[\u001b[49m\u001b[38;5;124;43m\"\u001b[39;49m\u001b[38;5;124;43mtest_score\u001b[39;49m\u001b[38;5;124;43m\"\u001b[39;49m\u001b[43m]\u001b[49m\u001b[43m,\u001b[49m\u001b[43m \u001b[49m\u001b[43mbins\u001b[49m\u001b[38;5;241;43m=\u001b[39;49m\u001b[38;5;241;43m5\u001b[39;49m\u001b[43m)\u001b[49m\n",
      "File \u001b[1;32mc:\\Users\\tzehl\\anaconda3\\envs\\ds\\Lib\\site-packages\\pandas\\core\\reshape\\tile.py:257\u001b[0m, in \u001b[0;36mcut\u001b[1;34m(x, bins, right, labels, retbins, precision, include_lowest, duplicates, ordered)\u001b[0m\n\u001b[0;32m    254\u001b[0m     \u001b[38;5;28;01mif\u001b[39;00m \u001b[38;5;129;01mnot\u001b[39;00m bins\u001b[38;5;241m.\u001b[39mis_monotonic_increasing:\n\u001b[0;32m    255\u001b[0m         \u001b[38;5;28;01mraise\u001b[39;00m \u001b[38;5;167;01mValueError\u001b[39;00m(\u001b[38;5;124m\"\u001b[39m\u001b[38;5;124mbins must increase monotonically.\u001b[39m\u001b[38;5;124m\"\u001b[39m)\n\u001b[1;32m--> 257\u001b[0m fac, bins \u001b[38;5;241m=\u001b[39m \u001b[43m_bins_to_cuts\u001b[49m\u001b[43m(\u001b[49m\n\u001b[0;32m    258\u001b[0m \u001b[43m    \u001b[49m\u001b[43mx_idx\u001b[49m\u001b[43m,\u001b[49m\n\u001b[0;32m    259\u001b[0m \u001b[43m    \u001b[49m\u001b[43mbins\u001b[49m\u001b[43m,\u001b[49m\n\u001b[0;32m    260\u001b[0m \u001b[43m    \u001b[49m\u001b[43mright\u001b[49m\u001b[38;5;241;43m=\u001b[39;49m\u001b[43mright\u001b[49m\u001b[43m,\u001b[49m\n\u001b[0;32m    261\u001b[0m \u001b[43m    \u001b[49m\u001b[43mlabels\u001b[49m\u001b[38;5;241;43m=\u001b[39;49m\u001b[43mlabels\u001b[49m\u001b[43m,\u001b[49m\n\u001b[0;32m    262\u001b[0m \u001b[43m    \u001b[49m\u001b[43mprecision\u001b[49m\u001b[38;5;241;43m=\u001b[39;49m\u001b[43mprecision\u001b[49m\u001b[43m,\u001b[49m\n\u001b[0;32m    263\u001b[0m \u001b[43m    \u001b[49m\u001b[43minclude_lowest\u001b[49m\u001b[38;5;241;43m=\u001b[39;49m\u001b[43minclude_lowest\u001b[49m\u001b[43m,\u001b[49m\n\u001b[0;32m    264\u001b[0m \u001b[43m    \u001b[49m\u001b[43mduplicates\u001b[49m\u001b[38;5;241;43m=\u001b[39;49m\u001b[43mduplicates\u001b[49m\u001b[43m,\u001b[49m\n\u001b[0;32m    265\u001b[0m \u001b[43m    \u001b[49m\u001b[43mordered\u001b[49m\u001b[38;5;241;43m=\u001b[39;49m\u001b[43mordered\u001b[49m\u001b[43m,\u001b[49m\n\u001b[0;32m    266\u001b[0m \u001b[43m\u001b[49m\u001b[43m)\u001b[49m\n\u001b[0;32m    268\u001b[0m \u001b[38;5;28;01mreturn\u001b[39;00m _postprocess_for_cut(fac, bins, retbins, original)\n",
      "File \u001b[1;32mc:\\Users\\tzehl\\anaconda3\\envs\\ds\\Lib\\site-packages\\pandas\\core\\reshape\\tile.py:443\u001b[0m, in \u001b[0;36m_bins_to_cuts\u001b[1;34m(x_idx, bins, right, labels, precision, include_lowest, duplicates, ordered)\u001b[0m\n\u001b[0;32m    441\u001b[0m \u001b[38;5;28;01mif\u001b[39;00m \u001b[38;5;28mlen\u001b[39m(unique_bins) \u001b[38;5;241m<\u001b[39m \u001b[38;5;28mlen\u001b[39m(bins) \u001b[38;5;129;01mand\u001b[39;00m \u001b[38;5;28mlen\u001b[39m(bins) \u001b[38;5;241m!=\u001b[39m \u001b[38;5;241m2\u001b[39m:\n\u001b[0;32m    442\u001b[0m     \u001b[38;5;28;01mif\u001b[39;00m duplicates \u001b[38;5;241m==\u001b[39m \u001b[38;5;124m\"\u001b[39m\u001b[38;5;124mraise\u001b[39m\u001b[38;5;124m\"\u001b[39m:\n\u001b[1;32m--> 443\u001b[0m         \u001b[38;5;28;01mraise\u001b[39;00m \u001b[38;5;167;01mValueError\u001b[39;00m(\n\u001b[0;32m    444\u001b[0m             \u001b[38;5;124mf\u001b[39m\u001b[38;5;124m\"\u001b[39m\u001b[38;5;124mBin edges must be unique: \u001b[39m\u001b[38;5;132;01m{\u001b[39;00m\u001b[38;5;28mrepr\u001b[39m(bins)\u001b[38;5;132;01m}\u001b[39;00m\u001b[38;5;124m.\u001b[39m\u001b[38;5;130;01m\\n\u001b[39;00m\u001b[38;5;124m\"\u001b[39m\n\u001b[0;32m    445\u001b[0m             \u001b[38;5;124mf\u001b[39m\u001b[38;5;124m\"\u001b[39m\u001b[38;5;124mYou can drop duplicate edges by setting the \u001b[39m\u001b[38;5;124m'\u001b[39m\u001b[38;5;124mduplicates\u001b[39m\u001b[38;5;124m'\u001b[39m\u001b[38;5;124m kwarg\u001b[39m\u001b[38;5;124m\"\u001b[39m\n\u001b[0;32m    446\u001b[0m         )\n\u001b[0;32m    447\u001b[0m     bins \u001b[38;5;241m=\u001b[39m unique_bins\n\u001b[0;32m    449\u001b[0m side: Literal[\u001b[38;5;124m\"\u001b[39m\u001b[38;5;124mleft\u001b[39m\u001b[38;5;124m\"\u001b[39m, \u001b[38;5;124m\"\u001b[39m\u001b[38;5;124mright\u001b[39m\u001b[38;5;124m\"\u001b[39m] \u001b[38;5;241m=\u001b[39m \u001b[38;5;124m\"\u001b[39m\u001b[38;5;124mleft\u001b[39m\u001b[38;5;124m\"\u001b[39m \u001b[38;5;28;01mif\u001b[39;00m right \u001b[38;5;28;01melse\u001b[39;00m \u001b[38;5;124m\"\u001b[39m\u001b[38;5;124mright\u001b[39m\u001b[38;5;124m\"\u001b[39m\n",
      "\u001b[1;31mValueError\u001b[0m: Bin edges must be unique: Index([nan, nan, nan, nan, nan, nan], dtype='float64').\nYou can drop duplicate edges by setting the 'duplicates' kwarg"
     ]
    }
   ],
   "source": [
    "# join with df\n",
    "df_count = df_count.join(df.set_index(\"prompt\"), on=\"prompt\", how=\"left\", lsuffix=\"_rrr\")\n",
    "\n",
    "# bin by test_score\n",
    "df_count[\"test_score_bin\"] = pd.cut(df_count[\"test_score\"], bins=5)"
   ]
  },
  {
   "cell_type": "code",
   "execution_count": null,
   "metadata": {},
   "outputs": [
    {
     "ename": "KeyError",
     "evalue": "'test_score_bin'",
     "output_type": "error",
     "traceback": [
      "\u001b[1;31m---------------------------------------------------------------------------\u001b[0m",
      "\u001b[1;31mKeyError\u001b[0m                                  Traceback (most recent call last)",
      "Cell \u001b[1;32mIn[116], line 2\u001b[0m\n\u001b[0;32m      1\u001b[0m \u001b[38;5;66;03m# evals vs score => boxplot\u001b[39;00m\n\u001b[1;32m----> 2\u001b[0m \u001b[43mdf_count\u001b[49m\u001b[38;5;241;43m.\u001b[39;49m\u001b[43mboxplot\u001b[49m\u001b[43m(\u001b[49m\u001b[43mcolumn\u001b[49m\u001b[38;5;241;43m=\u001b[39;49m\u001b[38;5;124;43m\"\u001b[39;49m\u001b[38;5;124;43mn_blocks\u001b[39;49m\u001b[38;5;124;43m\"\u001b[39;49m\u001b[43m,\u001b[49m\u001b[43m \u001b[49m\u001b[43mby\u001b[49m\u001b[38;5;241;43m=\u001b[39;49m\u001b[38;5;124;43m\"\u001b[39;49m\u001b[38;5;124;43mtest_score_bin\u001b[39;49m\u001b[38;5;124;43m\"\u001b[39;49m\u001b[43m)\u001b[49m;\n",
      "File \u001b[1;32mc:\\Users\\tzehl\\anaconda3\\envs\\ds\\Lib\\site-packages\\pandas\\plotting\\_core.py:533\u001b[0m, in \u001b[0;36mboxplot_frame\u001b[1;34m(self, column, by, ax, fontsize, rot, grid, figsize, layout, return_type, backend, **kwargs)\u001b[0m\n\u001b[0;32m    516\u001b[0m \u001b[38;5;129m@Substitution\u001b[39m(data\u001b[38;5;241m=\u001b[39m\u001b[38;5;124m\"\u001b[39m\u001b[38;5;124m\"\u001b[39m, backend\u001b[38;5;241m=\u001b[39m_backend_doc)\n\u001b[0;32m    517\u001b[0m \u001b[38;5;129m@Appender\u001b[39m(_boxplot_doc)\n\u001b[0;32m    518\u001b[0m \u001b[38;5;28;01mdef\u001b[39;00m\u001b[38;5;250m \u001b[39m\u001b[38;5;21mboxplot_frame\u001b[39m(\n\u001b[1;32m   (...)\u001b[0m\n\u001b[0;32m    530\u001b[0m     \u001b[38;5;241m*\u001b[39m\u001b[38;5;241m*\u001b[39mkwargs,\n\u001b[0;32m    531\u001b[0m ):\n\u001b[0;32m    532\u001b[0m     plot_backend \u001b[38;5;241m=\u001b[39m _get_plot_backend(backend)\n\u001b[1;32m--> 533\u001b[0m     \u001b[38;5;28;01mreturn\u001b[39;00m \u001b[43mplot_backend\u001b[49m\u001b[38;5;241;43m.\u001b[39;49m\u001b[43mboxplot_frame\u001b[49m\u001b[43m(\u001b[49m\n\u001b[0;32m    534\u001b[0m \u001b[43m        \u001b[49m\u001b[38;5;28;43mself\u001b[39;49m\u001b[43m,\u001b[49m\n\u001b[0;32m    535\u001b[0m \u001b[43m        \u001b[49m\u001b[43mcolumn\u001b[49m\u001b[38;5;241;43m=\u001b[39;49m\u001b[43mcolumn\u001b[49m\u001b[43m,\u001b[49m\n\u001b[0;32m    536\u001b[0m \u001b[43m        \u001b[49m\u001b[43mby\u001b[49m\u001b[38;5;241;43m=\u001b[39;49m\u001b[43mby\u001b[49m\u001b[43m,\u001b[49m\n\u001b[0;32m    537\u001b[0m \u001b[43m        \u001b[49m\u001b[43max\u001b[49m\u001b[38;5;241;43m=\u001b[39;49m\u001b[43max\u001b[49m\u001b[43m,\u001b[49m\n\u001b[0;32m    538\u001b[0m \u001b[43m        \u001b[49m\u001b[43mfontsize\u001b[49m\u001b[38;5;241;43m=\u001b[39;49m\u001b[43mfontsize\u001b[49m\u001b[43m,\u001b[49m\n\u001b[0;32m    539\u001b[0m \u001b[43m        \u001b[49m\u001b[43mrot\u001b[49m\u001b[38;5;241;43m=\u001b[39;49m\u001b[43mrot\u001b[49m\u001b[43m,\u001b[49m\n\u001b[0;32m    540\u001b[0m \u001b[43m        \u001b[49m\u001b[43mgrid\u001b[49m\u001b[38;5;241;43m=\u001b[39;49m\u001b[43mgrid\u001b[49m\u001b[43m,\u001b[49m\n\u001b[0;32m    541\u001b[0m \u001b[43m        \u001b[49m\u001b[43mfigsize\u001b[49m\u001b[38;5;241;43m=\u001b[39;49m\u001b[43mfigsize\u001b[49m\u001b[43m,\u001b[49m\n\u001b[0;32m    542\u001b[0m \u001b[43m        \u001b[49m\u001b[43mlayout\u001b[49m\u001b[38;5;241;43m=\u001b[39;49m\u001b[43mlayout\u001b[49m\u001b[43m,\u001b[49m\n\u001b[0;32m    543\u001b[0m \u001b[43m        \u001b[49m\u001b[43mreturn_type\u001b[49m\u001b[38;5;241;43m=\u001b[39;49m\u001b[43mreturn_type\u001b[49m\u001b[43m,\u001b[49m\n\u001b[0;32m    544\u001b[0m \u001b[43m        \u001b[49m\u001b[38;5;241;43m*\u001b[39;49m\u001b[38;5;241;43m*\u001b[39;49m\u001b[43mkwargs\u001b[49m\u001b[43m,\u001b[49m\n\u001b[0;32m    545\u001b[0m \u001b[43m    \u001b[49m\u001b[43m)\u001b[49m\n",
      "File \u001b[1;32mc:\\Users\\tzehl\\anaconda3\\envs\\ds\\Lib\\site-packages\\pandas\\plotting\\_matplotlib\\boxplot.py:492\u001b[0m, in \u001b[0;36mboxplot_frame\u001b[1;34m(self, column, by, ax, fontsize, rot, grid, figsize, layout, return_type, **kwds)\u001b[0m\n\u001b[0;32m    477\u001b[0m \u001b[38;5;28;01mdef\u001b[39;00m\u001b[38;5;250m \u001b[39m\u001b[38;5;21mboxplot_frame\u001b[39m(\n\u001b[0;32m    478\u001b[0m     \u001b[38;5;28mself\u001b[39m,\n\u001b[0;32m    479\u001b[0m     column\u001b[38;5;241m=\u001b[39m\u001b[38;5;28;01mNone\u001b[39;00m,\n\u001b[1;32m   (...)\u001b[0m\n\u001b[0;32m    488\u001b[0m     \u001b[38;5;241m*\u001b[39m\u001b[38;5;241m*\u001b[39mkwds,\n\u001b[0;32m    489\u001b[0m ):\n\u001b[0;32m    490\u001b[0m     \u001b[38;5;28;01mimport\u001b[39;00m\u001b[38;5;250m \u001b[39m\u001b[38;5;21;01mmatplotlib\u001b[39;00m\u001b[38;5;21;01m.\u001b[39;00m\u001b[38;5;21;01mpyplot\u001b[39;00m\u001b[38;5;250m \u001b[39m\u001b[38;5;28;01mas\u001b[39;00m\u001b[38;5;250m \u001b[39m\u001b[38;5;21;01mplt\u001b[39;00m\n\u001b[1;32m--> 492\u001b[0m     ax \u001b[38;5;241m=\u001b[39m \u001b[43mboxplot\u001b[49m\u001b[43m(\u001b[49m\n\u001b[0;32m    493\u001b[0m \u001b[43m        \u001b[49m\u001b[38;5;28;43mself\u001b[39;49m\u001b[43m,\u001b[49m\n\u001b[0;32m    494\u001b[0m \u001b[43m        \u001b[49m\u001b[43mcolumn\u001b[49m\u001b[38;5;241;43m=\u001b[39;49m\u001b[43mcolumn\u001b[49m\u001b[43m,\u001b[49m\n\u001b[0;32m    495\u001b[0m \u001b[43m        \u001b[49m\u001b[43mby\u001b[49m\u001b[38;5;241;43m=\u001b[39;49m\u001b[43mby\u001b[49m\u001b[43m,\u001b[49m\n\u001b[0;32m    496\u001b[0m \u001b[43m        \u001b[49m\u001b[43max\u001b[49m\u001b[38;5;241;43m=\u001b[39;49m\u001b[43max\u001b[49m\u001b[43m,\u001b[49m\n\u001b[0;32m    497\u001b[0m \u001b[43m        \u001b[49m\u001b[43mfontsize\u001b[49m\u001b[38;5;241;43m=\u001b[39;49m\u001b[43mfontsize\u001b[49m\u001b[43m,\u001b[49m\n\u001b[0;32m    498\u001b[0m \u001b[43m        \u001b[49m\u001b[43mgrid\u001b[49m\u001b[38;5;241;43m=\u001b[39;49m\u001b[43mgrid\u001b[49m\u001b[43m,\u001b[49m\n\u001b[0;32m    499\u001b[0m \u001b[43m        \u001b[49m\u001b[43mrot\u001b[49m\u001b[38;5;241;43m=\u001b[39;49m\u001b[43mrot\u001b[49m\u001b[43m,\u001b[49m\n\u001b[0;32m    500\u001b[0m \u001b[43m        \u001b[49m\u001b[43mfigsize\u001b[49m\u001b[38;5;241;43m=\u001b[39;49m\u001b[43mfigsize\u001b[49m\u001b[43m,\u001b[49m\n\u001b[0;32m    501\u001b[0m \u001b[43m        \u001b[49m\u001b[43mlayout\u001b[49m\u001b[38;5;241;43m=\u001b[39;49m\u001b[43mlayout\u001b[49m\u001b[43m,\u001b[49m\n\u001b[0;32m    502\u001b[0m \u001b[43m        \u001b[49m\u001b[43mreturn_type\u001b[49m\u001b[38;5;241;43m=\u001b[39;49m\u001b[43mreturn_type\u001b[49m\u001b[43m,\u001b[49m\n\u001b[0;32m    503\u001b[0m \u001b[43m        \u001b[49m\u001b[38;5;241;43m*\u001b[39;49m\u001b[38;5;241;43m*\u001b[39;49m\u001b[43mkwds\u001b[49m\u001b[43m,\u001b[49m\n\u001b[0;32m    504\u001b[0m \u001b[43m    \u001b[49m\u001b[43m)\u001b[49m\n\u001b[0;32m    505\u001b[0m     plt\u001b[38;5;241m.\u001b[39mdraw_if_interactive()\n\u001b[0;32m    506\u001b[0m     \u001b[38;5;28;01mreturn\u001b[39;00m ax\n",
      "File \u001b[1;32mc:\\Users\\tzehl\\anaconda3\\envs\\ds\\Lib\\site-packages\\pandas\\plotting\\_matplotlib\\boxplot.py:438\u001b[0m, in \u001b[0;36mboxplot\u001b[1;34m(data, column, by, ax, fontsize, rot, grid, figsize, layout, return_type, **kwds)\u001b[0m\n\u001b[0;32m    433\u001b[0m     columns \u001b[38;5;241m=\u001b[39m [column]\n\u001b[0;32m    435\u001b[0m \u001b[38;5;28;01mif\u001b[39;00m by \u001b[38;5;129;01mis\u001b[39;00m \u001b[38;5;129;01mnot\u001b[39;00m \u001b[38;5;28;01mNone\u001b[39;00m:\n\u001b[0;32m    436\u001b[0m     \u001b[38;5;66;03m# Prefer array return type for 2-D plots to match the subplot layout\u001b[39;00m\n\u001b[0;32m    437\u001b[0m     \u001b[38;5;66;03m# https://github.com/pandas-dev/pandas/pull/12216#issuecomment-241175580\u001b[39;00m\n\u001b[1;32m--> 438\u001b[0m     result \u001b[38;5;241m=\u001b[39m \u001b[43m_grouped_plot_by_column\u001b[49m\u001b[43m(\u001b[49m\n\u001b[0;32m    439\u001b[0m \u001b[43m        \u001b[49m\u001b[43mplot_group\u001b[49m\u001b[43m,\u001b[49m\n\u001b[0;32m    440\u001b[0m \u001b[43m        \u001b[49m\u001b[43mdata\u001b[49m\u001b[43m,\u001b[49m\n\u001b[0;32m    441\u001b[0m \u001b[43m        \u001b[49m\u001b[43mcolumns\u001b[49m\u001b[38;5;241;43m=\u001b[39;49m\u001b[43mcolumns\u001b[49m\u001b[43m,\u001b[49m\n\u001b[0;32m    442\u001b[0m \u001b[43m        \u001b[49m\u001b[43mby\u001b[49m\u001b[38;5;241;43m=\u001b[39;49m\u001b[43mby\u001b[49m\u001b[43m,\u001b[49m\n\u001b[0;32m    443\u001b[0m \u001b[43m        \u001b[49m\u001b[43mgrid\u001b[49m\u001b[38;5;241;43m=\u001b[39;49m\u001b[43mgrid\u001b[49m\u001b[43m,\u001b[49m\n\u001b[0;32m    444\u001b[0m \u001b[43m        \u001b[49m\u001b[43mfigsize\u001b[49m\u001b[38;5;241;43m=\u001b[39;49m\u001b[43mfigsize\u001b[49m\u001b[43m,\u001b[49m\n\u001b[0;32m    445\u001b[0m \u001b[43m        \u001b[49m\u001b[43max\u001b[49m\u001b[38;5;241;43m=\u001b[39;49m\u001b[43max\u001b[49m\u001b[43m,\u001b[49m\n\u001b[0;32m    446\u001b[0m \u001b[43m        \u001b[49m\u001b[43mlayout\u001b[49m\u001b[38;5;241;43m=\u001b[39;49m\u001b[43mlayout\u001b[49m\u001b[43m,\u001b[49m\n\u001b[0;32m    447\u001b[0m \u001b[43m        \u001b[49m\u001b[43mreturn_type\u001b[49m\u001b[38;5;241;43m=\u001b[39;49m\u001b[43mreturn_type\u001b[49m\u001b[43m,\u001b[49m\n\u001b[0;32m    448\u001b[0m \u001b[43m        \u001b[49m\u001b[38;5;241;43m*\u001b[39;49m\u001b[38;5;241;43m*\u001b[39;49m\u001b[43mkwds\u001b[49m\u001b[43m,\u001b[49m\n\u001b[0;32m    449\u001b[0m \u001b[43m    \u001b[49m\u001b[43m)\u001b[49m\n\u001b[0;32m    450\u001b[0m \u001b[38;5;28;01melse\u001b[39;00m:\n\u001b[0;32m    451\u001b[0m     \u001b[38;5;28;01mif\u001b[39;00m return_type \u001b[38;5;129;01mis\u001b[39;00m \u001b[38;5;28;01mNone\u001b[39;00m:\n",
      "File \u001b[1;32mc:\\Users\\tzehl\\anaconda3\\envs\\ds\\Lib\\site-packages\\pandas\\plotting\\_matplotlib\\boxplot.py:299\u001b[0m, in \u001b[0;36m_grouped_plot_by_column\u001b[1;34m(plotf, data, columns, by, numeric_only, grid, figsize, ax, layout, return_type, **kwargs)\u001b[0m\n\u001b[0;32m    286\u001b[0m \u001b[38;5;28;01mdef\u001b[39;00m\u001b[38;5;250m \u001b[39m\u001b[38;5;21m_grouped_plot_by_column\u001b[39m(\n\u001b[0;32m    287\u001b[0m     plotf,\n\u001b[0;32m    288\u001b[0m     data,\n\u001b[1;32m   (...)\u001b[0m\n\u001b[0;32m    297\u001b[0m     \u001b[38;5;241m*\u001b[39m\u001b[38;5;241m*\u001b[39mkwargs,\n\u001b[0;32m    298\u001b[0m ):\n\u001b[1;32m--> 299\u001b[0m     grouped \u001b[38;5;241m=\u001b[39m \u001b[43mdata\u001b[49m\u001b[38;5;241;43m.\u001b[39;49m\u001b[43mgroupby\u001b[49m\u001b[43m(\u001b[49m\u001b[43mby\u001b[49m\u001b[43m,\u001b[49m\u001b[43m \u001b[49m\u001b[43mobserved\u001b[49m\u001b[38;5;241;43m=\u001b[39;49m\u001b[38;5;28;43;01mFalse\u001b[39;49;00m\u001b[43m)\u001b[49m\n\u001b[0;32m    300\u001b[0m     \u001b[38;5;28;01mif\u001b[39;00m columns \u001b[38;5;129;01mis\u001b[39;00m \u001b[38;5;28;01mNone\u001b[39;00m:\n\u001b[0;32m    301\u001b[0m         \u001b[38;5;28;01mif\u001b[39;00m \u001b[38;5;129;01mnot\u001b[39;00m \u001b[38;5;28misinstance\u001b[39m(by, (\u001b[38;5;28mlist\u001b[39m, \u001b[38;5;28mtuple\u001b[39m)):\n",
      "File \u001b[1;32mc:\\Users\\tzehl\\anaconda3\\envs\\ds\\Lib\\site-packages\\pandas\\core\\frame.py:9183\u001b[0m, in \u001b[0;36mDataFrame.groupby\u001b[1;34m(self, by, axis, level, as_index, sort, group_keys, observed, dropna)\u001b[0m\n\u001b[0;32m   9180\u001b[0m \u001b[38;5;28;01mif\u001b[39;00m level \u001b[38;5;129;01mis\u001b[39;00m \u001b[38;5;28;01mNone\u001b[39;00m \u001b[38;5;129;01mand\u001b[39;00m by \u001b[38;5;129;01mis\u001b[39;00m \u001b[38;5;28;01mNone\u001b[39;00m:\n\u001b[0;32m   9181\u001b[0m     \u001b[38;5;28;01mraise\u001b[39;00m \u001b[38;5;167;01mTypeError\u001b[39;00m(\u001b[38;5;124m\"\u001b[39m\u001b[38;5;124mYou have to supply one of \u001b[39m\u001b[38;5;124m'\u001b[39m\u001b[38;5;124mby\u001b[39m\u001b[38;5;124m'\u001b[39m\u001b[38;5;124m and \u001b[39m\u001b[38;5;124m'\u001b[39m\u001b[38;5;124mlevel\u001b[39m\u001b[38;5;124m'\u001b[39m\u001b[38;5;124m\"\u001b[39m)\n\u001b[1;32m-> 9183\u001b[0m \u001b[38;5;28;01mreturn\u001b[39;00m \u001b[43mDataFrameGroupBy\u001b[49m\u001b[43m(\u001b[49m\n\u001b[0;32m   9184\u001b[0m \u001b[43m    \u001b[49m\u001b[43mobj\u001b[49m\u001b[38;5;241;43m=\u001b[39;49m\u001b[38;5;28;43mself\u001b[39;49m\u001b[43m,\u001b[49m\n\u001b[0;32m   9185\u001b[0m \u001b[43m    \u001b[49m\u001b[43mkeys\u001b[49m\u001b[38;5;241;43m=\u001b[39;49m\u001b[43mby\u001b[49m\u001b[43m,\u001b[49m\n\u001b[0;32m   9186\u001b[0m \u001b[43m    \u001b[49m\u001b[43maxis\u001b[49m\u001b[38;5;241;43m=\u001b[39;49m\u001b[43maxis\u001b[49m\u001b[43m,\u001b[49m\n\u001b[0;32m   9187\u001b[0m \u001b[43m    \u001b[49m\u001b[43mlevel\u001b[49m\u001b[38;5;241;43m=\u001b[39;49m\u001b[43mlevel\u001b[49m\u001b[43m,\u001b[49m\n\u001b[0;32m   9188\u001b[0m \u001b[43m    \u001b[49m\u001b[43mas_index\u001b[49m\u001b[38;5;241;43m=\u001b[39;49m\u001b[43mas_index\u001b[49m\u001b[43m,\u001b[49m\n\u001b[0;32m   9189\u001b[0m \u001b[43m    \u001b[49m\u001b[43msort\u001b[49m\u001b[38;5;241;43m=\u001b[39;49m\u001b[43msort\u001b[49m\u001b[43m,\u001b[49m\n\u001b[0;32m   9190\u001b[0m \u001b[43m    \u001b[49m\u001b[43mgroup_keys\u001b[49m\u001b[38;5;241;43m=\u001b[39;49m\u001b[43mgroup_keys\u001b[49m\u001b[43m,\u001b[49m\n\u001b[0;32m   9191\u001b[0m \u001b[43m    \u001b[49m\u001b[43mobserved\u001b[49m\u001b[38;5;241;43m=\u001b[39;49m\u001b[43mobserved\u001b[49m\u001b[43m,\u001b[49m\n\u001b[0;32m   9192\u001b[0m \u001b[43m    \u001b[49m\u001b[43mdropna\u001b[49m\u001b[38;5;241;43m=\u001b[39;49m\u001b[43mdropna\u001b[49m\u001b[43m,\u001b[49m\n\u001b[0;32m   9193\u001b[0m \u001b[43m\u001b[49m\u001b[43m)\u001b[49m\n",
      "File \u001b[1;32mc:\\Users\\tzehl\\anaconda3\\envs\\ds\\Lib\\site-packages\\pandas\\core\\groupby\\groupby.py:1329\u001b[0m, in \u001b[0;36mGroupBy.__init__\u001b[1;34m(self, obj, keys, axis, level, grouper, exclusions, selection, as_index, sort, group_keys, observed, dropna)\u001b[0m\n\u001b[0;32m   1326\u001b[0m \u001b[38;5;28mself\u001b[39m\u001b[38;5;241m.\u001b[39mdropna \u001b[38;5;241m=\u001b[39m dropna\n\u001b[0;32m   1328\u001b[0m \u001b[38;5;28;01mif\u001b[39;00m grouper \u001b[38;5;129;01mis\u001b[39;00m \u001b[38;5;28;01mNone\u001b[39;00m:\n\u001b[1;32m-> 1329\u001b[0m     grouper, exclusions, obj \u001b[38;5;241m=\u001b[39m \u001b[43mget_grouper\u001b[49m\u001b[43m(\u001b[49m\n\u001b[0;32m   1330\u001b[0m \u001b[43m        \u001b[49m\u001b[43mobj\u001b[49m\u001b[43m,\u001b[49m\n\u001b[0;32m   1331\u001b[0m \u001b[43m        \u001b[49m\u001b[43mkeys\u001b[49m\u001b[43m,\u001b[49m\n\u001b[0;32m   1332\u001b[0m \u001b[43m        \u001b[49m\u001b[43maxis\u001b[49m\u001b[38;5;241;43m=\u001b[39;49m\u001b[43maxis\u001b[49m\u001b[43m,\u001b[49m\n\u001b[0;32m   1333\u001b[0m \u001b[43m        \u001b[49m\u001b[43mlevel\u001b[49m\u001b[38;5;241;43m=\u001b[39;49m\u001b[43mlevel\u001b[49m\u001b[43m,\u001b[49m\n\u001b[0;32m   1334\u001b[0m \u001b[43m        \u001b[49m\u001b[43msort\u001b[49m\u001b[38;5;241;43m=\u001b[39;49m\u001b[43msort\u001b[49m\u001b[43m,\u001b[49m\n\u001b[0;32m   1335\u001b[0m \u001b[43m        \u001b[49m\u001b[43mobserved\u001b[49m\u001b[38;5;241;43m=\u001b[39;49m\u001b[38;5;28;43;01mFalse\u001b[39;49;00m\u001b[43m \u001b[49m\u001b[38;5;28;43;01mif\u001b[39;49;00m\u001b[43m \u001b[49m\u001b[43mobserved\u001b[49m\u001b[43m \u001b[49m\u001b[38;5;129;43;01mis\u001b[39;49;00m\u001b[43m \u001b[49m\u001b[43mlib\u001b[49m\u001b[38;5;241;43m.\u001b[39;49m\u001b[43mno_default\u001b[49m\u001b[43m \u001b[49m\u001b[38;5;28;43;01melse\u001b[39;49;00m\u001b[43m \u001b[49m\u001b[43mobserved\u001b[49m\u001b[43m,\u001b[49m\n\u001b[0;32m   1336\u001b[0m \u001b[43m        \u001b[49m\u001b[43mdropna\u001b[49m\u001b[38;5;241;43m=\u001b[39;49m\u001b[38;5;28;43mself\u001b[39;49m\u001b[38;5;241;43m.\u001b[39;49m\u001b[43mdropna\u001b[49m\u001b[43m,\u001b[49m\n\u001b[0;32m   1337\u001b[0m \u001b[43m    \u001b[49m\u001b[43m)\u001b[49m\n\u001b[0;32m   1339\u001b[0m \u001b[38;5;28;01mif\u001b[39;00m observed \u001b[38;5;129;01mis\u001b[39;00m lib\u001b[38;5;241m.\u001b[39mno_default:\n\u001b[0;32m   1340\u001b[0m     \u001b[38;5;28;01mif\u001b[39;00m \u001b[38;5;28many\u001b[39m(ping\u001b[38;5;241m.\u001b[39m_passed_categorical \u001b[38;5;28;01mfor\u001b[39;00m ping \u001b[38;5;129;01min\u001b[39;00m grouper\u001b[38;5;241m.\u001b[39mgroupings):\n",
      "File \u001b[1;32mc:\\Users\\tzehl\\anaconda3\\envs\\ds\\Lib\\site-packages\\pandas\\core\\groupby\\grouper.py:1043\u001b[0m, in \u001b[0;36mget_grouper\u001b[1;34m(obj, key, axis, level, sort, observed, validate, dropna)\u001b[0m\n\u001b[0;32m   1041\u001b[0m         in_axis, level, gpr \u001b[38;5;241m=\u001b[39m \u001b[38;5;28;01mFalse\u001b[39;00m, gpr, \u001b[38;5;28;01mNone\u001b[39;00m\n\u001b[0;32m   1042\u001b[0m     \u001b[38;5;28;01melse\u001b[39;00m:\n\u001b[1;32m-> 1043\u001b[0m         \u001b[38;5;28;01mraise\u001b[39;00m \u001b[38;5;167;01mKeyError\u001b[39;00m(gpr)\n\u001b[0;32m   1044\u001b[0m \u001b[38;5;28;01melif\u001b[39;00m \u001b[38;5;28misinstance\u001b[39m(gpr, Grouper) \u001b[38;5;129;01mand\u001b[39;00m gpr\u001b[38;5;241m.\u001b[39mkey \u001b[38;5;129;01mis\u001b[39;00m \u001b[38;5;129;01mnot\u001b[39;00m \u001b[38;5;28;01mNone\u001b[39;00m:\n\u001b[0;32m   1045\u001b[0m     \u001b[38;5;66;03m# Add key to exclusions\u001b[39;00m\n\u001b[0;32m   1046\u001b[0m     exclusions\u001b[38;5;241m.\u001b[39madd(gpr\u001b[38;5;241m.\u001b[39mkey)\n",
      "\u001b[1;31mKeyError\u001b[0m: 'test_score_bin'"
     ]
    }
   ],
   "source": [
    "# evals vs score => boxplot\n",
    "df_count.boxplot(column=\"n_blocks\", by=\"test_score_bin\");"
   ]
  },
  {
   "cell_type": "code",
   "execution_count": null,
   "metadata": {},
   "outputs": [
    {
     "data": {
      "image/png": "[encoded data removed]",
      "text/plain": [
       "<Figure size 640x480 with 1 Axes>"
      ]
     },
     "metadata": {},
     "output_type": "display_data"
    }
   ],
   "source": [
    "# pie chart of number of blocks per prompt\n",
    "df_count[\"n_blocks\"].value_counts().plot.pie();"
   ]
  },
  {
   "cell_type": "code",
   "execution_count": null,
   "metadata": {},
   "outputs": [
    {
     "data": {
      "text/plain": [
       "2131"
      ]
     },
     "execution_count": 56,
     "metadata": {},
     "output_type": "execute_result"
    }
   ],
   "source": [
    "# clculate the number of saved evaluations, so how many differ by how much from 10 in n_blocks\n",
    "df_count[\"n_blocks_diff\"] = abs(df_count[\"n_blocks\"] - 10)\n",
    "n_blocks_diff_times_n = (\n",
    "    df_count[\"n_blocks_diff\"].value_counts() * df_count[\"n_blocks_diff\"].value_counts().index\n",
    ")\n",
    "n_blocks_diff_times_n.sum()"
   ]
  },
  {
   "cell_type": "code",
   "execution_count": null,
   "metadata": {},
   "outputs": [
    {
     "data": {
      "text/plain": [
       "7859"
      ]
     },
     "execution_count": 57,
     "metadata": {},
     "output_type": "execute_result"
    }
   ],
   "source": [
    "# total number of evaluations\n",
    "df_count[\"n_blocks\"].sum()"
   ]
  },
  {
   "cell_type": "code",
   "execution_count": null,
   "metadata": {},
   "outputs": [
    {
     "data": {
      "text/plain": [
       "0.21331331331331332"
      ]
     },
     "execution_count": 58,
     "metadata": {},
     "output_type": "execute_result"
    }
   ],
   "source": [
    "# tokens saved\n",
    "(n_blocks_diff_times_n.sum()) / (n_blocks_diff_times_n.sum() + df_count[\"n_blocks\"].sum())"
   ]
  },
  {
   "cell_type": "code",
   "execution_count": null,
   "metadata": {},
   "outputs": [
    {
     "data": {
      "text/plain": [
       "count    999.000000\n",
       "mean       7.866867\n",
       "std        3.715495\n",
       "min        1.000000\n",
       "25%        6.000000\n",
       "50%       10.000000\n",
       "75%       10.000000\n",
       "max       10.000000\n",
       "Name: n_blocks, dtype: float64"
      ]
     },
     "execution_count": 59,
     "metadata": {},
     "output_type": "execute_result"
    }
   ],
   "source": [
    "df_count[\"n_blocks\"].describe()"
   ]
  },
  {
   "cell_type": "code",
   "execution_count": null,
   "metadata": {},
   "outputs": [
    {
     "data": {
      "text/html": [
       "<div>\n",
       "<style scoped>\n",
       "    .dataframe tbody tr th:only-of-type {\n",
       "        vertical-align: middle;\n",
       "    }\n",
       "\n",
       "    .dataframe tbody tr th {\n",
       "        vertical-align: top;\n",
       "    }\n",
       "\n",
       "    .dataframe thead th {\n",
       "        text-align: right;\n",
       "    }\n",
       "</style>\n",
       "<table border=\"1\" class=\"dataframe\">\n",
       "  <thead>\n",
       "    <tr style=\"text-align: right;\">\n",
       "      <th></th>\n",
       "      <th>step</th>\n",
       "      <th>timestamp</th>\n",
       "      <th>time_elapsed</th>\n",
       "      <th>score</th>\n",
       "      <th>prompt</th>\n",
       "      <th>input_tokens_meta_llm</th>\n",
       "      <th>output_tokens_meta_llm</th>\n",
       "      <th>input_tokens_downstream_llm</th>\n",
       "      <th>output_tokens_downstream_llm</th>\n",
       "      <th>test_score</th>\n",
       "      <th>total_tokens</th>\n",
       "      <th>output_tokens_downstream_llm_cum</th>\n",
       "      <th>output_tokens_meta_llm_cum</th>\n",
       "      <th>input_tokens_downstream_llm_cum</th>\n",
       "      <th>input_tokens_meta_llm_cum</th>\n",
       "      <th>n_shots</th>\n",
       "      <th>prompt_len</th>\n",
       "    </tr>\n",
       "  </thead>\n",
       "  <tbody>\n",
       "    <tr>\n",
       "      <th>0</th>\n",
       "      <td>1</td>\n",
       "      <td>2025-03-16 13:17:26.164321</td>\n",
       "      <td>237.770440</td>\n",
       "      <td>0.574699</td>\n",
       "      <td>Solve the given grade school math word problem...</td>\n",
       "      <td>1244</td>\n",
       "      <td>429</td>\n",
       "      <td>320898</td>\n",
       "      <td>70091</td>\n",
       "      <td>0.524</td>\n",
       "      <td>392662</td>\n",
       "      <td>70091</td>\n",
       "      <td>429</td>\n",
       "      <td>320898</td>\n",
       "      <td>1244</td>\n",
       "      <td>6</td>\n",
       "      <td>2659</td>\n",
       "    </tr>\n",
       "    <tr>\n",
       "      <th>1</th>\n",
       "      <td>1</td>\n",
       "      <td>2025-03-16 13:17:26.164321</td>\n",
       "      <td>237.770440</td>\n",
       "      <td>0.463391</td>\n",
       "      <td>Solve step-by-step. Final answer between &lt;fina...</td>\n",
       "      <td>1244</td>\n",
       "      <td>429</td>\n",
       "      <td>320898</td>\n",
       "      <td>70091</td>\n",
       "      <td>0.346</td>\n",
       "      <td>785324</td>\n",
       "      <td>140182</td>\n",
       "      <td>858</td>\n",
       "      <td>641796</td>\n",
       "      <td>2488</td>\n",
       "      <td>1</td>\n",
       "      <td>325</td>\n",
       "    </tr>\n",
       "    <tr>\n",
       "      <th>2</th>\n",
       "      <td>1</td>\n",
       "      <td>2025-03-16 13:17:26.164321</td>\n",
       "      <td>237.770440</td>\n",
       "      <td>0.387952</td>\n",
       "      <td>Solve this math word problem using step-by-ste...</td>\n",
       "      <td>1244</td>\n",
       "      <td>429</td>\n",
       "      <td>320898</td>\n",
       "      <td>70091</td>\n",
       "      <td>0.296</td>\n",
       "      <td>1177986</td>\n",
       "      <td>210273</td>\n",
       "      <td>1287</td>\n",
       "      <td>962694</td>\n",
       "      <td>3732</td>\n",
       "      <td>3</td>\n",
       "      <td>1203</td>\n",
       "    </tr>\n",
       "    <tr>\n",
       "      <th>3</th>\n",
       "      <td>1</td>\n",
       "      <td>2025-03-16 13:17:26.164321</td>\n",
       "      <td>237.770440</td>\n",
       "      <td>0.374096</td>\n",
       "      <td>Solve this math problem by breaking it down in...</td>\n",
       "      <td>1244</td>\n",
       "      <td>429</td>\n",
       "      <td>320898</td>\n",
       "      <td>70091</td>\n",
       "      <td>0.386</td>\n",
       "      <td>1570648</td>\n",
       "      <td>280364</td>\n",
       "      <td>1716</td>\n",
       "      <td>1283592</td>\n",
       "      <td>4976</td>\n",
       "      <td>6</td>\n",
       "      <td>2563</td>\n",
       "    </tr>\n",
       "    <tr>\n",
       "      <th>4</th>\n",
       "      <td>1</td>\n",
       "      <td>2025-03-16 13:17:26.164321</td>\n",
       "      <td>237.770440</td>\n",
       "      <td>0.350665</td>\n",
       "      <td>Break down this word problem carefully. Rememb...</td>\n",
       "      <td>1244</td>\n",
       "      <td>429</td>\n",
       "      <td>320898</td>\n",
       "      <td>70091</td>\n",
       "      <td>0.344</td>\n",
       "      <td>1963310</td>\n",
       "      <td>350455</td>\n",
       "      <td>2145</td>\n",
       "      <td>1604490</td>\n",
       "      <td>6220</td>\n",
       "      <td>3</td>\n",
       "      <td>1566</td>\n",
       "    </tr>\n",
       "    <tr>\n",
       "      <th>...</th>\n",
       "      <td>...</td>\n",
       "      <td>...</td>\n",
       "      <td>...</td>\n",
       "      <td>...</td>\n",
       "      <td>...</td>\n",
       "      <td>...</td>\n",
       "      <td>...</td>\n",
       "      <td>...</td>\n",
       "      <td>...</td>\n",
       "      <td>...</td>\n",
       "      <td>...</td>\n",
       "      <td>...</td>\n",
       "      <td>...</td>\n",
       "      <td>...</td>\n",
       "      <td>...</td>\n",
       "      <td>...</td>\n",
       "      <td>...</td>\n",
       "    </tr>\n",
       "    <tr>\n",
       "      <th>763</th>\n",
       "      <td>64</td>\n",
       "      <td>2025-03-16 15:10:30.586841</td>\n",
       "      <td>72.124809</td>\n",
       "      <td>0.496561</td>\n",
       "      <td>Address the provided grade school math word pr...</td>\n",
       "      <td>1700</td>\n",
       "      <td>796</td>\n",
       "      <td>79344</td>\n",
       "      <td>23203</td>\n",
       "      <td>0.450</td>\n",
       "      <td>158568932</td>\n",
       "      <td>36382112</td>\n",
       "      <td>584060</td>\n",
       "      <td>120346788</td>\n",
       "      <td>1255972</td>\n",
       "      <td>5</td>\n",
       "      <td>2171</td>\n",
       "    </tr>\n",
       "    <tr>\n",
       "      <th>764</th>\n",
       "      <td>64</td>\n",
       "      <td>2025-03-16 15:10:30.586841</td>\n",
       "      <td>72.124809</td>\n",
       "      <td>0.482756</td>\n",
       "      <td>Adress the given grade school math word proble...</td>\n",
       "      <td>1700</td>\n",
       "      <td>796</td>\n",
       "      <td>79344</td>\n",
       "      <td>23203</td>\n",
       "      <td>0.466</td>\n",
       "      <td>158673975</td>\n",
       "      <td>36405315</td>\n",
       "      <td>584856</td>\n",
       "      <td>120426132</td>\n",
       "      <td>1257672</td>\n",
       "      <td>2</td>\n",
       "      <td>1708</td>\n",
       "    </tr>\n",
       "    <tr>\n",
       "      <th>765</th>\n",
       "      <td>64</td>\n",
       "      <td>2025-03-16 15:10:30.586841</td>\n",
       "      <td>72.124809</td>\n",
       "      <td>0.457430</td>\n",
       "      <td>Solve this math problem by breaking it down in...</td>\n",
       "      <td>1700</td>\n",
       "      <td>796</td>\n",
       "      <td>79344</td>\n",
       "      <td>23203</td>\n",
       "      <td>0.386</td>\n",
       "      <td>158779018</td>\n",
       "      <td>36428518</td>\n",
       "      <td>585652</td>\n",
       "      <td>120505476</td>\n",
       "      <td>1259372</td>\n",
       "      <td>6</td>\n",
       "      <td>2563</td>\n",
       "    </tr>\n",
       "    <tr>\n",
       "      <th>766</th>\n",
       "      <td>64</td>\n",
       "      <td>2025-03-16 15:10:30.586841</td>\n",
       "      <td>72.124809</td>\n",
       "      <td>0.438479</td>\n",
       "      <td>Approach this mathematical challenge by dissec...</td>\n",
       "      <td>1700</td>\n",
       "      <td>796</td>\n",
       "      <td>79344</td>\n",
       "      <td>23203</td>\n",
       "      <td>0.312</td>\n",
       "      <td>158884061</td>\n",
       "      <td>36451721</td>\n",
       "      <td>586448</td>\n",
       "      <td>120584820</td>\n",
       "      <td>1261072</td>\n",
       "      <td>2</td>\n",
       "      <td>1249</td>\n",
       "    </tr>\n",
       "    <tr>\n",
       "      <th>767</th>\n",
       "      <td>64</td>\n",
       "      <td>2025-03-16 15:10:30.586841</td>\n",
       "      <td>72.124809</td>\n",
       "      <td>0.427146</td>\n",
       "      <td>Analyze the provided grade school math word pr...</td>\n",
       "      <td>1700</td>\n",
       "      <td>796</td>\n",
       "      <td>79344</td>\n",
       "      <td>23203</td>\n",
       "      <td>0.386</td>\n",
       "      <td>158989104</td>\n",
       "      <td>36474924</td>\n",
       "      <td>587244</td>\n",
       "      <td>120664164</td>\n",
       "      <td>1262772</td>\n",
       "      <td>5</td>\n",
       "      <td>2460</td>\n",
       "    </tr>\n",
       "  </tbody>\n",
       "</table>\n",
       "<p>768 rows × 17 columns</p>\n",
       "</div>"
      ],
      "text/plain": [
       "     step                   timestamp  time_elapsed     score  \\\n",
       "0       1  2025-03-16 13:17:26.164321    237.770440  0.574699   \n",
       "1       1  2025-03-16 13:17:26.164321    237.770440  0.463391   \n",
       "2       1  2025-03-16 13:17:26.164321    237.770440  0.387952   \n",
       "3       1  2025-03-16 13:17:26.164321    237.770440  0.374096   \n",
       "4       1  2025-03-16 13:17:26.164321    237.770440  0.350665   \n",
       "..    ...                         ...           ...       ...   \n",
       "763    64  2025-03-16 15:10:30.586841     72.124809  0.496561   \n",
       "764    64  2025-03-16 15:10:30.586841     72.124809  0.482756   \n",
       "765    64  2025-03-16 15:10:30.586841     72.124809  0.457430   \n",
       "766    64  2025-03-16 15:10:30.586841     72.124809  0.438479   \n",
       "767    64  2025-03-16 15:10:30.586841     72.124809  0.427146   \n",
       "\n",
       "                                                prompt  input_tokens_meta_llm  \\\n",
       "0    Solve the given grade school math word problem...                   1244   \n",
       "1    Solve step-by-step. Final answer between <fina...                   1244   \n",
       "2    Solve this math word problem using step-by-ste...                   1244   \n",
       "3    Solve this math problem by breaking it down in...                   1244   \n",
       "4    Break down this word problem carefully. Rememb...                   1244   \n",
       "..                                                 ...                    ...   \n",
       "763  Address the provided grade school math word pr...                   1700   \n",
       "764  Adress the given grade school math word proble...                   1700   \n",
       "765  Solve this math problem by breaking it down in...                   1700   \n",
       "766  Approach this mathematical challenge by dissec...                   1700   \n",
       "767  Analyze the provided grade school math word pr...                   1700   \n",
       "\n",
       "     output_tokens_meta_llm  input_tokens_downstream_llm  \\\n",
       "0                       429                       320898   \n",
       "1                       429                       320898   \n",
       "2                       429                       320898   \n",
       "3                       429                       320898   \n",
       "4                       429                       320898   \n",
       "..                      ...                          ...   \n",
       "763                     796                        79344   \n",
       "764                     796                        79344   \n",
       "765                     796                        79344   \n",
       "766                     796                        79344   \n",
       "767                     796                        79344   \n",
       "\n",
       "     output_tokens_downstream_llm  test_score  total_tokens  \\\n",
       "0                           70091       0.524        392662   \n",
       "1                           70091       0.346        785324   \n",
       "2                           70091       0.296       1177986   \n",
       "3                           70091       0.386       1570648   \n",
       "4                           70091       0.344       1963310   \n",
       "..                            ...         ...           ...   \n",
       "763                         23203       0.450     158568932   \n",
       "764                         23203       0.466     158673975   \n",
       "765                         23203       0.386     158779018   \n",
       "766                         23203       0.312     158884061   \n",
       "767                         23203       0.386     158989104   \n",
       "\n",
       "     output_tokens_downstream_llm_cum  output_tokens_meta_llm_cum  \\\n",
       "0                               70091                         429   \n",
       "1                              140182                         858   \n",
       "2                              210273                        1287   \n",
       "3                              280364                        1716   \n",
       "4                              350455                        2145   \n",
       "..                                ...                         ...   \n",
       "763                          36382112                      584060   \n",
       "764                          36405315                      584856   \n",
       "765                          36428518                      585652   \n",
       "766                          36451721                      586448   \n",
       "767                          36474924                      587244   \n",
       "\n",
       "     input_tokens_downstream_llm_cum  input_tokens_meta_llm_cum  n_shots  \\\n",
       "0                             320898                       1244        6   \n",
       "1                             641796                       2488        1   \n",
       "2                             962694                       3732        3   \n",
       "3                            1283592                       4976        6   \n",
       "4                            1604490                       6220        3   \n",
       "..                               ...                        ...      ...   \n",
       "763                        120346788                    1255972        5   \n",
       "764                        120426132                    1257672        2   \n",
       "765                        120505476                    1259372        6   \n",
       "766                        120584820                    1261072        2   \n",
       "767                        120664164                    1262772        5   \n",
       "\n",
       "     prompt_len  \n",
       "0          2659  \n",
       "1           325  \n",
       "2          1203  \n",
       "3          2563  \n",
       "4          1566  \n",
       "..          ...  \n",
       "763        2171  \n",
       "764        1708  \n",
       "765        2563  \n",
       "766        1249  \n",
       "767        2460  \n",
       "\n",
       "[768 rows x 17 columns]"
      ]
     },
     "execution_count": 60,
     "metadata": {},
     "output_type": "execute_result"
    }
   ],
   "source": [
    "df"
   ]
  }
 ],
 "metadata": {
  "kernelspec": {
   "display_name": "ds",
   "language": "python",
   "name": "python3"
  },
  "language_info": {
   "codemirror_mode": {
    "name": "ipython",
    "version": 3
   },
   "file_extension": ".py",
   "mimetype": "text/x-python",
   "name": "python",
   "nbconvert_exporter": "python",
   "pygments_lexer": "ipython3",
   "version": "3.12.5"
  }
 },
 "nbformat": 4,
 "nbformat_minor": 2
}
