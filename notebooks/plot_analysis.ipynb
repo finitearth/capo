{
 "cells": [
  {
   "cell_type": "code",
   "execution_count": 1,
   "metadata": {},
   "outputs": [],
   "source": [
    "from capo.analysis.utils import (\n",
    "    get_results,\n",
    "    aggregate_results,\n",
    "    get_prompt_scores,\n",
    "    generate_comparison_table,\n",
    ")\n",
    "from capo.analysis.visualizations import (\n",
    "    plot_population_scores,\n",
    "    plot_population_members,\n",
    "    plot_population_scores_comparison,\n",
    "    plot_length_score,\n",
    ")"
   ]
  },
  {
   "cell_type": "code",
   "execution_count": 2,
   "metadata": {},
   "outputs": [],
   "source": [
    "OPTIMS = [\"CAPO\", \"EvoPromptGA\", \"OPRO\", \"PromptWizard\"]\n",
    "DATASETS = [\"sst-5\", \"agnews\", \"copa\", \"gsm8k\", \"subj\"]\n",
    "MODELS = [\"llama\", \"mistral\", \"qwen\"]"
   ]
  },
  {
   "cell_type": "code",
   "execution_count": 3,
   "metadata": {},
   "outputs": [],
   "source": [
    "%load_ext autoreload\n",
    "%autoreload 2"
   ]
  },
  {
   "cell_type": "markdown",
   "metadata": {},
   "source": [
    "# Population Comparison"
   ]
  },
  {
   "cell_type": "code",
   "execution_count": null,
   "metadata": {},
   "outputs": [],
   "source": [
    "for dataset in DATASETS:\n",
    "    for model in MODELS:\n",
    "        plot_population_scores_comparison(\n",
    "            dataset,\n",
    "            model,\n",
    "            OPTIMS,\n",
    "            agg=\"mean\",\n",
    "            plot_seeds=True,\n",
    "            plot_stddev=True,\n",
    "            x_col=\"input_tokens_cum\",\n",
    "        )"
   ]
  },
  {
   "cell_type": "markdown",
   "metadata": {},
   "source": [
    "# Table Results"
   ]
  },
  {
   "cell_type": "code",
   "execution_count": 9,
   "metadata": {},
   "outputs": [],
   "source": [
    "# import display html\n",
    "from IPython.display import display, HTML"
   ]
  },
  {
   "cell_type": "code",
   "execution_count": 12,
   "metadata": {},
   "outputs": [
    {
     "name": "stdout",
     "output_type": "stream",
     "text": [
      "Model: llama\n",
      "Failed to load sst-5 for CAPO: No objects to concatenate\n",
      "Failed to load agnews for CAPO: No objects to concatenate\n",
      "Failed to load copa for CAPO: No objects to concatenate\n",
      "Failed to load sst-5 for EvoPromptGA: No objects to concatenate\n",
      "Failed to load copa for EvoPromptGA: No objects to concatenate\n",
      "Failed to load gsm8k for EvoPromptGA: No objects to concatenate\n",
      "Failed to load subj for EvoPromptGA: No objects to concatenate\n"
     ]
    },
    {
     "data": {
      "text/html": [
       "<style type=\"text/css\">\n",
       "#T_18976_row0_col0, #T_18976_row0_col1, #T_18976_row0_col2, #T_18976_row0_col3, #T_18976_row0_col5, #T_18976_row1_col1, #T_18976_row1_col2, #T_18976_row1_col3, #T_18976_row1_col4 {\n",
       "  font-weight: bold;\n",
       "}\n",
       "</style>\n",
       "<table id=\"T_18976\">\n",
       "  <thead>\n",
       "    <tr>\n",
       "      <th class=\"blank level0\" >&nbsp;</th>\n",
       "      <th id=\"T_18976_level0_col0\" class=\"col_heading level0 col0\" >agnews</th>\n",
       "      <th id=\"T_18976_level0_col1\" class=\"col_heading level0 col1\" >copa</th>\n",
       "      <th id=\"T_18976_level0_col2\" class=\"col_heading level0 col2\" >gsm8k</th>\n",
       "      <th id=\"T_18976_level0_col3\" class=\"col_heading level0 col3\" >sst-5</th>\n",
       "      <th id=\"T_18976_level0_col4\" class=\"col_heading level0 col4\" >subj</th>\n",
       "      <th id=\"T_18976_level0_col5\" class=\"col_heading level0 col5\" >avg</th>\n",
       "    </tr>\n",
       "  </thead>\n",
       "  <tbody>\n",
       "    <tr>\n",
       "      <th id=\"T_18976_level0_row0\" class=\"row_heading level0 row0\" >CAPO</th>\n",
       "      <td id=\"T_18976_row0_col0\" class=\"data row0 col0\" >nan±nan</td>\n",
       "      <td id=\"T_18976_row0_col1\" class=\"data row0 col1\" >nan±nan</td>\n",
       "      <td id=\"T_18976_row0_col2\" class=\"data row0 col2\" >nan±nan</td>\n",
       "      <td id=\"T_18976_row0_col3\" class=\"data row0 col3\" >nan±nan</td>\n",
       "      <td id=\"T_18976_row0_col4\" class=\"data row0 col4\" >90.2±nan</td>\n",
       "      <td id=\"T_18976_row0_col5\" class=\"data row0 col5\" >90.2</td>\n",
       "    </tr>\n",
       "    <tr>\n",
       "      <th id=\"T_18976_level0_row1\" class=\"row_heading level0 row1\" >EvoPromptGA</th>\n",
       "      <td id=\"T_18976_row1_col0\" class=\"data row1 col0\" >88.7±0.5</td>\n",
       "      <td id=\"T_18976_row1_col1\" class=\"data row1 col1\" >nan±nan</td>\n",
       "      <td id=\"T_18976_row1_col2\" class=\"data row1 col2\" >nan±nan</td>\n",
       "      <td id=\"T_18976_row1_col3\" class=\"data row1 col3\" >nan±nan</td>\n",
       "      <td id=\"T_18976_row1_col4\" class=\"data row1 col4\" >nan±nan</td>\n",
       "      <td id=\"T_18976_row1_col5\" class=\"data row1 col5\" >88.73</td>\n",
       "    </tr>\n",
       "    <tr>\n",
       "      <th id=\"T_18976_level0_row2\" class=\"row_heading level0 row2\" >OPRO</th>\n",
       "      <td id=\"T_18976_row2_col0\" class=\"data row2 col0\" >88.2±0.6</td>\n",
       "      <td id=\"T_18976_row2_col1\" class=\"data row2 col1\" >98.1±0.7</td>\n",
       "      <td id=\"T_18976_row2_col2\" class=\"data row2 col2\" >51.7±2.3</td>\n",
       "      <td id=\"T_18976_row2_col3\" class=\"data row2 col3\" >59.3±1.5</td>\n",
       "      <td id=\"T_18976_row2_col4\" class=\"data row2 col4\" >71.3±3.4</td>\n",
       "      <td id=\"T_18976_row2_col5\" class=\"data row2 col5\" >73.73</td>\n",
       "    </tr>\n",
       "    <tr>\n",
       "      <th id=\"T_18976_level0_row3\" class=\"row_heading level0 row3\" >PromptWizard</th>\n",
       "      <td id=\"T_18976_row3_col0\" class=\"data row3 col0\" >23.3±0.2</td>\n",
       "      <td id=\"T_18976_row3_col1\" class=\"data row3 col1\" >50.3±0.4</td>\n",
       "      <td id=\"T_18976_row3_col2\" class=\"data row3 col2\" >39.3±18.5</td>\n",
       "      <td id=\"T_18976_row3_col3\" class=\"data row3 col3\" >32.8±2.1</td>\n",
       "      <td id=\"T_18976_row3_col4\" class=\"data row3 col4\" >51.9±0.3</td>\n",
       "      <td id=\"T_18976_row3_col5\" class=\"data row3 col5\" >39.55</td>\n",
       "    </tr>\n",
       "  </tbody>\n",
       "</table>\n"
      ],
      "text/plain": [
       "<pandas.io.formats.style.Styler at 0x1f6f9843320>"
      ]
     },
     "metadata": {},
     "output_type": "display_data"
    },
    {
     "name": "stdout",
     "output_type": "stream",
     "text": [
      "Model: mistral\n"
     ]
    },
    {
     "data": {
      "text/html": [
       "<style type=\"text/css\">\n",
       "#T_508f0_row0_col1, #T_508f0_row0_col2, #T_508f0_row0_col3, #T_508f0_row0_col5, #T_508f0_row1_col4, #T_508f0_row2_col0 {\n",
       "  font-weight: bold;\n",
       "}\n",
       "</style>\n",
       "<table id=\"T_508f0\">\n",
       "  <thead>\n",
       "    <tr>\n",
       "      <th class=\"blank level0\" >&nbsp;</th>\n",
       "      <th id=\"T_508f0_level0_col0\" class=\"col_heading level0 col0\" >agnews</th>\n",
       "      <th id=\"T_508f0_level0_col1\" class=\"col_heading level0 col1\" >copa</th>\n",
       "      <th id=\"T_508f0_level0_col2\" class=\"col_heading level0 col2\" >gsm8k</th>\n",
       "      <th id=\"T_508f0_level0_col3\" class=\"col_heading level0 col3\" >sst-5</th>\n",
       "      <th id=\"T_508f0_level0_col4\" class=\"col_heading level0 col4\" >subj</th>\n",
       "      <th id=\"T_508f0_level0_col5\" class=\"col_heading level0 col5\" >avg</th>\n",
       "    </tr>\n",
       "  </thead>\n",
       "  <tbody>\n",
       "    <tr>\n",
       "      <th id=\"T_508f0_level0_row0\" class=\"row_heading level0 row0\" >CAPO</th>\n",
       "      <td id=\"T_508f0_row0_col0\" class=\"data row0 col0\" >84.1±1.9</td>\n",
       "      <td id=\"T_508f0_row0_col1\" class=\"data row0 col1\" >96.6±nan</td>\n",
       "      <td id=\"T_508f0_row0_col2\" class=\"data row0 col2\" >nan±nan</td>\n",
       "      <td id=\"T_508f0_row0_col3\" class=\"data row0 col3\" >56.7±1.4</td>\n",
       "      <td id=\"T_508f0_row0_col4\" class=\"data row0 col4\" >77.0±2.8</td>\n",
       "      <td id=\"T_508f0_row0_col5\" class=\"data row0 col5\" >78.62</td>\n",
       "    </tr>\n",
       "    <tr>\n",
       "      <th id=\"T_508f0_level0_row1\" class=\"row_heading level0 row1\" >EvoPromptGA</th>\n",
       "      <td id=\"T_508f0_row1_col0\" class=\"data row1 col0\" >83.9±1.5</td>\n",
       "      <td id=\"T_508f0_row1_col1\" class=\"data row1 col1\" >96.3±0.8</td>\n",
       "      <td id=\"T_508f0_row1_col2\" class=\"data row1 col2\" >41.1±3.6</td>\n",
       "      <td id=\"T_508f0_row1_col3\" class=\"data row1 col3\" >54.2±2.4</td>\n",
       "      <td id=\"T_508f0_row1_col4\" class=\"data row1 col4\" >77.8±0.0</td>\n",
       "      <td id=\"T_508f0_row1_col5\" class=\"data row1 col5\" >70.67</td>\n",
       "    </tr>\n",
       "    <tr>\n",
       "      <th id=\"T_508f0_level0_row2\" class=\"row_heading level0 row2\" >OPRO</th>\n",
       "      <td id=\"T_508f0_row2_col0\" class=\"data row2 col0\" >84.2±0.2</td>\n",
       "      <td id=\"T_508f0_row2_col1\" class=\"data row2 col1\" >96.3±0.4</td>\n",
       "      <td id=\"T_508f0_row2_col2\" class=\"data row2 col2\" >43.5±0.6</td>\n",
       "      <td id=\"T_508f0_row2_col3\" class=\"data row2 col3\" >54.9±0.5</td>\n",
       "      <td id=\"T_508f0_row2_col4\" class=\"data row2 col4\" >76.9±0.4</td>\n",
       "      <td id=\"T_508f0_row2_col5\" class=\"data row2 col5\" >71.17</td>\n",
       "    </tr>\n",
       "    <tr>\n",
       "      <th id=\"T_508f0_level0_row3\" class=\"row_heading level0 row3\" >PromptWizard</th>\n",
       "      <td id=\"T_508f0_row3_col0\" class=\"data row3 col0\" >44.4±31.6</td>\n",
       "      <td id=\"T_508f0_row3_col1\" class=\"data row3 col1\" >57.5±12.6</td>\n",
       "      <td id=\"T_508f0_row3_col2\" class=\"data row3 col2\" >48.7±7.9</td>\n",
       "      <td id=\"T_508f0_row3_col3\" class=\"data row3 col3\" >31.1±4.7</td>\n",
       "      <td id=\"T_508f0_row3_col4\" class=\"data row3 col4\" >59.0±6.2</td>\n",
       "      <td id=\"T_508f0_row3_col5\" class=\"data row3 col5\" >48.12</td>\n",
       "    </tr>\n",
       "  </tbody>\n",
       "</table>\n"
      ],
      "text/plain": [
       "<pandas.io.formats.style.Styler at 0x1f6f6bf6f00>"
      ]
     },
     "metadata": {},
     "output_type": "display_data"
    },
    {
     "name": "stdout",
     "output_type": "stream",
     "text": [
      "Model: qwen\n",
      "Failed to load copa for EvoPromptGA: No objects to concatenate\n",
      "Failed to load gsm8k for EvoPromptGA: No objects to concatenate\n"
     ]
    },
    {
     "data": {
      "text/html": [
       "<style type=\"text/css\">\n",
       "#T_38975_row0_col0, #T_38975_row0_col3, #T_38975_row0_col4, #T_38975_row0_col5, #T_38975_row1_col1, #T_38975_row1_col2 {\n",
       "  font-weight: bold;\n",
       "}\n",
       "</style>\n",
       "<table id=\"T_38975\">\n",
       "  <thead>\n",
       "    <tr>\n",
       "      <th class=\"blank level0\" >&nbsp;</th>\n",
       "      <th id=\"T_38975_level0_col0\" class=\"col_heading level0 col0\" >agnews</th>\n",
       "      <th id=\"T_38975_level0_col1\" class=\"col_heading level0 col1\" >copa</th>\n",
       "      <th id=\"T_38975_level0_col2\" class=\"col_heading level0 col2\" >gsm8k</th>\n",
       "      <th id=\"T_38975_level0_col3\" class=\"col_heading level0 col3\" >sst-5</th>\n",
       "      <th id=\"T_38975_level0_col4\" class=\"col_heading level0 col4\" >subj</th>\n",
       "      <th id=\"T_38975_level0_col5\" class=\"col_heading level0 col5\" >avg</th>\n",
       "    </tr>\n",
       "  </thead>\n",
       "  <tbody>\n",
       "    <tr>\n",
       "      <th id=\"T_38975_level0_row0\" class=\"row_heading level0 row0\" >CAPO</th>\n",
       "      <td id=\"T_38975_row0_col0\" class=\"data row0 col0\" >87.3±1.0</td>\n",
       "      <td id=\"T_38975_row0_col1\" class=\"data row0 col1\" >98.8±0.3</td>\n",
       "      <td id=\"T_38975_row0_col2\" class=\"data row0 col2\" >54.4±nan</td>\n",
       "      <td id=\"T_38975_row0_col3\" class=\"data row0 col3\" >59.9±1.1</td>\n",
       "      <td id=\"T_38975_row0_col4\" class=\"data row0 col4\" >87.1±2.2</td>\n",
       "      <td id=\"T_38975_row0_col5\" class=\"data row0 col5\" >77.49</td>\n",
       "    </tr>\n",
       "    <tr>\n",
       "      <th id=\"T_38975_level0_row1\" class=\"row_heading level0 row1\" >EvoPromptGA</th>\n",
       "      <td id=\"T_38975_row1_col0\" class=\"data row1 col0\" >80.3±0.9</td>\n",
       "      <td id=\"T_38975_row1_col1\" class=\"data row1 col1\" >nan±nan</td>\n",
       "      <td id=\"T_38975_row1_col2\" class=\"data row1 col2\" >nan±nan</td>\n",
       "      <td id=\"T_38975_row1_col3\" class=\"data row1 col3\" >57.1±0.8</td>\n",
       "      <td id=\"T_38975_row1_col4\" class=\"data row1 col4\" >71.9±1.9</td>\n",
       "      <td id=\"T_38975_row1_col5\" class=\"data row1 col5\" >69.76</td>\n",
       "    </tr>\n",
       "    <tr>\n",
       "      <th id=\"T_38975_level0_row2\" class=\"row_heading level0 row2\" >OPRO</th>\n",
       "      <td id=\"T_38975_row2_col0\" class=\"data row2 col0\" >80.0±0.0</td>\n",
       "      <td id=\"T_38975_row2_col1\" class=\"data row2 col1\" >98.3±0.1</td>\n",
       "      <td id=\"T_38975_row2_col2\" class=\"data row2 col2\" >46.3±3.8</td>\n",
       "      <td id=\"T_38975_row2_col3\" class=\"data row2 col3\" >57.4±0.2</td>\n",
       "      <td id=\"T_38975_row2_col4\" class=\"data row2 col4\" >69.4±0.7</td>\n",
       "      <td id=\"T_38975_row2_col5\" class=\"data row2 col5\" >70.29</td>\n",
       "    </tr>\n",
       "    <tr>\n",
       "      <th id=\"T_38975_level0_row3\" class=\"row_heading level0 row3\" >PromptWizard</th>\n",
       "      <td id=\"T_38975_row3_col0\" class=\"data row3 col0\" >63.5±34.9</td>\n",
       "      <td id=\"T_38975_row3_col1\" class=\"data row3 col1\" >98.1±0.2</td>\n",
       "      <td id=\"T_38975_row3_col2\" class=\"data row3 col2\" >15.3±24.7</td>\n",
       "      <td id=\"T_38975_row3_col3\" class=\"data row3 col3\" >39.7±15.1</td>\n",
       "      <td id=\"T_38975_row3_col4\" class=\"data row3 col4\" >64.9±6.1</td>\n",
       "      <td id=\"T_38975_row3_col5\" class=\"data row3 col5\" >56.31</td>\n",
       "    </tr>\n",
       "  </tbody>\n",
       "</table>\n"
      ],
      "text/plain": [
       "<pandas.io.formats.style.Styler at 0x1f6f6e55430>"
      ]
     },
     "metadata": {},
     "output_type": "display_data"
    }
   ],
   "source": [
    "for model in MODELS:\n",
    "    print(f\"Model: {model}\")\n",
    "    display(generate_comparison_table(model=model, cutoff_tokens=1_000_000))"
   ]
  },
  {
   "cell_type": "code",
   "execution_count": 13,
   "metadata": {},
   "outputs": [
    {
     "name": "stdout",
     "output_type": "stream",
     "text": [
      "Model: llama\n",
      "Failed to load sst-5 for CAPO: No objects to concatenate\n",
      "Failed to load agnews for CAPO: No objects to concatenate\n",
      "Failed to load copa for CAPO: No objects to concatenate\n",
      "Failed to load sst-5 for EvoPromptGA: No objects to concatenate\n",
      "Failed to load copa for EvoPromptGA: No objects to concatenate\n",
      "Failed to load gsm8k for EvoPromptGA: No objects to concatenate\n",
      "Failed to load subj for EvoPromptGA: No objects to concatenate\n"
     ]
    },
    {
     "data": {
      "text/html": [
       "<style type=\"text/css\">\n",
       "#T_dec5d_row0_col0, #T_dec5d_row0_col1, #T_dec5d_row0_col3, #T_dec5d_row1_col1, #T_dec5d_row1_col2, #T_dec5d_row1_col3, #T_dec5d_row1_col4, #T_dec5d_row1_col5 {\n",
       "  font-weight: bold;\n",
       "}\n",
       "</style>\n",
       "<table id=\"T_dec5d\">\n",
       "  <thead>\n",
       "    <tr>\n",
       "      <th class=\"blank level0\" >&nbsp;</th>\n",
       "      <th id=\"T_dec5d_level0_col0\" class=\"col_heading level0 col0\" >agnews</th>\n",
       "      <th id=\"T_dec5d_level0_col1\" class=\"col_heading level0 col1\" >copa</th>\n",
       "      <th id=\"T_dec5d_level0_col2\" class=\"col_heading level0 col2\" >gsm8k</th>\n",
       "      <th id=\"T_dec5d_level0_col3\" class=\"col_heading level0 col3\" >sst-5</th>\n",
       "      <th id=\"T_dec5d_level0_col4\" class=\"col_heading level0 col4\" >subj</th>\n",
       "      <th id=\"T_dec5d_level0_col5\" class=\"col_heading level0 col5\" >avg</th>\n",
       "    </tr>\n",
       "  </thead>\n",
       "  <tbody>\n",
       "    <tr>\n",
       "      <th id=\"T_dec5d_level0_row0\" class=\"row_heading level0 row0\" >CAPO</th>\n",
       "      <td id=\"T_dec5d_row0_col0\" class=\"data row0 col0\" >nan±nan</td>\n",
       "      <td id=\"T_dec5d_row0_col1\" class=\"data row0 col1\" >nan±nan</td>\n",
       "      <td id=\"T_dec5d_row0_col2\" class=\"data row0 col2\" >71.4±nan</td>\n",
       "      <td id=\"T_dec5d_row0_col3\" class=\"data row0 col3\" >nan±nan</td>\n",
       "      <td id=\"T_dec5d_row0_col4\" class=\"data row0 col4\" >85.4±nan</td>\n",
       "      <td id=\"T_dec5d_row0_col5\" class=\"data row0 col5\" >78.4</td>\n",
       "    </tr>\n",
       "    <tr>\n",
       "      <th id=\"T_dec5d_level0_row1\" class=\"row_heading level0 row1\" >EvoPromptGA</th>\n",
       "      <td id=\"T_dec5d_row1_col0\" class=\"data row1 col0\" >88.9±0.6</td>\n",
       "      <td id=\"T_dec5d_row1_col1\" class=\"data row1 col1\" >nan±nan</td>\n",
       "      <td id=\"T_dec5d_row1_col2\" class=\"data row1 col2\" >nan±nan</td>\n",
       "      <td id=\"T_dec5d_row1_col3\" class=\"data row1 col3\" >nan±nan</td>\n",
       "      <td id=\"T_dec5d_row1_col4\" class=\"data row1 col4\" >nan±nan</td>\n",
       "      <td id=\"T_dec5d_row1_col5\" class=\"data row1 col5\" >88.93</td>\n",
       "    </tr>\n",
       "    <tr>\n",
       "      <th id=\"T_dec5d_level0_row2\" class=\"row_heading level0 row2\" >OPRO</th>\n",
       "      <td id=\"T_dec5d_row2_col0\" class=\"data row2 col0\" >88.2±0.6</td>\n",
       "      <td id=\"T_dec5d_row2_col1\" class=\"data row2 col1\" >98.1±0.7</td>\n",
       "      <td id=\"T_dec5d_row2_col2\" class=\"data row2 col2\" >51.9±2.5</td>\n",
       "      <td id=\"T_dec5d_row2_col3\" class=\"data row2 col3\" >61.7±1.3</td>\n",
       "      <td id=\"T_dec5d_row2_col4\" class=\"data row2 col4\" >71.3±3.4</td>\n",
       "      <td id=\"T_dec5d_row2_col5\" class=\"data row2 col5\" >74.24</td>\n",
       "    </tr>\n",
       "    <tr>\n",
       "      <th id=\"T_dec5d_level0_row3\" class=\"row_heading level0 row3\" >PromptWizard</th>\n",
       "      <td id=\"T_dec5d_row3_col0\" class=\"data row3 col0\" >23.3±0.2</td>\n",
       "      <td id=\"T_dec5d_row3_col1\" class=\"data row3 col1\" >50.3±0.4</td>\n",
       "      <td id=\"T_dec5d_row3_col2\" class=\"data row3 col2\" >39.3±18.5</td>\n",
       "      <td id=\"T_dec5d_row3_col3\" class=\"data row3 col3\" >32.8±2.1</td>\n",
       "      <td id=\"T_dec5d_row3_col4\" class=\"data row3 col4\" >51.9±0.3</td>\n",
       "      <td id=\"T_dec5d_row3_col5\" class=\"data row3 col5\" >39.55</td>\n",
       "    </tr>\n",
       "  </tbody>\n",
       "</table>\n"
      ],
      "text/plain": [
       "<pandas.io.formats.style.Styler at 0x1f6d75be3f0>"
      ]
     },
     "metadata": {},
     "output_type": "display_data"
    },
    {
     "name": "stdout",
     "output_type": "stream",
     "text": [
      "Model: mistral\n"
     ]
    },
    {
     "data": {
      "text/html": [
       "<style type=\"text/css\">\n",
       "#T_d0d70_row0_col2, #T_d0d70_row0_col3, #T_d0d70_row0_col4, #T_d0d70_row0_col5, #T_d0d70_row1_col0, #T_d0d70_row2_col1 {\n",
       "  font-weight: bold;\n",
       "}\n",
       "</style>\n",
       "<table id=\"T_d0d70\">\n",
       "  <thead>\n",
       "    <tr>\n",
       "      <th class=\"blank level0\" >&nbsp;</th>\n",
       "      <th id=\"T_d0d70_level0_col0\" class=\"col_heading level0 col0\" >agnews</th>\n",
       "      <th id=\"T_d0d70_level0_col1\" class=\"col_heading level0 col1\" >copa</th>\n",
       "      <th id=\"T_d0d70_level0_col2\" class=\"col_heading level0 col2\" >gsm8k</th>\n",
       "      <th id=\"T_d0d70_level0_col3\" class=\"col_heading level0 col3\" >sst-5</th>\n",
       "      <th id=\"T_d0d70_level0_col4\" class=\"col_heading level0 col4\" >subj</th>\n",
       "      <th id=\"T_d0d70_level0_col5\" class=\"col_heading level0 col5\" >avg</th>\n",
       "    </tr>\n",
       "  </thead>\n",
       "  <tbody>\n",
       "    <tr>\n",
       "      <th id=\"T_d0d70_level0_row0\" class=\"row_heading level0 row0\" >CAPO</th>\n",
       "      <td id=\"T_d0d70_row0_col0\" class=\"data row0 col0\" >84.0±2.2</td>\n",
       "      <td id=\"T_d0d70_row0_col1\" class=\"data row0 col1\" >94.6±nan</td>\n",
       "      <td id=\"T_d0d70_row0_col2\" class=\"data row0 col2\" >63.2±4.7</td>\n",
       "      <td id=\"T_d0d70_row0_col3\" class=\"data row0 col3\" >60.2±0.4</td>\n",
       "      <td id=\"T_d0d70_row0_col4\" class=\"data row0 col4\" >80.1±1.2</td>\n",
       "      <td id=\"T_d0d70_row0_col5\" class=\"data row0 col5\" >76.41</td>\n",
       "    </tr>\n",
       "    <tr>\n",
       "      <th id=\"T_d0d70_level0_row1\" class=\"row_heading level0 row1\" >EvoPromptGA</th>\n",
       "      <td id=\"T_d0d70_row1_col0\" class=\"data row1 col0\" >84.4±0.3</td>\n",
       "      <td id=\"T_d0d70_row1_col1\" class=\"data row1 col1\" >96.1±0.4</td>\n",
       "      <td id=\"T_d0d70_row1_col2\" class=\"data row1 col2\" >43.0±3.5</td>\n",
       "      <td id=\"T_d0d70_row1_col3\" class=\"data row1 col3\" >54.6±1.0</td>\n",
       "      <td id=\"T_d0d70_row1_col4\" class=\"data row1 col4\" >73.7±4.0</td>\n",
       "      <td id=\"T_d0d70_row1_col5\" class=\"data row1 col5\" >70.37</td>\n",
       "    </tr>\n",
       "    <tr>\n",
       "      <th id=\"T_d0d70_level0_row2\" class=\"row_heading level0 row2\" >OPRO</th>\n",
       "      <td id=\"T_d0d70_row2_col0\" class=\"data row2 col0\" >84.2±0.2</td>\n",
       "      <td id=\"T_d0d70_row2_col1\" class=\"data row2 col1\" >96.3±0.4</td>\n",
       "      <td id=\"T_d0d70_row2_col2\" class=\"data row2 col2\" >43.5±0.6</td>\n",
       "      <td id=\"T_d0d70_row2_col3\" class=\"data row2 col3\" >54.9±0.5</td>\n",
       "      <td id=\"T_d0d70_row2_col4\" class=\"data row2 col4\" >76.9±0.4</td>\n",
       "      <td id=\"T_d0d70_row2_col5\" class=\"data row2 col5\" >71.17</td>\n",
       "    </tr>\n",
       "    <tr>\n",
       "      <th id=\"T_d0d70_level0_row3\" class=\"row_heading level0 row3\" >PromptWizard</th>\n",
       "      <td id=\"T_d0d70_row3_col0\" class=\"data row3 col0\" >44.4±31.6</td>\n",
       "      <td id=\"T_d0d70_row3_col1\" class=\"data row3 col1\" >57.5±12.6</td>\n",
       "      <td id=\"T_d0d70_row3_col2\" class=\"data row3 col2\" >48.7±7.9</td>\n",
       "      <td id=\"T_d0d70_row3_col3\" class=\"data row3 col3\" >31.1±4.7</td>\n",
       "      <td id=\"T_d0d70_row3_col4\" class=\"data row3 col4\" >59.0±6.2</td>\n",
       "      <td id=\"T_d0d70_row3_col5\" class=\"data row3 col5\" >48.12</td>\n",
       "    </tr>\n",
       "  </tbody>\n",
       "</table>\n"
      ],
      "text/plain": [
       "<pandas.io.formats.style.Styler at 0x1f6e888fb00>"
      ]
     },
     "metadata": {},
     "output_type": "display_data"
    },
    {
     "name": "stdout",
     "output_type": "stream",
     "text": [
      "Model: qwen\n",
      "Failed to load copa for EvoPromptGA: No objects to concatenate\n",
      "Failed to load gsm8k for EvoPromptGA: No objects to concatenate\n"
     ]
    },
    {
     "data": {
      "text/html": [
       "<style type=\"text/css\">\n",
       "#T_0901c_row0_col0, #T_0901c_row0_col3, #T_0901c_row0_col4, #T_0901c_row0_col5, #T_0901c_row1_col1, #T_0901c_row1_col2 {\n",
       "  font-weight: bold;\n",
       "}\n",
       "</style>\n",
       "<table id=\"T_0901c\">\n",
       "  <thead>\n",
       "    <tr>\n",
       "      <th class=\"blank level0\" >&nbsp;</th>\n",
       "      <th id=\"T_0901c_level0_col0\" class=\"col_heading level0 col0\" >agnews</th>\n",
       "      <th id=\"T_0901c_level0_col1\" class=\"col_heading level0 col1\" >copa</th>\n",
       "      <th id=\"T_0901c_level0_col2\" class=\"col_heading level0 col2\" >gsm8k</th>\n",
       "      <th id=\"T_0901c_level0_col3\" class=\"col_heading level0 col3\" >sst-5</th>\n",
       "      <th id=\"T_0901c_level0_col4\" class=\"col_heading level0 col4\" >subj</th>\n",
       "      <th id=\"T_0901c_level0_col5\" class=\"col_heading level0 col5\" >avg</th>\n",
       "    </tr>\n",
       "  </thead>\n",
       "  <tbody>\n",
       "    <tr>\n",
       "      <th id=\"T_0901c_level0_row0\" class=\"row_heading level0 row0\" >CAPO</th>\n",
       "      <td id=\"T_0901c_row0_col0\" class=\"data row0 col0\" >87.0±0.7</td>\n",
       "      <td id=\"T_0901c_row0_col1\" class=\"data row0 col1\" >98.3±0.4</td>\n",
       "      <td id=\"T_0901c_row0_col2\" class=\"data row0 col2\" >58.5±3.6</td>\n",
       "      <td id=\"T_0901c_row0_col3\" class=\"data row0 col3\" >59.9±0.9</td>\n",
       "      <td id=\"T_0901c_row0_col4\" class=\"data row0 col4\" >89.9±1.8</td>\n",
       "      <td id=\"T_0901c_row0_col5\" class=\"data row0 col5\" >78.74</td>\n",
       "    </tr>\n",
       "    <tr>\n",
       "      <th id=\"T_0901c_level0_row1\" class=\"row_heading level0 row1\" >EvoPromptGA</th>\n",
       "      <td id=\"T_0901c_row1_col0\" class=\"data row1 col0\" >81.7±1.2</td>\n",
       "      <td id=\"T_0901c_row1_col1\" class=\"data row1 col1\" >nan±nan</td>\n",
       "      <td id=\"T_0901c_row1_col2\" class=\"data row1 col2\" >nan±nan</td>\n",
       "      <td id=\"T_0901c_row1_col3\" class=\"data row1 col3\" >58.1±2.9</td>\n",
       "      <td id=\"T_0901c_row1_col4\" class=\"data row1 col4\" >75.2±3.9</td>\n",
       "      <td id=\"T_0901c_row1_col5\" class=\"data row1 col5\" >71.64</td>\n",
       "    </tr>\n",
       "    <tr>\n",
       "      <th id=\"T_0901c_level0_row2\" class=\"row_heading level0 row2\" >OPRO</th>\n",
       "      <td id=\"T_0901c_row2_col0\" class=\"data row2 col0\" >79.9±0.2</td>\n",
       "      <td id=\"T_0901c_row2_col1\" class=\"data row2 col1\" >98.3±0.1</td>\n",
       "      <td id=\"T_0901c_row2_col2\" class=\"data row2 col2\" >46.3±3.8</td>\n",
       "      <td id=\"T_0901c_row2_col3\" class=\"data row2 col3\" >57.4±0.2</td>\n",
       "      <td id=\"T_0901c_row2_col4\" class=\"data row2 col4\" >70.7±2.9</td>\n",
       "      <td id=\"T_0901c_row2_col5\" class=\"data row2 col5\" >70.51</td>\n",
       "    </tr>\n",
       "    <tr>\n",
       "      <th id=\"T_0901c_level0_row3\" class=\"row_heading level0 row3\" >PromptWizard</th>\n",
       "      <td id=\"T_0901c_row3_col0\" class=\"data row3 col0\" >63.5±34.9</td>\n",
       "      <td id=\"T_0901c_row3_col1\" class=\"data row3 col1\" >98.1±0.2</td>\n",
       "      <td id=\"T_0901c_row3_col2\" class=\"data row3 col2\" >15.3±24.7</td>\n",
       "      <td id=\"T_0901c_row3_col3\" class=\"data row3 col3\" >39.7±15.1</td>\n",
       "      <td id=\"T_0901c_row3_col4\" class=\"data row3 col4\" >64.9±6.1</td>\n",
       "      <td id=\"T_0901c_row3_col5\" class=\"data row3 col5\" >56.31</td>\n",
       "    </tr>\n",
       "  </tbody>\n",
       "</table>\n"
      ],
      "text/plain": [
       "<pandas.io.formats.style.Styler at 0x1f6e888fb00>"
      ]
     },
     "metadata": {},
     "output_type": "display_data"
    }
   ],
   "source": [
    "for model in MODELS:\n",
    "    print(f\"Model: {model}\")\n",
    "    display(generate_comparison_table(model=model, cutoff_tokens=3_000_000))"
   ]
  },
  {
   "cell_type": "code",
   "execution_count": 11,
   "metadata": {},
   "outputs": [
    {
     "name": "stdout",
     "output_type": "stream",
     "text": [
      "Model: llama\n",
      "Failed to load sst-5 for CAPO: No objects to concatenate\n",
      "Failed to load agnews for CAPO: No objects to concatenate\n",
      "Failed to load copa for CAPO: No objects to concatenate\n",
      "Failed to load sst-5 for EvoPromptGA: No objects to concatenate\n",
      "Failed to load copa for EvoPromptGA: No objects to concatenate\n",
      "Failed to load gsm8k for EvoPromptGA: No objects to concatenate\n",
      "Failed to load subj for EvoPromptGA: No objects to concatenate\n"
     ]
    },
    {
     "data": {
      "text/html": [
       "<style type=\"text/css\">\n",
       "#T_6e461_row0_col0, #T_6e461_row0_col1, #T_6e461_row0_col3, #T_6e461_row1_col1, #T_6e461_row1_col2, #T_6e461_row1_col3, #T_6e461_row1_col4, #T_6e461_row1_col5 {\n",
       "  font-weight: bold;\n",
       "}\n",
       "</style>\n",
       "<table id=\"T_6e461\">\n",
       "  <thead>\n",
       "    <tr>\n",
       "      <th class=\"blank level0\" >&nbsp;</th>\n",
       "      <th id=\"T_6e461_level0_col0\" class=\"col_heading level0 col0\" >agnews</th>\n",
       "      <th id=\"T_6e461_level0_col1\" class=\"col_heading level0 col1\" >copa</th>\n",
       "      <th id=\"T_6e461_level0_col2\" class=\"col_heading level0 col2\" >gsm8k</th>\n",
       "      <th id=\"T_6e461_level0_col3\" class=\"col_heading level0 col3\" >sst-5</th>\n",
       "      <th id=\"T_6e461_level0_col4\" class=\"col_heading level0 col4\" >subj</th>\n",
       "      <th id=\"T_6e461_level0_col5\" class=\"col_heading level0 col5\" >avg</th>\n",
       "    </tr>\n",
       "  </thead>\n",
       "  <tbody>\n",
       "    <tr>\n",
       "      <th id=\"T_6e461_level0_row0\" class=\"row_heading level0 row0\" >CAPO</th>\n",
       "      <td id=\"T_6e461_row0_col0\" class=\"data row0 col0\" >nan±nan</td>\n",
       "      <td id=\"T_6e461_row0_col1\" class=\"data row0 col1\" >nan±nan</td>\n",
       "      <td id=\"T_6e461_row0_col2\" class=\"data row0 col2\" >71.4±nan</td>\n",
       "      <td id=\"T_6e461_row0_col3\" class=\"data row0 col3\" >nan±nan</td>\n",
       "      <td id=\"T_6e461_row0_col4\" class=\"data row0 col4\" >94.6±nan</td>\n",
       "      <td id=\"T_6e461_row0_col5\" class=\"data row0 col5\" >83.0</td>\n",
       "    </tr>\n",
       "    <tr>\n",
       "      <th id=\"T_6e461_level0_row1\" class=\"row_heading level0 row1\" >EvoPromptGA</th>\n",
       "      <td id=\"T_6e461_row1_col0\" class=\"data row1 col0\" >88.7±0.5</td>\n",
       "      <td id=\"T_6e461_row1_col1\" class=\"data row1 col1\" >nan±nan</td>\n",
       "      <td id=\"T_6e461_row1_col2\" class=\"data row1 col2\" >nan±nan</td>\n",
       "      <td id=\"T_6e461_row1_col3\" class=\"data row1 col3\" >nan±nan</td>\n",
       "      <td id=\"T_6e461_row1_col4\" class=\"data row1 col4\" >nan±nan</td>\n",
       "      <td id=\"T_6e461_row1_col5\" class=\"data row1 col5\" >88.67</td>\n",
       "    </tr>\n",
       "    <tr>\n",
       "      <th id=\"T_6e461_level0_row2\" class=\"row_heading level0 row2\" >OPRO</th>\n",
       "      <td id=\"T_6e461_row2_col0\" class=\"data row2 col0\" >88.2±0.6</td>\n",
       "      <td id=\"T_6e461_row2_col1\" class=\"data row2 col1\" >98.1±0.7</td>\n",
       "      <td id=\"T_6e461_row2_col2\" class=\"data row2 col2\" >51.9±2.5</td>\n",
       "      <td id=\"T_6e461_row2_col3\" class=\"data row2 col3\" >60.9±1.3</td>\n",
       "      <td id=\"T_6e461_row2_col4\" class=\"data row2 col4\" >71.3±3.4</td>\n",
       "      <td id=\"T_6e461_row2_col5\" class=\"data row2 col5\" >74.07</td>\n",
       "    </tr>\n",
       "    <tr>\n",
       "      <th id=\"T_6e461_level0_row3\" class=\"row_heading level0 row3\" >PromptWizard</th>\n",
       "      <td id=\"T_6e461_row3_col0\" class=\"data row3 col0\" >23.3±0.2</td>\n",
       "      <td id=\"T_6e461_row3_col1\" class=\"data row3 col1\" >50.3±0.4</td>\n",
       "      <td id=\"T_6e461_row3_col2\" class=\"data row3 col2\" >39.3±18.5</td>\n",
       "      <td id=\"T_6e461_row3_col3\" class=\"data row3 col3\" >32.8±2.1</td>\n",
       "      <td id=\"T_6e461_row3_col4\" class=\"data row3 col4\" >51.9±0.3</td>\n",
       "      <td id=\"T_6e461_row3_col5\" class=\"data row3 col5\" >39.55</td>\n",
       "    </tr>\n",
       "  </tbody>\n",
       "</table>\n"
      ],
      "text/plain": [
       "<pandas.io.formats.style.Styler at 0x1f6fbfe5f40>"
      ]
     },
     "metadata": {},
     "output_type": "display_data"
    },
    {
     "name": "stdout",
     "output_type": "stream",
     "text": [
      "Model: mistral\n"
     ]
    },
    {
     "data": {
      "text/html": [
       "<style type=\"text/css\">\n",
       "#T_ebd80_row0_col2, #T_ebd80_row0_col3, #T_ebd80_row0_col4, #T_ebd80_row0_col5, #T_ebd80_row1_col0, #T_ebd80_row2_col1 {\n",
       "  font-weight: bold;\n",
       "}\n",
       "</style>\n",
       "<table id=\"T_ebd80\">\n",
       "  <thead>\n",
       "    <tr>\n",
       "      <th class=\"blank level0\" >&nbsp;</th>\n",
       "      <th id=\"T_ebd80_level0_col0\" class=\"col_heading level0 col0\" >agnews</th>\n",
       "      <th id=\"T_ebd80_level0_col1\" class=\"col_heading level0 col1\" >copa</th>\n",
       "      <th id=\"T_ebd80_level0_col2\" class=\"col_heading level0 col2\" >gsm8k</th>\n",
       "      <th id=\"T_ebd80_level0_col3\" class=\"col_heading level0 col3\" >sst-5</th>\n",
       "      <th id=\"T_ebd80_level0_col4\" class=\"col_heading level0 col4\" >subj</th>\n",
       "      <th id=\"T_ebd80_level0_col5\" class=\"col_heading level0 col5\" >avg</th>\n",
       "    </tr>\n",
       "  </thead>\n",
       "  <tbody>\n",
       "    <tr>\n",
       "      <th id=\"T_ebd80_level0_row0\" class=\"row_heading level0 row0\" >CAPO</th>\n",
       "      <td id=\"T_ebd80_row0_col0\" class=\"data row0 col0\" >84.3±2.6</td>\n",
       "      <td id=\"T_ebd80_row0_col1\" class=\"data row0 col1\" >94.6±nan</td>\n",
       "      <td id=\"T_ebd80_row0_col2\" class=\"data row0 col2\" >65.1±1.5</td>\n",
       "      <td id=\"T_ebd80_row0_col3\" class=\"data row0 col3\" >60.2±0.4</td>\n",
       "      <td id=\"T_ebd80_row0_col4\" class=\"data row0 col4\" >81.7±2.0</td>\n",
       "      <td id=\"T_ebd80_row0_col5\" class=\"data row0 col5\" >77.17</td>\n",
       "    </tr>\n",
       "    <tr>\n",
       "      <th id=\"T_ebd80_level0_row1\" class=\"row_heading level0 row1\" >EvoPromptGA</th>\n",
       "      <td id=\"T_ebd80_row1_col0\" class=\"data row1 col0\" >84.4±0.3</td>\n",
       "      <td id=\"T_ebd80_row1_col1\" class=\"data row1 col1\" >96.1±0.4</td>\n",
       "      <td id=\"T_ebd80_row1_col2\" class=\"data row1 col2\" >43.9±4.7</td>\n",
       "      <td id=\"T_ebd80_row1_col3\" class=\"data row1 col3\" >54.9±1.2</td>\n",
       "      <td id=\"T_ebd80_row1_col4\" class=\"data row1 col4\" >74.9±2.5</td>\n",
       "      <td id=\"T_ebd80_row1_col5\" class=\"data row1 col5\" >70.87</td>\n",
       "    </tr>\n",
       "    <tr>\n",
       "      <th id=\"T_ebd80_level0_row2\" class=\"row_heading level0 row2\" >OPRO</th>\n",
       "      <td id=\"T_ebd80_row2_col0\" class=\"data row2 col0\" >84.2±0.2</td>\n",
       "      <td id=\"T_ebd80_row2_col1\" class=\"data row2 col1\" >96.3±0.4</td>\n",
       "      <td id=\"T_ebd80_row2_col2\" class=\"data row2 col2\" >43.5±0.6</td>\n",
       "      <td id=\"T_ebd80_row2_col3\" class=\"data row2 col3\" >54.9±0.5</td>\n",
       "      <td id=\"T_ebd80_row2_col4\" class=\"data row2 col4\" >76.9±0.4</td>\n",
       "      <td id=\"T_ebd80_row2_col5\" class=\"data row2 col5\" >71.17</td>\n",
       "    </tr>\n",
       "    <tr>\n",
       "      <th id=\"T_ebd80_level0_row3\" class=\"row_heading level0 row3\" >PromptWizard</th>\n",
       "      <td id=\"T_ebd80_row3_col0\" class=\"data row3 col0\" >44.4±31.6</td>\n",
       "      <td id=\"T_ebd80_row3_col1\" class=\"data row3 col1\" >57.5±12.6</td>\n",
       "      <td id=\"T_ebd80_row3_col2\" class=\"data row3 col2\" >48.7±7.9</td>\n",
       "      <td id=\"T_ebd80_row3_col3\" class=\"data row3 col3\" >31.1±4.7</td>\n",
       "      <td id=\"T_ebd80_row3_col4\" class=\"data row3 col4\" >59.0±6.2</td>\n",
       "      <td id=\"T_ebd80_row3_col5\" class=\"data row3 col5\" >48.12</td>\n",
       "    </tr>\n",
       "  </tbody>\n",
       "</table>\n"
      ],
      "text/plain": [
       "<pandas.io.formats.style.Styler at 0x1f68257e180>"
      ]
     },
     "metadata": {},
     "output_type": "display_data"
    },
    {
     "name": "stdout",
     "output_type": "stream",
     "text": [
      "Model: qwen\n",
      "Failed to load copa for EvoPromptGA: No objects to concatenate\n",
      "Failed to load gsm8k for EvoPromptGA: No objects to concatenate\n"
     ]
    },
    {
     "data": {
      "text/html": [
       "<style type=\"text/css\">\n",
       "#T_f6b65_row0_col0, #T_f6b65_row0_col3, #T_f6b65_row0_col4, #T_f6b65_row0_col5, #T_f6b65_row1_col1, #T_f6b65_row1_col2 {\n",
       "  font-weight: bold;\n",
       "}\n",
       "</style>\n",
       "<table id=\"T_f6b65\">\n",
       "  <thead>\n",
       "    <tr>\n",
       "      <th class=\"blank level0\" >&nbsp;</th>\n",
       "      <th id=\"T_f6b65_level0_col0\" class=\"col_heading level0 col0\" >agnews</th>\n",
       "      <th id=\"T_f6b65_level0_col1\" class=\"col_heading level0 col1\" >copa</th>\n",
       "      <th id=\"T_f6b65_level0_col2\" class=\"col_heading level0 col2\" >gsm8k</th>\n",
       "      <th id=\"T_f6b65_level0_col3\" class=\"col_heading level0 col3\" >sst-5</th>\n",
       "      <th id=\"T_f6b65_level0_col4\" class=\"col_heading level0 col4\" >subj</th>\n",
       "      <th id=\"T_f6b65_level0_col5\" class=\"col_heading level0 col5\" >avg</th>\n",
       "    </tr>\n",
       "  </thead>\n",
       "  <tbody>\n",
       "    <tr>\n",
       "      <th id=\"T_f6b65_level0_row0\" class=\"row_heading level0 row0\" >CAPO</th>\n",
       "      <td id=\"T_f6b65_row0_col0\" class=\"data row0 col0\" >87.1±1.0</td>\n",
       "      <td id=\"T_f6b65_row0_col1\" class=\"data row0 col1\" >98.4±0.3</td>\n",
       "      <td id=\"T_f6b65_row0_col2\" class=\"data row0 col2\" >60.2±5.9</td>\n",
       "      <td id=\"T_f6b65_row0_col3\" class=\"data row0 col3\" >59.1±0.6</td>\n",
       "      <td id=\"T_f6b65_row0_col4\" class=\"data row0 col4\" >91.0±0.8</td>\n",
       "      <td id=\"T_f6b65_row0_col5\" class=\"data row0 col5\" >79.15</td>\n",
       "    </tr>\n",
       "    <tr>\n",
       "      <th id=\"T_f6b65_level0_row1\" class=\"row_heading level0 row1\" >EvoPromptGA</th>\n",
       "      <td id=\"T_f6b65_row1_col0\" class=\"data row1 col0\" >81.7±2.1</td>\n",
       "      <td id=\"T_f6b65_row1_col1\" class=\"data row1 col1\" >nan±nan</td>\n",
       "      <td id=\"T_f6b65_row1_col2\" class=\"data row1 col2\" >nan±nan</td>\n",
       "      <td id=\"T_f6b65_row1_col3\" class=\"data row1 col3\" >58.6±2.1</td>\n",
       "      <td id=\"T_f6b65_row1_col4\" class=\"data row1 col4\" >75.9±4.4</td>\n",
       "      <td id=\"T_f6b65_row1_col5\" class=\"data row1 col5\" >72.07</td>\n",
       "    </tr>\n",
       "    <tr>\n",
       "      <th id=\"T_f6b65_level0_row2\" class=\"row_heading level0 row2\" >OPRO</th>\n",
       "      <td id=\"T_f6b65_row2_col0\" class=\"data row2 col0\" >79.9±0.2</td>\n",
       "      <td id=\"T_f6b65_row2_col1\" class=\"data row2 col1\" >98.5±0.5</td>\n",
       "      <td id=\"T_f6b65_row2_col2\" class=\"data row2 col2\" >46.3±3.8</td>\n",
       "      <td id=\"T_f6b65_row2_col3\" class=\"data row2 col3\" >57.0±0.5</td>\n",
       "      <td id=\"T_f6b65_row2_col4\" class=\"data row2 col4\" >70.7±2.9</td>\n",
       "      <td id=\"T_f6b65_row2_col5\" class=\"data row2 col5\" >70.47</td>\n",
       "    </tr>\n",
       "    <tr>\n",
       "      <th id=\"T_f6b65_level0_row3\" class=\"row_heading level0 row3\" >PromptWizard</th>\n",
       "      <td id=\"T_f6b65_row3_col0\" class=\"data row3 col0\" >63.5±34.9</td>\n",
       "      <td id=\"T_f6b65_row3_col1\" class=\"data row3 col1\" >98.1±0.2</td>\n",
       "      <td id=\"T_f6b65_row3_col2\" class=\"data row3 col2\" >15.3±24.7</td>\n",
       "      <td id=\"T_f6b65_row3_col3\" class=\"data row3 col3\" >39.7±15.1</td>\n",
       "      <td id=\"T_f6b65_row3_col4\" class=\"data row3 col4\" >64.9±6.1</td>\n",
       "      <td id=\"T_f6b65_row3_col5\" class=\"data row3 col5\" >56.31</td>\n",
       "    </tr>\n",
       "  </tbody>\n",
       "</table>\n"
      ],
      "text/plain": [
       "<pandas.io.formats.style.Styler at 0x1f6f9813680>"
      ]
     },
     "metadata": {},
     "output_type": "display_data"
    }
   ],
   "source": [
    "for model in MODELS:\n",
    "    print(f\"Model: {model}\")\n",
    "    display(generate_comparison_table(model=model))"
   ]
  },
  {
   "cell_type": "code",
   "execution_count": null,
   "metadata": {},
   "outputs": [],
   "source": [
    "for dataset in DATASETS:\n",
    "    for model in MODELS:\n",
    "        plot_length_score(\n",
    "            dataset,\n",
    "            model,\n",
    "            OPTIMS,\n",
    "            x_col=\"prompt_len\",\n",
    "            score_col=\"test_score\",\n",
    "        )"
   ]
  }
 ],
 "metadata": {
  "kernelspec": {
   "display_name": "capo-JzHO-Y9b-py3.12",
   "language": "python",
   "name": "python3"
  },
  "language_info": {
   "codemirror_mode": {
    "name": "ipython",
    "version": 3
   },
   "file_extension": ".py",
   "mimetype": "text/x-python",
   "name": "python",
   "nbconvert_exporter": "python",
   "pygments_lexer": "ipython3",
   "version": "3.12.5"
  }
 },
 "nbformat": 4,
 "nbformat_minor": 2
}
