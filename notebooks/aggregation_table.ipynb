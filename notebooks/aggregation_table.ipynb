{
 "cells": [
  {
   "cell_type": "code",
   "execution_count": 34,
   "metadata": {},
   "outputs": [],
   "source": [
    "from glob import glob\n",
    "import pandas as pd\n",
    "from collections import defaultdict"
   ]
  },
  {
   "cell_type": "code",
   "execution_count": 35,
   "metadata": {},
   "outputs": [],
   "source": [
    "datasets = [\"gsm8k\", \"rte\", \"sst-5\", \"agnews\", \"subj\"]  # \"\",\n",
    "optimizers = [\"EvoPromptGA\", \"CAPO\"]\n",
    "models = [\"llama\", \"mistral\", \"qwen\"]\n",
    "seeds = [42, 43, 44]"
   ]
  },
  {
   "cell_type": "code",
   "execution_count": 51,
   "metadata": {},
   "outputs": [
    {
     "name": "stdout",
     "output_type": "stream",
     "text": [
      "weird number of files: 0 for ../results/subj/mistral/CAPO/seed43/*/*/step_results_eval.csv\n",
      "weird number of files: 0 for ../results/subj/mistral/CAPO/seed44/*/*/step_results_eval.csv\n"
     ]
    }
   ],
   "source": [
    "dfs = defaultdict(pd.DataFrame)\n",
    "\n",
    "for d in datasets:\n",
    "    for o in optimizers:\n",
    "        for m in models:\n",
    "            for s in seeds:\n",
    "                path = f\"../results/{d}/{m}/{o}/seed{s}/*/*/step_results_eval.csv\"\n",
    "                files = glob(path)\n",
    "                if len(files) != 1:\n",
    "                    print(f\"weird number of files: {len(files)} for {path}\")\n",
    "                    continue\n",
    "                file = files[0]\n",
    "                df = pd.read_csv(file)\n",
    "                tokens_per_step = (\n",
    "                    df.groupby(\"step\").first()[\"input_tokens_meta_llm\"]\n",
    "                    + df.groupby(\"step\").first()[\"input_tokens_downstream_llm\"]\n",
    "                )\n",
    "                # map back to steps\n",
    "                df[\"cum_token\"] = df[\"step\"].map(tokens_per_step.cumsum())\n",
    "                dfs[(d, o, m, s)] = df"
   ]
  },
  {
   "cell_type": "code",
   "execution_count": 68,
   "metadata": {},
   "outputs": [],
   "source": [
    "CUTOFF_TOKENS = 5_000_000"
   ]
  },
  {
   "cell_type": "code",
   "execution_count": 77,
   "metadata": {},
   "outputs": [],
   "source": [
    "model = \"qwen\"\n",
    "results = {\"optimizer\": [], \"dataset\": [], \"mean\": [], \"std\": []}\n",
    "# calculate mean and std per dataset and optimizer at CUTOFF_STEP\n",
    "for d in datasets:\n",
    "    for o in optimizers:\n",
    "        # find first step that is under CUTOFF for each dataframe\n",
    "        steps = []\n",
    "        for s in seeds:\n",
    "            try:\n",
    "                df = dfs[(d, o, model, s)].assign(seed=s)\n",
    "            except KeyError:\n",
    "                continue\n",
    "            last_step = df.loc[df[\"cum_token\"] < CUTOFF_TOKENS, \"step\"].max()\n",
    "            # take last step with max test_score\n",
    "            df = df[df[\"step\"] == last_step].nlargest(1, \"test_score\")\n",
    "            steps.append(df)\n",
    "        df = pd.concat(steps)\n",
    "\n",
    "        results[\"mean\"].append(df[\"test_score\"].mean())\n",
    "        results[\"std\"].append(df[\"test_score\"].std())\n",
    "\n",
    "        results[\"optimizer\"].append(o)\n",
    "        results[\"dataset\"].append(d)"
   ]
  },
  {
   "cell_type": "code",
   "execution_count": 78,
   "metadata": {},
   "outputs": [],
   "source": [
    "df = pd.DataFrame(results)\n",
    "df = df.set_index(\"optimizer\")\n",
    "df = df.pivot(columns=\"dataset\")\n",
    "df[\"avg\"] = df[\"mean\"].mean(axis=1).mul(100).round(2)\n",
    "df[\"mean\"] = df[\"mean\"].mul(100).round(1)\n",
    "df[\"std\"] = df[\"std\"].mul(100).round(1)"
   ]
  },
  {
   "cell_type": "code",
   "execution_count": 79,
   "metadata": {},
   "outputs": [
    {
     "data": {
      "text/html": [
       "<div>\n",
       "<style scoped>\n",
       "    .dataframe tbody tr th:only-of-type {\n",
       "        vertical-align: middle;\n",
       "    }\n",
       "\n",
       "    .dataframe tbody tr th {\n",
       "        vertical-align: top;\n",
       "    }\n",
       "\n",
       "    .dataframe thead tr th {\n",
       "        text-align: left;\n",
       "    }\n",
       "\n",
       "    .dataframe thead tr:last-of-type th {\n",
       "        text-align: right;\n",
       "    }\n",
       "</style>\n",
       "<table border=\"1\" class=\"dataframe\">\n",
       "  <thead>\n",
       "    <tr>\n",
       "      <th></th>\n",
       "      <th colspan=\"5\" halign=\"left\">mean</th>\n",
       "      <th>avg</th>\n",
       "    </tr>\n",
       "    <tr>\n",
       "      <th>dataset</th>\n",
       "      <th>agnews</th>\n",
       "      <th>gsm8k</th>\n",
       "      <th>rte</th>\n",
       "      <th>sst-5</th>\n",
       "      <th>subj</th>\n",
       "      <th></th>\n",
       "    </tr>\n",
       "    <tr>\n",
       "      <th>optimizer</th>\n",
       "      <th></th>\n",
       "      <th></th>\n",
       "      <th></th>\n",
       "      <th></th>\n",
       "      <th></th>\n",
       "      <th></th>\n",
       "    </tr>\n",
       "  </thead>\n",
       "  <tbody>\n",
       "    <tr>\n",
       "      <th>CAPO</th>\n",
       "      <td>82.6 ± 2.4</td>\n",
       "      <td>46.8 ± 5.1</td>\n",
       "      <td>82.6 ± 3.6</td>\n",
       "      <td>60.0 ± 1.7</td>\n",
       "      <td>88.8 ± 2.4</td>\n",
       "      <td>72.15</td>\n",
       "    </tr>\n",
       "    <tr>\n",
       "      <th>EvoPromptGA</th>\n",
       "      <td>81.7 ± 2.0</td>\n",
       "      <td>54.1 ± 8.1</td>\n",
       "      <td>87.8 ± 1.5</td>\n",
       "      <td>58.3 ± 1.4</td>\n",
       "      <td>75.4 ± 3.0</td>\n",
       "      <td>71.45</td>\n",
       "    </tr>\n",
       "  </tbody>\n",
       "</table>\n",
       "</div>"
      ],
      "text/plain": [
       "                   mean                                                    avg\n",
       "dataset          agnews       gsm8k         rte       sst-5        subj       \n",
       "optimizer                                                                     \n",
       "CAPO         82.6 ± 2.4  46.8 ± 5.1  82.6 ± 3.6  60.0 ± 1.7  88.8 ± 2.4  72.15\n",
       "EvoPromptGA  81.7 ± 2.0  54.1 ± 8.1  87.8 ± 1.5  58.3 ± 1.4  75.4 ± 3.0  71.45"
      ]
     },
     "execution_count": 79,
     "metadata": {},
     "output_type": "execute_result"
    }
   ],
   "source": [
    "df[\"mean\"] = (\n",
    "    df[\"mean\"].astype(str).apply(lambda x: x[:5])\n",
    "    + \" ± \"\n",
    "    + df[\"std\"].astype(str).apply(lambda x: x[:5])\n",
    ")\n",
    "df = df.drop(columns=[\"std\"])\n",
    "df"
   ]
  },
  {
   "cell_type": "code",
   "execution_count": null,
   "metadata": {},
   "outputs": [],
   "source": []
  }
 ],
 "metadata": {
  "kernelspec": {
   "display_name": ".venv",
   "language": "python",
   "name": "python3"
  },
  "language_info": {
   "codemirror_mode": {
    "name": "ipython",
    "version": 3
   },
   "file_extension": ".py",
   "mimetype": "text/x-python",
   "name": "python",
   "nbconvert_exporter": "python",
   "pygments_lexer": "ipython3",
   "version": "3.12.5"
  }
 },
 "nbformat": 4,
 "nbformat_minor": 2
}
