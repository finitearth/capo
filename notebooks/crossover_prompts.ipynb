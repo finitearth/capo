{
 "cells": [
  {
   "cell_type": "code",
   "execution_count": null,
   "metadata": {},
   "outputs": [
    {
     "name": "stderr",
     "output_type": "stream",
     "text": [
      "c:\\Users\\tzehl\\anaconda3\\envs\\ds\\Lib\\site-packages\\tqdm\\auto.py:21: TqdmWarning: IProgress not found. Please update jupyter and ipywidgets. See https://ipywidgets.readthedocs.io/en/stable/user_install.html\n",
      "  from .autonotebook import tqdm as notebook_tqdm\n"
     ]
    }
   ],
   "source": [
    "from promptolution.llms import APILLM\n",
    "from sentence_transformers import SentenceTransformer\n",
    "from sentence_transformers.models import Normalize\n",
    "import numpy as np"
   ]
  },
  {
   "cell_type": "code",
   "execution_count": 2,
   "metadata": {},
   "outputs": [],
   "source": [
    "token = open(\"../deepinfratoken.txt\", \"r\").read()\n",
    "meta_llm = APILLM(\"meta-llama/Meta-Llama-3-8B-Instruct\", token)"
   ]
  },
  {
   "cell_type": "code",
   "execution_count": 3,
   "metadata": {},
   "outputs": [
    {
     "name": "stderr",
     "output_type": "stream",
     "text": [
      "A matching Triton is not available, some optimizations will not be enabled\n",
      "Traceback (most recent call last):\n",
      "  File \"c:\\Users\\tzehl\\anaconda3\\envs\\ds\\Lib\\site-packages\\xformers\\__init__.py\", line 57, in _is_triton_available\n",
      "    import triton  # noqa\n",
      "    ^^^^^^^^^^^^^\n",
      "ModuleNotFoundError: No module named 'triton'\n",
      "Some weights of the model checkpoint at NovaSearch/stella_en_400M_v5 were not used when initializing NewModel: ['new.pooler.dense.bias', 'new.pooler.dense.weight']\n",
      "- This IS expected if you are initializing NewModel from the checkpoint of a model trained on another task or with another architecture (e.g. initializing a BertForSequenceClassification model from a BertForPreTraining model).\n",
      "- This IS NOT expected if you are initializing NewModel from the checkpoint of a model that you expect to be exactly identical (initializing a BertForSequenceClassification model from a BertForSequenceClassification model).\n"
     ]
    }
   ],
   "source": [
    "similarity_model = SentenceTransformer(\n",
    "    \"NovaSearch/stella_en_400M_v5\", trust_remote_code=True, device=\"cuda\"\n",
    ")"
   ]
  },
  {
   "cell_type": "code",
   "execution_count": 4,
   "metadata": {},
   "outputs": [],
   "source": [
    "similarity_model = similarity_model.append(Normalize())"
   ]
  },
  {
   "cell_type": "code",
   "execution_count": 103,
   "metadata": {},
   "outputs": [],
   "source": [
    "def get_parents_sim(parents, offspring):\n",
    "    fathers = [p[0] for p in parents]\n",
    "    mothers = [p[1] for p in parents]\n",
    "\n",
    "    offspring_embs = similarity_model.encode(offspring)\n",
    "    father_embs = similarity_model.encode(fathers)\n",
    "    mother_embs = similarity_model.encode(mothers)\n",
    "\n",
    "    father_sims = offspring_embs @ father_embs.T\n",
    "    father_sims = np.trace(father_sims) / father_sims.shape[0]\n",
    "    mother_sims = offspring_embs @ mother_embs.T\n",
    "    mother_sims = np.trace(mother_sims) / mother_sims.shape[0]\n",
    "\n",
    "\n",
    "    return father_sims, mother_sims"
   ]
  },
  {
   "cell_type": "markdown",
   "metadata": {},
   "source": [
    "# Sample Prompts"
   ]
  },
  {
   "cell_type": "code",
   "execution_count": 9,
   "metadata": {},
   "outputs": [],
   "source": [
    "base_prompts = [\n",
    "    \"Your task is to identify the primary topic of the news artical and choose from World, Sports, Business and Tech.\",\n",
    "    \"Your job is to determine whether a news article belongs to the World, Sports, Business, or Tech category based on its primary theme.\",\n",
    "    \"You will be given a news article and asked to classify it as World, Sports, Business and Tech, depending on its main topic.\",\n",
    "    \"Your responsibility is to assign a news article to one of four categories: World, Sports, Business, or Tech, based on its main idea.\",\n",
    "    \"Categorize the news article into one of four categories: World, Sports, Business, or Tech, based on its content.\",\n",
    "]"
   ]
  },
  {
   "cell_type": "markdown",
   "metadata": {},
   "source": [
    "# EvoPrompt GA"
   ]
  },
  {
   "cell_type": "markdown",
   "metadata": {},
   "source": [
    "=> remove step 2 (only perform crossover)"
   ]
  },
  {
   "cell_type": "code",
   "execution_count": 10,
   "metadata": {},
   "outputs": [],
   "source": [
    "meta_prompt = \"\"\"Please follow the instruction step-by-step to generate a better prompt.\n",
    "1. Crossover the following prompts and generate a new prompt:\n",
    "Prompt 1: Rewrite the input text into simpler text.\n",
    "Prompt 2: Rewrite my complex sentence in simpler terms, but keep the meaning.\n",
    "2. Generate a final prompt bracketed with <prompt> and </prompt>.\n",
    "\n",
    "1. Crossover Prompt: Rewrite the complex text into simpler text while keeping its meaning.\n",
    "2. <prompt>Transform the provided text into simpler language, maintaining its essence.</prompt>\n",
    "\n",
    "Please follow the instruction step-by-step to generate a better prompt.\n",
    "1. Crossover the following prompts and generate a new prompt:\n",
    "Prompt 1: <prompt1>\n",
    "Prompt 2: <prompt2>\n",
    "2. Generate a final prompt bracketed with <prompt> and </prompt>.\n",
    "\n",
    "1.\"\"\""
   ]
  },
  {
   "cell_type": "code",
   "execution_count": 12,
   "metadata": {},
   "outputs": [],
   "source": [
    "offspring = []\n",
    "parents = []\n",
    "\n",
    "for _ in range(2):\n",
    "    for prompt_1 in base_prompts:\n",
    "        for prompt_2 in base_prompts:\n",
    "            mp = meta_prompt.replace(\"<prompt1>\", prompt_1).replace(\"<prompt2>\", prompt_2)\n",
    "            new_prompt = meta_llm.get_response([mp])[0]\n",
    "            new_prompt = new_prompt.split(\"<prompt>\")[-1].split(\"</prompt>\")[0]\n",
    "            offspring.append(new_prompt)\n",
    "            parents.append((prompt_1, prompt_2))"
   ]
  },
  {
   "cell_type": "code",
   "execution_count": null,
   "metadata": {},
   "outputs": [
    {
     "data": {
      "text/plain": [
       "(0.9564170074462891, 0.9585012054443359)"
      ]
     },
     "execution_count": 89,
     "metadata": {},
     "output_type": "execute_result"
    }
   ],
   "source": [
    "get_parents_sim(parents, offspring)"
   ]
  },
  {
   "cell_type": "markdown",
   "metadata": {},
   "source": [
    "# Evoprompt without 1 shot example"
   ]
  },
  {
   "cell_type": "code",
   "execution_count": 28,
   "metadata": {},
   "outputs": [],
   "source": [
    "meta_prompt = \"\"\"Please follow the instruction step-by-step to generate a better prompt.\n",
    "1. Crossover the following prompts and generate a new prompt:\n",
    "Prompt 1: <prompt1>\n",
    "Prompt 2: <prompt2>\n",
    "2. Generate a final prompt bracketed with <prompt> and </prompt>.\n",
    "\n",
    "1.\"\"\""
   ]
  },
  {
   "cell_type": "code",
   "execution_count": 91,
   "metadata": {},
   "outputs": [],
   "source": [
    "offspring = []\n",
    "parents = []\n",
    "\n",
    "for _ in range(2):\n",
    "    for prompt_1 in base_prompts:\n",
    "        for prompt_2 in base_prompts:\n",
    "            mp = meta_prompt.replace(\"<prompt1>\", prompt_1).replace(\"<prompt2>\", prompt_2)\n",
    "            new_prompt = meta_llm.get_response([mp])[0]\n",
    "            new_prompt = new_prompt.split(\"<prompt>\")[-1].split(\"</prompt>\")[0]\n",
    "            offspring.append(new_prompt)\n",
    "            parents.append((prompt_1, prompt_2))"
   ]
  },
  {
   "cell_type": "code",
   "execution_count": null,
   "metadata": {},
   "outputs": [
    {
     "data": {
      "text/plain": [
       "(0.946613540649414, 0.9466203308105469)"
      ]
     },
     "execution_count": 92,
     "metadata": {},
     "output_type": "execute_result"
    }
   ],
   "source": [
    "get_parents_sim(parents, offspring)"
   ]
  },
  {
   "cell_type": "markdown",
   "metadata": {},
   "source": [
    "# Basic really random prompt"
   ]
  },
  {
   "cell_type": "code",
   "execution_count": 34,
   "metadata": {},
   "outputs": [],
   "source": [
    "meta_prompt = \"\"\"Combine the following prompts to create a new prompt:\n",
    "Prompt 1: <prompt1>\n",
    "Prompt 2: <prompt2>\n",
    "\n",
    "Return the new prompt in the following format:\n",
    "<prompt>new prompt</prompt>\"\"\""
   ]
  },
  {
   "cell_type": "code",
   "execution_count": null,
   "metadata": {},
   "outputs": [
    {
     "data": {
      "text/plain": [
       "(0.954144287109375, 0.9492565155029297)"
      ]
     },
     "execution_count": 93,
     "metadata": {},
     "output_type": "execute_result"
    }
   ],
   "source": [
    "offspring = []\n",
    "parents = []\n",
    "\n",
    "for _ in range(2):\n",
    "    for prompt_1 in base_prompts:\n",
    "        for prompt_2 in base_prompts:\n",
    "            mp = meta_prompt.replace(\"<prompt1>\", prompt_1).replace(\"<prompt2>\", prompt_2)\n",
    "            new_prompt = meta_llm.get_response([mp])[0]\n",
    "            new_prompt = new_prompt.split(\"<prompt>\")[-1].split(\"</prompt>\")[0]\n",
    "            offspring.append(new_prompt)\n",
    "            parents.append((prompt_1, prompt_2))\n",
    "\n",
    "get_parents_sim(parents, offspring)"
   ]
  },
  {
   "cell_type": "code",
   "execution_count": 96,
   "metadata": {},
   "outputs": [
    {
     "data": {
      "text/plain": [
       "('Your task is to identify the primary topic of the news artical and choose from World, Sports, Business and Tech.',\n",
       " 'Your job is to determine whether a news article belongs to the World, Sports, Business, or Tech category based on its primary theme.')"
      ]
     },
     "execution_count": 96,
     "metadata": {},
     "output_type": "execute_result"
    }
   ],
   "source": [
    "parents[1]"
   ]
  },
  {
   "cell_type": "code",
   "execution_count": 97,
   "metadata": {},
   "outputs": [
    {
     "data": {
      "text/plain": [
       "'Read a news article and categorize it as World, Sports, Business, or Tech by identifying the primary topic.'"
      ]
     },
     "execution_count": 97,
     "metadata": {},
     "output_type": "execute_result"
    }
   ],
   "source": [
    "offspring[1]"
   ]
  },
  {
   "cell_type": "markdown",
   "metadata": {},
   "source": [
    "# Optimal Prompt"
   ]
  },
  {
   "cell_type": "code",
   "execution_count": 105,
   "metadata": {},
   "outputs": [],
   "source": [
    "meta_prompt = \"\"\"Merge the following two sentences into a single coherent sentence. Maintain the key linguistic features from both original sentences:\n",
    "Prompt 1: <prompt1>\n",
    "Prompt 2: <prompt2>\n",
    "\n",
    "Return the new instruction in the following format:\n",
    "<prompt>new instruction</prompt>\"\"\""
   ]
  },
  {
   "cell_type": "code",
   "execution_count": 106,
   "metadata": {},
   "outputs": [],
   "source": [
    "offspring = []\n",
    "parents = []\n",
    "\n",
    "for _ in range(2):\n",
    "    for prompt_1 in base_prompts:\n",
    "        for prompt_2 in base_prompts:\n",
    "            mp = meta_prompt.replace(\"<prompt1>\", prompt_1).replace(\"<prompt2>\", prompt_2)\n",
    "            new_prompt = meta_llm.get_response([mp])[0]\n",
    "            new_prompt = new_prompt.split(\"<prompt>\")[-1].split(\"</prompt>\")[0]\n",
    "            offspring.append(new_prompt)\n",
    "            parents.append((prompt_1, prompt_2))\n",
    "\n"
   ]
  },
  {
   "cell_type": "code",
   "execution_count": 107,
   "metadata": {},
   "outputs": [
    {
     "data": {
      "text/plain": [
       "(0.962232666015625, 0.9581562042236328)"
      ]
     },
     "execution_count": 107,
     "metadata": {},
     "output_type": "execute_result"
    }
   ],
   "source": [
    "get_parents_sim(parents, offspring)"
   ]
  },
  {
   "cell_type": "code",
   "execution_count": 100,
   "metadata": {},
   "outputs": [
    {
     "name": "stdout",
     "output_type": "stream",
     "text": [
      "['Identify the primary topic of the news article and categorize it into one of the following categories: World, Sports, Business, or Tech.', 'Determine the Category: Identify the primary topic of the news article and categorize it as either World, Sports, Business, or Tech based on whether the article primarily focuses on global issues, athletic competitions, financial matters, or cutting-edge technology.', 'Identify the primary topic of the given news article and classify it as World, Sports, Business, or Tech, depending on its main theme.', 'Assign News Articles to Categories: Identify the primary topic of the news article and categorize it as World, Sports, Business, or Tech based on its main idea.', 'Identify and Categorize a News Article', 'Identify the primary topic of the news article and determine which category it best fits: World, Sports, Business, or Tech.', \"Read and identify the primary theme of a news article and categorize it as either World, Sports, Business, or Tech, depending on the topic's focus and primary subject matter.\", 'Read the given news article and classify it into one of the following categories: World, Sports, Business, or Tech, based on its primary theme and main topic.', \"Assign a news article to one of four categories: World, Sports, Business, or Tech, based on its primary theme or main idea by determining whether the article's primary focus is on global events, sports, economics and finance, or technological advancements, respectively.\", 'Categorize a news article into one of four categories (World, Sports, Business, or Tech) by determining its primary theme, which is the most dominant and relevant topic discussed in the article, and assigning it to the category that best matches its content.', 'Read the provided news article and identify the primary topic. Then, categorize the article into one of the four categories: World, Sports, Business, or Tech, based on the main topic.', 'Read the given news article and determine its primary theme, then categorize it as either World, Sports, Business, or Tech based on the main topic or subject matter being reported.', 'Classify the given news article into one of the following categories: World, Sports, Business, or Tech, based on the main topic of the article.', 'Read and classify a given news article into one of four categories: World, Sports, Business, or Tech, based on its main idea.', 'You will be given a news article and your task is to categorize it into one of four categories - World, Sports, Business, or Tech - based on its main topic or content.', 'Identify the primary topic of the news article by determining its main idea, and then categorize it into one of the four categories: World, Sports, Business, or Tech, according to its subject matter.', 'Review a news article and categorize it into one of four categories: World, Sports, Business, or Tech, based on its primary theme or main idea.', 'Classify News Article', 'Assign a news article to one of four categories: World, Sports, Business, or Tech, categorizing it based on its main idea.', 'Read a news article and categorize it into one of four main categories: World, Sports, Business, or Tech, based on its primary subject matter or content.', 'Categorize the news article by identifying its primary topic and placing it into one of the following categories: World, Sports, Business, or Tech, based on its content.', \"Read the news article thoroughly and categorize it into one of four categories (World, Sports, Business, or Tech) based on its primary theme, ensuring that the category accurately reflects the article's main content and focus.\", 'Read the news article carefully and categorize it into one of four categories: World, Sports, Business, or Tech, based on its main topic.', 'Read the given news article and assign it to one of the four categories: World, Sports, Business, or Tech, based on the main idea or content of the article.', 'Categorize this news article into one of four categories: World, Sports, Business, or Tech, based on its content.', 'Your task is to identify the primary topic of a news article and categorize it into one of the following categories: World, Sports, Business, or Tech.', \"Read the news article and identify the primary topic, then categorize it as World, Sports, Business, or Tech, selecting the category that most closely aligns with the article's main theme.\", 'Identify the primary topic of the given news article and classify it as either World, Sports, Business, or Tech.', 'Assign a News Article to a Category:', 'Identify the primary topic of the news article and categorize it into one of four categories: World, Sports, Business, or Tech, based on its content.', \"Determine the primary theme of the news article and classify it into one of the following categories: World, Sports, Business, or Tech, based on the topic's relevance to each category.\", 'Read a news article and categorize it as World, Sports, Business, or Tech based on its primary theme.', 'Classify the given news article into one of the following categories: World, Sports, Business, or Tech, by determining the primary theme or main topic of the article.', 'Read the news article and determine its primary theme by identifying the main idea or topic of the article. Then, categorize the article into one of the four categories: World, Sports, Business, or Tech, based on the dominant theme or subject matter.', 'Categorize a news article by identifying its primary theme and placing it in one of the four categories: World, Sports, Business, or Tech.', 'Read the given news article and identify the primary topic. Then, classify the article as either World, Sports, Business, or Tech, the category that best represents the main focus of the article.', 'Classify the given news article into one of the four categories - World, Sports, Business, or Tech - by identifying its primary theme and assigning it to the category that best represents its main topic', 'Read the provided news article and categorize it under one of the following categories: World, Sports, Business, or Tech, based on the main topic of the article.', 'Assign a news article to one of four categories: World, Sports, Business, or Tech, based on its main topic or main idea.', 'Read the given news article and classify it into one of the following categories based on its main topic:', 'Assignment Instruction:', 'Determine the category of a news article by identifying its primary theme:', 'Read the given news article and categorize it into one of four categories: World, Sports, Business, or Tech, based on its main idea.', 'Read the news article and categorize it according to its main idea, assigning it to one of the following four categories: World, Sports, Business, or Tech.', 'Categorize the news article into one of four categories: World, Sports, Business, or Tech, identifying the main idea that best aligns with its content.', 'Identify the primary topic of a news article and categorize it into one of the following four categories: World, Sports, Business, or Tech, based on its content.', 'Categorize the news article into one of four categories: World, Sports, Business, or Tech, by identifying the primary theme of the article and placing it in the category that best matches its content.', 'Read the given news article and classify it into one of the following categories: World, Sports, Business, or Tech, based on its main topic.', 'Read the provided news article and categorize it into one of the following four categories: World, Sports, Business, or Tech, based on its main idea.', 'Read the news article and categorize it into one of four categories: World, Sports, Business, or Tech, based on its main topic or content.']\n"
     ]
    }
   ],
   "source": [
    "print(offspring)"
   ]
  }
 ],
 "metadata": {
  "kernelspec": {
   "display_name": "ds",
   "language": "python",
   "name": "python3"
  },
  "language_info": {
   "codemirror_mode": {
    "name": "ipython",
    "version": 3
   },
   "file_extension": ".py",
   "mimetype": "text/x-python",
   "name": "python",
   "nbconvert_exporter": "python",
   "pygments_lexer": "ipython3",
   "version": "3.12.5"
  }
 },
 "nbformat": 4,
 "nbformat_minor": 2
}
